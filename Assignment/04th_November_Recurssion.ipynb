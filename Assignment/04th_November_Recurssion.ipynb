{
 "cells": [
  {
   "cell_type": "markdown",
   "id": "ed5bc4c9-e4aa-484c-9324-9e64bdd16eb8",
   "metadata": {},
   "source": [
    "#### Q.1 Can you explain the logic and working of the Tower of Hanoi algorithm by writing a Java program?\n",
    "#### How does the recursion work, and how are the movements of disks between rods accomplished?"
   ]
  },
  {
   "cell_type": "code",
   "execution_count": 18,
   "id": "a6cf864a-0077-4be6-998c-ae4ad869a69f",
   "metadata": {},
   "outputs": [
    {
     "name": "stdout",
     "output_type": "stream",
     "text": [
      "Move 1 from A to C \n",
      "Move 2 from A to B\n",
      "Move 1 from C to B \n",
      "Move 3 from A to C\n",
      "Move 1 from B to A \n",
      "Move 2 from B to C\n",
      "Move 1 from A to C \n"
     ]
    }
   ],
   "source": [
    "'''\n",
    "The idea is to break down a larger problem into smaller, \n",
    "simpler subproblems until reaching a base case that can be easily solved.\n",
    "\n",
    "The recursion continues until all disks are moved to the target rod following \n",
    "the rules of the Tower of Hanoi. Each recursive call is responsible for moving \n",
    "a subset of disks, and the movements are coordinated to achieve the overall goal of moving the entire tower.\n",
    "'''\n",
    "\n",
    "def tow(n,s,d,h):\n",
    "    if n<=1:\n",
    "        print(f\"Move {n} from {s} to {d} \")\n",
    "        return\n",
    "    tow(n-1,s,h,d)\n",
    "    print(f\"Move {n} from {s} to {d}\")\n",
    "    tow(n-1,h,d,s)\n",
    "    \n",
    "tow(3,'A','C','B')"
   ]
  },
  {
   "cell_type": "markdown",
   "id": "d702a561-752f-47ef-b465-6b3bcb9b4c07",
   "metadata": {},
   "source": [
    "#### Q.2 Given two strings word1 and word2, return the minimum number of operations required to convert word1 to word2."
   ]
  },
  {
   "cell_type": "code",
   "execution_count": 10,
   "id": "fd2d8835-9e64-4502-9d4a-5ffe442dbb2f",
   "metadata": {},
   "outputs": [
    {
     "name": "stdout",
     "output_type": "stream",
     "text": [
      "Minimum number of operations: 5\n"
     ]
    }
   ],
   "source": [
    "def min_dis(str1, str2):\n",
    "\n",
    "\n",
    "    def min_operations(i, j):\n",
    "        if i == 0 or j == 0:\n",
    "            return i + j\n",
    "        elif str1[i - 1] == str2[j - 1]:\n",
    "            return min_operations(i - 1, j - 1)\n",
    "        else:\n",
    "            return 1 + min(\n",
    "                min_operations(i - 1, j),      # Deletion\n",
    "                min_operations(i, j - 1),      # Insertion\n",
    "                min_operations(i - 1, j - 1)   # Replacement\n",
    "            )\n",
    "\n",
    "\n",
    "    min_op = min_operations(len(str1), len(str2))\n",
    "    return min_op\n",
    "\n",
    "word1 = \"intention\"\n",
    "word2 = \"execution\"\n",
    "result = min_dis(word1, word2)\n",
    "print(f\"Minimum number of operations: {result}\")\n",
    "\n"
   ]
  },
  {
   "cell_type": "markdown",
   "id": "aa3ea199-e5cd-4789-b511-8b9d15d10292",
   "metadata": {},
   "source": [
    "#### Q. 3 Print the max value of the array [ 13, 1, -3, 22, 5]."
   ]
  },
  {
   "cell_type": "code",
   "execution_count": 1,
   "id": "92dc6857-517c-4b20-be94-3fe6c2d7ec59",
   "metadata": {},
   "outputs": [
    {
     "data": {
      "text/plain": [
       "22"
      ]
     },
     "execution_count": 1,
     "metadata": {},
     "output_type": "execute_result"
    }
   ],
   "source": [
    "def find(a,max):\n",
    "    if not a:\n",
    "        return max\n",
    "    if a[0]>max:\n",
    "        max = a[0]\n",
    "    return find(a[1:],max)\n",
    "\n",
    "\n",
    "a = [13,1,-3,22,5]\n",
    "find(a,0)\n",
    "    "
   ]
  },
  {
   "cell_type": "markdown",
   "id": "df7abdcf-d1f2-405e-ac21-997fbf09a699",
   "metadata": {},
   "source": [
    "#### Q.4 Find the sum of the values of the array [92, 23, 15, -20, 10]."
   ]
  },
  {
   "cell_type": "code",
   "execution_count": 3,
   "id": "01c8f58a-f1de-4d78-9ec3-1eec52eb6aff",
   "metadata": {},
   "outputs": [
    {
     "data": {
      "text/plain": [
       "120"
      ]
     },
     "execution_count": 3,
     "metadata": {},
     "output_type": "execute_result"
    }
   ],
   "source": [
    "def find(a):\n",
    "    if not a:\n",
    "        return 0\n",
    "    return a[0] + find(a[1:])\n",
    "    \n",
    "a = [92, 23, 15, -20, 10]\n",
    "find(a)"
   ]
  },
  {
   "cell_type": "markdown",
   "id": "43d32d1e-9963-41f5-8b13-7ff9eaed0630",
   "metadata": {},
   "source": [
    "#### Q.5 Given a number n. Print if it is an armstrong number or not.An armstrong number is a number if the sum of every digit in that number raised to the power of total digits in that number is equal to the number."
   ]
  },
  {
   "cell_type": "code",
   "execution_count": 11,
   "id": "bbd92846-d303-4d52-af3a-534ad14ac634",
   "metadata": {},
   "outputs": [
    {
     "name": "stdout",
     "output_type": "stream",
     "text": [
      "No\n"
     ]
    }
   ],
   "source": [
    "def count(n):\n",
    "    if n<=1:\n",
    "        return 1\n",
    "    \n",
    "    return 1 + count(n//10)\n",
    "\n",
    "def find(n,s):\n",
    "    if n<10:\n",
    "        return n  \n",
    "    return (n%10)**s + find(n//10,s)\n",
    "\n",
    "def calc(n):\n",
    "    numDigit = count(n)\n",
    "    arm = find(n,numDigit)\n",
    "    return arm == n\n",
    "    \n",
    "\n",
    "if calc(111):\n",
    "    print(\"Yes\")\n",
    "else:\n",
    "    print(\"No\")"
   ]
  }
 ],
 "metadata": {
  "kernelspec": {
   "display_name": "Python 3 (ipykernel)",
   "language": "python",
   "name": "python3"
  },
  "language_info": {
   "codemirror_mode": {
    "name": "ipython",
    "version": 3
   },
   "file_extension": ".py",
   "mimetype": "text/x-python",
   "name": "python",
   "nbconvert_exporter": "python",
   "pygments_lexer": "ipython3",
   "version": "3.10.8"
  }
 },
 "nbformat": 4,
 "nbformat_minor": 5
}
