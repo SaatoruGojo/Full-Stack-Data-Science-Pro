{
 "cells": [
  {
   "cell_type": "markdown",
   "id": "e20051cb-6faa-412a-8535-3ca03eb5850d",
   "metadata": {},
   "source": [
    "#### Question 1"
   ]
  },
  {
   "cell_type": "code",
   "execution_count": 1,
   "id": "243d80f3-ebcf-43b7-bf54-a34a788f6089",
   "metadata": {},
   "outputs": [
    {
     "name": "stdout",
     "output_type": "stream",
     "text": [
      "Value of T(2): 105\n"
     ]
    }
   ],
   "source": [
    "def recurrence_relation(n):\n",
    "    if n == 0:\n",
    "        return 5  # Base case\n",
    "    else:\n",
    "        return 3 * recurrence_relation(n - 1) + 12 * n\n",
    "\n",
    "# Calculate T(2)\n",
    "result = recurrence_relation(2)\n",
    "print(\"Value of T(2):\", result)"
   ]
  },
  {
   "cell_type": "markdown",
   "id": "dc217e0f-cd5c-4524-9a42-42dcc07eab18",
   "metadata": {},
   "source": [
    "#### Question 2"
   ]
  },
  {
   "cell_type": "code",
   "execution_count": 2,
   "id": "0048b174-d65a-4390-825f-76f158feef32",
   "metadata": {},
   "outputs": [
    {
     "name": "stdout",
     "output_type": "stream",
     "text": [
      "T(16) = 80.0\n"
     ]
    }
   ],
   "source": [
    "import math\n",
    "\n",
    "def solve_recurrence_b(n):\n",
    "    if n == 1:\n",
    "        return 1\n",
    "    return 2 * solve_recurrence_b(n / 2) + n\n",
    "\n",
    "n = 16  # Change this value to test different 'n'\n",
    "result_b = solve_recurrence_b(n)\n",
    "print(f\"T({n}) = {result_b}\")"
   ]
  },
  {
   "cell_type": "code",
   "execution_count": 3,
   "id": "3ff21674-de09-439e-8b10-09e6aac802b2",
   "metadata": {},
   "outputs": [
    {
     "name": "stdout",
     "output_type": "stream",
     "text": [
      "T(16) = 155\n"
     ]
    }
   ],
   "source": [
    "def solve_recurrence_c(n, c):\n",
    "    if n == 1:\n",
    "        return c\n",
    "    return 2 * solve_recurrence_c(n / 2, c) + c\n",
    "\n",
    "n = 16  # Change this value to test different 'n'\n",
    "c_val = 5  # Change this value to test different 'c'\n",
    "result_c = solve_recurrence_c(n, c_val)\n",
    "print(f\"T({n}) = {result_c}\")"
   ]
  },
  {
   "cell_type": "code",
   "execution_count": 4,
   "id": "be4b8a4c-388a-407b-8935-47d7814e2a19",
   "metadata": {},
   "outputs": [
    {
     "name": "stdout",
     "output_type": "stream",
     "text": [
      "T(16) = 25\n"
     ]
    }
   ],
   "source": [
    "def solve_recurrence_d(n, c):\n",
    "    if n == 1:\n",
    "        return c\n",
    "    return solve_recurrence_d(n / 2, c) + c\n",
    "\n",
    "n = 16  # Change this value to test different 'n'\n",
    "c_val = 5  # Change this value to test different 'c'\n",
    "result_d = solve_recurrence_d(n, c_val)\n",
    "print(f\"T({n}) = {result_d}\")"
   ]
  },
  {
   "cell_type": "markdown",
   "id": "ae04432a-44e9-4cdd-9779-a6e50343a1ae",
   "metadata": {},
   "source": [
    "#### Question 3"
   ]
  },
  {
   "cell_type": "code",
   "execution_count": 5,
   "id": "75ea0dca-64f2-47dc-afdc-0e2b54c4863d",
   "metadata": {},
   "outputs": [
    {
     "name": "stdout",
     "output_type": "stream",
     "text": [
      "T(5) = 31\n"
     ]
    }
   ],
   "source": [
    "def solve_recurrence_a(n):\n",
    "    if n == 0:\n",
    "        return 0\n",
    "    return 2 * solve_recurrence_a(n - 1) + 1\n",
    "\n",
    "n_value = 5  # Change this value to test different 'n'\n",
    "result_a = solve_recurrence_a(n_value)\n",
    "print(f\"T({n_value}) = {result_a}\")"
   ]
  },
  {
   "cell_type": "code",
   "execution_count": 6,
   "id": "4ecbe8cf-f80e-4f2c-b937-5b4d7a71111b",
   "metadata": {},
   "outputs": [
    {
     "name": "stdout",
     "output_type": "stream",
     "text": [
      "T(16) = 31\n"
     ]
    }
   ],
   "source": [
    "def solve_recurrence_b(n):\n",
    "    if n <= 1:\n",
    "        return n\n",
    "    return solve_recurrence_b(n // 2) + n\n",
    "\n",
    "n_value = 16  # Change this value to test different 'n'\n",
    "result_b = solve_recurrence_b(n_value)\n",
    "print(f\"T({n_value}) = {result_b}\")"
   ]
  }
 ],
 "metadata": {
  "kernelspec": {
   "display_name": "Python 3 (ipykernel)",
   "language": "python",
   "name": "python3"
  },
  "language_info": {
   "codemirror_mode": {
    "name": "ipython",
    "version": 3
   },
   "file_extension": ".py",
   "mimetype": "text/x-python",
   "name": "python",
   "nbconvert_exporter": "python",
   "pygments_lexer": "ipython3",
   "version": "3.10.8"
  }
 },
 "nbformat": 4,
 "nbformat_minor": 5
}
