{
 "cells": [
  {
   "cell_type": "markdown",
   "id": "d614a8c3-b176-4271-ad65-5201738a5f4f",
   "metadata": {},
   "source": [
    "<h1>Basic If-Else Statements:"
   ]
  },
  {
   "cell_type": "markdown",
   "id": "60d329c0-2ac0-4ee8-8a68-efa1a3bac9e8",
   "metadata": {},
   "source": [
    "#### 1. Write a Python program to check if a given number is positive or negative."
   ]
  },
  {
   "cell_type": "code",
   "execution_count": 3,
   "id": "59b21d9d-23d5-4396-9f69-b97f0d5fe5f6",
   "metadata": {},
   "outputs": [
    {
     "name": "stdin",
     "output_type": "stream",
     "text": [
      "Enter the number:  2\n"
     ]
    },
    {
     "name": "stdout",
     "output_type": "stream",
     "text": [
      "Positive\n"
     ]
    }
   ],
   "source": [
    "#Function to check numbe3r is +ve or -ve\n",
    "def check(n):\n",
    "    return n>0\n",
    "\n",
    "#Taking User Input\n",
    "n = int(input(\"Enter the number: \"))\n",
    "\n",
    "#Calling FUnction\n",
    "result = check(n)\n",
    "\n",
    "#Displaying Result\n",
    "if result:\n",
    "    print(\"Positive\")\n",
    "else:\n",
    "    print(\"Negative\")"
   ]
  },
  {
   "cell_type": "markdown",
   "id": "83700774-5965-4052-a3d0-2f65b20039fc",
   "metadata": {},
   "source": [
    "#### 2. Create a program that determines if a person is eligible to vote based on their age."
   ]
  },
  {
   "cell_type": "code",
   "execution_count": 4,
   "id": "37197c8c-bdfc-4e6e-b6df-9947d37c44eb",
   "metadata": {},
   "outputs": [
    {
     "name": "stdin",
     "output_type": "stream",
     "text": [
      "Enter the number:  22\n"
     ]
    },
    {
     "name": "stdout",
     "output_type": "stream",
     "text": [
      "Eligible To vote\n"
     ]
    }
   ],
   "source": [
    "#Function determines if a person is eligible to vote based on their age.\n",
    "def check(age):\n",
    "    return age>18\n",
    "\n",
    "#Taking User Input\n",
    "n = int(input(\"Enter the age: \"))\n",
    "\n",
    "#Calling FUnction\n",
    "result = check(n)\n",
    "\n",
    "#Displaying Result\n",
    "if result:\n",
    "    print(\"Eligible To vote\")\n",
    "else:\n",
    "    print(\"Not Eligible To vote\")\n"
   ]
  },
  {
   "cell_type": "markdown",
   "id": "1541835c-0ddb-45a9-838b-4792db1f60be",
   "metadata": {},
   "source": [
    "#### 3. Develop a program to find the maximum of two numbers using if-else statements."
   ]
  },
  {
   "cell_type": "code",
   "execution_count": 6,
   "id": "631b9023-c88f-4cfe-b424-2cc947791e6a",
   "metadata": {},
   "outputs": [
    {
     "name": "stdin",
     "output_type": "stream",
     "text": [
      "Enter the Num 1:  2\n",
      "Enter the Num 2:  34\n"
     ]
    },
    {
     "name": "stdout",
     "output_type": "stream",
     "text": [
      "Num 2 is Maximum\n"
     ]
    }
   ],
   "source": [
    "#Function to find maximum of two number\n",
    "def check(a,b):\n",
    "    return a>b\n",
    "\n",
    "#Taking User Input\n",
    "num1 = int(input(\"Enter the Num 1: \"))\n",
    "num2 = int(input(\"Enter the Num 2: \"))\n",
    "\n",
    "#Calling FUnction\n",
    "result = check(num1 ,num2)\n",
    "\n",
    "#Displaying Result\n",
    "if result:\n",
    "    print(\"Num 1 is Maximum\")\n",
    "else:\n",
    "    print(\"Num 2 is Maximum\")\n"
   ]
  },
  {
   "cell_type": "markdown",
   "id": "7f6cbc59-ab9a-4eaf-8b39-a0ba4ee0327b",
   "metadata": {},
   "source": [
    "#### 4. Write a Python script to classify a given year as a leap year or not."
   ]
  },
  {
   "cell_type": "code",
   "execution_count": 10,
   "id": "7d0ff0a6-d549-4175-aff5-2130085a9370",
   "metadata": {},
   "outputs": [
    {
     "name": "stdin",
     "output_type": "stream",
     "text": [
      "Enter the year:  2024\n"
     ]
    },
    {
     "name": "stdout",
     "output_type": "stream",
     "text": [
      "2024 is a leap year\n"
     ]
    }
   ],
   "source": [
    "#function to classify a given year as leap year or not \n",
    "def leap(year):\n",
    "    if year % 4 == 0:\n",
    "        if year%100 == 0:\n",
    "            return year%400 == 0\n",
    "        return True\n",
    "    return False\n",
    "\n",
    "#Taking User Input\n",
    "year = int(input(\"Enter the year: \"))\n",
    "\n",
    "#Calling FUnction\n",
    "result = leap(year)\n",
    "\n",
    "#Displaying Result\n",
    "if result:\n",
    "    print(f\"{year} is a leap year\")\n",
    "else:\n",
    "    print(f\"{year} is not a leap year\")\n"
   ]
  },
  {
   "cell_type": "markdown",
   "id": "845ecd75-2a15-4805-a4de-abba5b6ced7c",
   "metadata": {},
   "source": [
    "####  5. Create a program that checks whether a character is a vowel or a consonant."
   ]
  },
  {
   "cell_type": "code",
   "execution_count": 16,
   "id": "d8dd9762-f41f-4359-96a9-ddc715f00776",
   "metadata": {},
   "outputs": [
    {
     "name": "stdin",
     "output_type": "stream",
     "text": [
      "Enter the character:  A\n"
     ]
    },
    {
     "name": "stdout",
     "output_type": "stream",
     "text": [
      "A is a vowel\n"
     ]
    }
   ],
   "source": [
    "#Function checks whether a character is a vowel or a consonant.\n",
    "def check(c):\n",
    "    vowel = 'aeiou'\n",
    "    return  c.lower() in vowel\n",
    "\n",
    "#Taking User Input\n",
    "c = input(\"Enter the character: \")\n",
    "\n",
    "#Calling FUnction\n",
    "result = check(c)\n",
    "\n",
    "#Displaying Result\n",
    "if result:\n",
    "    print(f\"{c} is a vowel\")\n",
    "else:\n",
    "    print(f\"{c} is not a vowel\")\n",
    "\n",
    "    "
   ]
  },
  {
   "cell_type": "markdown",
   "id": "ec33e4cd-c723-47fd-9711-3f1ca7430d1e",
   "metadata": {},
   "source": [
    "#### 6. Implement a program to determine whether a given number is even or odd. "
   ]
  },
  {
   "cell_type": "code",
   "execution_count": 18,
   "id": "39298dfd-ec59-4769-a3c5-ff7023dc12ab",
   "metadata": {},
   "outputs": [
    {
     "name": "stdin",
     "output_type": "stream",
     "text": [
      "Enter the number:  3\n"
     ]
    },
    {
     "name": "stdout",
     "output_type": "stream",
     "text": [
      "3 is Odd\n"
     ]
    }
   ],
   "source": [
    "#Function to check number is even or odd\n",
    "def check(num):\n",
    "    return n%2 == 0 \n",
    "\n",
    "#Taking User Input\n",
    "n = int(input(\"Enter the number: \"))\n",
    "\n",
    "#Calling FUnction\n",
    "result = check(n)\n",
    "\n",
    "#Displaying Result\n",
    "if result:\n",
    "    print(f\"{n} is Even\")\n",
    "else:\n",
    "    print(f\"{n} is Odd\")\n",
    "\n"
   ]
  },
  {
   "cell_type": "markdown",
   "id": "efe82d63-9651-4e0f-afc2-96d6445ca5c2",
   "metadata": {},
   "source": [
    "#### 7. Write a Python function to calculate the absolute value of a number without using the `abs()` function. "
   ]
  },
  {
   "cell_type": "code",
   "execution_count": 25,
   "id": "aa517705-7f03-4f48-8ce9-a3716763fe17",
   "metadata": {},
   "outputs": [
    {
     "name": "stdin",
     "output_type": "stream",
     "text": [
      "Enter the number:  -3\n"
     ]
    },
    {
     "name": "stdout",
     "output_type": "stream",
     "text": [
      "Absolute value of -3: 3\n"
     ]
    }
   ],
   "source": [
    "#function to calculate absolute value using abs()\n",
    "def absolute(num):\n",
    "    if num > 0 :\n",
    "        return num\n",
    "    else:\n",
    "        return num*-1\n",
    "\n",
    "#Taking User Input\n",
    "n = int(input(\"Enter the number: \"))\n",
    "\n",
    "#Calling FUnction\n",
    "result = absolute(n)\n",
    "\n",
    "#Displaying Result\n",
    "print(f\"Absolute value of {n}: {result}\")\n",
    "\n",
    "\n",
    "    "
   ]
  },
  {
   "cell_type": "markdown",
   "id": "813b2c1f-f99d-4919-8f0f-3008b5570c3f",
   "metadata": {},
   "source": [
    "#### 8. Develop a program that determines the largest of three given numbers using if-else statements."
   ]
  },
  {
   "cell_type": "code",
   "execution_count": 28,
   "id": "e8f5fd6e-ce7b-4507-9e66-4515909d904a",
   "metadata": {},
   "outputs": [
    {
     "name": "stdin",
     "output_type": "stream",
     "text": [
      "Enter the number 1:  5\n",
      "Enter the number 2:  4\n",
      "Enter the number 3:  7\n"
     ]
    },
    {
     "name": "stdout",
     "output_type": "stream",
     "text": [
      "7 is Max among them\n"
     ]
    }
   ],
   "source": [
    "#function to find largest of three number using if-else\n",
    "def find(a,b,c):\n",
    "    if a>b and b>c:\n",
    "        return a\n",
    "    elif b>a and a>c:\n",
    "        return b\n",
    "    else:\n",
    "        return c\n",
    "    \n",
    "#Taking User Input\n",
    "num1 = int(input(\"Enter the number 1: \"))\n",
    "num2 = int(input(\"Enter the number 2: \"))\n",
    "num3 = int(input(\"Enter the number 3: \"))\n",
    "\n",
    "#Calling FUnction\n",
    "result = find(num1,num2,num3)\n",
    "\n",
    "#Displaying Result\n",
    "print(f\"{result} is Max among them\")\n"
   ]
  },
  {
   "cell_type": "markdown",
   "id": "f24f14d5-8f6c-4eb6-853e-a71aa5475940",
   "metadata": {},
   "source": [
    "#### 9. Create a program that checks if a given string is a palindrome."
   ]
  },
  {
   "cell_type": "code",
   "execution_count": 32,
   "id": "8f733c88-4c71-4925-8182-287f1d1c04b6",
   "metadata": {},
   "outputs": [
    {
     "name": "stdin",
     "output_type": "stream",
     "text": [
      "Enter the string:  Nitin\n"
     ]
    },
    {
     "name": "stdout",
     "output_type": "stream",
     "text": [
      "Nitin is palindrom\n"
     ]
    }
   ],
   "source": [
    "#function to check string is palinf=drom or not\n",
    "def check(s):\n",
    "    return s.lower() == s[::-1].lower()\n",
    "\n",
    "#Taking User Input\n",
    "s = input(\"Enter the string: \")\n",
    "\n",
    "#Calling FUnction\n",
    "result = check(s)\n",
    "\n",
    "#Displaying Result\n",
    "if result:\n",
    "    print(f\"{s} is palindrom\")\n",
    "else:\n",
    "    print(f\"{s} is not palindrom\")"
   ]
  },
  {
   "cell_type": "markdown",
   "id": "c393c92c-5bfb-4516-952f-8e3b3350b669",
   "metadata": {},
   "source": [
    "#### 10. Write a Python program to calculate the grade based on a student's score."
   ]
  },
  {
   "cell_type": "code",
   "execution_count": 37,
   "id": "2c139213-8e30-40c9-9739-601cee305f21",
   "metadata": {},
   "outputs": [
    {
     "name": "stdin",
     "output_type": "stream",
     "text": [
      "Enter the number:  91\n"
     ]
    },
    {
     "name": "stdout",
     "output_type": "stream",
     "text": [
      "Grae :  A+\n"
     ]
    }
   ],
   "source": [
    "#function to calculate grade based on score\n",
    "def grade(grade):\n",
    "    if grade >=90:\n",
    "        return \"A+\"\n",
    "    elif grade >=80:\n",
    "        return \"A\"\n",
    "    elif grade >= 70:\n",
    "        return \"B\"\n",
    "    elif grade >= 60:\n",
    "        return \"C\"\n",
    "    elif grade >= 50:\n",
    "        return \"D\"\n",
    "    elif grade >= 40:\n",
    "        return \"E\"\n",
    "    else:\n",
    "        return \"F\"\n",
    "\n",
    "\n",
    "#Taking User Input\n",
    "n = int(input(\"Enter the number: \"))\n",
    "\n",
    "#Calling FUnction\n",
    "result = grade(n)\n",
    "\n",
    "#Displaying Result\n",
    "print(\"Grae : \",result)\n",
    "    "
   ]
  },
  {
   "cell_type": "markdown",
   "id": "d2d340a2-2482-43c3-a3cd-a5415afe4b0b",
   "metadata": {},
   "source": [
    "<h1>Nested If-Else Statements:"
   ]
  },
  {
   "cell_type": "markdown",
   "id": "52661f9e-d8b4-4c5d-bf3c-a4b4ea543b61",
   "metadata": {},
   "source": [
    "#### 12. Write a program to determine if a triangle is equilateral, isosceles, or scalene."
   ]
  },
  {
   "cell_type": "code",
   "execution_count": 3,
   "id": "5deda64b-6698-4279-82f9-7b3612e5a4de",
   "metadata": {},
   "outputs": [
    {
     "name": "stdin",
     "output_type": "stream",
     "text": [
      "Enter the side 1:  2\n",
      "Enter the side 2:  2\n",
      "Enter the side 3:  2\n"
     ]
    },
    {
     "name": "stdout",
     "output_type": "stream",
     "text": [
      "given triangle is Equilateral\n"
     ]
    }
   ],
   "source": [
    "#Function to determine if a triangle is equilateral, isosceles, or scalene. \n",
    "def find(a,b,c):\n",
    "    if a == b == c:\n",
    "        return \"Equilateral\"\n",
    "    elif a==c!=b or b==c!=a or a==b!=c:\n",
    "        return \"Isosceles\"\n",
    "    else:\n",
    "        return \"Scalene\"\n",
    "    \n",
    "#Taking User Input\n",
    "num1 = int(input(\"Enter the side 1: \"))\n",
    "num2 = int(input(\"Enter the side 2: \"))\n",
    "num3 = int(input(\"Enter the side 3: \"))\n",
    "\n",
    "#Calling FUnction\n",
    "result = find(num1,num2,num3)\n",
    "\n",
    "#Displaying Result\n",
    "print(f\"given triangle is {result}\")\n",
    "    \n",
    "    "
   ]
  },
  {
   "cell_type": "markdown",
   "id": "8721ff11-25f5-461b-8093-da31e93d94d6",
   "metadata": {},
   "source": [
    "#### 13. Develop a program that checks if a year is a leap year and also if it is a century year."
   ]
  },
  {
   "cell_type": "code",
   "execution_count": 11,
   "id": "3d2611d9-78d0-4448-ac5f-a6943e2cca3e",
   "metadata": {},
   "outputs": [
    {
     "name": "stdin",
     "output_type": "stream",
     "text": [
      "Enter the year:  1972\n"
     ]
    },
    {
     "name": "stdout",
     "output_type": "stream",
     "text": [
      "1972 is a leap year\n"
     ]
    }
   ],
   "source": [
    "#Function to check leap year or century year\n",
    "def leap(year):\n",
    "    if year%4 == 0:\n",
    "        if year % 100 == 0:\n",
    "            return year%400 == 0\n",
    "        return True\n",
    "    return False\n",
    "\n",
    "\n",
    "#Taking User Input\n",
    "year = int(input(\"Enter the year: \"))\n",
    "\n",
    "#Calling FUnction\n",
    "result = leap(year)\n",
    "\n",
    "#Displaying Result\n",
    "if result and year%100==0:\n",
    "    print(f\"{year} is a leap and century year\")\n",
    "elif result:\n",
    "     print(f\"{year} is a leap year\")\n",
    "else:\n",
    "    print(f\"{year} is not a leap year\")\n",
    "\n",
    "\n",
    "\n"
   ]
  },
  {
   "cell_type": "markdown",
   "id": "87779eca-2224-4c2b-8801-bbc6b4c580ec",
   "metadata": {
    "tags": []
   },
   "source": [
    "#### 14. Write a Python script to determine if a number is positive, negative, or zero.\n"
   ]
  },
  {
   "cell_type": "code",
   "execution_count": 14,
   "id": "394ee6cc-8a48-494d-a4cf-2c9bb3e315c7",
   "metadata": {},
   "outputs": [
    {
     "name": "stdin",
     "output_type": "stream",
     "text": [
      "Enter the number:  -3\n"
     ]
    },
    {
     "name": "stdout",
     "output_type": "stream",
     "text": [
      "-3 is Negative\n"
     ]
    }
   ],
   "source": [
    "#Function to determine if a number is positive negative or zero\n",
    "def find(num):\n",
    "    if num > 0:\n",
    "        return \"Positive\"\n",
    "    elif num == 0:\n",
    "        return \"Zero\"\n",
    "    else:\n",
    "        return \"Negative\"\n",
    "\n",
    "    \n",
    "#Taking User Input\n",
    "n = int(input(\"Enter the number: \"))\n",
    "\n",
    "#Calling FUnction\n",
    "result = find(n)\n",
    "\n",
    "#Displaying Result\n",
    "print(f\"{n} is {result}\")"
   ]
  },
  {
   "cell_type": "markdown",
   "id": "42882a0b-4286-4491-a4dc-25fc0654fdc4",
   "metadata": {},
   "source": [
    "#### 15. Create a program to check if a person is a teenager (between 13 and 19 years old)."
   ]
  },
  {
   "cell_type": "code",
   "execution_count": 16,
   "id": "fe506c1a-3df8-4c49-9bdd-73445ec13bf3",
   "metadata": {},
   "outputs": [
    {
     "name": "stdin",
     "output_type": "stream",
     "text": [
      "Enter the age:  24\n"
     ]
    },
    {
     "name": "stdout",
     "output_type": "stream",
     "text": [
      "A person is Teenager\n"
     ]
    }
   ],
   "source": [
    "#Function to check if a person is teenager\n",
    "def check(age):\n",
    "    return 13 <= age <= 19\n",
    "\n",
    "\n",
    "#Taking User Input\n",
    "n = int(input(\"Enter the age: \"))\n",
    "\n",
    "#Calling FUnction\n",
    "result = find(n)\n",
    "\n",
    "#Displaying Result\n",
    "if result:\n",
    "    print(\"A person is Teenager\")\n",
    "else:\n",
    "    print(\"A person is not a Teenager\")"
   ]
  },
  {
   "cell_type": "markdown",
   "id": "9f0d228a-af90-4e0d-9cb7-b00c3d8c680b",
   "metadata": {},
   "source": [
    "#### 16. Develop a program that determines the type of angle based on its measure (acute, obtuse, or right). "
   ]
  },
  {
   "cell_type": "code",
   "execution_count": 24,
   "id": "1acfdd3f-2cb7-4aa8-a9c8-0e4c5e501583",
   "metadata": {},
   "outputs": [
    {
     "name": "stdin",
     "output_type": "stream",
     "text": [
      "Enter the side 1:  100\n",
      "Enter the side 2:  40\n",
      "Enter the side 3:  40\n"
     ]
    },
    {
     "name": "stdout",
     "output_type": "stream",
     "text": [
      "given triangle is Obtuse\n"
     ]
    }
   ],
   "source": [
    "#Function to determine the type of angle based on its measure (acute, obtuse, or right)\n",
    "def check(a1,a2,a3):\n",
    "    if a1+a2+a3 == 180:\n",
    "        if a1==90 and (a2 and a3 !=90) or a2==90 and (a1 and a3) !=90 or a3==90 and (a1 and a2) !=90:\n",
    "            return \"Right\"\n",
    "        elif a1<90 and a2<90 and a3<90:\n",
    "            return \"Acute\"\n",
    "        elif a1 >90 and (a2 and a3) !=90 or a2>90 and (a1 and a3) !=90 or a3>90 and (a1 and a2) !=90:\n",
    "            return \"Obtuse\"\n",
    "    else:\n",
    "        return \"Angle are not of triangle\"\n",
    "    \n",
    "#Taking User Input\n",
    "num1 = int(input(\"Enter the side 1: \"))\n",
    "num2 = int(input(\"Enter the side 2: \"))\n",
    "num3 = int(input(\"Enter the side 3: \"))\n",
    "\n",
    "#Calling FUnction\n",
    "result = check(num1,num2,num3)\n",
    "\n",
    "#Displaying Result\n",
    "print(f\"given triangle is {result}\")\n",
    "    \n",
    "        "
   ]
  },
  {
   "cell_type": "markdown",
   "id": "d2ca175e-898c-4963-93ee-b3ce08917702",
   "metadata": {},
   "source": [
    "#### 17. Write a Python program to calculate the roots of a quadratic equation."
   ]
  },
  {
   "cell_type": "code",
   "execution_count": 35,
   "id": "260384b3-c69d-4296-b3be-5d7436ad65d4",
   "metadata": {},
   "outputs": [
    {
     "name": "stdin",
     "output_type": "stream",
     "text": [
      "Enter the a:  1\n",
      "Enter the b:  2\n",
      "Enter the c:  5\n"
     ]
    },
    {
     "name": "stdout",
     "output_type": "stream",
     "text": [
      "given triangle is ((-1+2j), (-1-2j))\n"
     ]
    }
   ],
   "source": [
    "import math\n",
    "#Function to calculate roots of quadratic equation\n",
    "def find(a,b,c):\n",
    "    if a == 0:\n",
    "        return \"Wrong input\"\n",
    "    else:\n",
    "        D = (b*b) - (4*a*c)\n",
    "        \n",
    "        if D == 0:\n",
    "            return (-b / (2*a))\n",
    "        elif D> 0:\n",
    "            return ((-b + math.sqrt(D))/(2*a)), ((-b - math.sqrt(D))/(2*a))\n",
    "        else:\n",
    "            return (-b/(2*a)) + ((math.sqrt(abs(D))/(2*a))*1j) , (-b/(2*a)) - ((math.sqrt(abs(D))/(2*a))*1j)\n",
    "                                              \n",
    "#Taking User Input\n",
    "num1 = int(input(\"Enter the a: \"))\n",
    "num2 = int(input(\"Enter the b: \"))\n",
    "num3 = int(input(\"Enter the c: \"))\n",
    "\n",
    "#Calling FUnction\n",
    "result = find(num1,num2,num3)\n",
    "\n",
    "#Displaying Result\n",
    "print(f\"given triangle is {result}\")"
   ]
  },
  {
   "cell_type": "markdown",
   "id": "fe901f75-779d-457f-a79f-f36dec89fb85",
   "metadata": {},
   "source": [
    "#### 18. Implement a program to determine the day of the week based on a user-provided number (1 for Monday, 2 for Tuesday, etc.)."
   ]
  },
  {
   "cell_type": "code",
   "execution_count": 36,
   "id": "8f24220c-320d-4630-9886-279e65219b31",
   "metadata": {},
   "outputs": [
    {
     "name": "stdin",
     "output_type": "stream",
     "text": [
      "Enter the number:  4\n"
     ]
    },
    {
     "name": "stdout",
     "output_type": "stream",
     "text": [
      "4 is Thrusday\n"
     ]
    }
   ],
   "source": [
    "#Function to determine the day of the week based on a user-provided number (1 for Monday, 2 for Tuesday, etc.).\n",
    "def check(day):\n",
    "    if day == 1:\n",
    "        return \"Monday\"\n",
    "    elif day == 2:\n",
    "        return \"Tueday\"\n",
    "    elif day == 3:\n",
    "        return \"Wenesday\"\n",
    "    elif day == 4:\n",
    "        return \"Thrusday\"\n",
    "    elif day == 5:\n",
    "        return \"Friday\"\n",
    "    elif day == 6:\n",
    "        return \"Saturday\"\n",
    "    elif day == 7:\n",
    "        return \"Sunday\"\n",
    "    else:\n",
    "        return \"Wrong Input\"\n",
    "    \n",
    "    \n",
    "#Taking User Input\n",
    "n = int(input(\"Enter the number: \"))\n",
    "\n",
    "#Calling FUnction\n",
    "result = check(n)\n",
    "\n",
    "#Displaying Result\n",
    "print(f\"{n} is {result}\")"
   ]
  },
  {
   "cell_type": "markdown",
   "id": "24652eb9-1a59-4522-b96e-692fdf6bd7b5",
   "metadata": {},
   "source": [
    "#### 20. Develop a program that checks if a given number is prime or not using nested if-else statements."
   ]
  },
  {
   "cell_type": "code",
   "execution_count": 40,
   "id": "cb7e390a-288e-42e5-96c0-126e6b3b9d21",
   "metadata": {},
   "outputs": [
    {
     "name": "stdin",
     "output_type": "stream",
     "text": [
      "Enter the number:  121\n"
     ]
    },
    {
     "name": "stdout",
     "output_type": "stream",
     "text": [
      "121 is Prime\n"
     ]
    }
   ],
   "source": [
    "#Function to checks if a given number is prime or not using nested if-else statements.\n",
    "def check(n):\n",
    "    if n<2:\n",
    "        return True\n",
    "    for i in range(2,int((n**0.5)/2)):\n",
    "        if n%i == 0:\n",
    "            return False\n",
    "    return True\n",
    "\n",
    "#Taking User Input\n",
    "n = int(input(\"Enter the number: \"))\n",
    "\n",
    "#Calling FUnction\n",
    "result = check(n)\n",
    "\n",
    "#Displaying Result\n",
    "if result :\n",
    "    print(f\"{n} is Prime\")\n",
    "else:\n",
    "    print(f\"{n} is not Prime\")\n",
    "\n",
    "\n"
   ]
  },
  {
   "cell_type": "markdown",
   "id": "dcdd654f-8c4f-4807-8b1a-aa94a09300cc",
   "metadata": {},
   "source": [
    "<h1>Elif Statements:"
   ]
  },
  {
   "cell_type": "markdown",
   "id": "068c62a4-33ca-496f-9c2b-9fc28ee8706f",
   "metadata": {},
   "source": [
    "####  21. Write a Python program to assign grades based on different ranges of scores using elif statements."
   ]
  },
  {
   "cell_type": "code",
   "execution_count": 16,
   "id": "3b533569-4050-49fe-9199-f9ae26767c19",
   "metadata": {},
   "outputs": [
    {
     "name": "stdin",
     "output_type": "stream",
     "text": [
      "Enter the number:  79\n"
     ]
    },
    {
     "name": "stdout",
     "output_type": "stream",
     "text": [
      "Grade :  B\n"
     ]
    }
   ],
   "source": [
    "#function to calculate grade based on score\n",
    "def grade(grade):\n",
    "    if grade >=90:\n",
    "        return \"A+\"\n",
    "    elif grade >=80:\n",
    "        return \"A\"\n",
    "    elif grade >= 70:\n",
    "        return \"B\"\n",
    "    elif grade >= 60:\n",
    "        return \"C\"\n",
    "    elif grade >= 50:\n",
    "        return \"D\"\n",
    "    elif grade >= 40:\n",
    "        return \"E\"\n",
    "    else:\n",
    "        return \"F\"\n",
    "\n",
    "\n",
    "#Taking User Input\n",
    "n = int(input(\"Enter the number: \"))\n",
    "\n",
    "#Calling FUnction\n",
    "result = grade(n)\n",
    "\n",
    "#Displaying Result\n",
    "print(\"Grade : \",result)\n",
    "    "
   ]
  },
  {
   "cell_type": "markdown",
   "id": "1b03825f-1e8b-4523-b223-59a74b01aba9",
   "metadata": {},
   "source": [
    "#### 22. Implement a program to determine the type of a triangle based on its angles."
   ]
  },
  {
   "cell_type": "code",
   "execution_count": 18,
   "id": "cc83383f-ab97-4d3e-9f17-49f3864bfcc1",
   "metadata": {},
   "outputs": [
    {
     "name": "stdin",
     "output_type": "stream",
     "text": [
      "Enter the side 1:  45\n",
      "Enter the side 2:  45\n",
      "Enter the side 3:  90\n"
     ]
    },
    {
     "name": "stdout",
     "output_type": "stream",
     "text": [
      "Given angle form Right triangle\n"
     ]
    }
   ],
   "source": [
    "#Function to determine the type of angle based on its measure (acute, obtuse, or right)\n",
    "def check(a1,a2,a3):\n",
    "    if a1+a2+a3 == 180:\n",
    "        if a1==90 and (a2 and a3 !=90) or a2==90 and (a1 and a3) !=90 or a3==90 and (a1 and a2) !=90:\n",
    "            return \"Right\"\n",
    "        elif a1<90 and a2<90 and a3<90:\n",
    "            return \"Acute\"\n",
    "        elif a1 >90 and (a2 and a3) !=90 or a2>90 and (a1 and a3) !=90 or a3>90 and (a1 and a2) !=90:\n",
    "            return \"Obtuse\"\n",
    "    else:\n",
    "        return \"Angle are not of triangle\"\n",
    "    \n",
    "#Taking User Input\n",
    "num1 = int(input(\"Enter the side 1: \"))\n",
    "num2 = int(input(\"Enter the side 2: \"))\n",
    "num3 = int(input(\"Enter the side 3: \"))\n",
    "\n",
    "#Calling FUnction\n",
    "result = check(num1,num2,num3)\n",
    "\n",
    "#Displaying Result\n",
    "print(f\"Given angle form {result} triangle\")\n",
    "    \n",
    "        "
   ]
  },
  {
   "cell_type": "markdown",
   "id": "78aff62c-8c68-4890-98fc-ecdef7c19716",
   "metadata": {},
   "source": [
    "#### 23. Develop a program to categorize a given person's BMI into underweight, normal, overweight, or obese using elif statements."
   ]
  },
  {
   "cell_type": "code",
   "execution_count": 9,
   "id": "0a8d2823-1bdb-4ab3-aa13-298d2205b688",
   "metadata": {},
   "outputs": [
    {
     "name": "stdin",
     "output_type": "stream",
     "text": [
      "Enter the BMI:  28\n"
     ]
    },
    {
     "name": "stdout",
     "output_type": "stream",
     "text": [
      "Person is OverWeight\n"
     ]
    }
   ],
   "source": [
    "#Funnction to categorize a given person's BMI into underweight, normal, overweight, or obese using elif statements.\n",
    "def find(n):\n",
    "    if n <= 18.5:\n",
    "        return \"Underweight\"\n",
    "    elif 18.5 < n <= 25:\n",
    "        return \"healthy\"\n",
    "    elif 25 < n <= 30 :\n",
    "        return \"OverWeight\"\n",
    "    else:\n",
    "        return \"Obesity\"\n",
    "        \n",
    "#Taking User Input\n",
    "n = int(input(\"Enter the BMI: \"))\n",
    "\n",
    "#Calling FUnction\n",
    "result = find(n)\n",
    "\n",
    "#Displaying Result\n",
    "print(f\"Person is {result}\") \n",
    "\n",
    "    \n"
   ]
  },
  {
   "cell_type": "markdown",
   "id": "98854063-9ae6-4dca-8881-50418d574e94",
   "metadata": {},
   "source": [
    "#### 24. Create a program that determines whether a given number is positive, negative, or zero using elif statements."
   ]
  },
  {
   "cell_type": "code",
   "execution_count": 19,
   "id": "576470c2-703f-4a17-a1ac-f9dd99530e36",
   "metadata": {},
   "outputs": [
    {
     "name": "stdin",
     "output_type": "stream",
     "text": [
      "Enter the number:  0\n"
     ]
    },
    {
     "name": "stdout",
     "output_type": "stream",
     "text": [
      "0 is : Zero\n"
     ]
    }
   ],
   "source": [
    "#function to checks if a given number is positive, negative, or zero.\n",
    "def find(n):\n",
    "    if n >0:\n",
    "        return \"Positive\"\n",
    "    elif n==0:\n",
    "        return \"Zero\"\n",
    "    else:\n",
    "        return \"Negative\"\n",
    "    \n",
    "#Taking User input\n",
    "n = int(input(\"Enter the number: \"))\n",
    "\n",
    "#Calling Function\n",
    "result = find(n)\n",
    "\n",
    "#Displaying Result\n",
    "print(f\"{n} is : {result}\")"
   ]
  },
  {
   "cell_type": "markdown",
   "id": "8dae5d68-941e-4c2e-a6ab-a452e75af7eb",
   "metadata": {},
   "source": [
    "#### 25. Write a Python script to determine the type of a character (uppercase, lowercase, or special) using elif statements."
   ]
  },
  {
   "cell_type": "code",
   "execution_count": 8,
   "id": "62b42ed2-78b7-41d4-8bee-7948ba7403ce",
   "metadata": {},
   "outputs": [
    {
     "name": "stdin",
     "output_type": "stream",
     "text": [
      "Enter the Character:  D\n"
     ]
    },
    {
     "name": "stdout",
     "output_type": "stream",
     "text": [
      "D is Uppercase\n"
     ]
    }
   ],
   "source": [
    "#Function to determine the type of a character (uppercase, lowercase, or special) using elif statements.\n",
    "def find(c):\n",
    "    if c.isupper():\n",
    "        return \"Uppercase\"\n",
    "    elif c.islower():\n",
    "        return \"Lowercase\"\n",
    "    else:\n",
    "        return \"Special\"\n",
    "\n",
    "    #Taking User Input\n",
    "c = input(\"Enter the Character: \")\n",
    "\n",
    "#Calling FUnction\n",
    "result = find(c)\n",
    "\n",
    "#Displaying Result\n",
    "print(f\"{c} is {result}\") \n",
    "    "
   ]
  },
  {
   "cell_type": "markdown",
   "id": "d7cf7e20-1318-4edc-8036-0cd4fc725694",
   "metadata": {},
   "source": [
    "#### 26. Implement a program to calculate the discounted price based on different purchase amounts using elif statements."
   ]
  },
  {
   "cell_type": "code",
   "execution_count": 11,
   "id": "91d33293-7a49-4caf-9760-6e36b01cf2a4",
   "metadata": {},
   "outputs": [
    {
     "name": "stdin",
     "output_type": "stream",
     "text": [
      "Enter the Price:  10000\n"
     ]
    },
    {
     "name": "stdout",
     "output_type": "stream",
     "text": [
      "Discounted Price is 7500.0\n"
     ]
    }
   ],
   "source": [
    "#Function to calculate the discounted price based on different purchase amounts using elif statements.\n",
    "def find(price):\n",
    "    if 0 < price <= 1000:\n",
    "        return 5\n",
    "    elif 1000 < price <= 3000:\n",
    "        return 10\n",
    "    elif 3000 < price <= 5000:\n",
    "        return 15\n",
    "    elif 5000 < price <= 10000:\n",
    "        return 25\n",
    "    else:\n",
    "        return 30\n",
    "\n",
    "#Taking User Input\n",
    "n = int(input(\"Enter the Price: \"))\n",
    "\n",
    "#Calling FUnction\n",
    "result = n - (n * (find(n)/100))\n",
    "\n",
    "#Displaying Result\n",
    "print(f\"Discounted Price is {result}\")\n"
   ]
  },
  {
   "cell_type": "markdown",
   "id": "c370ba29-006d-46df-a40f-23faf057f459",
   "metadata": {},
   "source": [
    "#### 27. Develop a program to calculate the electricity bill based on different consumption slabs using elif statements."
   ]
  },
  {
   "cell_type": "code",
   "execution_count": 13,
   "id": "86e5922a-72cc-44b8-9776-ceaebdcaa5c3",
   "metadata": {},
   "outputs": [
    {
     "name": "stdin",
     "output_type": "stream",
     "text": [
      "Enter the Unit:  120\n"
     ]
    },
    {
     "name": "stdout",
     "output_type": "stream",
     "text": [
      "Electricity Bill is 1200\n"
     ]
    }
   ],
   "source": [
    "#Function to  calculate the electricity bill based on different consumption slabs using elif statements.\n",
    "def find(bill):\n",
    "    if 0 < bill <= 100:\n",
    "        return bill * 5\n",
    "    elif 100 < bill <= 1000:\n",
    "        return bill * 10\n",
    "    elif 1000 < bill <= 3000:\n",
    "        return bill * 15\n",
    "    elif 3000 < bill <= 10000:\n",
    "        return bill * 20\n",
    "    else:\n",
    "        return bill * 25\n",
    "\n",
    "#Taking User Input\n",
    "n = int(input(\"Enter the Unit: \"))\n",
    "\n",
    "#Calling FUnction\n",
    "result = find(n)\n",
    "\n",
    "#Displaying Result\n",
    "print(f\"Electricity Bill is {result}\")\n",
    "    "
   ]
  },
  {
   "cell_type": "markdown",
   "id": "208d7d6d-5f48-4d4b-b176-ea0063035aef",
   "metadata": {},
   "source": [
    "#### 28. Create a program to determine the type of quadrilateral based on its angles and sides using elif statements."
   ]
  },
  {
   "cell_type": "code",
   "execution_count": 3,
   "id": "91075a50-ad5a-413e-96ac-29613a615723",
   "metadata": {},
   "outputs": [
    {
     "name": "stdin",
     "output_type": "stream",
     "text": [
      "Input side 1 :  4\n",
      "Input side 2 :  4\n",
      "Input side 3 :  6\n",
      "Input side 4 :  4\n",
      "Input angle 1 :  90\n",
      "Input angle 2 :  90\n",
      "Input angle 3 :  90\n",
      "Input angle 4 :  90\n"
     ]
    },
    {
     "name": "stdout",
     "output_type": "stream",
     "text": [
      " the given quadrilatoral is : Rectangle\n"
     ]
    }
   ],
   "source": [
    "#function to find type of quadrilatoral\n",
    "def find(s,a):\n",
    "    if len(s) and len(a) != 4:\n",
    "        return \"Wrong Input\"\n",
    "    else:\n",
    "        if all(angles == 90 for angles in a) and all(sides == s[0] for sides in s):\n",
    "            return \"Square\"\n",
    "        elif all(sides == s[0] for sides in s):\n",
    "            return \"Rohumbus\"\n",
    "        elif any(angle == 90 for angle in a)  and len(set(s)) == 2:\n",
    "            return \"Rectangle\"\n",
    "        elif any(angle == 90 for angle in a):\n",
    "            return \"Trapezium\"\n",
    "        else:\n",
    "            return \"Simple Quadrilatoral\"\n",
    "\n",
    "\n",
    "\n",
    "# Taking User input\n",
    "s = [int(input(f\"Input side {i+1} : \"))  for i in range(4)] \n",
    "a = [int(input(f\"Input angle {i+1} : \"))  for i in range(4)] \n",
    "\n",
    "#Calling Function\n",
    "result =find(s,a)\n",
    "\n",
    "#Displaying Result\n",
    "print(f\" the given quadrilatoral is : {result}\")"
   ]
  },
  {
   "cell_type": "markdown",
   "id": "3373a125-fd05-491c-bba3-0db3ce07e1ba",
   "metadata": {},
   "source": [
    "#### 29. Write a Python script to determine the season based on a user-provided month using elif statements."
   ]
  },
  {
   "cell_type": "code",
   "execution_count": 5,
   "id": "191e4cc0-ea13-4106-9bc8-7d142336fd21",
   "metadata": {},
   "outputs": [
    {
     "name": "stdin",
     "output_type": "stream",
     "text": [
      "Enter The month:  12\n"
     ]
    },
    {
     "name": "stdout",
     "output_type": "stream",
     "text": [
      "It is Winter season\n"
     ]
    }
   ],
   "source": [
    "#Function to determine the season based on a user-provided month using elif statements\n",
    "def find(month):\n",
    "    if month in [12,1,2]:\n",
    "        return \"Winter\"\n",
    "    elif month in [3,4,5]:\n",
    "        return \"Summer\"\n",
    "    elif month in [6,7,8,9]:\n",
    "        return \"Monsoon\"\n",
    "    elif month in [10,11]:\n",
    "        return \"Post-Monsoon\"\n",
    "    else:\n",
    "        return \"Wrong Input\"\n",
    "    \n",
    "n = int(input(\"Enter The month: \"))\n",
    "\n",
    "#Calling Function\n",
    "result =find(n)\n",
    "\n",
    "#Displaying Result\n",
    "print(f\"It is {result} season\")"
   ]
  },
  {
   "cell_type": "markdown",
   "id": "f631683d-00ab-45b7-b9cf-b1f7be7d85b8",
   "metadata": {},
   "source": [
    "#### 30. Implement a program to determine the type of a year (leap or common) and month (30 or 31 days) using elif statements."
   ]
  },
  {
   "cell_type": "code",
   "execution_count": 6,
   "id": "6b0b3853-6baa-4198-9588-052ad6bc1f9e",
   "metadata": {},
   "outputs": [
    {
     "name": "stdin",
     "output_type": "stream",
     "text": [
      "Enter the year:  2000\n",
      "Enter the month (1-12):  2\n"
     ]
    },
    {
     "name": "stdout",
     "output_type": "stream",
     "text": [
      "2000 is a leap year.\n",
      "The month has 29 days.\n"
     ]
    }
   ],
   "source": [
    "#Function to Implement a program to determine the type of a year (leap or common) and month (30 or 31 days) using elif statements.\n",
    "def leap(year):\n",
    "    if (year % 4 == 0 and year % 100 != 0) or (year % 400 == 0):\n",
    "        return True\n",
    "    else:\n",
    "        return False\n",
    "\n",
    "def days(month, year):\n",
    "    if month in [1, 3, 5, 7, 8, 10, 12]:\n",
    "        return 31\n",
    "    elif month in [4, 6, 9, 11]:\n",
    "        return 30\n",
    "    elif month == 2:\n",
    "        if leap(year):\n",
    "            return 29\n",
    "        else:\n",
    "            return 28\n",
    "    else:\n",
    "        return -1  \n",
    "    \n",
    "# Taking user input\n",
    "year = int(input(\"Enter the year: \"))\n",
    "month = int(input(\"Enter the month (1-12): \"))\n",
    "\n",
    "# Check the type of year\n",
    "if leap(year):\n",
    "    print(f\"{year} is a leap year.\")\n",
    "else:\n",
    "    print(f\"{year} is a common year.\")\n",
    "\n",
    "# Check the number of days in the given month\n",
    "days = days(month, year)\n",
    "if days == -1:\n",
    "    print(\"Invalid month entered.\")\n",
    "else:\n",
    "    print(f\"The month has {days} days.\")\n"
   ]
  },
  {
   "cell_type": "markdown",
   "id": "e2826ca9-97eb-4494-b5ec-37e3d7212338",
   "metadata": {},
   "source": [
    "<h1>Basic Level:"
   ]
  },
  {
   "cell_type": "markdown",
   "id": "8fd70f3a-5a62-4e31-8d8d-c393dea67ba5",
   "metadata": {},
   "source": [
    "#### 1. Write a Python program that checks if a given number is positive, negative, or zero.\n"
   ]
  },
  {
   "cell_type": "code",
   "execution_count": 14,
   "id": "41960a40-ff30-4bb8-9f3e-3d2ae2fcfdf5",
   "metadata": {},
   "outputs": [
    {
     "name": "stdin",
     "output_type": "stream",
     "text": [
      "Enter the number:  -12\n"
     ]
    },
    {
     "name": "stdout",
     "output_type": "stream",
     "text": [
      "-12 is : Negative\n"
     ]
    }
   ],
   "source": [
    "#function to checks if a given number is positive, negative, or zero.\n",
    "def find(n):\n",
    "    if n >0:\n",
    "        return \"Positive\"\n",
    "    elif n==0:\n",
    "        return \"Zero\"\n",
    "    else:\n",
    "        return \"Negative\"\n",
    "    \n",
    "#Taking User input\n",
    "n = int(input(\"Enter the number: \"))\n",
    "\n",
    "#Calling Function\n",
    "result = find(n)\n",
    "\n",
    "#Displaying Result\n",
    "print(f\"{n} is : {result}\")"
   ]
  },
  {
   "cell_type": "markdown",
   "id": "697c26d7-85eb-40c5-ad10-2f945b92dae9",
   "metadata": {},
   "source": [
    "#### 2. Create a program to determine if a person is eligible to vote based on their age."
   ]
  },
  {
   "cell_type": "code",
   "execution_count": 5,
   "id": "5b41a611-301a-48b8-a616-1092d70caadf",
   "metadata": {},
   "outputs": [
    {
     "name": "stdin",
     "output_type": "stream",
     "text": [
      "Enter the age:  23\n"
     ]
    },
    {
     "name": "stdout",
     "output_type": "stream",
     "text": [
      "Eligible To vote\n"
     ]
    }
   ],
   "source": [
    "#Function determines if a person is eligible to vote based on their age.\n",
    "def check(age):\n",
    "    return age>18\n",
    "\n",
    "#Taking User Input\n",
    "n = int(input(\"Enter the age: \"))\n",
    "\n",
    "#Calling FUnction\n",
    "result = check(n)\n",
    "\n",
    "#Displaying Result\n",
    "if result:\n",
    "    print(\"Eligible To vote\")\n",
    "else:\n",
    "    print(\"Not Eligible To vote\")"
   ]
  },
  {
   "cell_type": "markdown",
   "id": "0adf5b25-1e33-4f7f-9ee4-70ba186d0b98",
   "metadata": {},
   "source": [
    "#### 3. Write a program to find the maximum of two given numbers using conditional statements."
   ]
  },
  {
   "cell_type": "code",
   "execution_count": 4,
   "id": "51a84afc-c078-45b4-9561-a8bb844ac5fb",
   "metadata": {},
   "outputs": [
    {
     "name": "stdin",
     "output_type": "stream",
     "text": [
      "Enter the Num 1:  2\n",
      "Enter the Num 2:  4\n"
     ]
    },
    {
     "name": "stdout",
     "output_type": "stream",
     "text": [
      "Num 2 is Maximum\n"
     ]
    }
   ],
   "source": [
    "#Function to find maximum of two number\n",
    "def check(a,b):\n",
    "    return a>b\n",
    "\n",
    "#Taking User Input\n",
    "num1 = int(input(\"Enter the Num 1: \"))\n",
    "num2 = int(input(\"Enter the Num 2: \"))\n",
    "\n",
    "#Calling FUnction\n",
    "result = check(num1 ,num2)\n",
    "\n",
    "#Displaying Result\n",
    "if result:\n",
    "    print(\"Num 1 is Maximum\")\n",
    "else:\n",
    "    print(\"Num 2 is Maximum\")\n"
   ]
  },
  {
   "cell_type": "markdown",
   "id": "a323dabb-f18b-4471-a9b3-ccaa54a16f41",
   "metadata": {},
   "source": [
    "#### 4. Develop a program that calculates the grade of a student based on their exam score."
   ]
  },
  {
   "cell_type": "code",
   "execution_count": 2,
   "id": "a783b830-4bc0-4fd9-a158-35bfa96a3bef",
   "metadata": {},
   "outputs": [
    {
     "name": "stdin",
     "output_type": "stream",
     "text": [
      "Enter the percentage:  85\n"
     ]
    },
    {
     "name": "stdout",
     "output_type": "stream",
     "text": [
      "Grade :  A\n"
     ]
    }
   ],
   "source": [
    "#function to calculate grade based on score\n",
    "def grade(grade):\n",
    "    if grade >=90:\n",
    "        return \"A+\"\n",
    "    elif grade >=80:\n",
    "        return \"A\"\n",
    "    elif grade >= 70:\n",
    "        return \"B\"\n",
    "    elif grade >= 60:\n",
    "        return \"C\"\n",
    "    elif grade >= 50:\n",
    "        return \"D\"\n",
    "    elif grade >= 40:\n",
    "        return \"E\"\n",
    "    else:\n",
    "        return \"F\"\n",
    "\n",
    "\n",
    "#Taking User Input\n",
    "n = int(input(\"Enter the percentage: \"))\n",
    "\n",
    "#Calling FUnction\n",
    "result = grade(n)\n",
    "\n",
    "#Displaying Result\n",
    "print(\"Grade : \",result)\n",
    "    "
   ]
  },
  {
   "cell_type": "markdown",
   "id": "d1137ad9-a2ca-497b-bd7e-1335f3ddccaa",
   "metadata": {},
   "source": [
    "#### 5. Create a program that checks if a year is a leap year or not."
   ]
  },
  {
   "cell_type": "code",
   "execution_count": 3,
   "id": "506b2508-f99e-46ea-800b-171f1be4a407",
   "metadata": {},
   "outputs": [
    {
     "name": "stdin",
     "output_type": "stream",
     "text": [
      "Enter the year:  2024\n"
     ]
    },
    {
     "name": "stdout",
     "output_type": "stream",
     "text": [
      "2024 is a leap year\n"
     ]
    }
   ],
   "source": [
    "#function to classify a given year as leap year or not \n",
    "def leap(year):\n",
    "    if year % 4 == 0:\n",
    "        if year%100 == 0:\n",
    "            return year%400 == 0\n",
    "        return True\n",
    "    return False\n",
    "\n",
    "#Taking User Input\n",
    "year = int(input(\"Enter the year: \"))\n",
    "\n",
    "#Calling FUnction\n",
    "result = leap(year)\n",
    "\n",
    "#Displaying Result\n",
    "if result:\n",
    "    print(f\"{year} is a leap year\")\n",
    "else:\n",
    "    print(f\"{year} is not a leap year\")\n"
   ]
  },
  {
   "cell_type": "markdown",
   "id": "9a7cfdb0-885f-41a8-8040-1aa2044d1bfc",
   "metadata": {},
   "source": [
    "#### 6. Write a program to classify a triangle based on its sides' lengths."
   ]
  },
  {
   "cell_type": "code",
   "execution_count": 1,
   "id": "ee3e330e-9890-4232-aa4f-632514658451",
   "metadata": {},
   "outputs": [
    {
     "name": "stdin",
     "output_type": "stream",
     "text": [
      "Enter the a:  6\n",
      "Enter the b:  6\n",
      "Enter the c:  8\n"
     ]
    },
    {
     "name": "stdout",
     "output_type": "stream",
     "text": [
      "given triangle is isoceles\n"
     ]
    }
   ],
   "source": [
    "#Function classify trtiangle based on length\n",
    "def find(a,b,c):\n",
    "    if a+b > c and b+c>a and a+c > b:\n",
    "        if a == b ==b ==c:\n",
    "            return \"Equilateral\"\n",
    "        elif a==b or a==c or b==c:\n",
    "            return \"isoceles\"\n",
    "        elif a*a +b*b == c*c:\n",
    "            return \"Right ANglesd\"\n",
    "        else:\n",
    "            return \"Scalene TRiangle\"\n",
    "    else:\n",
    "        return \"Worng Input\"\n",
    "    \n",
    "#Taking User Input\n",
    "num1 = int(input(\"Enter the a: \"))\n",
    "num2 = int(input(\"Enter the b: \"))\n",
    "num3 = int(input(\"Enter the c: \"))\n",
    "\n",
    "#Calling FUnction\n",
    "result = find(num1,num2,num3)\n",
    "\n",
    "#Displaying Result\n",
    "print(f\"given triangle is {result}\")\n"
   ]
  },
  {
   "cell_type": "markdown",
   "id": "55be2b90-1340-46d6-941c-848c905f2b57",
   "metadata": {},
   "source": [
    "#### 7. Build a program that determines the largest of three given numbers."
   ]
  },
  {
   "cell_type": "code",
   "execution_count": 6,
   "id": "d7f0388a-2c71-4eea-8e9b-5cf481aa1260",
   "metadata": {},
   "outputs": [
    {
     "name": "stdin",
     "output_type": "stream",
     "text": [
      "Enter the number 1:  2\n",
      "Enter the number 2:  3\n",
      "Enter the number 3:  4\n"
     ]
    },
    {
     "name": "stdout",
     "output_type": "stream",
     "text": [
      "4 is Max among them\n"
     ]
    }
   ],
   "source": [
    "#function to find largest of three number using if-else\n",
    "def find(a,b,c):\n",
    "    if a>b and b>c:\n",
    "        return a\n",
    "    elif b>a and a>c:\n",
    "        return b\n",
    "    else:\n",
    "        return c\n",
    "\n",
    "#Taking User Input\n",
    "num1 = int(input(\"Enter the number 1: \"))\n",
    "num2 = int(input(\"Enter the number 2: \"))\n",
    "num3 = int(input(\"Enter the number 3: \"))\n",
    "\n",
    "#Calling FUnction\n",
    "result = find(num1,num2,num3)\n",
    "\n",
    "#Displaying Result\n",
    "print(f\"{result} is Max among them\")"
   ]
  },
  {
   "cell_type": "markdown",
   "id": "c88be25f-32f3-4f41-a324-898c32d5ff93",
   "metadata": {},
   "source": [
    "#### 8. Develop a program that checks whether a character is a vowel or a consonant."
   ]
  },
  {
   "cell_type": "code",
   "execution_count": 4,
   "id": "1f5313d4-6c29-4fdf-8da3-9be05d5f2143",
   "metadata": {},
   "outputs": [
    {
     "name": "stdin",
     "output_type": "stream",
     "text": [
      "Enter the c:  I\n"
     ]
    },
    {
     "name": "stdout",
     "output_type": "stream",
     "text": [
      "I is Vowel\n"
     ]
    }
   ],
   "source": [
    "#Function to check whether a character vowel or consonent\n",
    "def check(c):\n",
    "    vowel = 'aeiou'\n",
    "    if c.lower() in vowel:\n",
    "        return \"Vowel\"\n",
    "    else:\n",
    "        return \"Consonent\"\n",
    "    \n",
    "#taking User Input\n",
    "c = input(\"Enter the c: \")\n",
    "\n",
    "#Calling FUnction\n",
    "result = check(c)\n",
    "\n",
    "#Displaying Result\n",
    "print(f\"{c} is {result}\")"
   ]
  },
  {
   "cell_type": "markdown",
   "id": "38880cfb-4aa8-4a4e-b2d5-32b84ff38d52",
   "metadata": {},
   "source": [
    "#### 9. Create a program to calculate the total cost of a shopping cart based on discounts."
   ]
  },
  {
   "cell_type": "code",
   "execution_count": 11,
   "id": "44594d65-8bbb-4eb6-92b1-48d63a8f3c95",
   "metadata": {},
   "outputs": [
    {
     "name": "stdin",
     "output_type": "stream",
     "text": [
      "Enter the Price:  10200\n"
     ]
    },
    {
     "name": "stdout",
     "output_type": "stream",
     "text": [
      "Discounted Price is 7140.0\n"
     ]
    }
   ],
   "source": [
    "#Function to calculate the discounted price based on different purchase amounts using elif statements.\n",
    "def find(price):\n",
    "    if 0 < price <= 1000:\n",
    "        return 5\n",
    "    elif 1000 < price <= 3000:\n",
    "        return 10\n",
    "    elif 3000 < price <= 5000:\n",
    "        return 15\n",
    "    elif 5000 < price <= 10000:\n",
    "        return 25\n",
    "    else:\n",
    "        return 30\n",
    "\n",
    "#Taking User Input\n",
    "n = int(input(\"Enter the Price: \"))\n",
    "\n",
    "#Calling FUnction\n",
    "result = n - (n * (find(n)/100))\n",
    "\n",
    "#Displaying Result\n",
    "print(f\"Discounted Price is {result}\")\n"
   ]
  },
  {
   "cell_type": "markdown",
   "id": "4dcdc132-37e8-4575-9471-3b0d558ffe07",
   "metadata": {},
   "source": [
    "#### 10. Write a program that checks if a given number is even or odd."
   ]
  },
  {
   "cell_type": "code",
   "execution_count": 7,
   "id": "5f1697f1-aaff-4568-95db-024be439f9b1",
   "metadata": {},
   "outputs": [
    {
     "name": "stdin",
     "output_type": "stream",
     "text": [
      "Enter the number:  3\n"
     ]
    },
    {
     "name": "stdout",
     "output_type": "stream",
     "text": [
      "3 is Odd\n"
     ]
    }
   ],
   "source": [
    "#Function to check number is even or odd\n",
    "def check(num):\n",
    "    return n%2 == 0 \n",
    "\n",
    "#Taking User Input\n",
    "n = int(input(\"Enter the number: \"))\n",
    "\n",
    "#Calling FUnction\n",
    "result = check(n)\n",
    "\n",
    "#Displaying Result\n",
    "if result:\n",
    "    print(f\"{n} is Even\")\n",
    "else:\n",
    "    print(f\"{n} is Odd\")\n",
    "\n"
   ]
  },
  {
   "cell_type": "markdown",
   "id": "e0240ff3-fe21-4cd1-95eb-6ce4e8a172e0",
   "metadata": {},
   "source": [
    "<h1>Intermediate Level:"
   ]
  },
  {
   "cell_type": "markdown",
   "id": "d3da7cb7-34d8-46a4-a422-446044b49a28",
   "metadata": {},
   "source": [
    "#### 11. Write a program that calculates the roots of a quadratic equation ."
   ]
  },
  {
   "cell_type": "code",
   "execution_count": 13,
   "id": "4283c59d-ed8e-4782-b8be-1f18eef2b3da",
   "metadata": {},
   "outputs": [
    {
     "name": "stdin",
     "output_type": "stream",
     "text": [
      "Enter the a:  2\n",
      "Enter the b:  5\n",
      "Enter the c:  3\n"
     ]
    },
    {
     "name": "stdout",
     "output_type": "stream",
     "text": [
      "Roots are: (-1.0, -1.5)\n"
     ]
    }
   ],
   "source": [
    "import math\n",
    "#Function to calculate roots of quadratic equation\n",
    "def find(a,b,c):\n",
    "    if a == 0:\n",
    "        return \"Wrong input\"\n",
    "    else:\n",
    "        D = (b*b) - (4*a*c)\n",
    "        \n",
    "        if D == 0:\n",
    "            return (-b / (2*a))\n",
    "        elif D> 0:\n",
    "            return ((-b + math.sqrt(D))/(2*a)), ((-b - math.sqrt(D))/(2*a))\n",
    "        else:\n",
    "            return (-b/(2*a)) + ((math.sqrt(abs(D))/(2*a))*1j) , (-b/(2*a)) - ((math.sqrt(abs(D))/(2*a))*1j)\n",
    "                                              \n",
    "#Taking User Input\n",
    "num1 = int(input(\"Enter the a: \"))\n",
    "num2 = int(input(\"Enter the b: \"))\n",
    "num3 = int(input(\"Enter the c: \"))\n",
    "\n",
    "#Calling FUnction\n",
    "result = find(num1,num2,num3)\n",
    "\n",
    "#Displaying Result\n",
    "print(f\"Roots are: {result}\")"
   ]
  },
  {
   "cell_type": "markdown",
   "id": "a3a8ae07-07fa-4a1a-bf62-f7592639288c",
   "metadata": {},
   "source": [
    "#### 12. Create a program that determines the day of the week based on the day number (1-7)."
   ]
  },
  {
   "cell_type": "code",
   "execution_count": 1,
   "id": "1f790be6-bedf-41e7-9496-c5fa2c7859da",
   "metadata": {},
   "outputs": [
    {
     "name": "stdin",
     "output_type": "stream",
     "text": [
      "Enter the day:  5\n"
     ]
    },
    {
     "name": "stdout",
     "output_type": "stream",
     "text": [
      "5 is Friday\n"
     ]
    }
   ],
   "source": [
    "#Function to Create a program that determines the day of the week based on the day number (1-7).\n",
    "def  find(n):\n",
    "    if n == 1 :\n",
    "        return \"Monday\"\n",
    "    elif n==2:\n",
    "        return \"Tuesday\"\n",
    "    elif n==3:\n",
    "        return \"Wednesday\"\n",
    "    elif n==4:\n",
    "        return \"Thrusday\"\n",
    "    elif n==5:\n",
    "        return \"Friday\"\n",
    "    elif n==6:\n",
    "        return \"Saturday\"\n",
    "    elif n==7:\n",
    "        return \"Sunday\"\n",
    "    else:\n",
    "        \"Worng Input\"\n",
    "        \n",
    "#taking User Input\n",
    "c = int(input(\"Enter the day: \"))\n",
    "\n",
    "#Calling FUnction\n",
    "result = find(c)\n",
    "\n",
    "#Displaying Result\n",
    "print(f\"{c} is {result}\")"
   ]
  },
  {
   "cell_type": "markdown",
   "id": "a99d1062-eccc-41cb-a6a8-b24576e71377",
   "metadata": {},
   "source": [
    "#### 13. Develop a program that calculates the factorial of a given number using recursion."
   ]
  },
  {
   "cell_type": "code",
   "execution_count": 5,
   "id": "b66342f4-09e6-4761-bc15-35ca37f8d7f6",
   "metadata": {},
   "outputs": [
    {
     "name": "stdin",
     "output_type": "stream",
     "text": [
      "Enter the Number:  4\n"
     ]
    },
    {
     "name": "stdout",
     "output_type": "stream",
     "text": [
      "Factorial of 4 is 24\n"
     ]
    }
   ],
   "source": [
    "#FUnction to calculate factorial using recursion\n",
    "def find(n):\n",
    "    if n==0 or n==1:\n",
    "        return 1\n",
    "    else:\n",
    "        return n*find(n-1)\n",
    "\n",
    "#taking User Input\n",
    "n = int(input(\"Enter the Number: \"))\n",
    "\n",
    "#Calling FUnction\n",
    "result = find(n)\n",
    "\n",
    "#Displaying Result\n",
    "print(f\"Factorial of {n} is {result}\")\n"
   ]
  },
  {
   "cell_type": "markdown",
   "id": "6fa81cf0-44f9-48a7-bee3-6bfa49449eb7",
   "metadata": {},
   "source": [
    "#### 14. Write a program to find the largest among three numbers without using the `max()` function."
   ]
  },
  {
   "cell_type": "code",
   "execution_count": 6,
   "id": "7bbeef3d-d685-49b8-b47b-7efa1f2bee49",
   "metadata": {},
   "outputs": [
    {
     "name": "stdin",
     "output_type": "stream",
     "text": [
      "Enter the number 1:  1\n",
      "Enter the number 2:  2\n",
      "Enter the number 3:  3\n"
     ]
    },
    {
     "name": "stdout",
     "output_type": "stream",
     "text": [
      "3 is Max among them\n"
     ]
    }
   ],
   "source": [
    "#Function to find largest among three without using max()\n",
    "def find(a,b,c):\n",
    "    if a>b and b>c:\n",
    "        return a\n",
    "    elif b>a and a>c:\n",
    "        return b\n",
    "    else:\n",
    "        return c\n",
    "    \n",
    "#Taking User Input\n",
    "num1 = int(input(\"Enter the number 1: \"))\n",
    "num2 = int(input(\"Enter the number 2: \"))\n",
    "num3 = int(input(\"Enter the number 3: \"))\n",
    "\n",
    "#Calling FUnction\n",
    "result = find(num1,num2,num3)\n",
    "\n",
    "#Displaying Result\n",
    "print(f\"{result} is Max among them\")"
   ]
  },
  {
   "cell_type": "markdown",
   "id": "cb2cf109-033b-4242-84f4-9998380527c8",
   "metadata": {},
   "source": [
    "#### 15. Create a program that simulates a basic ATM transaction menu."
   ]
  },
  {
   "cell_type": "code",
   "execution_count": 7,
   "id": "4df38891-4b3c-4ec9-87bb-62a7d8b8cb3e",
   "metadata": {},
   "outputs": [
    {
     "name": "stdout",
     "output_type": "stream",
     "text": [
      "\n",
      "ATM Menu:\n",
      "1. Check Balance\n",
      "2. Deposit\n",
      "3. Withdraw\n",
      "4. Exit\n"
     ]
    },
    {
     "name": "stdin",
     "output_type": "stream",
     "text": [
      "Enter your choice (1-4):  2\n",
      "Enter the deposit amount: $ 5000\n"
     ]
    },
    {
     "name": "stdout",
     "output_type": "stream",
     "text": [
      "Deposited $5000.0. Your new balance is $6000.0\n",
      "\n",
      "ATM Menu:\n",
      "1. Check Balance\n",
      "2. Deposit\n",
      "3. Withdraw\n",
      "4. Exit\n"
     ]
    },
    {
     "name": "stdin",
     "output_type": "stream",
     "text": [
      "Enter your choice (1-4):  4\n"
     ]
    },
    {
     "name": "stdout",
     "output_type": "stream",
     "text": [
      "Exiting ATM. Thank you!\n"
     ]
    }
   ],
   "source": [
    "balance = 1000  # Initial balance\n",
    "\n",
    "def displayBalance():\n",
    "    print(f\"Your balance is ${balance}\")\n",
    "\n",
    "def deposit(amount):\n",
    "    global balance\n",
    "    balance += amount\n",
    "    print(f\"Deposited ${amount}. Your new balance is ${balance}\")\n",
    "\n",
    "def withdraw(amount):\n",
    "    global balance\n",
    "    if amount > balance:\n",
    "        print(\"Insufficient funds. Withdrawal canceled.\")\n",
    "    else:\n",
    "        balance -= amount\n",
    "        print(f\"Withdrew ${amount}. Your new balance is ${balance}\")\n",
    "\n",
    "def main():\n",
    "    while True:\n",
    "        # Display menu options\n",
    "        print(\"\\nATM Menu:\")\n",
    "        print(\"1. Check Balance\")\n",
    "        print(\"2. Deposit\")\n",
    "        print(\"3. Withdraw\")\n",
    "        print(\"4. Exit\")\n",
    "\n",
    "        # Get user choice\n",
    "        choice = input(\"Enter your choice (1-4): \")\n",
    "\n",
    "        if choice == \"1\":\n",
    "            display_balance()\n",
    "        elif choice == \"2\":\n",
    "            amount = float(input(\"Enter the deposit amount: $\"))\n",
    "            deposit(amount)\n",
    "        elif choice == \"3\":\n",
    "            amount = float(input(\"Enter the withdrawal amount: $\"))\n",
    "            withdraw(amount)\n",
    "        elif choice == \"4\":\n",
    "            print(\"Exiting ATM. Thank you!\")\n",
    "            break\n",
    "        else:\n",
    "            print(\"Invalid choice. Please enter a number from 1 to 4.\")\n",
    "\n",
    "if __name__ == \"__main__\":\n",
    "    main()\n"
   ]
  },
  {
   "cell_type": "markdown",
   "id": "81ba538d-9700-4574-a55a-daea654e32fd",
   "metadata": {},
   "source": [
    "#### 16. Build a program that checks if a given string is a palindrome or not."
   ]
  },
  {
   "cell_type": "code",
   "execution_count": 10,
   "id": "1e9182e7-be14-49c2-8679-9c8962b29440",
   "metadata": {},
   "outputs": [
    {
     "name": "stdin",
     "output_type": "stream",
     "text": [
      "Enter the string:  Nitin\n"
     ]
    },
    {
     "name": "stdout",
     "output_type": "stream",
     "text": [
      "Nitin is palindrome\n"
     ]
    }
   ],
   "source": [
    "#Function to checks if a given string is a palindrome or not.\n",
    "def check(s):\n",
    "    return s.lower() == s[::-1].lower()\n",
    "\n",
    "s = input(\"Enter the string: \")\n",
    "\n",
    "result = check(s)\n",
    "\n",
    "if result:\n",
    "    print(f\"{s} is palindrome\")\n",
    "else:\n",
    "    print(f\"{s} is not palindrom\")"
   ]
  },
  {
   "cell_type": "markdown",
   "id": "0fe86f7b-78e1-4e49-a09e-d4d96b56ac6b",
   "metadata": {},
   "source": [
    "#### 17. Write a program that calculates the average of a list of numbers, excluding the smallest and largest values."
   ]
  },
  {
   "cell_type": "code",
   "execution_count": 9,
   "id": "a0a03de4-8ef1-4264-b6dd-f6d43c0fb2ab",
   "metadata": {},
   "outputs": [
    {
     "name": "stdout",
     "output_type": "stream",
     "text": [
      "3.0\n"
     ]
    }
   ],
   "source": [
    "#Functioon to calculate average exclude smallest and largest\n",
    "def find(lst):\n",
    "    maxNum = max(lst)\n",
    "    minNum = min(lst)\n",
    "    lst.remove(maxNum)\n",
    "    lst.remove(minNum)\n",
    "    return sum(lst)/len(lst)\n",
    "\n",
    "lst = [1,2,3,4,5]\n",
    "\n",
    "result = find(lst)\n",
    "\n",
    "print(result)"
   ]
  },
  {
   "cell_type": "markdown",
   "id": "b380d748-3a4b-4602-9662-583adb53715f",
   "metadata": {},
   "source": [
    "#### 18. Develop a program that converts a given temperature from Celsius to Fahrenheit."
   ]
  },
  {
   "cell_type": "code",
   "execution_count": 13,
   "id": "8c10bf18-5bdd-41dd-8f5b-1ccc503f15b9",
   "metadata": {},
   "outputs": [
    {
     "name": "stdin",
     "output_type": "stream",
     "text": [
      "Enter temprature in celsius:  37\n"
     ]
    },
    {
     "name": "stdout",
     "output_type": "stream",
     "text": [
      "37 in celsius is: 98.6\n"
     ]
    }
   ],
   "source": [
    "#Function to convert to celsisus to farhrenheit\n",
    "def find(c):\n",
    "    return round((9/5)*c+32,2)\n",
    "\n",
    "f = int(input(\"Enter temprature in celsius: \"))\n",
    "\n",
    "result = find(f)\n",
    "\n",
    "print(f\"{f} in celsius is: {result}\")"
   ]
  },
  {
   "cell_type": "markdown",
   "id": "d236006a-11bc-4f3c-b522-6fd467bb9eb6",
   "metadata": {},
   "source": [
    "#### 19. Create a program that simulates a basic calculator for addition, subtraction, multiplication, and division."
   ]
  },
  {
   "cell_type": "code",
   "execution_count": 19,
   "id": "27d54b56-0676-4fbd-a59c-3b3738337eb1",
   "metadata": {},
   "outputs": [
    {
     "name": "stdin",
     "output_type": "stream",
     "text": [
      "Enter the number 1:  2\n",
      "Enter the number 2:  4\n",
      "Enter the Operation (++,-,*,/):  *\n"
     ]
    },
    {
     "name": "stdout",
     "output_type": "stream",
     "text": [
      "\n",
      " 2 * 4 is: 8 \n"
     ]
    }
   ],
   "source": [
    "#Function to simulates a basic calculator for addition, subtraction, multiplication, and division.\n",
    "def find(a,b,o):\n",
    "    if o == '+':\n",
    "        return a+b\n",
    "    elif o == '-':\n",
    "        return a-b\n",
    "    elif o == '*':\n",
    "        return a*b\n",
    "    elif o == '/':\n",
    "        if b != 0:\n",
    "            return a/b\n",
    "        else:\n",
    "            return \"Denominator should not be Zero\"\n",
    "    else:\n",
    "        return \"Wrong input\"\n",
    "    \n",
    "#Taking User Input\n",
    "num1 = int(input(\"Enter the number 1: \"))\n",
    "num2 = int(input(\"Enter the number 2: \"))\n",
    "num3 = input(\"Enter the Operation (++,-,*,/): \")\n",
    "\n",
    "#Calling FUnction\n",
    "result = find(num1,num2,num3)\n",
    "\n",
    "#Displaying Result\n",
    "print('\\n',f\"{num1} {num3} {num2} is: {result} \")"
   ]
  },
  {
   "cell_type": "markdown",
   "id": "a6f54eba-d365-4f04-b936-0d8ddce59f00",
   "metadata": {},
   "source": [
    "#### 20. Write a program that determines the roots of a cubic equation using the Cardano formula."
   ]
  },
  {
   "cell_type": "code",
   "execution_count": 23,
   "id": "15832d35-c989-4f8b-b237-8afef71f03fb",
   "metadata": {},
   "outputs": [
    {
     "name": "stdin",
     "output_type": "stream",
     "text": [
      "Enter the coefficient a:  1\n",
      "Enter the coefficient b:  2\n",
      "Enter the coefficient c:  3\n",
      "Enter the coefficient d:  4\n"
     ]
    },
    {
     "name": "stdout",
     "output_type": "stream",
     "text": [
      "\n",
      "Cubic Roots:\n",
      "Root 1: (-1.715-1.56j)\n",
      "Root 2: (1.43+0j)\n",
      "Root 3: (-1.715+1.56j)\n"
     ]
    }
   ],
   "source": [
    "import cmath\n",
    "\n",
    "# Function to find root of cubic equation using Cardano formula\n",
    "def find(a, b, c, d):\n",
    "    # Calculate discriminant and its cube root\n",
    "    D = (18 * a * b * c * d) - (4 * b**3 * d) + (b**2 * c**2) - (4 * a * c**3) - (27 * a**2 * d**2)\n",
    "    delta_cubed_root = D ** (1/3)\n",
    "\n",
    "    # Calculate intermediate values\n",
    "    p = (3 * a * c - b**2) / (3 * a)\n",
    "    q = (2 * b**3 - 9 * a * b * c + 27 * a**2 * d) / (27 * a**2)\n",
    "\n",
    "    # Calculate roots using Cardano's formula\n",
    "    root1 = -1 / (3 * a) * (b + delta_cubed_root + q / delta_cubed_root)\n",
    "    omega = cmath.exp(2j * cmath.pi / 3)  # Complex cube root of unity\n",
    "    root2 = -1 / (3 * a) * (b + omega * delta_cubed_root + omega**2 * q / delta_cubed_root)\n",
    "    root3 = -1 / (3 * a) * (b + omega**2 * delta_cubed_root + omega * q / delta_cubed_root)\n",
    "\n",
    "    return root1, root2, root3\n",
    "\n",
    "# Taking coefficients as input\n",
    "a = float(input(\"Enter the coefficient a: \"))\n",
    "b = float(input(\"Enter the coefficient b: \"))\n",
    "c = float(input(\"Enter the coefficient c: \"))\n",
    "d = float(input(\"Enter the coefficient d: \"))\n",
    "\n",
    "# Taking USer Input\n",
    "roots = find(a, b, c, d)\n",
    "\n",
    "# Display roots\n",
    "print(\"\\nCubic Roots:\")\n",
    "for i, root in enumerate(roots, start=1):\n",
    "    rounded_root = round(root.real, 3) + round(root.imag, 3) * 1j\n",
    "    print(f\"Root {i}: {rounded_root}\")\n"
   ]
  },
  {
   "cell_type": "markdown",
   "id": "350e6286-7a74-4952-82ee-f4adf305ef6c",
   "metadata": {},
   "source": [
    "<h1>Advanced Level:"
   ]
  },
  {
   "cell_type": "markdown",
   "id": "4a37d3da-67e1-4602-afcb-d1771ace7323",
   "metadata": {},
   "source": [
    "#### 21. Create a program that calculates the income tax based on the user's income and tax brackets."
   ]
  },
  {
   "cell_type": "code",
   "execution_count": 29,
   "id": "5cbba9e1-1f71-4f92-9159-cb1957401bf8",
   "metadata": {},
   "outputs": [
    {
     "name": "stdin",
     "output_type": "stream",
     "text": [
      "Enter Your Income:  340000\n"
     ]
    },
    {
     "name": "stdout",
     "output_type": "stream",
     "text": [
      "Income Tax to pay: 2000.0\n"
     ]
    }
   ],
   "source": [
    "#Function to calculates the income tax based on the user's income and tax brackets.\n",
    "def find(income):\n",
    "    if income <= 300000:\n",
    "        return 0\n",
    "    elif 300000 < income <= 600000:\n",
    "        return 0.05 * (income - 300000)\n",
    "    elif 600000 < income <= 900000:\n",
    "        return 0.1 * (income - 600000) + find(600000)\n",
    "    elif 900000 < income <= 1200000:\n",
    "        return 0.15 * (income - 900000) + find(900000)\n",
    "    elif 1200000 < income <= 1500000:\n",
    "        return 0.2 * (income - 1200000) + find(1200000)\n",
    "    else:\n",
    "        return 0.3 * (income - 1500000) + find(1500000)\n",
    "\n",
    "    \n",
    "income = int(input(\"Enter Your Income: \"))\n",
    "\n",
    "result = find(income)\n",
    "\n",
    "if result == 0:\n",
    "    print(\"You don't have to pay income tax.\")\n",
    "else:\n",
    "    print(f\"Income Tax to pay: {result}\")\n",
    "    "
   ]
  },
  {
   "cell_type": "markdown",
   "id": "86e77e1f-f350-44be-88f9-67c4d348acc0",
   "metadata": {},
   "source": [
    "####  22. Write a program that simulates a rock-paper-scissors game against the computer."
   ]
  },
  {
   "cell_type": "code",
   "execution_count": 8,
   "id": "a8afd9ee-47cf-48d1-a796-4a373ce08cb8",
   "metadata": {},
   "outputs": [
    {
     "name": "stdout",
     "output_type": "stream",
     "text": [
      "\n",
      "Welcome to the Rock-Paper-Scissors Game\n"
     ]
    },
    {
     "name": "stdin",
     "output_type": "stream",
     "text": [
      "Enter your choice (Rock, Paper, Scissor), or 'exit' to quit:  rock\n"
     ]
    },
    {
     "name": "stdout",
     "output_type": "stream",
     "text": [
      "\n",
      "Your Choice: Rock\n",
      "Computer Choice: Rock\n",
      "It's a Tie!\n",
      "\n",
      "Welcome to the Rock-Paper-Scissors Game\n"
     ]
    },
    {
     "name": "stdin",
     "output_type": "stream",
     "text": [
      "Enter your choice (Rock, Paper, Scissor), or 'exit' to quit:  exit\n"
     ]
    },
    {
     "name": "stdout",
     "output_type": "stream",
     "text": [
      "Exiting the game. Goodbye!\n"
     ]
    }
   ],
   "source": [
    "import random\n",
    "\n",
    "def play(userChoice, computerChoice):\n",
    "    if userChoice == \"Rock\":\n",
    "        if computerChoice == \"Scissor\":\n",
    "            return 1\n",
    "        elif computerChoice == \"Rock\":\n",
    "            return 0\n",
    "        else:\n",
    "            return -1\n",
    "    elif userChoice == \"Paper\":\n",
    "        if computerChoice == \"Scissor\":\n",
    "            return 1\n",
    "        elif computerChoice == \"Paper\":\n",
    "            return 0\n",
    "        else:\n",
    "            return -1\n",
    "    else:\n",
    "        if computerChoice == \"Rock\":\n",
    "            return 1\n",
    "        elif computerChoice == \"Scissor\":\n",
    "            return 0\n",
    "        else:\n",
    "            return -1\n",
    "\n",
    "def main():\n",
    "    choices = [\"Rock\", \"Paper\", \"Scissor\"]\n",
    "\n",
    "    while True:\n",
    "        print(\"\\nWelcome to the Rock-Paper-Scissors Game\")\n",
    "        userChoice = input(\"Enter your choice (Rock, Paper, Scissor), or 'exit' to quit: \").capitalize()\n",
    "\n",
    "        if userChoice.lower() == 'exit':\n",
    "            print(\"Exiting the game. Goodbye!\")\n",
    "            break\n",
    "\n",
    "        if userChoice not in choices:\n",
    "            print(\"Invalid choice. Please choose Rock, Paper, or Scissor.\")\n",
    "            continue\n",
    "\n",
    "        computerChoice = random.choice(choices)\n",
    "        result = play(userChoice, computerChoice)\n",
    "        print()\n",
    "        print(f\"Your Choice: {userChoice}\")\n",
    "        print(f\"Computer Choice: {computerChoice}\")\n",
    "\n",
    "        if result == 1:\n",
    "            print(\"Hip Hip Hurray! You WON!\")\n",
    "        elif result == 0:\n",
    "            print(\"It's a Tie!\")\n",
    "        else:\n",
    "            print(\"Better luck next time. Try Again!\")\n",
    "\n",
    "if __name__ == \"__main__\":\n",
    "    main()\n"
   ]
  },
  {
   "cell_type": "markdown",
   "id": "8e0b1716-990f-4e0d-b2b5-f104cecf0b59",
   "metadata": {},
   "source": [
    "#### 23. Develop a program that generates a random password based on user preferences (length, complexity)."
   ]
  },
  {
   "cell_type": "code",
   "execution_count": 19,
   "id": "54f5afc0-2e35-4af5-b083-8d131692b6cf",
   "metadata": {},
   "outputs": [
    {
     "name": "stdout",
     "output_type": "stream",
     "text": [
      "Password Generator\n"
     ]
    },
    {
     "name": "stdin",
     "output_type": "stream",
     "text": [
      "Enter the length of the password:  10\n",
      "Include uppercase letters? (yes/no):  yes\n",
      "Include lowercase letters? (yes/no):  no\n",
      "Include digits? (yes/no):  yes\n",
      "Include special characters? (yes/no):  no\n"
     ]
    },
    {
     "name": "stdout",
     "output_type": "stream",
     "text": [
      "\n",
      "Generated Password: QU1NVHY71X\n"
     ]
    }
   ],
   "source": [
    "import random\n",
    "import string\n",
    "#Function to generates a random password based on user preferences (length, complexity).\n",
    "def pasw(length, uc =True,lc=True,digit=True,sc=True):\n",
    "    passw = ''\n",
    "    if uc:\n",
    "        passw = passw+string.ascii_uppercase\n",
    "    if lc:\n",
    "        passw = passw+string.ascii_lowercase\n",
    "    if digit:\n",
    "        passw = passw+string.digits\n",
    "    if sc:\n",
    "        passw = passw+string.punctuation\n",
    "    \n",
    "    return ''.join(random.choice(passw) for _ in range(length))\n",
    "\n",
    "\n",
    "print(\"Password Generator\")\n",
    "#taking User Input\n",
    "length = int(input(\"Enter the length of the password: \"))\n",
    "uppercase = input(\"Include uppercase letters? (yes/no): \").lower() == 'yes'\n",
    "lowercase = input(\"Include lowercase letters? (yes/no): \").lower() == 'yes'\n",
    "digits = input(\"Include digits? (yes/no): \").lower() == 'yes'\n",
    "special_characters = input(\"Include special characters? (yes/no): \").lower() == 'yes'\n",
    "password = pasw(length, uppercase, lowercase, digits, special_characters)\n",
    "\n",
    "if password:\n",
    "        print(f\"\\nGenerated Password: {password}\")"
   ]
  },
  {
   "cell_type": "markdown",
   "id": "db42e771-98d9-484b-b6e7-3f0a1b5fd4c2",
   "metadata": {},
   "source": [
    "#### 24. Create a program that implements a simple text-based adventure game with branching scenarios."
   ]
  },
  {
   "cell_type": "code",
   "execution_count": 28,
   "id": "118604ca-ab1c-4ed6-92f4-972455a7c8f9",
   "metadata": {},
   "outputs": [
    {
     "name": "stdout",
     "output_type": "stream",
     "text": [
      "Welcome to the Island Adventure!\n",
      "You find yourself on a mysterious island.\n",
      "Your goal is to explore and make choices that will shape your adventure.\n",
      "Let's see where your decisions take you!\n",
      "\n",
      "You start exploring the island.\n",
      "As you walk through the dense jungle, you encounter a fork in the path.\n",
      "Choose your option:\n",
      "1. Take the left path.\n",
      "2. Take the right path.\n"
     ]
    },
    {
     "name": "stdin",
     "output_type": "stream",
     "text": [
      "Enter the number of your choice:  2\n"
     ]
    },
    {
     "name": "stdout",
     "output_type": "stream",
     "text": [
      "\n",
      "You take the right path and encounter a group of friendly monkeys.\n",
      "Do you want to interact with the monkeys?\n",
      "Choose your option:\n",
      "1. Yes, play with the monkeys.\n",
      "2. No, continue exploring.\n"
     ]
    },
    {
     "name": "stdin",
     "output_type": "stream",
     "text": [
      "Enter the number of your choice:  1\n"
     ]
    },
    {
     "name": "stdout",
     "output_type": "stream",
     "text": [
      "\n",
      "You spend some time playing with the monkeys.\n"
     ]
    }
   ],
   "source": [
    "import time\n",
    "\n",
    "def introduction():\n",
    "    print(\"Welcome to the Island Adventure!\")\n",
    "    print(\"You find yourself on a mysterious island.\")\n",
    "    print(\"Your goal is to explore and make choices that will shape your adventure.\")\n",
    "    print(\"Let's see where your decisions take you!\")\n",
    "\n",
    "def choose_option(options):\n",
    "    print(\"Choose your option:\")\n",
    "    for i, option in enumerate(options, 1):\n",
    "        print(f\"{i}. {option}\")\n",
    "\n",
    "    while True:\n",
    "            choice = int(input(\"Enter the number of your choice: \"))\n",
    "            if 1 <= choice <= len(options):\n",
    "                return choice\n",
    "            else:\n",
    "                print(\"Invalid choice. Please enter a valid number.\")\n",
    "def explore_island():\n",
    "    print(\"\\nYou start exploring the island.\")\n",
    "    print(\"As you walk through the dense jungle, you encounter a fork in the path.\")\n",
    "\n",
    "    options = [\"Take the left path.\", \"Take the right path.\"]\n",
    "    choice = choose_option(options)\n",
    "\n",
    "    if choice == 1:\n",
    "        print(\"\\nYou take the left path and discover a hidden waterfall.\")\n",
    "        print(\"Do you want to swim in the refreshing water?\")\n",
    "        options = [\"Yes, take a swim.\", \"No, continue exploring.\"]\n",
    "        choice = choose_option(options)\n",
    "\n",
    "        if choice == 1:\n",
    "            print(\"\\nYou enjoy a refreshing swim in the waterfall.\")\n",
    "        else:\n",
    "            print(\"\\nYou continue exploring the island.\")\n",
    "\n",
    "    else:\n",
    "        print(\"\\nYou take the right path and encounter a group of friendly monkeys.\")\n",
    "        print(\"Do you want to interact with the monkeys?\")\n",
    "        options = [\"Yes, play with the monkeys.\", \"No, continue exploring.\"]\n",
    "        choice = choose_option(options)\n",
    "\n",
    "        if choice == 1:\n",
    "            print(\"\\nYou spend some time playing with the monkeys.\")\n",
    "        else:\n",
    "            print(\"\\nYou continue exploring the island.\")\n",
    "\n",
    "def main():\n",
    "    introduction()\n",
    "    explore_island()\n",
    "\n",
    "if __name__ == \"__main__\":\n",
    "    main()\n"
   ]
  },
  {
   "cell_type": "markdown",
   "id": "a2c9ad15-d667-442d-a093-62bc022b287d",
   "metadata": {},
   "source": [
    "#### 25. Build a program that solves a linear equation  for x, considering different cases."
   ]
  },
  {
   "cell_type": "code",
   "execution_count": 51,
   "id": "f5b5b397-64cf-41b7-8537-f4a45f6a7e69",
   "metadata": {},
   "outputs": [
    {
     "name": "stdout",
     "output_type": "stream",
     "text": [
      "Linear Equation Solver: ax + b = 0\n"
     ]
    },
    {
     "name": "stdin",
     "output_type": "stream",
     "text": [
      "Enter the value of 'a':  1\n",
      "Enter the value of 'b':  2\n"
     ]
    },
    {
     "name": "stdout",
     "output_type": "stream",
     "text": [
      "The solution for the linear equation 1.0x + 2.0 = 0 is x = -2.0.\n"
     ]
    }
   ],
   "source": [
    "#Function to that solves a linear equation for x, considering different cases.\n",
    "def solve(a, b):\n",
    "    if a == 0:\n",
    "        if b == 0:\n",
    "            print(\"Infinite solutions\")\n",
    "        else:\n",
    "            print(\"No solution\")\n",
    "    else:\n",
    "        x = (-b) / a\n",
    "        print(f\"The solution for the linear equation {a}x + {b} = 0 is x = {x}.\")\n",
    "\n",
    "#taking user input\n",
    "print(\"Linear Equation Solver: ax + b = 0\")\n",
    "a = float(input(\"Enter the value of 'a': \"))\n",
    "b = float(input(\"Enter the value of 'b': \"))\n",
    "\n",
    "#calling function\n",
    "solve(a, b)"
   ]
  },
  {
   "cell_type": "markdown",
   "id": "66722dc0-1d87-4d85-b76b-524c871be546",
   "metadata": {},
   "source": [
    "#### 26. Write a program that simulates a basic quiz game with multiple-choice questions and scoring."
   ]
  },
  {
   "cell_type": "code",
   "execution_count": 5,
   "id": "ea302c1e-3619-4906-8eeb-363733df6962",
   "metadata": {},
   "outputs": [
    {
     "name": "stdout",
     "output_type": "stream",
     "text": [
      "Welcome to the Python Quiz!\n",
      "\n",
      "Question 1: What is the capital of Python?\n",
      "1. Monty\n",
      "2. Snake City\n",
      "3. Pythopolis\n",
      "4. Bikini Bottom\n"
     ]
    },
    {
     "name": "stdin",
     "output_type": "stream",
     "text": [
      "Enter the number of your choice:  2\n"
     ]
    },
    {
     "name": "stdout",
     "output_type": "stream",
     "text": [
      "Correct! You earned 1 point.\n",
      "\n",
      "Question 2: Which of the following is not a valid data type in Python?\n",
      "1. int\n",
      "2. char\n",
      "3. float\n",
      "4. str\n"
     ]
    },
    {
     "name": "stdin",
     "output_type": "stream",
     "text": [
      "Enter the number of your choice:  2\n"
     ]
    },
    {
     "name": "stdout",
     "output_type": "stream",
     "text": [
      "Wrong! The correct answer is 3.\n",
      "\n",
      "Question 3: What does the `len()` function do?\n",
      "1. Returns the length of a list\n",
      "2. Counts the number of elements in a tuple\n",
      "3. Calculates the logarithm of a number\n",
      "4. Converts a string to lowercase\n"
     ]
    },
    {
     "name": "stdin",
     "output_type": "stream",
     "text": [
      "Enter the number of your choice:  2\n"
     ]
    },
    {
     "name": "stdout",
     "output_type": "stream",
     "text": [
      "Wrong! The correct answer is 1.\n",
      "\n",
      "Question 4: What is the result of 2 + 3 * 4?\n",
      "1. 20\n",
      "2. 14\n",
      "3. 18\n",
      "4. 5\n"
     ]
    },
    {
     "name": "stdin",
     "output_type": "stream",
     "text": [
      "Enter the number of your choice:  2\n"
     ]
    },
    {
     "name": "stdout",
     "output_type": "stream",
     "text": [
      "Correct! You earned 1 point.\n",
      "\n",
      "Question 5: Which keyword is used for function definition in Python?\n",
      "1. define\n",
      "2. function\n",
      "3. def\n",
      "4. fun\n"
     ]
    },
    {
     "name": "stdin",
     "output_type": "stream",
     "text": [
      "Enter the number of your choice:  2\n"
     ]
    },
    {
     "name": "stdout",
     "output_type": "stream",
     "text": [
      "Wrong! The correct answer is 3.\n",
      "\n",
      "Quiz completed! Your final score is 2 out of 5.\n"
     ]
    }
   ],
   "source": [
    "def displayQuestion(qn, question, options):\n",
    "    print(f\"\\nQuestion {qn}: {question}\")\n",
    "    for i, option in enumerate(options, 1):\n",
    "        print(f\"{i}. {option}\")\n",
    "\n",
    "def get_user_choice():\n",
    "    while True:\n",
    "        choice = int(input(\"Enter the number of your choice: \"))\n",
    "        return choice\n",
    "\n",
    "def quiz():\n",
    "    questions = [\n",
    "        {\n",
    "            'question': 'What is the capital of Python?',\n",
    "            'options': ['Monty', 'Snake City', 'Pythopolis', 'Marina Trench'],\n",
    "            'correct_option': 1\n",
    "        },\n",
    "        {\n",
    "            'question': 'Which of the following is not a valid data type in Python?',\n",
    "            'options': ['int', 'char', 'float', 'str'],\n",
    "            'correct_option': 2\n",
    "        },\n",
    "        {\n",
    "            'question': 'What does the `len()` function do?',\n",
    "            'options': ['Returns the length of a list', 'Counts the number of elements in a tuple',\n",
    "                        'Calculates the logarithm of a number', 'Converts a string to lowercase'],\n",
    "            'correct_option': 0\n",
    "        },\n",
    "        {\n",
    "            'question': 'What is the result of 2 + 3 * 4?',\n",
    "            'options': ['20', '14', '18', '5'],\n",
    "            'correct_option': 1\n",
    "        },\n",
    "        {\n",
    "            'question': 'Which keyword is used for function definition in Python?',\n",
    "            'options': ['define', 'function', 'def', 'fun'],\n",
    "            'correct_option': 2\n",
    "        },\n",
    "    ]\n",
    "\n",
    "    score = 0\n",
    "\n",
    "    for i, question_data in enumerate(questions, 1):\n",
    "        displayQuestion(i, question_data['question'], question_data['options'])\n",
    "        user_choice = get_user_choice()\n",
    "\n",
    "        if user_choice == question_data['correct_option'] + 1:\n",
    "            print(\"Correct! You earned 1 point.\")\n",
    "            score += 1\n",
    "        else:\n",
    "            print(f\"Wrong! The correct answer is {question_data['correct_option'] + 1}.\")\n",
    "\n",
    "    print(f\"\\nQuiz completed! Your final score is {score} out of {len(questions)}.\")\n",
    "\n",
    "\n",
    "print(\"Welcome to the Python Quiz!\")\n",
    "quiz()"
   ]
  },
  {
   "cell_type": "markdown",
   "id": "21446553-9ae4-4fcf-9dad-2c37a9c932a4",
   "metadata": {},
   "source": [
    "#### 27. Develop a program that determines whether a given year is a prime number or not."
   ]
  },
  {
   "cell_type": "code",
   "execution_count": 7,
   "id": "d1a3a4dd-849c-46f4-aa27-0056ffa3a2ac",
   "metadata": {},
   "outputs": [
    {
     "name": "stdin",
     "output_type": "stream",
     "text": [
      "Enter the year:  2000\n"
     ]
    },
    {
     "name": "stdout",
     "output_type": "stream",
     "text": [
      "2000 is not prime year\n"
     ]
    }
   ],
   "source": [
    "#Function to determines whether a given year is a prime number or not.\n",
    "def isprime(year):\n",
    "    if year<2:\n",
    "        return True\n",
    "    for i in range(2,int(year**0.5)+2):\n",
    "        if year%i==0:\n",
    "            return False\n",
    "    return True\n",
    "\n",
    "#Taking User Input\n",
    "year = int(input(\"Enter the year: \"))\n",
    "\n",
    "#Calling Function\n",
    "result = isprime(year)\n",
    "\n",
    "#Displaying Result\n",
    "if result:\n",
    "    print(f\"{year} is prime Year\")\n",
    "else:\n",
    "    print(f\"{year} is not prime year\")"
   ]
  },
  {
   "cell_type": "markdown",
   "id": "543e0928-6e1e-4aa2-9107-959186deb278",
   "metadata": {},
   "source": [
    "#### 28. Create a program that sorts three numbers in ascending order using conditional statements."
   ]
  },
  {
   "cell_type": "code",
   "execution_count": 50,
   "id": "14aece04-1582-4b1f-a641-93650c86778f",
   "metadata": {},
   "outputs": [
    {
     "name": "stdin",
     "output_type": "stream",
     "text": [
      "Enter the first number:  1\n",
      "Enter the second number:  2\n",
      "Enter the third number:  3\n"
     ]
    },
    {
     "name": "stdout",
     "output_type": "stream",
     "text": [
      "Numbers in ascending order: (1, 2, 3)\n"
     ]
    }
   ],
   "source": [
    "#Function to that sorts three numbers in ascending order using conditional statements.\n",
    "def find(num1, num2, num3):\n",
    "    if num1 <= num2 <= num3:\n",
    "        return num1, num2, num3\n",
    "    elif num1 <= num3 <= num2:\n",
    "        return num1, num3, num2\n",
    "    elif num2 <= num1 <= num3:\n",
    "        return num2, num1, num3\n",
    "    elif num2 <= num3 <= num1:\n",
    "        return num2, num3, num1\n",
    "    elif num3 <= num1 <= num2:\n",
    "        return num3, num1, num2\n",
    "    else:\n",
    "        return num3, num2, num1\n",
    "\n",
    "#Taking user input\n",
    "num1 = int(input(\"Enter the first number: \"))\n",
    "num2 = int(input(\"Enter the second number: \"))\n",
    "num3 = int(input(\"Enter the third number: \"))\n",
    "\n",
    "#calling function\n",
    "sorted_numbers = find(num1, num2, num3)\n",
    "\n",
    "#Displaying Result\n",
    "print(f\"Numbers in ascending order: {sorted_numbers}\")"
   ]
  },
  {
   "cell_type": "markdown",
   "id": "fdd99cf7-baea-4579-b679-242f3c9246be",
   "metadata": {},
   "source": [
    "#### 29. Build a program that determines the roots of a quartic equation using numerical methods."
   ]
  },
  {
   "cell_type": "code",
   "execution_count": 11,
   "id": "615793e0-a6e9-4ed5-80a4-bf6401284d05",
   "metadata": {},
   "outputs": [
    {
     "name": "stdout",
     "output_type": "stream",
     "text": [
      "Enter the coefficients of the quartic equation ax^4 + bx^3 + cx^2 + dx + e = 0:\n"
     ]
    },
    {
     "name": "stdin",
     "output_type": "stream",
     "text": [
      "Enter coefficient 1:  2\n",
      "Enter coefficient 2:  -5\n",
      "Enter coefficient 3:  3\n",
      "Enter coefficient 4:  7\n",
      "Enter coefficient 5:  -1\n",
      "Enter an initial guess for the root:  1\n"
     ]
    },
    {
     "name": "stdout",
     "output_type": "stream",
     "text": [
      "Approximate root found: -1.1177792061899603\n"
     ]
    }
   ],
   "source": [
    "def quartic_equation(x, coefficients):\n",
    "    return sum(c * (x ** i) for i, c in enumerate(coefficients))\n",
    "\n",
    "def quartic_derivative(x, coefficients):\n",
    "    return sum(i * c * (x ** (i - 1)) for i, c in enumerate(coefficients) if i > 0)\n",
    "\n",
    "def newton_raphson_quartic(coefficients, initial_guess, tolerance=1e-6, max_iterations=100):\n",
    "    x = initial_guess\n",
    "\n",
    "    for _ in range(max_iterations):\n",
    "        f_x = quartic_equation(x, coefficients)\n",
    "        f_prime_x = quartic_derivative(x, coefficients)\n",
    "\n",
    "        if abs(f_prime_x) < tolerance:\n",
    "            print(\"Derivative is too small, can't continue.\")\n",
    "            return None\n",
    "\n",
    "        x -= f_x / f_prime_x\n",
    "\n",
    "        if abs(f_x) < tolerance:\n",
    "            return x\n",
    "\n",
    "    print(\"Maximum iterations reached, solution may not be accurate.\")\n",
    "    return None\n",
    "\n",
    "\n",
    "print(\"Enter the coefficients of the quartic equation ax^4 + bx^3 + cx^2 + dx + e = 0:\")\n",
    "coefficients = [float(input(f\"Enter coefficient {i + 1}: \")) for i in range(5)]\n",
    "initial_guess = float(input(\"Enter an initial guess for the root: \"))\n",
    "root = newton_raphson_quartic(coefficients, initial_guess)\n",
    "if root is not None:\n",
    "    print(f\"Approximate root found: {root}\")\n",
    "else:\n",
    "    print(\"Unable to find root within the specified tolerance.\")\n"
   ]
  },
  {
   "cell_type": "markdown",
   "id": "73aaa6c7-0930-4b98-8ce0-e703c2e2e4e3",
   "metadata": {},
   "source": [
    "#### 30. Write a program that calculates the BMI (Body Mass Index) and provides health recommendations based on the user's input."
   ]
  },
  {
   "cell_type": "code",
   "execution_count": 49,
   "id": "8f111043-7b35-4f3c-aedb-ae907daee68a",
   "metadata": {},
   "outputs": [
    {
     "name": "stdout",
     "output_type": "stream",
     "text": [
      "BMI Doctor\n"
     ]
    },
    {
     "name": "stdin",
     "output_type": "stream",
     "text": [
      "Enter your weight in kilograms:  45\n",
      "Enter your height in centimeters:  155\n"
     ]
    },
    {
     "name": "stdout",
     "output_type": "stream",
     "text": [
      "\n",
      "Your BMI is:  18.730489\n",
      "BMI Category: Normal weight\n",
      "Suggestion: Congratulations! Your weight is within the normal range.\n"
     ]
    }
   ],
   "source": [
    "#Function to calculates the BMI (Body Mass Index) and provides health recommendations based on the user's input\n",
    "def bmi(h,w):\n",
    "    h = h/100\n",
    "    return w/(h**2)\n",
    "\n",
    "def bmiCatg(bmi):\n",
    "    if bmi < 18.5:\n",
    "        return \"Underweight\"\n",
    "    elif 18.5 <= bmi < 25:\n",
    "        return \"Normal weight\"\n",
    "    elif 25 <= bmi < 30:\n",
    "        return \"Overweight\"\n",
    "    else:\n",
    "        return \"Obese\"\n",
    "\n",
    "def bmiRecomm(catg):\n",
    "    if catg == \"Underweight\":\n",
    "        return \"You may need to gain weight. Consult with a healthcare professional.\"\n",
    "    elif catg == \"Normal weight\":\n",
    "        return \"Congratulations! Your weight is within the normal range.\"\n",
    "    elif catg == \"Overweight\":\n",
    "        return \"Consider maintaining a balanced diet and regular exercise to achieve a healthy weight.\"\n",
    "    else:\n",
    "        return \"Obesity may increase the risk of various health issues. Consult with a healthcare professional.\"\n",
    "\n",
    "#Taking User Input \n",
    "print(\"BMI Doctor\")\n",
    "w = float(input(\"Enter your weight in kilograms: \"))\n",
    "h = float(input(\"Enter your height in centimeters: \"))\n",
    "\n",
    "#Calling Function\n",
    "BMI = bmi(h,w)\n",
    "category = bmiCatg(BMI)\n",
    "recommandation = bmiRecomm(category)\n",
    "\n",
    "#Display Result\n",
    "print(f\"\\nYour BMI is: {BMI : 2F}\")\n",
    "print(f\"BMI Category: {category}\")\n",
    "print(f\"Suggestion: {recommandation}\")"
   ]
  },
  {
   "cell_type": "markdown",
   "id": "2ac68176-2a54-48a9-aeb9-803257b1d275",
   "metadata": {},
   "source": [
    "<h1>Challenge Level:"
   ]
  },
  {
   "cell_type": "markdown",
   "id": "2a9c40f9-2804-4ef4-ab29-9ae701de1c8e",
   "metadata": {},
   "source": [
    "#### 31. Create a program that validates a password based on complexity rules (length, characters, etc.)."
   ]
  },
  {
   "cell_type": "markdown",
   "id": "c1f76fc4-b3e3-40d0-a097-7d70b29cd9bc",
   "metadata": {},
   "source": [
    "#### 32. Develop a program that performs matrix addition and subtraction based on user input."
   ]
  },
  {
   "cell_type": "code",
   "execution_count": 13,
   "id": "9ffe2413-9030-47a8-9670-2c17562f6a22",
   "metadata": {},
   "outputs": [
    {
     "name": "stdout",
     "output_type": "stream",
     "text": [
      "Matrix Addition and Subtraction\n",
      "\n",
      "Enter Matrix A:\n"
     ]
    },
    {
     "name": "stdin",
     "output_type": "stream",
     "text": [
      "Enter the number of rows:  3\n",
      "Enter the number of columns:  3\n"
     ]
    },
    {
     "name": "stdout",
     "output_type": "stream",
     "text": [
      "Enter matrix elements row-wise:\n"
     ]
    },
    {
     "name": "stdin",
     "output_type": "stream",
     "text": [
      "Enter element at position (1, 1):  1\n",
      "Enter element at position (1, 2):  2\n",
      "Enter element at position (1, 3):  3\n",
      "Enter element at position (2, 1):  4\n",
      "Enter element at position (2, 2):  5\n",
      "Enter element at position (2, 3):  6\n",
      "Enter element at position (3, 1):  7\n",
      "Enter element at position (3, 2):  8\n",
      "Enter element at position (3, 3):  9\n"
     ]
    },
    {
     "name": "stdout",
     "output_type": "stream",
     "text": [
      "\n",
      "Enter Matrix B:\n"
     ]
    },
    {
     "name": "stdin",
     "output_type": "stream",
     "text": [
      "Enter the number of rows:  3\n",
      "Enter the number of columns:  3\n"
     ]
    },
    {
     "name": "stdout",
     "output_type": "stream",
     "text": [
      "Enter matrix elements row-wise:\n"
     ]
    },
    {
     "name": "stdin",
     "output_type": "stream",
     "text": [
      "Enter element at position (1, 1):  1\n",
      "Enter element at position (1, 2):  2\n",
      "Enter element at position (1, 3):  3\n",
      "Enter element at position (2, 1):  4\n",
      "Enter element at position (2, 2):  5\n",
      "Enter element at position (2, 3):  6\n",
      "Enter element at position (3, 1):  7\n",
      "Enter element at position (3, 2):  8\n",
      "Enter element at position (3, 3):  9\n"
     ]
    },
    {
     "name": "stdout",
     "output_type": "stream",
     "text": [
      "\n",
      "Matrix A:\n",
      "[1.0, 2.0, 3.0]\n",
      "[4.0, 5.0, 6.0]\n",
      "[7.0, 8.0, 9.0]\n",
      "\n",
      "Matrix B:\n",
      "[1.0, 2.0, 3.0]\n",
      "[4.0, 5.0, 6.0]\n",
      "[7.0, 8.0, 9.0]\n"
     ]
    },
    {
     "name": "stdin",
     "output_type": "stream",
     "text": [
      "\n",
      "Enter 'add' for addition or 'subtract' for subtraction:  add\n"
     ]
    },
    {
     "name": "stdout",
     "output_type": "stream",
     "text": [
      "\n",
      "Result of Addition:\n",
      "[2.0, 4.0, 6.0]\n",
      "[8.0, 10.0, 12.0]\n",
      "[14.0, 16.0, 18.0]\n"
     ]
    }
   ],
   "source": [
    "def add_matrices(matrix1, matrix2):\n",
    "    result_matrix = [[0 for _ in range(len(matrix1[0]))] for _ in range(len(matrix1))]\n",
    "    for i in range(len(matrix1)):\n",
    "        for j in range(len(matrix1[0])):\n",
    "            result_matrix[i][j] = matrix1[i][j] + matrix2[i][j]\n",
    "    return result_matrix\n",
    "\n",
    "def subtract_matrices(matrix1, matrix2):\n",
    "    result_matrix = [[0 for _ in range(len(matrix1[0]))] for _ in range(len(matrix1))]\n",
    "    for i in range(len(matrix1)):\n",
    "        for j in range(len(matrix1[0])):\n",
    "            result_matrix[i][j] = matrix1[i][j] - matrix2[i][j]\n",
    "    return result_matrix\n",
    "\n",
    "def input_matrix():\n",
    "    rows = int(input(\"Enter the number of rows: \"))\n",
    "    cols = int(input(\"Enter the number of columns: \"))\n",
    "    \n",
    "    matrix = []\n",
    "    print(\"Enter matrix elements row-wise:\")\n",
    "    for i in range(rows):\n",
    "        row = [float(input(f\"Enter element at position ({i + 1}, {j + 1}): \")) for j in range(cols)]\n",
    "        matrix.append(row)\n",
    "    \n",
    "    return matrix\n",
    "\n",
    "def display_matrix(matrix):\n",
    "    for row in matrix:\n",
    "        print(row)\n",
    "\n",
    "def main():\n",
    "    print(\"Matrix Addition and Subtraction\")\n",
    "    \n",
    "    print(\"\\nEnter Matrix A:\")\n",
    "    matrix_A = input_matrix()\n",
    "    \n",
    "    print(\"\\nEnter Matrix B:\")\n",
    "    matrix_B = input_matrix()\n",
    "\n",
    "    print(\"\\nMatrix A:\")\n",
    "    display_matrix(matrix_A)\n",
    "\n",
    "    print(\"\\nMatrix B:\")\n",
    "    display_matrix(matrix_B)\n",
    "\n",
    "    operation = input(\"\\nEnter 'add' for addition or 'subtract' for subtraction: \").lower()\n",
    "\n",
    "    if operation == 'add':\n",
    "        result = add_matrices(matrix_A, matrix_B)\n",
    "        operation_str = \"Addition\"\n",
    "    elif operation == 'subtract':\n",
    "        result = subtract_matrices(matrix_A, matrix_B)\n",
    "        operation_str = \"Subtraction\"\n",
    "    else:\n",
    "        print(\"Invalid operation. Please enter 'add' or 'subtract'.\")\n",
    "        return\n",
    "\n",
    "    print(f\"\\nResult of {operation_str}:\")\n",
    "    display_matrix(result)\n",
    "\n",
    "if __name__ == \"__main__\":\n",
    "    main()\n"
   ]
  },
  {
   "cell_type": "markdown",
   "id": "c9893042-46ae-46bc-a63d-aaee82cd9d89",
   "metadata": {},
   "source": [
    "#### 33. Write a program that calculates the greatest common divisor (GCD) of two numbers using the Euclidean algorithm."
   ]
  },
  {
   "cell_type": "code",
   "execution_count": 48,
   "id": "4e4abb57-1d56-46ce-8e1e-ead63401b977",
   "metadata": {},
   "outputs": [
    {
     "name": "stdout",
     "output_type": "stream",
     "text": [
      "Greatest Common Divisor (GCD) Calculator\n"
     ]
    },
    {
     "name": "stdin",
     "output_type": "stream",
     "text": [
      "Enter the first number:  20\n",
      "Enter the second number:  40\n"
     ]
    },
    {
     "name": "stdout",
     "output_type": "stream",
     "text": [
      "The GCD of 20 and 40 is: 20\n"
     ]
    }
   ],
   "source": [
    "#Function to calculates the greatest common divisor (GCD) of two numbers using the Euclidean algorithm\n",
    "def euclideanAlgo(a, b):\n",
    "    while b:\n",
    "        a, b = b, a % b\n",
    "    return a\n",
    "\n",
    "#Taking User Input \n",
    "print(\"Greatest Common Divisor (GCD) Calculator\")\n",
    "num1 = int(input(\"Enter the first number: \")) \n",
    "num2 = int(input(\"Enter the second number: \"))\n",
    "\n",
    "\n",
    "#calling Function\n",
    "gcd = euclideanAlgo(num1, num2)\n",
    "\n",
    "#Displaying Result\n",
    "print(f\"The GCD of {num1} and {num2} is: {gcd}\")"
   ]
  },
  {
   "cell_type": "markdown",
   "id": "dc4448f5-58e9-415e-a379-8829c7a8faa7",
   "metadata": {},
   "source": [
    "#### 34. Build a program that performs matrix multiplication using nested loops and conditional statements"
   ]
  },
  {
   "cell_type": "code",
   "execution_count": 47,
   "id": "aeb4ffbb-03d0-44bc-b65c-21bbb5c27f8a",
   "metadata": {},
   "outputs": [
    {
     "name": "stdout",
     "output_type": "stream",
     "text": [
      "Matrix Multiplication\n",
      "\n",
      "Enter Matrix A:\n"
     ]
    },
    {
     "name": "stdin",
     "output_type": "stream",
     "text": [
      "Enter the number of rows:  1\n",
      "Enter the number of columns:  1\n"
     ]
    },
    {
     "name": "stdout",
     "output_type": "stream",
     "text": [
      "Enter matrix elements row-wise:\n"
     ]
    },
    {
     "name": "stdin",
     "output_type": "stream",
     "text": [
      "Enter element at position (1, 1):  1\n"
     ]
    },
    {
     "name": "stdout",
     "output_type": "stream",
     "text": [
      "\n",
      "Enter Matrix B:\n"
     ]
    },
    {
     "name": "stdin",
     "output_type": "stream",
     "text": [
      "Enter the number of rows:  1\n",
      "Enter the number of columns:  1\n"
     ]
    },
    {
     "name": "stdout",
     "output_type": "stream",
     "text": [
      "Enter matrix elements row-wise:\n"
     ]
    },
    {
     "name": "stdin",
     "output_type": "stream",
     "text": [
      "Enter element at position (1, 1):  1\n"
     ]
    },
    {
     "name": "stdout",
     "output_type": "stream",
     "text": [
      "\n",
      "Matrix A:\n",
      "[1.0]\n",
      "\n",
      "Matrix B:\n",
      "[1.0]\n",
      "\n",
      "Result of Matrix Multiplication:\n",
      "[1.0]\n"
     ]
    }
   ],
   "source": [
    "#Function to performs matrix multiplication using nested loops and conditional statements\n",
    "def multiply_matrices(matrix1, matrix2):\n",
    "    rows_A = len(matrix1)\n",
    "    cols_A = len(matrix1[0])\n",
    "    rows_B = len(matrix2)\n",
    "    cols_B = len(matrix2[0])\n",
    "\n",
    "    if cols_A != rows_B:\n",
    "        print(\"Matrix multiplication is not possible. The number of columns in the first matrix \"\n",
    "              \"must be equal to the number of rows in the second matrix.\")\n",
    "        return None\n",
    "\n",
    "    result_matrix = [[0 for _ in range(cols_B)] for _ in range(rows_A)]\n",
    "\n",
    "    for i in range(rows_A):\n",
    "        for j in range(cols_B):\n",
    "            for k in range(cols_A):\n",
    "                result_matrix[i][j] += matrix1[i][k] * matrix2[k][j]\n",
    "\n",
    "    return result_matrix\n",
    "\n",
    "def input_matrix():\n",
    "    rows = int(input(\"Enter the number of rows: \"))\n",
    "    cols = int(input(\"Enter the number of columns: \"))\n",
    "\n",
    "    matrix = []\n",
    "    print(\"Enter matrix elements row-wise:\")\n",
    "    for i in range(rows):\n",
    "        row = [float(input(f\"Enter element at position ({i + 1}, {j + 1}): \")) for j in range(cols)]\n",
    "        matrix.append(row)\n",
    "\n",
    "    return matrix\n",
    "\n",
    "def display_matrix(matrix):\n",
    "    for row in matrix:\n",
    "        print(row)\n",
    "\n",
    "def main():\n",
    "    print(\"Matrix Multiplication\")\n",
    "\n",
    "    print(\"\\nEnter Matrix A:\")\n",
    "    matrix_A = input_matrix()\n",
    "\n",
    "    print(\"\\nEnter Matrix B:\")\n",
    "    matrix_B = input_matrix()\n",
    "\n",
    "    print(\"\\nMatrix A:\")\n",
    "    display_matrix(matrix_A)\n",
    "\n",
    "    print(\"\\nMatrix B:\")\n",
    "    display_matrix(matrix_B)\n",
    "\n",
    "    result = multiply_matrices(matrix_A, matrix_B)\n",
    "\n",
    "    if result:\n",
    "        print(\"\\nResult of Matrix Multiplication:\")\n",
    "        display_matrix(result)\n",
    "\n",
    "if __name__ == \"__main__\":\n",
    "    main()\n"
   ]
  },
  {
   "cell_type": "markdown",
   "id": "141f7806-870e-4dbe-9c21-2359913b67fc",
   "metadata": {},
   "source": [
    "#### 35. Create a program that simulates a basic text-based tic-tac-toe game against the computer."
   ]
  },
  {
   "cell_type": "code",
   "execution_count": 46,
   "id": "8f23f75e-d375-4db1-bcb0-083415bbce4e",
   "metadata": {},
   "outputs": [
    {
     "name": "stdout",
     "output_type": "stream",
     "text": [
      "Welcome to Tic-Tac-Toe!\n",
      "  |   |  \n",
      "-------------\n",
      "  |   |  \n",
      "-------------\n",
      "  |   |  \n",
      "-------------\n",
      "Computer's turn:\n",
      "  | O |  \n",
      "-------------\n",
      "  |   |  \n",
      "-------------\n",
      "  |   |  \n",
      "-------------\n"
     ]
    },
    {
     "name": "stdin",
     "output_type": "stream",
     "text": [
      "Enter the row (1, 2, or 3):  1\n",
      "Enter the column (1, 2, or 3):  1\n"
     ]
    },
    {
     "name": "stdout",
     "output_type": "stream",
     "text": [
      "X | O |  \n",
      "-------------\n",
      "  |   |  \n",
      "-------------\n",
      "  |   |  \n",
      "-------------\n",
      "Computer's turn:\n",
      "X | O |  \n",
      "-------------\n",
      "  |   |  \n",
      "-------------\n",
      "O |   |  \n",
      "-------------\n"
     ]
    },
    {
     "name": "stdin",
     "output_type": "stream",
     "text": [
      "Enter the row (1, 2, or 3):  2\n",
      "Enter the column (1, 2, or 3):  2\n"
     ]
    },
    {
     "name": "stdout",
     "output_type": "stream",
     "text": [
      "X | O |  \n",
      "-------------\n",
      "  | X |  \n",
      "-------------\n",
      "O |   |  \n",
      "-------------\n",
      "Computer's turn:\n",
      "X | O |  \n",
      "-------------\n",
      "O | X |  \n",
      "-------------\n",
      "O |   |  \n",
      "-------------\n"
     ]
    },
    {
     "name": "stdin",
     "output_type": "stream",
     "text": [
      "Enter the row (1, 2, or 3):  3\n",
      "Enter the column (1, 2, or 3):  3\n"
     ]
    },
    {
     "name": "stdout",
     "output_type": "stream",
     "text": [
      "X | O |  \n",
      "-------------\n",
      "O | X |  \n",
      "-------------\n",
      "O |   | X\n",
      "-------------\n",
      "X wins!\n"
     ]
    }
   ],
   "source": [
    "import random\n",
    "#Function to simulates a basic text-based tic-tac-toe game against the computer.\n",
    "def print_board(board):\n",
    "    for row in board:\n",
    "        print(\" | \".join(row))\n",
    "        print(\"-\" * 13)\n",
    "\n",
    "def check_winner(board, player):\n",
    "    # Check rows, columns, and diagonals for a win\n",
    "    for i in range(3):\n",
    "        if all(board[i][j] == player for j in range(3)) or all(board[j][i] == player for j in range(3)):\n",
    "            return True\n",
    "    if all(board[i][i] == player for i in range(3)) or all(board[i][2 - i] == player for i in range(3)):\n",
    "        return True\n",
    "    return False\n",
    "\n",
    "def is_board_full(board):\n",
    "    return all(board[i][j] != ' ' for i in range(3) for j in range(3))\n",
    "\n",
    "def get_empty_cells(board):\n",
    "    return [(i, j) for i in range(3) for j in range(3) if board[i][j] == ' ']\n",
    "\n",
    "def player_move(board):\n",
    "    while True:\n",
    "        try:\n",
    "            row = int(input(\"Enter the row (1, 2, or 3): \")) - 1\n",
    "            col = int(input(\"Enter the column (1, 2, or 3): \")) - 1\n",
    "\n",
    "            if board[row][col] == ' ':\n",
    "                return row, col\n",
    "            else:\n",
    "                print(\"Cell already occupied. Try again.\")\n",
    "        except (ValueError, IndexError):\n",
    "            print(\"Invalid input. Please enter a valid row and column.\")\n",
    "\n",
    "def computer_move(board):\n",
    "    empty_cells = get_empty_cells(board)\n",
    "    return random.choice(empty_cells)\n",
    "\n",
    "def play_tic_tac_toe():\n",
    "    board = [[' ' for _ in range(3)] for _ in range(3)]\n",
    "    players = ['X', 'O']\n",
    "    current_player = random.choice(players)\n",
    "\n",
    "    print(\"Welcome to Tic-Tac-Toe!\")\n",
    "\n",
    "    while True:\n",
    "        print_board(board)\n",
    "\n",
    "        if current_player == 'X':\n",
    "            row, col = player_move(board)\n",
    "        else:\n",
    "            print(\"Computer's turn:\")\n",
    "            row, col = computer_move(board)\n",
    "\n",
    "        board[row][col] = current_player\n",
    "\n",
    "        if check_winner(board, current_player):\n",
    "            print_board(board)\n",
    "            print(f\"{current_player} wins!\")\n",
    "            break\n",
    "\n",
    "        if is_board_full(board):\n",
    "            print_board(board)\n",
    "            print(\"It's a tie!\")\n",
    "            break\n",
    "\n",
    "        current_player = 'O' if current_player == 'X' else 'X'\n",
    "\n",
    "if __name__ == \"__main__\":\n",
    "    play_tic_tac_toe()\n"
   ]
  },
  {
   "cell_type": "markdown",
   "id": "46a3beee-7f67-46a6-af1f-b36462bfe033",
   "metadata": {},
   "source": [
    "#### 36. Write a program that generates Fibonacci numbers up to a specified term using iterative methods."
   ]
  },
  {
   "cell_type": "code",
   "execution_count": 45,
   "id": "53d87025-f15c-4455-b8d4-cdea7b8956bf",
   "metadata": {},
   "outputs": [
    {
     "name": "stdin",
     "output_type": "stream",
     "text": [
      "Enter the number of Fibonacci terms to generate:  10\n"
     ]
    },
    {
     "name": "stdout",
     "output_type": "stream",
     "text": [
      "Fibonacci sequence up to term 10: [1, 1, 2, 3, 5, 8, 13, 21, 34, 55]\n"
     ]
    }
   ],
   "source": [
    "#Function to generates Fibonacci numbers up to a specified term using iterative methods.\n",
    "def find(n):\n",
    "    a,b = 1,1\n",
    "    lst = [a,b]\n",
    "    for i in range(n-2):\n",
    "        c= a+b\n",
    "        a,b = b,c\n",
    "        lst.append(c)\n",
    "    return lst\n",
    "\n",
    "#Taking User Input\n",
    "n = int(input(\"Enter the number of Fibonacci terms to generate: \"))\n",
    "\n",
    "#calling Function\n",
    "result = find(n)\n",
    "\n",
    "#Displayingg Result\n",
    "print(f\"Fibonacci sequence up to term {n}: {result}\")"
   ]
  },
  {
   "cell_type": "markdown",
   "id": "aa584ce2-0631-4688-8024-b5db145376d7",
   "metadata": {},
   "source": [
    "#### 37. Develop a program that calculates the nth term of the Fibonacci sequence using memoization.\n"
   ]
  },
  {
   "cell_type": "code",
   "execution_count": 44,
   "id": "c12e5a81-513f-4297-9077-7524073b29f2",
   "metadata": {},
   "outputs": [
    {
     "name": "stdin",
     "output_type": "stream",
     "text": [
      "Enter the value of n for the nth term of the Fibonacci sequence:  5\n"
     ]
    },
    {
     "name": "stdout",
     "output_type": "stream",
     "text": [
      "The 5-th term of the Fibonacci sequence is: 5\n"
     ]
    }
   ],
   "source": [
    "#Function to calculates the nth term of the Fibonacci sequence using memoization.\n",
    "def find(n, memo={}):\n",
    "    if n <= 0:\n",
    "        return \"Please enter a positive integer for the term.\"\n",
    "    elif n == 1 or n == 2:\n",
    "        return 1\n",
    "    elif n in memo:\n",
    "        return memo[n]\n",
    "    else:\n",
    "        result = find(n - 1, memo) + find(n - 2, memo)\n",
    "        memo[n] = result\n",
    "        return result\n",
    "    \n",
    "#Taking user input \n",
    "n = int(input(\"Enter the value of n for the nth term of the Fibonacci sequence: \"))\n",
    "\n",
    "#calling Function\n",
    "result = find(n)\n",
    "\n",
    "#Displaying Result\n",
    "print(f\"The {n}-th term of the Fibonacci sequence is: {result}\")\n"
   ]
  },
  {
   "cell_type": "markdown",
   "id": "59f1516d-88dd-4f0d-ad84-d33c9e75f4dc",
   "metadata": {},
   "source": [
    "#### 38. Create a program that generates a calendar for a given month and year using conditional statements."
   ]
  },
  {
   "cell_type": "code",
   "execution_count": 43,
   "id": "7338290e-ef81-4413-834f-08752d1e315c",
   "metadata": {},
   "outputs": [
    {
     "name": "stdin",
     "output_type": "stream",
     "text": [
      "Enter the year:  2023\n",
      "Enter the month (1-12):  12\n"
     ]
    },
    {
     "name": "stdout",
     "output_type": "stream",
     "text": [
      "\n",
      "Calendar for December 2023:\n",
      "\n",
      " Mo Tu  We  Th  Fr  Sa  Su\n",
      "                 1   2   3  \n",
      " 4   5   6   7   8   9  10  \n",
      "11  12  13  14  15  16  17  \n",
      "18  19  20  21  22  23  24  \n",
      "25  26  27  28  29  30  31  \n"
     ]
    }
   ],
   "source": [
    "import calendar\n",
    "\n",
    "year = int(input(\"Enter the year: \"))\n",
    "\n",
    "month = int(input(\"Enter the month (1-12): \"))\n",
    "\n",
    "cal = calendar.monthcalendar(year, month)\n",
    "\n",
    "print(f\"\\nCalendar for {calendar.month_name[month]} {year}:\\n\")\n",
    "print(\" Mo Tu  We  Th  Fr  Sa  Su\")\n",
    "\n",
    "\n",
    "for week in cal:\n",
    "    for day in week:\n",
    "        if day == 0:\n",
    "            print(\"   \", end=\" \")  # Print empty space for days outside the month\n",
    "        else:\n",
    "            print(f\"{day:2d} \", end=\" \")\n",
    "    print()\n"
   ]
  },
  {
   "cell_type": "markdown",
   "id": "d3542f08-7dbe-47cc-abbc-cc77b31801d1",
   "metadata": {},
   "source": [
    "#### 39. Build a program that simulates a basic text-based blackjack game against the computer"
   ]
  },
  {
   "cell_type": "code",
   "execution_count": 42,
   "id": "cf4df507-b835-4e51-bcac-bc4a9327d2f1",
   "metadata": {},
   "outputs": [
    {
     "name": "stdout",
     "output_type": "stream",
     "text": [
      "Your cards: [3, 10], your total score: 13\n",
      "Computer's first card: 7\n"
     ]
    },
    {
     "name": "stdin",
     "output_type": "stream",
     "text": [
      "Type 'y' to get another card, or 'n' to pass:  y\n"
     ]
    },
    {
     "name": "stdout",
     "output_type": "stream",
     "text": [
      "Your cards: [3, 10, 10], your total score: 23\n",
      "Computer's first card: 7\n",
      "Your final hand: [3, 10, 10], your final score: 23\n",
      "Computer's final hand: [7, 10], computer's final score: 17\n",
      "You went over 21. You lose!\n"
     ]
    }
   ],
   "source": [
    "import random\n",
    "\n",
    "def deal_card():\n",
    "    cards = [11, 2, 3, 4, 5, 6, 7, 8, 9, 10, 10, 10, 10]\n",
    "    return random.choice(cards)\n",
    "\n",
    "def calculate_score(cards):\n",
    "    if sum(cards) == 21 and len(cards) == 2:\n",
    "        return 0  # Blackjack\n",
    "    if 11 in cards and sum(cards) > 21:\n",
    "        cards.remove(11)\n",
    "        cards.append(1)\n",
    "    return sum(cards)\n",
    "\n",
    "def compare(user_score, computer_score):\n",
    "    if user_score == computer_score:\n",
    "        return \"It's a draw!\"\n",
    "    elif computer_score == 0:\n",
    "        return \"You lose. The computer has Blackjack!\"\n",
    "    elif user_score == 0:\n",
    "        return \"You win! You have Blackjack!\"\n",
    "    elif user_score > 21:\n",
    "        return \"You went over 21. You lose!\"\n",
    "    elif computer_score > 21:\n",
    "        return \"The computer went over 21. You win!\"\n",
    "    elif user_score > computer_score:\n",
    "        return \"You win!\"\n",
    "    else:\n",
    "        return \"You lose.\"\n",
    "\n",
    "def play_game():\n",
    "    user_cards = [deal_card(), deal_card()]\n",
    "    computer_cards = [deal_card()]\n",
    "\n",
    "    game_over = False\n",
    "\n",
    "    while not game_over:\n",
    "        user_score = calculate_score(user_cards)\n",
    "        computer_score = calculate_score(computer_cards)\n",
    "\n",
    "        print(f\"Your cards: {user_cards}, your total score: {user_score}\")\n",
    "        print(f\"Computer's first card: {computer_cards[0]}\")\n",
    "\n",
    "        if user_score == 0 or computer_score == 0 or user_score > 21:\n",
    "            game_over = True\n",
    "        else:\n",
    "            should_continue = input(\"Type 'y' to get another card, or 'n' to pass: \")\n",
    "            if should_continue.lower() == 'y':\n",
    "                user_cards.append(deal_card())\n",
    "            else:\n",
    "                game_over = True\n",
    "\n",
    "    while computer_score != 0 and computer_score < 17:\n",
    "        computer_cards.append(deal_card())\n",
    "        computer_score = calculate_score(computer_cards)\n",
    "\n",
    "    print(f\"Your final hand: {user_cards}, your final score: {user_score}\")\n",
    "    print(f\"Computer's final hand: {computer_cards}, computer's final score: {computer_score}\")\n",
    "    print(compare(user_score, computer_score))\n",
    "\n",
    "play_game()\n"
   ]
  },
  {
   "cell_type": "markdown",
   "id": "a1c1ef03-5761-4a4a-ae98-b58ed6b7553e",
   "metadata": {},
   "source": [
    "#### 40. Write a program that generates the prime factors of a given number using trial division."
   ]
  },
  {
   "cell_type": "code",
   "execution_count": 41,
   "id": "c224d1be-5a73-4243-9238-3d2589deb3be",
   "metadata": {},
   "outputs": [
    {
     "name": "stdin",
     "output_type": "stream",
     "text": [
      "Enter a number:  41\n"
     ]
    },
    {
     "name": "stdout",
     "output_type": "stream",
     "text": [
      "Prime factors of 41: [41]\n"
     ]
    }
   ],
   "source": [
    "def primeFactor(number):\n",
    "    factors = []\n",
    "    divisor = 2\n",
    "\n",
    "    while number > 1:\n",
    "        while number % divisor == 0:\n",
    "            factors.append(divisor)\n",
    "            number //= divisor\n",
    "        divisor += 1\n",
    "\n",
    "    return factors\n",
    "\n",
    "# Taking User Input\n",
    "number = int(input(\"Enter a number: \"))\n",
    "\n",
    "#Calling Function\n",
    "result = primeFactor(number)\n",
    "\n",
    "print(f\"Prime factors of {number}: {result}\")\n"
   ]
  },
  {
   "cell_type": "code",
   "execution_count": null,
   "id": "fa7ad612-aa4c-4f38-8b0b-6e43c6df3380",
   "metadata": {},
   "outputs": [],
   "source": []
  }
 ],
 "metadata": {
  "kernelspec": {
   "display_name": "Python 3 (ipykernel)",
   "language": "python",
   "name": "python3"
  },
  "language_info": {
   "codemirror_mode": {
    "name": "ipython",
    "version": 3
   },
   "file_extension": ".py",
   "mimetype": "text/x-python",
   "name": "python",
   "nbconvert_exporter": "python",
   "pygments_lexer": "ipython3",
   "version": "3.10.8"
  }
 },
 "nbformat": 4,
 "nbformat_minor": 5
}
