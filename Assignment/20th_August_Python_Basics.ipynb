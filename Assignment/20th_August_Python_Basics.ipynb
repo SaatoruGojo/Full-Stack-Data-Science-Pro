{
 "cells": [
  {
   "cell_type": "markdown",
   "id": "c6def03a-e7d1-4ce3-9d56-c944b019abd4",
   "metadata": {},
   "source": [
    "<h1>TOPIC: String Based Assignment Problem"
   ]
  },
  {
   "cell_type": "markdown",
   "id": "6d3eb920-f7fd-4277-9b8f-5d2a8b5de666",
   "metadata": {},
   "source": [
    " "
   ]
  },
  {
   "cell_type": "markdown",
   "id": "d9668e92-80b5-443e-a2d2-3dc053c9043c",
   "metadata": {},
   "source": [
    "<h5>1. Write a program to reverse a string."
   ]
  },
  {
   "cell_type": "code",
   "execution_count": 209,
   "id": "858dbe42-c5ec-4c66-8154-9b54efc6e1c4",
   "metadata": {},
   "outputs": [
    {
     "name": "stdin",
     "output_type": "stream",
     "text": [
      "Enter a string:  Full Stack Data Science\n"
     ]
    },
    {
     "name": "stdout",
     "output_type": "stream",
     "text": [
      "Reversed string:  ecneicS ataD kcatS lluF\n"
     ]
    }
   ],
   "source": [
    "# Function to reverse a string\n",
    "def reverseString(inputString):\n",
    "    return inputString[::-1]\n",
    "\n",
    "# Taking input from the user\n",
    "userInput = input(\"Enter a string: \")\n",
    "\n",
    "# Rcalling Function\n",
    "reversedString = reverseString(userInput)\n",
    "\n",
    "# Displaying the reversed string\n",
    "print(\"Reversed string: \", reversedString)"
   ]
  },
  {
   "cell_type": "markdown",
   "id": "d3fd656d-fc06-4d58-b0f4-f79695cbc916",
   "metadata": {},
   "source": [
    " "
   ]
  },
  {
   "cell_type": "markdown",
   "id": "8f92dabb-85d2-43a0-9b00-81ab51a23a19",
   "metadata": {},
   "source": [
    "<h5>2. Check if a string is a palindrome."
   ]
  },
  {
   "cell_type": "code",
   "execution_count": 210,
   "id": "43da744a-9c19-436f-9354-88df6351daab",
   "metadata": {},
   "outputs": [
    {
     "name": "stdin",
     "output_type": "stream",
     "text": [
      " Nitin nitin NitiN\n"
     ]
    },
    {
     "name": "stdout",
     "output_type": "stream",
     "text": [
      "The input string is a palindrome.\n"
     ]
    }
   ],
   "source": [
    "# Function to check if a string is a palindrome\n",
    "def checkPalindrome(inputString):\n",
    "    if inputString == inputString[::-1]:\n",
    "        return True\n",
    "    else:\n",
    "        return False\n",
    "# Taking input from the user\n",
    "userInput = input()\n",
    "\n",
    "#Displayinng Result\n",
    "if checkPalindrome(userInput.lower()):\n",
    "    print(\"The input string is a palindrome.\")\n",
    "else:\n",
    "    print(\"The input string is not a palindrome.\")"
   ]
  },
  {
   "cell_type": "markdown",
   "id": "9279b573-9680-4f89-9815-aba992032e28",
   "metadata": {},
   "source": [
    " "
   ]
  },
  {
   "cell_type": "markdown",
   "id": "deb31061-4fed-4741-9b02-0fc109be922d",
   "metadata": {},
   "source": [
    "<h5>3. Convert a string to uppercase."
   ]
  },
  {
   "cell_type": "code",
   "execution_count": 211,
   "id": "033fcc41-7cc1-4ab6-ab58-f06f97a4c9ff",
   "metadata": {},
   "outputs": [
    {
     "name": "stdin",
     "output_type": "stream",
     "text": [
      " Full Stack Data Science Pro\n"
     ]
    },
    {
     "name": "stdout",
     "output_type": "stream",
     "text": [
      "FULL STACK DATA SCIENCE PRO\n"
     ]
    }
   ],
   "source": [
    "# Function to convert a string to uppercase\n",
    "def convUppercase(inputString):\n",
    "    return inputString.upper()\n",
    "\n",
    "#Taking User Input\n",
    "userInput = input()\n",
    "\n",
    "# Printing the string in uppercase\n",
    "print(convUppercase(userInput))"
   ]
  },
  {
   "cell_type": "markdown",
   "id": "85f36fa0-b085-430c-a29c-b7e9811a8811",
   "metadata": {},
   "source": [
    " "
   ]
  },
  {
   "cell_type": "markdown",
   "id": "71b2801e-28cf-4b9d-969d-ca6e77bca298",
   "metadata": {},
   "source": [
    "<h5>4. Convert a string to lowercase."
   ]
  },
  {
   "cell_type": "code",
   "execution_count": 212,
   "id": "04ab1f34-037b-4e63-82cc-cae8543b17b6",
   "metadata": {},
   "outputs": [
    {
     "name": "stdin",
     "output_type": "stream",
     "text": [
      " Full Stack Data Science Pro\n"
     ]
    },
    {
     "name": "stdout",
     "output_type": "stream",
     "text": [
      "full stack data science pro\n"
     ]
    }
   ],
   "source": [
    "# Function to convert a string to lowercase\n",
    "def convLowercase(inputString):\n",
    "    return inputString.lower()\n",
    "\n",
    "#Taking User Input\n",
    "userInput = input()\n",
    "\n",
    "# Printing the string in lowercase\n",
    "print(convLowercase(userInput))"
   ]
  },
  {
   "cell_type": "markdown",
   "id": "69755938-7416-486b-adef-9632cf736e9f",
   "metadata": {},
   "source": [
    " "
   ]
  },
  {
   "cell_type": "markdown",
   "id": "5aae2d79-995a-47c3-8c72-e77cec9dbe28",
   "metadata": {},
   "source": [
    "<h5>5. Count the number of vowels in a string."
   ]
  },
  {
   "cell_type": "code",
   "execution_count": 213,
   "id": "7d45eb84-238d-4c46-a36b-b273000dfa19",
   "metadata": {},
   "outputs": [
    {
     "name": "stdin",
     "output_type": "stream",
     "text": [
      " Full Stack Data Science Pro\n"
     ]
    },
    {
     "name": "stdout",
     "output_type": "stream",
     "text": [
      "Number of vowels:  8\n"
     ]
    }
   ],
   "source": [
    "# Function to count the number of vowels in a string\n",
    "def countVowel(inputString):\n",
    "    vowels = 'aieou'\n",
    "    count = 0\n",
    "    for i in inputString.lower():\n",
    "        if i in vowels:\n",
    "            count = count+1\n",
    "    return count\n",
    "\n",
    "# Taking input from the user\n",
    "userInput= input()\n",
    "\n",
    "# Printing the count of vowels\n",
    "print(\"Number of vowels: \",countVowel(userInput))"
   ]
  },
  {
   "cell_type": "markdown",
   "id": "08f88ae1-a725-4456-bd45-ebc1caef45e6",
   "metadata": {},
   "source": [
    " "
   ]
  },
  {
   "cell_type": "markdown",
   "id": "bac6f37e-2e62-41a9-99f3-1d5f6d43d2f1",
   "metadata": {},
   "source": [
    "<h5>6. Count the number of consonants in a string."
   ]
  },
  {
   "cell_type": "code",
   "execution_count": 214,
   "id": "2e4ab7e6-67d7-408a-b815-aa6a22693c14",
   "metadata": {},
   "outputs": [
    {
     "name": "stdin",
     "output_type": "stream",
     "text": [
      " Full Stack Data Science Pro\n"
     ]
    },
    {
     "name": "stdout",
     "output_type": "stream",
     "text": [
      "Number of Consonants:  19\n"
     ]
    }
   ],
   "source": [
    "# Function to count the number of vowels in a string\n",
    "def countVowel(inputString):\n",
    "    vowels = 'aieou'\n",
    "    count = 0\n",
    "    for i in inputString.lower():\n",
    "        if i in vowels:\n",
    "            count = count+1\n",
    "    return count\n",
    "\n",
    "# Taking input from the user\n",
    "userInput= input()\n",
    "\n",
    "# Printing the count of consonants\n",
    "print(\"Number of Consonants: \",len(userInput) - countVowel(userInput))"
   ]
  },
  {
   "cell_type": "markdown",
   "id": "f13adbe6-5398-4c85-8ee8-fcad0f574bb0",
   "metadata": {},
   "source": [
    " "
   ]
  },
  {
   "cell_type": "markdown",
   "id": "8459299b-db6a-42db-8014-5b2a954f517f",
   "metadata": {},
   "source": [
    "<h5>7. Remove all whitespaces from a string."
   ]
  },
  {
   "cell_type": "code",
   "execution_count": 215,
   "id": "3e9f175b-3ebd-4dc4-b27e-51cb8cc3f5b4",
   "metadata": {},
   "outputs": [
    {
     "name": "stdin",
     "output_type": "stream",
     "text": [
      "Enter a string:  Full Stack Data Science Pro\n"
     ]
    },
    {
     "name": "stdout",
     "output_type": "stream",
     "text": [
      "Modified string without whitespaces:  FullStackDataSciencePro\n"
     ]
    }
   ],
   "source": [
    "#function To Remove All whitespaces from a string\n",
    "def removeWhiteSp(inputString):\n",
    "    return inputString.replace(' ', '')\n",
    "  \n",
    "# Taking input from the user\n",
    "userInput = input(\"Enter a string: \")\n",
    "\n",
    "#Calling Function\n",
    "modifiedString = removeWhiteSp(s)\n",
    "\n",
    "# Printing the modified string\n",
    "print(\"Modified string without whitespaces: \", modifiedString)"
   ]
  },
  {
   "cell_type": "markdown",
   "id": "1092df74-576f-4bc6-9e7e-0d4fa890a9b4",
   "metadata": {},
   "source": [
    " "
   ]
  },
  {
   "cell_type": "markdown",
   "id": "3d291f7a-2c4e-415f-b29a-4b47b9d883d2",
   "metadata": {},
   "source": [
    "<h5>8. Find the length of a string without using the `len()` function."
   ]
  },
  {
   "cell_type": "code",
   "execution_count": 216,
   "id": "c1e00439-fa39-4af1-bf21-2e9e1a7e197a",
   "metadata": {},
   "outputs": [
    {
     "name": "stdin",
     "output_type": "stream",
     "text": [
      " Full Stack Data Science Pro\n"
     ]
    },
    {
     "name": "stdout",
     "output_type": "stream",
     "text": [
      "Length of the string: 27\n"
     ]
    }
   ],
   "source": [
    "# Function to find the length of a string without using len()\n",
    "def length(inputString):\n",
    "    count=0\n",
    "    for i in inputString:\n",
    "        count = count+1\n",
    "    return count\n",
    "\n",
    "# Taking input from the user\n",
    "userInput = input()\n",
    "\n",
    "# Calling the function\n",
    "length = length(userInput)\n",
    "\n",
    "# Printing the length of the string\n",
    "print(\"Length of the string:\",length)"
   ]
  },
  {
   "cell_type": "markdown",
   "id": "d812bf90-8f61-482a-84b0-ea4050a7042b",
   "metadata": {},
   "source": [
    " "
   ]
  },
  {
   "cell_type": "markdown",
   "id": "346c583c-e8fe-461d-851e-c264100838cf",
   "metadata": {},
   "source": [
    "<h5>9. Check if a string contains a specific word."
   ]
  },
  {
   "cell_type": "code",
   "execution_count": 217,
   "id": "7cc0bd7a-cb80-4769-befc-705ace8b46f7",
   "metadata": {},
   "outputs": [
    {
     "name": "stdin",
     "output_type": "stream",
     "text": [
      "Enter a string:  Full Stack Data Science Pro\n",
      "Enter the word to check for:  Full\n"
     ]
    },
    {
     "name": "stdout",
     "output_type": "stream",
     "text": [
      "The string contains the word 'Full'.\n"
     ]
    }
   ],
   "source": [
    "# Function to check if a string contains a specific word\n",
    "def checkSpecific(userInput,specificWord):\n",
    "    return specificWord in userInput\n",
    "\n",
    "# Taking input from the user\n",
    "userInput = input(\"Enter a string: \")\n",
    "\n",
    "# Taking the specific word from the user\n",
    "specificWord = input(\"Enter the word to check for: \")\n",
    "\n",
    "\n",
    "if checkSpecific(userInput,specificWord):\n",
    "    print(f\"The string contains the word '{specificWord}'.\")\n",
    "else:\n",
    "    print(f\"The string does not contain the word '{specificWord}'.\")"
   ]
  },
  {
   "cell_type": "markdown",
   "id": "b5993134-abc6-4dfd-830a-f634e5d94b69",
   "metadata": {},
   "source": [
    " "
   ]
  },
  {
   "cell_type": "markdown",
   "id": "f9a19952-f6e9-47ab-9d77-772eeaebd946",
   "metadata": {},
   "source": [
    "<h5>10. Replace a word in a string with another word."
   ]
  },
  {
   "cell_type": "code",
   "execution_count": 219,
   "id": "728fc41b-a33a-4255-9820-5bada1c10409",
   "metadata": {},
   "outputs": [
    {
     "name": "stdin",
     "output_type": "stream",
     "text": [
      "Enter a string:  Full Stack Data Science Pro\n",
      "Enter the word to replace:  Pro\n",
      "Enter the new word:  3.0\n"
     ]
    },
    {
     "name": "stdout",
     "output_type": "stream",
     "text": [
      "Modified string:  Full Stack Data Science 3.0\n"
     ]
    }
   ],
   "source": [
    "# Function to replace a word in a string with another word\n",
    "def replaceWord(inputString,oldWord,newWord):\n",
    "    return userInput.replace(oldWord,newWord)\n",
    "\n",
    "#taking input from user\n",
    "userInput=input(\"Enter a string: \")\n",
    "oldWord = input(\"Enter the word to replace: \")\n",
    "newWord = input(\"Enter the new word: \")\n",
    "\n",
    "# Printing the modified string\n",
    "print(\"Modified string: \",replaceWord(userInput,oldWord,newWord))"
   ]
  },
  {
   "cell_type": "markdown",
   "id": "3fec75f9-b749-4a14-967a-a5f92384c2e8",
   "metadata": {},
   "source": [
    " "
   ]
  },
  {
   "cell_type": "markdown",
   "id": "f3889b2d-59d8-4c90-8bde-ad3672eca0ff",
   "metadata": {},
   "source": [
    "<h5>11. Count the occurrences of a word in a string."
   ]
  },
  {
   "cell_type": "code",
   "execution_count": 220,
   "id": "9223821a-ad6e-4113-a6d5-a4d3d2b31628",
   "metadata": {},
   "outputs": [
    {
     "name": "stdin",
     "output_type": "stream",
     "text": [
      "Enter the string:  Full Stack Data Science Pro Pro\n",
      "Enter word to count occurences:  Pro\n"
     ]
    },
    {
     "name": "stdout",
     "output_type": "stream",
     "text": [
      "Number of occurences of 'Pro':  2\n"
     ]
    }
   ],
   "source": [
    "#Function to count occurences of a word in string\n",
    "def countOccurences(inputString,targetWord):\n",
    "    inputString = inputString.split()\n",
    "    count = 0\n",
    "    for i in inputString:\n",
    "        if i == targetWord:\n",
    "            count = count+1\n",
    "    return count\n",
    "\n",
    "#Taking user Input\n",
    "userInput= input(\"Enter the string: \")\n",
    "targetWord = input(\"Enter word to count occurences: \")\n",
    "\n",
    "#Printing Number of Occurences\n",
    "print(f\"Number of occurences of '{targetWord}': \",countOccurences(userInput,targetWord))\n",
    "    "
   ]
  },
  {
   "cell_type": "markdown",
   "id": "03813325-af2c-40cc-a73b-246731ba8dbd",
   "metadata": {},
   "source": [
    " "
   ]
  },
  {
   "cell_type": "markdown",
   "id": "8c456621-ccd9-4e7e-b14d-09121c05f2cf",
   "metadata": {},
   "source": [
    "<h5>12. Find the first occurrence of a word in a string."
   ]
  },
  {
   "cell_type": "code",
   "execution_count": 221,
   "id": "9803b3de-38e3-4884-a993-03dc591c9fb9",
   "metadata": {},
   "outputs": [
    {
     "name": "stdin",
     "output_type": "stream",
     "text": [
      "Enter a string:  Full Stack Data Science Pro Pro\n",
      "Enter the word to find the first occurrence:  Pro\n"
     ]
    },
    {
     "name": "stdout",
     "output_type": "stream",
     "text": [
      "The word 'Pro' first occurs at index 24.\n"
     ]
    }
   ],
   "source": [
    "# Function to find the first occurrence of a word in a string\n",
    "def firstOccurrence(inputString, targetWord):\n",
    "    return inputString.find(targetWord)\n",
    "    \n",
    "\n",
    "# Taking input from the user\n",
    "userInput = input(\"Enter a string: \")\n",
    "target = input(\"Enter the word to find the first occurrence: \")\n",
    "\n",
    "# Calling the function\n",
    "Index = firstOccurrence(userInput, target)\n",
    "\n",
    "#Displaying the result\n",
    "if Index != -1:\n",
    "    print(f\"The word '{target}' first occurs at index {Index}.\")\n",
    "else:\n",
    "    print(f\"The word '{target}' is not found in the string.\")"
   ]
  },
  {
   "cell_type": "markdown",
   "id": "3ec1a31d-4acd-4131-a28a-cbe6d82742c2",
   "metadata": {},
   "source": [
    " "
   ]
  },
  {
   "cell_type": "markdown",
   "id": "7dcd5146-c4f3-4796-8569-f91d911d7aaa",
   "metadata": {},
   "source": [
    "<h5>13. Find the last occurrence of a word in a string."
   ]
  },
  {
   "cell_type": "code",
   "execution_count": 222,
   "id": "cfffd9fc-a770-45fa-8f61-0323e051840a",
   "metadata": {},
   "outputs": [
    {
     "name": "stdin",
     "output_type": "stream",
     "text": [
      "Enter a string:  Full Stack Data Science Pro Pro\n",
      "Enter the word to find the first occurrence:  Pro\n"
     ]
    },
    {
     "name": "stdout",
     "output_type": "stream",
     "text": [
      "The word 'Pro' last occurs at index 28.\n"
     ]
    }
   ],
   "source": [
    "# Function to find the last occurrence of a word in a string\n",
    "def lastOccurrence(inputString, targetWord):\n",
    "    return inputString.rfind(targetWord)\n",
    "    \n",
    "\n",
    "# Taking input from the user\n",
    "userInput = input(\"Enter a string: \")\n",
    "target = input(\"Enter the word to find the first occurrence: \")\n",
    "\n",
    "# Calling the function\n",
    "Index = lastOccurrence(userInput, target)\n",
    "\n",
    "#printing the result\n",
    "if Index != -1:\n",
    "    print(f\"The word '{target}' last occurs at index {Index}.\")\n",
    "else:\n",
    "    print(f\"The word '{target}' is not found in the string.\")"
   ]
  },
  {
   "cell_type": "markdown",
   "id": "36864e41-6eba-419a-be1e-5ca89e362a40",
   "metadata": {},
   "source": [
    " "
   ]
  },
  {
   "cell_type": "markdown",
   "id": "b6a57103-7b7a-42f9-919b-22f774938c48",
   "metadata": {},
   "source": [
    "<h5>14. Split a string into a list of words."
   ]
  },
  {
   "cell_type": "code",
   "execution_count": 223,
   "id": "f1b80019-8f66-4cb7-8882-f1ee3625221d",
   "metadata": {},
   "outputs": [
    {
     "name": "stdin",
     "output_type": "stream",
     "text": [
      "Enter a string:  Full Stack Data Science Pro\n"
     ]
    },
    {
     "name": "stdout",
     "output_type": "stream",
     "text": [
      "List of words: ['Full', 'Stack', 'Data', 'Science', 'Pro']\n"
     ]
    }
   ],
   "source": [
    "# Function to split a string into a list of words\n",
    "def splitString(inputString):\n",
    "    return inputString.split()\n",
    "\n",
    "# Taking input from the user\n",
    "userInput = input(\"Enter a string: \")\n",
    "\n",
    "# Calling the function\n",
    "wordList = splitString(userInput)\n",
    "\n",
    "# Printing the result\n",
    "print(\"List of words:\", wordList)\n"
   ]
  },
  {
   "cell_type": "markdown",
   "id": "cb58ec03-b759-4c1a-ac4e-a49f8d3fa113",
   "metadata": {},
   "source": [
    " "
   ]
  },
  {
   "cell_type": "markdown",
   "id": "9956cf30-fc57-4608-8374-597c391721c9",
   "metadata": {},
   "source": [
    "<h5>15. Join a list of words into a string."
   ]
  },
  {
   "cell_type": "code",
   "execution_count": 224,
   "id": "012132d9-105d-4dec-a452-4ae4abcf4780",
   "metadata": {},
   "outputs": [
    {
     "name": "stdout",
     "output_type": "stream",
     "text": [
      "Joined string: Full Stack Data Science Pro\n"
     ]
    }
   ],
   "source": [
    "# Function to join a list of words into a string\n",
    "def joinWords(wordList):\n",
    "    return ' '.join(wordList)\n",
    "\n",
    "# List of words\n",
    "wordList  = ['Full', 'Stack', 'Data', 'Science', 'Pro']\n",
    "\n",
    "# Calling the function\n",
    "resultString = joinWords(wordList)\n",
    "\n",
    "# Printing the result\n",
    "print(\"Joined string:\", resultString)"
   ]
  },
  {
   "cell_type": "markdown",
   "id": "a7dbf807-f0ea-4992-b095-bd4d18d312ec",
   "metadata": {},
   "source": [
    " "
   ]
  },
  {
   "cell_type": "markdown",
   "id": "5d5137cd-1178-4b1b-a781-5c6f1a831977",
   "metadata": {},
   "source": [
    "<h5>16. Convert a string where words are separated by spaces to one where words\n",
    "are separated by underscores."
   ]
  },
  {
   "cell_type": "code",
   "execution_count": 225,
   "id": "c586454a-7210-4856-903f-ef2807276f1a",
   "metadata": {},
   "outputs": [
    {
     "name": "stdin",
     "output_type": "stream",
     "text": [
      "Enter a string:  Full Stack Data Science Pro\n"
     ]
    },
    {
     "name": "stdout",
     "output_type": "stream",
     "text": [
      "Modified string:  Full_Stack_Data_Science_Pro\n"
     ]
    }
   ],
   "source": [
    "# Function to convert a string where words are separated by spaces to one where words are separated by underscores\n",
    "def conSptoUn(inputString):\n",
    "    inputString = inputString.replace(' ','_')\n",
    "    return inputString\n",
    "\n",
    "# Taking input from the user\n",
    "userInput = input(\"Enter a string: \")\n",
    "\n",
    "# Calling function\n",
    "modifiedString = conSptoUn(userInput)\n",
    "\n",
    "# Printing the result\n",
    "print(\"Modified string: \",modifiedString)"
   ]
  },
  {
   "cell_type": "markdown",
   "id": "a5e434f2-8982-41a4-a94e-b42446ae22b9",
   "metadata": {},
   "source": [
    " "
   ]
  },
  {
   "cell_type": "markdown",
   "id": "081a9593-8c2e-42ea-9b4f-0501f7860ea6",
   "metadata": {},
   "source": [
    "<h5>17. Check if a string starts with a specific word or phrase."
   ]
  },
  {
   "cell_type": "code",
   "execution_count": 226,
   "id": "953f9a51-ecdd-4187-bcbb-d2d83ec8f781",
   "metadata": {},
   "outputs": [
    {
     "name": "stdin",
     "output_type": "stream",
     "text": [
      "Enter a string:  Full Stack Data Science Pro\n",
      "Enter the word or phrase to check:  Full\n"
     ]
    },
    {
     "name": "stdout",
     "output_type": "stream",
     "text": [
      "Yes\n"
     ]
    }
   ],
   "source": [
    "# Function to check if a string starts with a specific word or phrase\n",
    "def startWord(inputString, word):\n",
    "    return inputString.startswith(word)\n",
    "    \n",
    "\n",
    "# Taking input for the string\n",
    "userInput = input(\"Enter a string: \")\n",
    "word = input(\"Enter the word or phrase to check: \")\n",
    "\n",
    "# Calling the function \n",
    "x = startWord(userInput, word)\n",
    "\n",
    "# Checking the result \n",
    "if x:\n",
    "    print(\"Yes\")\n",
    "else:\n",
    "    print(\"No\")\n"
   ]
  },
  {
   "cell_type": "markdown",
   "id": "40b6bcef-5f28-402b-bf6f-f083c13eadca",
   "metadata": {},
   "source": [
    " "
   ]
  },
  {
   "cell_type": "markdown",
   "id": "d552596b-94fb-4562-ad43-657c2375b0a7",
   "metadata": {},
   "source": [
    "<h5>18. Check if a string ends with a specific word or phrase."
   ]
  },
  {
   "cell_type": "code",
   "execution_count": 227,
   "id": "b7405b2a-9e5e-4942-b2b7-0de5a8061330",
   "metadata": {},
   "outputs": [
    {
     "name": "stdin",
     "output_type": "stream",
     "text": [
      "Enter a string:  Full Stack Data Science Pro\n",
      "Enter the word or phrase to check:  Pro\n"
     ]
    },
    {
     "name": "stdout",
     "output_type": "stream",
     "text": [
      "Yes\n"
     ]
    }
   ],
   "source": [
    "# Function to check if a string ends with a specific word or phrase\n",
    "def startWord(inputString, word):\n",
    "    return inputString.endswith(word)\n",
    "    \n",
    "\n",
    "# Taking input for the string\n",
    "userInput = input(\"Enter a string: \")\n",
    "word = input(\"Enter the word or phrase to check: \")\n",
    "\n",
    "# Calling the function \n",
    "x = startWord(userInput, word)\n",
    "\n",
    "# Checking the result \n",
    "if x:\n",
    "    print(\"Yes\")\n",
    "else:\n",
    "    print(\"No\")\n"
   ]
  },
  {
   "cell_type": "markdown",
   "id": "df92eaf5-fc2a-4b2a-805c-900d914d072f",
   "metadata": {},
   "source": [
    " "
   ]
  },
  {
   "cell_type": "markdown",
   "id": "d3df2d9b-abed-4ced-9ca8-5b86f497cbbe",
   "metadata": {},
   "source": [
    "<h5>19. Convert a string to title case (e.g., \"hello world\" to \"Hello World\")."
   ]
  },
  {
   "cell_type": "code",
   "execution_count": 228,
   "id": "2503426c-a361-439a-8bd3-14f2c51d2405",
   "metadata": {},
   "outputs": [
    {
     "name": "stdin",
     "output_type": "stream",
     "text": [
      "Enter a string:  Full stack data science pro\n"
     ]
    },
    {
     "name": "stdout",
     "output_type": "stream",
     "text": [
      "Title case:  Full Stack Data Science Pro\n"
     ]
    }
   ],
   "source": [
    "#Function to convert string to title case\n",
    "def convTitleCase(inputString):\n",
    "    return inputString.title()\n",
    "\n",
    "# Taking user input\n",
    "userInput = input(\"Enter a string: \")\n",
    "\n",
    "# Calling the function \n",
    "result = convTitleCase(userInput)\n",
    "\n",
    "# Printing the result\n",
    "print(\"Title case: \", result)"
   ]
  },
  {
   "cell_type": "markdown",
   "id": "71a882a5-aaf0-44c1-a67f-0321b5b63278",
   "metadata": {},
   "source": [
    " "
   ]
  },
  {
   "cell_type": "markdown",
   "id": "b784d9de-7536-4de1-bd1b-f9cb8e18b860",
   "metadata": {},
   "source": [
    "<h5>20. Find the longest word in a string."
   ]
  },
  {
   "cell_type": "code",
   "execution_count": 229,
   "id": "4ba09a24-79e0-494c-a113-def6914c1d73",
   "metadata": {},
   "outputs": [
    {
     "name": "stdin",
     "output_type": "stream",
     "text": [
      "Enter String:  Full Stack Data Science Pro\n"
     ]
    },
    {
     "name": "stdout",
     "output_type": "stream",
     "text": [
      "Longest word:  Science\n"
     ]
    }
   ],
   "source": [
    "#Function to find longest word\n",
    "def findLongestWord(inputString):\n",
    "    inputString = inputString.split()\n",
    "    \n",
    "    longestWord = ''\n",
    "    maxLength=0\n",
    "    for i in inputString:\n",
    "        if len(i) > maxLength:\n",
    "            maxLength=len(i)\n",
    "            longestWord = i\n",
    "    return longestWord\n",
    "\n",
    "#Taking user input\n",
    "inputString = input(\"Enter String: \")\n",
    "\n",
    "#Calling Function\n",
    "result = findLongestWord(inputString)\n",
    "\n",
    "#Printing Result\n",
    "print(\"Longest word: \", result)"
   ]
  },
  {
   "cell_type": "markdown",
   "id": "fc7b73d7-6f01-4608-9680-a7d37d82b9a2",
   "metadata": {},
   "source": [
    " "
   ]
  },
  {
   "cell_type": "markdown",
   "id": "04df3d58-8bb1-46cd-b2a2-d0a7b7d131da",
   "metadata": {},
   "source": [
    "<h5>21. Find the shortest word in a string"
   ]
  },
  {
   "cell_type": "code",
   "execution_count": 230,
   "id": "345f6028-f79e-481e-875b-582424a2f6a0",
   "metadata": {},
   "outputs": [
    {
     "name": "stdin",
     "output_type": "stream",
     "text": [
      "Enter String:  Full Stack Data Science Pro\n"
     ]
    },
    {
     "name": "stdout",
     "output_type": "stream",
     "text": [
      "Shortest word:  Pro\n"
     ]
    }
   ],
   "source": [
    "#Function to find shortest word\n",
    "def findShortestWord(inputString):\n",
    "    inputString = inputString.split()\n",
    "    shortestWord = ''\n",
    "    minLength=float('inf') \n",
    "    for i in inputString:\n",
    "        if len(i) < minLength:\n",
    "            minLength=len(i)\n",
    "            shortestWord = i\n",
    "    return shortestWord\n",
    "\n",
    "#Taking user input\n",
    "inputString = input(\"Enter String: \")\n",
    "\n",
    "#Calling Function\n",
    "result = findShortestWord(inputString)\n",
    "\n",
    "#Printing Result\n",
    "print(\"Shortest word: \", result)"
   ]
  },
  {
   "cell_type": "markdown",
   "id": "0d26a60c-e744-49cc-aaa4-e85bcc491abf",
   "metadata": {},
   "source": [
    " "
   ]
  },
  {
   "cell_type": "markdown",
   "id": "1d361684-190e-46c8-9b5b-fc9bd163c9ed",
   "metadata": {},
   "source": [
    "<h5>22. Reverse the order of words in a string."
   ]
  },
  {
   "cell_type": "code",
   "execution_count": 231,
   "id": "84c9065c-2aa0-4910-97a0-9c684cdaa2e6",
   "metadata": {},
   "outputs": [
    {
     "name": "stdin",
     "output_type": "stream",
     "text": [
      "Enter the String:  Full Stack Data Science Pro\n"
     ]
    },
    {
     "name": "stdout",
     "output_type": "stream",
     "text": [
      "Reversed String:  Pro Science Data Stack Full\n"
     ]
    }
   ],
   "source": [
    "# Function to Reverse the order of words in a string.\n",
    "def revWords(inputString):\n",
    "    words = inputString.split()\n",
    "    reversedString = ' '.join(reversed(words))\n",
    "    return reversedString\n",
    "\n",
    "# Taking User Input\n",
    "userInput = input( \"Enter the String: \")\n",
    "\n",
    "#Calling Function\n",
    "result = revWords(userInput)\n",
    "\n",
    "#Displaying Result\n",
    "print(\"Reversed String: \",result)"
   ]
  },
  {
   "cell_type": "markdown",
   "id": "e9850e25-2912-415c-87f1-0c65020f044b",
   "metadata": {},
   "source": [
    " "
   ]
  },
  {
   "cell_type": "markdown",
   "id": "dc1b75e9-6810-48dd-bfeb-58e1ae0b9cbc",
   "metadata": {},
   "source": [
    "<h5>23. Check if a string is alphanumeric"
   ]
  },
  {
   "cell_type": "code",
   "execution_count": 232,
   "id": "49c65bb0-20d4-489c-89f2-638563efd57f",
   "metadata": {},
   "outputs": [
    {
     "name": "stdin",
     "output_type": "stream",
     "text": [
      "Enter The String:  Full Stack Data Science Pro\n"
     ]
    },
    {
     "name": "stdout",
     "output_type": "stream",
     "text": [
      "String is Not Alpha Numeric\n"
     ]
    }
   ],
   "source": [
    "# Function to check if string is alphanumeric\n",
    "def checkAlphaNum(inputString):\n",
    "    return inputString.isalnum()\n",
    "\n",
    "# Taking user input\n",
    "userInput = input(\"Enter The String: \")\n",
    "\n",
    "# Calling function\n",
    "if checkAlphaNum(userInput):\n",
    "    print(\"String is Alpha Numeric\")\n",
    "else:\n",
    "    print(\"String is Not Alpha Numeric\")\n"
   ]
  },
  {
   "cell_type": "markdown",
   "id": "ea096904-5eca-4b9c-8f5e-72367bfc1bbe",
   "metadata": {},
   "source": [
    " "
   ]
  },
  {
   "cell_type": "markdown",
   "id": "c06630ad-8a2a-4118-b981-cae4d82eebb7",
   "metadata": {},
   "source": [
    "<h5>24. Extract all digits from a string."
   ]
  },
  {
   "cell_type": "code",
   "execution_count": 234,
   "id": "7665e53c-8ea3-4a89-a36a-1ce115d80185",
   "metadata": {},
   "outputs": [
    {
     "name": "stdin",
     "output_type": "stream",
     "text": [
      "Enter a string:  Full Stack Data Science Pro 3.0\n"
     ]
    },
    {
     "name": "stdout",
     "output_type": "stream",
     "text": [
      "30\n"
     ]
    }
   ],
   "source": [
    "# Function to extract digits from a string\n",
    "def extractDigit(inputString):\n",
    "    lst = []\n",
    "    for i in inputString:\n",
    "        if i.isdigit():\n",
    "            lst.append(i)\n",
    "    return ''.join(lst)\n",
    "\n",
    "# Taking user input\n",
    "userInput = input(\"Enter a string: \")\n",
    "\n",
    "# Calling function\n",
    "result = extractDigit(userInput) \n",
    "\n",
    "# Displaying result\n",
    "print(result)"
   ]
  },
  {
   "cell_type": "markdown",
   "id": "ecf4e94e-9f78-46ed-8791-efe9aa0329aa",
   "metadata": {},
   "source": [
    " "
   ]
  },
  {
   "cell_type": "markdown",
   "id": "e7ebb7b7-a175-4404-b657-8b59ae793b51",
   "metadata": {},
   "source": [
    "<h5>25. Extract all alphabets from a string."
   ]
  },
  {
   "cell_type": "code",
   "execution_count": 235,
   "id": "604e8727-2d33-44cd-8969-b9aa4d254755",
   "metadata": {},
   "outputs": [
    {
     "name": "stdin",
     "output_type": "stream",
     "text": [
      "Enter a string:  Full Stack Data Science Pro 3.0\n"
     ]
    },
    {
     "name": "stdout",
     "output_type": "stream",
     "text": [
      "FullStackDataSciencePro\n"
     ]
    }
   ],
   "source": [
    "# Function to extract alphabets from a string\n",
    "def extractAlpha(inputString):\n",
    "    lst = []\n",
    "    for i in inputString:\n",
    "        if i.isalpha():\n",
    "            lst.append(i)\n",
    "    return ''.join(lst)\n",
    "\n",
    "# Taking user input\n",
    "userInput = input(\"Enter a string: \")\n",
    "\n",
    "# Calling function\n",
    "result = extractAlpha(userInput) \n",
    "\n",
    "# Displaying result\n",
    "print(result)"
   ]
  },
  {
   "cell_type": "markdown",
   "id": "5f7458e6-99b0-47c6-ba5c-00dad7d510af",
   "metadata": {},
   "source": [
    "  "
   ]
  },
  {
   "cell_type": "markdown",
   "id": "51af7658-18a7-49c1-831a-7ae2f42d8a30",
   "metadata": {},
   "source": [
    "<h5>26. Count the number of uppercase letters in a string."
   ]
  },
  {
   "cell_type": "code",
   "execution_count": 236,
   "id": "bddc1674-e259-437b-adfe-869c063fcdf8",
   "metadata": {},
   "outputs": [
    {
     "name": "stdin",
     "output_type": "stream",
     "text": [
      "Enter the String:  Full Stack Data Science Pro\n"
     ]
    },
    {
     "name": "stdout",
     "output_type": "stream",
     "text": [
      "Number of Uppercase letter in string:  5\n"
     ]
    }
   ],
   "source": [
    "#Function to count number of uppercase letter\n",
    "def countUpperCase(inputString):\n",
    "    count = 0\n",
    "    for i in inputString:\n",
    "        if i.isupper():\n",
    "            count =count +  1\n",
    "    return count\n",
    "\n",
    "#Taking User Input\n",
    "userInput = input(\"Enter the String: \")\n",
    "\n",
    "#Calling Function\n",
    "result = countUpperCase(userInput)\n",
    "\n",
    "#Displaying result \n",
    "print(\"Number of Uppercase letter in string: \", result)"
   ]
  },
  {
   "cell_type": "markdown",
   "id": "a95e7fbf-ae80-4fdf-a916-802940a4c92b",
   "metadata": {},
   "source": [
    " "
   ]
  },
  {
   "cell_type": "markdown",
   "id": "b39b7e2f-6b85-461f-b563-7fce8d2b3c66",
   "metadata": {},
   "source": [
    "<h5>27. Count the number of lowercase letters in a string"
   ]
  },
  {
   "cell_type": "code",
   "execution_count": 237,
   "id": "8a9bf2c0-4e2d-4b13-ba8e-dd2f0e3cac3a",
   "metadata": {},
   "outputs": [
    {
     "name": "stdin",
     "output_type": "stream",
     "text": [
      "Enter the String:  Full Stack Data Science Pro\n"
     ]
    },
    {
     "name": "stdout",
     "output_type": "stream",
     "text": [
      "Number of Uppercase letter in string:  18\n"
     ]
    }
   ],
   "source": [
    "#Function to count number of lowercase letter\n",
    "def countLowerCase(inputString):\n",
    "    count = 0\n",
    "    for i in inputString:\n",
    "        if i.islower():\n",
    "            count =count +  1\n",
    "    return count\n",
    "\n",
    "#Taking User Input\n",
    "userInput = input(\"Enter the String: \")\n",
    "\n",
    "#Calling Function\n",
    "result = countLowerCase(userInput)\n",
    "\n",
    "#Displaying result \n",
    "print(\"Number of Uppercase letter in string: \", result)"
   ]
  },
  {
   "cell_type": "markdown",
   "id": "cde73c51-72fa-43e7-8efe-a5fdc801039b",
   "metadata": {},
   "source": [
    " "
   ]
  },
  {
   "cell_type": "markdown",
   "id": "6453c118-aff8-499f-a8ca-e848bd3c6e6f",
   "metadata": {},
   "source": [
    "<h5>28. Swap the case of each character in a string."
   ]
  },
  {
   "cell_type": "code",
   "execution_count": 239,
   "id": "eeafe941-ed5f-42ed-8f16-fe9b848ab19e",
   "metadata": {},
   "outputs": [
    {
     "name": "stdin",
     "output_type": "stream",
     "text": [
      "Enter The string:  Full Stack Data Science Pro\n"
     ]
    },
    {
     "name": "stdout",
     "output_type": "stream",
     "text": [
      "fULL sTACK dATA sCIENCE pRO\n"
     ]
    }
   ],
   "source": [
    "#Function To Swap casees\n",
    "def swapCase(inputString):\n",
    "    temp = ''\n",
    "    for i in inputString:\n",
    "        if i != ' ' :\n",
    "            if i.isupper():\n",
    "                temp= temp+i.lower()\n",
    "            else:\n",
    "                temp = temp+i.upper()\n",
    "        else:\n",
    "            temp = temp+' '\n",
    "    return temp\n",
    "    \n",
    "    #return s.swapcase()\n",
    "\n",
    "#Taking User Input\n",
    "userInput = input(\"Enter The string: \")\n",
    "print(swapCase(s))\n",
    "            \n",
    "            "
   ]
  },
  {
   "cell_type": "markdown",
   "id": "51bd00e9-ca6b-4235-a005-5008d99c8dce",
   "metadata": {},
   "source": [
    " "
   ]
  },
  {
   "cell_type": "markdown",
   "id": "451d87a6-cfd8-44a3-b24e-7bc62cde6cc2",
   "metadata": {},
   "source": [
    "<h5>29. Remove a specific word from a string."
   ]
  },
  {
   "cell_type": "code",
   "execution_count": 240,
   "id": "21586fdc-94ba-42a1-b690-113c9a2afe79",
   "metadata": {},
   "outputs": [
    {
     "name": "stdin",
     "output_type": "stream",
     "text": [
      "Enter Sring:  Full Stack Data Science Pro\n",
      "Enter word to remove:  Data\n"
     ]
    },
    {
     "name": "stdout",
     "output_type": "stream",
     "text": [
      "Modified String:  Full Stack Science Pro\n"
     ]
    }
   ],
   "source": [
    "#Function to remmove specific word from string\n",
    "def removeWord(inputString,word):\n",
    "    inputString = inputString.split()\n",
    "    inputString.remove(word)\n",
    "    return ' '.join(inputString)\n",
    "\n",
    "#Taking user input\n",
    "userInput = input(\"Enter Sring: \")\n",
    "word = input(\"Enter word to remove: \")\n",
    "\n",
    "#Calling Function\n",
    "modifiedString = removeWord(userInput,word)\n",
    "\n",
    "\n",
    "#Displaying Result\n",
    "print(\"Modified String: \",modifiedString)"
   ]
  },
  {
   "cell_type": "markdown",
   "id": "fc25dbac-e5ee-43d2-95db-4063254ea3d5",
   "metadata": {},
   "source": [
    " "
   ]
  },
  {
   "cell_type": "markdown",
   "id": "3a5232f4-3a24-4b5a-b200-c92daced5164",
   "metadata": {},
   "source": [
    "<h5>30. Check if a string is a valid email address."
   ]
  },
  {
   "cell_type": "code",
   "execution_count": 241,
   "id": "738f8326-dc48-4133-8bf7-da8b80487717",
   "metadata": {},
   "outputs": [
    {
     "name": "stdin",
     "output_type": "stream",
     "text": [
      "Enter an email address:  support@pwskills.com\n"
     ]
    },
    {
     "name": "stdout",
     "output_type": "stream",
     "text": [
      "The email address is valid.\n"
     ]
    }
   ],
   "source": [
    "#30. Function to Check if a string is a valid email address.\n",
    "import re\n",
    "\n",
    "def isValidEmail(email):\n",
    "    '''\n",
    "    [a-zA-Z0-9_.+-]+   : one or more occurrences of the characters\n",
    "    @  : Matches the \"@\" symbol.\n",
    "    [a-zA-Z0-9-]+   : one or more occurrences of the characters inside the brackets:\n",
    "    \\.  : Escaped dot. Matches a literal dot.\n",
    "    [a-zA-Z0-9-.]+   : Matches one or more occurrences of the characters inside the brackets:\n",
    "\n",
    "\n",
    "\n",
    "    \n",
    "    '''\n",
    "    pattern = r'^[a-zA-Z0-9_.+-]+@[a-zA-Z0-9-]+\\.[a-zA-Z0-9-.]+$' \n",
    "    match = re.match(pattern, email)    \n",
    "    return bool(match)\n",
    "\n",
    "# Taking user input\n",
    "userEmail = input(\"Enter an email address: \")\n",
    "\n",
    "# Calling function\n",
    "if isValidEmail(userEmail):\n",
    "    print(\"The email address is valid.\")\n",
    "else:\n",
    "    print(\"The email address is not valid.\")\n",
    "\n",
    "    "
   ]
  },
  {
   "cell_type": "markdown",
   "id": "fd6024ec-79df-4705-84d1-4beb28bc571c",
   "metadata": {},
   "source": [
    " "
   ]
  },
  {
   "cell_type": "markdown",
   "id": "61daaacc-c4db-46d4-82ef-b4189a0e7cec",
   "metadata": {},
   "source": [
    "<h5>31. Extract the username from an email address string."
   ]
  },
  {
   "cell_type": "code",
   "execution_count": 242,
   "id": "230b2c9e-8cb2-423a-853a-9836238c6274",
   "metadata": {},
   "outputs": [
    {
     "name": "stdin",
     "output_type": "stream",
     "text": [
      "Enter an email address:  support@pwskills.com\n"
     ]
    },
    {
     "name": "stdout",
     "output_type": "stream",
     "text": [
      "Username:  support\n"
     ]
    }
   ],
   "source": [
    "#31. Function Extract the username from an email address string.\n",
    "def extUser(email):\n",
    "    s = email.split('@')\n",
    "    return s[0]\n",
    "\n",
    "# Taking user input\n",
    "userEmail = input(\"Enter an email address: \")\n",
    "\n",
    "#Calling Function\n",
    "userName = extUser(userEmail)\n",
    "\n",
    "#Displaying Username\n",
    "print(\"Username: \",userName)\n",
    "    "
   ]
  },
  {
   "cell_type": "markdown",
   "id": "512fccd2-2c27-4db9-ae48-d1b403ee3735",
   "metadata": {},
   "source": [
    " "
   ]
  },
  {
   "cell_type": "markdown",
   "id": "14b4ace6-0db8-4df7-a4ae-4b8d7b7768d0",
   "metadata": {},
   "source": [
    "<h5>32. Extract the domain name from an email address string."
   ]
  },
  {
   "cell_type": "code",
   "execution_count": 243,
   "id": "f5a71503-dd41-4a1f-9a6b-7f289bcea652",
   "metadata": {},
   "outputs": [
    {
     "name": "stdin",
     "output_type": "stream",
     "text": [
      "Enter an email address:  support@pwskills.com\n"
     ]
    },
    {
     "name": "stdout",
     "output_type": "stream",
     "text": [
      "Domain:  pwskills\n"
     ]
    }
   ],
   "source": [
    "#31. Function Extract the Domain name from an email address string.\n",
    "def extDomain(email):\n",
    "    s = email.split('@')\n",
    "    x = s[1].split('.')\n",
    "    return x[0]\n",
    "\n",
    "# Taking user input\n",
    "userEmail = input(\"Enter an email address: \")\n",
    "\n",
    "#Calling Function\n",
    "domainName = extDomain(userEmail)\n",
    "\n",
    "#Displaying Domain\n",
    "print(\"Domain: \",domainName)\n",
    "    "
   ]
  },
  {
   "cell_type": "markdown",
   "id": "4d51b257-f424-404f-bb0b-842679edede0",
   "metadata": {},
   "source": [
    " "
   ]
  },
  {
   "cell_type": "markdown",
   "id": "2b19349b-f98f-4555-bd80-8820d14addd5",
   "metadata": {},
   "source": [
    "<h5>33. Replace multiple spaces in a string with a single space."
   ]
  },
  {
   "cell_type": "code",
   "execution_count": 251,
   "id": "49466c74-9037-4630-a862-b32ed5a0e114",
   "metadata": {},
   "outputs": [
    {
     "name": "stdin",
     "output_type": "stream",
     "text": [
      "Enter the string:  Full Stack Data Science Pro\n"
     ]
    },
    {
     "name": "stdout",
     "output_type": "stream",
     "text": [
      "Modified String:  Full Stack Data Science Pro\n"
     ]
    }
   ],
   "source": [
    "#Function to Replace multiple spaces in a string with a single space.\n",
    "def repSpaces(inputString):\n",
    "    length = len(inputString)\n",
    "    s = inputString[0] \n",
    "    for i in range(1, length):\n",
    "        if inputString[i] == ' ' and inputString[i-1] == ' ':\n",
    "            continue\n",
    "        else:\n",
    "            s = s + inputString[i]\n",
    "    return s\n",
    "\n",
    "# Taking User Input\n",
    "userInput = input(\"Enter the string: \")\n",
    "\n",
    "# Calling Function\n",
    "modifiedString = repSpaces(userInput)\n",
    "\n",
    "# Displaying result\n",
    "print(\"Modified String: \", modifiedString)\n"
   ]
  },
  {
   "cell_type": "markdown",
   "id": "fc4461ee-3db3-4273-bca4-0758a2b78a7e",
   "metadata": {},
   "source": [
    " "
   ]
  },
  {
   "cell_type": "markdown",
   "id": "f09bd573-dd18-4db3-aac9-ff3ef8cb9883",
   "metadata": {},
   "source": [
    "<h5>34. Check if a string is a valid URL"
   ]
  },
  {
   "cell_type": "code",
   "execution_count": 252,
   "id": "a6c79caf-5618-4e0e-a182-e1a1544f73bb",
   "metadata": {},
   "outputs": [
    {
     "name": "stdin",
     "output_type": "stream",
     "text": [
      "Enter a URL:  https://learn.pwskills.com/\n"
     ]
    },
    {
     "name": "stdout",
     "output_type": "stream",
     "text": [
      "The URL is valid.\n"
     ]
    }
   ],
   "source": [
    "'''\n",
    "import validators\n",
    "\n",
    "def isValid(url):\n",
    "    return validators.url(url)\n",
    "\n",
    "'''\n",
    "from urllib.parse import urlparse\n",
    "\n",
    "#Function Check if a string is a valid URL\n",
    "def isValid(url):\n",
    "    try:\n",
    "        result = urlparse(url)\n",
    "        return all([result.scheme, result.netloc])\n",
    "    except ValueError:\n",
    "        return False\n",
    "\n",
    "# Taking user input\n",
    "userUrl = input(\"Enter a URL: \")\n",
    "\n",
    "# Calling function\n",
    "if isValid(userUrl):\n",
    "    print(\"The URL is valid.\")\n",
    "else:\n",
    "    print(\"The URL is not valid.\")\n"
   ]
  },
  {
   "cell_type": "markdown",
   "id": "21fef1a8-0a3d-43d9-97f0-35bbaeea23cc",
   "metadata": {},
   "source": [
    " "
   ]
  },
  {
   "cell_type": "markdown",
   "id": "71ebb203-11a3-4039-8e34-db661051e580",
   "metadata": {},
   "source": [
    "<h5>35. Extract the protocol (http or https) from a URL string."
   ]
  },
  {
   "cell_type": "code",
   "execution_count": 253,
   "id": "138283a5-6cc2-4f63-80e7-58f029434800",
   "metadata": {},
   "outputs": [
    {
     "name": "stdin",
     "output_type": "stream",
     "text": [
      "Enter URL:  https://learn.pwskills.com/\n"
     ]
    },
    {
     "name": "stdout",
     "output_type": "stream",
     "text": [
      "Protocol in https://learn.pwskills.com/ is:  https\n"
     ]
    }
   ],
   "source": [
    "#Function to Extract the protocol (http or https) from a URL string\n",
    "def extractPro(url):\n",
    "    url = url.split('://')\n",
    "    return url[0]\n",
    "\n",
    "#Taking user input \n",
    "inputUrl = input(\"Enter URL: \")\n",
    "\n",
    "#Calling Function\n",
    "protocol = extractPro(inputUrl)\n",
    "\n",
    "#displaying protocol\n",
    "print(f\"Protocol in {inputUrl} is: \",protocol)"
   ]
  },
  {
   "cell_type": "markdown",
   "id": "ea5020d1-86ea-42bd-891c-8dd7daf6c96b",
   "metadata": {},
   "source": [
    "  "
   ]
  },
  {
   "cell_type": "markdown",
   "id": "4a52d0f8-53a7-4cd4-a337-5aece78f77d7",
   "metadata": {},
   "source": [
    "<h5>36. Find the frequency of each character in a string"
   ]
  },
  {
   "cell_type": "code",
   "execution_count": 255,
   "id": "222d1a9a-e584-4463-b880-8a20be415006",
   "metadata": {},
   "outputs": [
    {
     "name": "stdin",
     "output_type": "stream",
     "text": [
      "Enter string:  Full Stack Data Science Pro\n"
     ]
    },
    {
     "name": "stdout",
     "output_type": "stream",
     "text": [
      "Frequency of 'f' in string : 1\n",
      "Frequency of 'u' in string : 1\n",
      "Frequency of 'l' in string : 2\n",
      "Frequency of ' ' in string : 4\n",
      "Frequency of 's' in string : 2\n",
      "Frequency of 't' in string : 2\n",
      "Frequency of 'a' in string : 3\n",
      "Frequency of 'c' in string : 3\n",
      "Frequency of 'k' in string : 1\n",
      "Frequency of 'd' in string : 1\n",
      "Frequency of 'i' in string : 1\n",
      "Frequency of 'e' in string : 2\n",
      "Frequency of 'n' in string : 1\n",
      "Frequency of 'p' in string : 1\n",
      "Frequency of 'r' in string : 1\n",
      "Frequency of 'o' in string : 1\n"
     ]
    }
   ],
   "source": [
    "#Function to Find the frequency of each character in a string\n",
    "def checkFreq(inputString):\n",
    "    dict = {}\n",
    "    for i in inputString.lower():\n",
    "        if i not in dict:\n",
    "            dict[i] = 1\n",
    "        elif i in dict:\n",
    "            dict[i] = dict[i] + 1\n",
    "    return dict\n",
    "\n",
    "#Taking user Input\n",
    "userInput = input(\"Enter string: \")\n",
    "\n",
    "#Calling Function\n",
    "dict = checkFreq(userInput)\n",
    "\n",
    "#Displaying Result\n",
    "for i in dict:\n",
    "    print(f\"Frequency of '{i}' in string : {dict[i]}\")\n",
    "            "
   ]
  },
  {
   "cell_type": "markdown",
   "id": "c844f051-a438-4308-8a49-7ed9dde64f76",
   "metadata": {},
   "source": [
    " "
   ]
  },
  {
   "cell_type": "markdown",
   "id": "5132bed5-3c3c-437e-b01b-ced3a3f009db",
   "metadata": {},
   "source": [
    "<h5>37. Remove all punctuation from a string."
   ]
  },
  {
   "cell_type": "code",
   "execution_count": 257,
   "id": "19443779-e9c2-4053-8773-2d72c3a66417",
   "metadata": {},
   "outputs": [
    {
     "name": "stdin",
     "output_type": "stream",
     "text": [
      "Enter the string:  Full Stack Data-Science (Pro) batch's\n"
     ]
    },
    {
     "name": "stdout",
     "output_type": "stream",
     "text": [
      "Modified String:  Full Stack DataScience Pro batchs\n"
     ]
    }
   ],
   "source": [
    "#Funtion to remove punctuation\n",
    "def removePunc(inputString):\n",
    "    temp = ''\n",
    "    for i in inputString:\n",
    "        if i.isalnum():\n",
    "            temp = temp + i\n",
    "        elif i == ' ':\n",
    "            temp = temp + ' '\n",
    "    return temp\n",
    "\n",
    "#taking User Input\n",
    "userInput = input(\"Enter the string: \")\n",
    "\n",
    "#Calling Function \n",
    "modifiedString = removePunc(userInput)\n",
    "\n",
    "#Displaying Result\n",
    "print(\"Modified String: \",modifiedString)"
   ]
  },
  {
   "cell_type": "markdown",
   "id": "ece8041c-ee24-46c8-b5cd-7cc9e8daef7f",
   "metadata": {},
   "source": [
    " "
   ]
  },
  {
   "cell_type": "markdown",
   "id": "9d367733-f916-48e7-b9a9-668c3518aa88",
   "metadata": {},
   "source": [
    "<h5>38. Check if a string contains only digits"
   ]
  },
  {
   "cell_type": "code",
   "execution_count": 258,
   "id": "87500156-668e-42cf-b205-23dd2b10e52f",
   "metadata": {},
   "outputs": [
    {
     "name": "stdin",
     "output_type": "stream",
     "text": [
      "Enter the string:  Full Stack Data Science Pro 3.0 2023\n"
     ]
    },
    {
     "name": "stdout",
     "output_type": "stream",
     "text": [
      "String Not Contain only Digit\n"
     ]
    }
   ],
   "source": [
    "#Function to Check if a string contains only digits\n",
    "def checkDig(inputString):\n",
    "    for i in inputString:\n",
    "        if i.isdigit() != True:\n",
    "            return False\n",
    "    return True\n",
    "\n",
    "\n",
    "#taking User Input\n",
    "userInput = input(\"Enter the string: \")\n",
    "\n",
    "#Calling Function \n",
    "result = checkDig(userInput)\n",
    "\n",
    "#Displaying Result\n",
    "if result:\n",
    "    print(\"String Contain only Digit\")\n",
    "else:\n",
    "     print(\"String Not Contain only Digit\")"
   ]
  },
  {
   "cell_type": "markdown",
   "id": "40ee3e7c-1340-4cbb-9f39-34dc950bd321",
   "metadata": {},
   "source": [
    " "
   ]
  },
  {
   "cell_type": "markdown",
   "id": "a2e92f5f-3d71-4c5f-a056-86dd00ca5386",
   "metadata": {},
   "source": [
    "<h5>39. Check if a string contains only alphabets."
   ]
  },
  {
   "cell_type": "code",
   "execution_count": 259,
   "id": "22047849-2e5a-4226-99fc-1ced5d796289",
   "metadata": {},
   "outputs": [
    {
     "name": "stdin",
     "output_type": "stream",
     "text": [
      "Enter the string:  Full Stack Data Science Pro 3.0 2023\n"
     ]
    },
    {
     "name": "stdout",
     "output_type": "stream",
     "text": [
      "String Not Contain only Alphabets\n"
     ]
    }
   ],
   "source": [
    "#Function to Check if a string contains only alphabets\n",
    "def checkAlp(inputString):\n",
    "    for i in inputString:\n",
    "        if i.isalpha() != True:\n",
    "            return False\n",
    "    return True\n",
    "\n",
    "\n",
    "#taking User Input\n",
    "userInput = input(\"Enter the string: \")\n",
    "\n",
    "#Calling Function \n",
    "result = checkAlp(userInput)\n",
    "\n",
    "#Displaying Result\n",
    "if result:\n",
    "    print(\"String Contain only Alphabets\")\n",
    "else:\n",
    "     print(\"String Not Contain only Alphabets\")"
   ]
  },
  {
   "cell_type": "markdown",
   "id": "1e94352c-6172-401e-8cb1-950a05d2e02f",
   "metadata": {},
   "source": [
    " "
   ]
  },
  {
   "cell_type": "markdown",
   "id": "e9347546-b58b-4058-a9eb-7a547c1b1969",
   "metadata": {},
   "source": [
    "<h5>40. Convert a string to a list of characters"
   ]
  },
  {
   "cell_type": "code",
   "execution_count": 260,
   "id": "4fb64088-85a8-4ea2-8063-bb75337713f8",
   "metadata": {},
   "outputs": [
    {
     "name": "stdin",
     "output_type": "stream",
     "text": [
      "Enter the string:  Full Stack Data Science Pro\n"
     ]
    },
    {
     "name": "stdout",
     "output_type": "stream",
     "text": [
      "List of characters:  ['F', 'u', 'l', 'l', ' ', 'S', 't', 'a', 'c', 'k', ' ', 'D', 'a', 't', 'a', ' ', 'S', 'c', 'i', 'e', 'n', 'c', 'e', ' ', 'P', 'r', 'o']\n"
     ]
    }
   ],
   "source": [
    "#Function to Convert a string to a list of characters\n",
    "def convStr(inputString):\n",
    "    return list(inputString)\n",
    "    \n",
    "#taking User Input\n",
    "userInput = input(\"Enter the string: \")\n",
    "\n",
    "#Calling Function \n",
    "listCh = convStr(userInput)\n",
    "\n",
    "#Displaying Result\n",
    "print(\"List of characters: \",listCh)\n"
   ]
  },
  {
   "cell_type": "markdown",
   "id": "fb66d289-684c-49df-b156-bba529140487",
   "metadata": {},
   "source": [
    " "
   ]
  },
  {
   "cell_type": "markdown",
   "id": "c4f12e73-5904-403d-894f-56d75b1576f9",
   "metadata": {},
   "source": [
    "<h5>41. Check if two strings are anagrams."
   ]
  },
  {
   "cell_type": "code",
   "execution_count": 261,
   "id": "307fce44-59d6-4eea-bc22-5f5754beb948",
   "metadata": {},
   "outputs": [
    {
     "name": "stdin",
     "output_type": "stream",
     "text": [
      "Enter the First string:  silent\n",
      "Enter the Second string:  listen\n"
     ]
    },
    {
     "name": "stdout",
     "output_type": "stream",
     "text": [
      "Strings are Anagrams\n"
     ]
    }
   ],
   "source": [
    "#Function Check if two strings are anagrams.\n",
    "def checkAnagrams(inputString1,inputString2):\n",
    "    inputString1 = inputString1.lower()\n",
    "    inputString2 = inputString2.lower()\n",
    "    return sorted(inputString1) == sorted(inputString2)\n",
    "\n",
    "\n",
    "#taking User Input\n",
    "userInput1 = input(\"Enter the First string: \")\n",
    "userInput2 = input(\"Enter the Second string: \")\n",
    "\n",
    "\n",
    "#Calling Function \n",
    "result = checkAnagrams(userInput1,userInput2)\n",
    "\n",
    "#Displaying Result\n",
    "if result:\n",
    "    print(\"Strings are Anagrams\")\n",
    "else:\n",
    "     print(\"Strings are not Anagrams\")\n"
   ]
  },
  {
   "cell_type": "markdown",
   "id": "f48cead8-b142-4e9c-8281-7d9b0ed68d5a",
   "metadata": {},
   "source": [
    " "
   ]
  },
  {
   "cell_type": "markdown",
   "id": "0b573b08-1397-4e52-a785-1efbaa70b038",
   "metadata": {},
   "source": [
    "<h5>42. Encode a string using a Caesar cipher."
   ]
  },
  {
   "cell_type": "code",
   "execution_count": 262,
   "id": "2d34cec5-2a71-4bbc-8869-482f59258228",
   "metadata": {},
   "outputs": [
    {
     "name": "stdin",
     "output_type": "stream",
     "text": [
      "Enter the string to encode:  Full Stack Data Science Pro\n",
      "Enter the Caesar cipher shift value:  5\n"
     ]
    },
    {
     "name": "stdout",
     "output_type": "stream",
     "text": [
      "Encoded string: Kzqq Xyfhp Ifyf Xhnjshj Uwt\n"
     ]
    }
   ],
   "source": [
    "#Function to encode a string using caeser cipher\n",
    "def encodeString(inputString, shift):\n",
    "    temp = ''\n",
    "    for i in inputString:\n",
    "     \n",
    "        if i.isalpha():\n",
    "            if i.islower():\n",
    "                temp = temp + chr( (ord(i) -ord('a')+ shift) % 26 + ord('a'))\n",
    "            else:\n",
    "                temp = temp + chr( (ord(i) -ord('A')+ shift) % 26 + ord('A'))\n",
    "        else:\n",
    "            temp = temp + i\n",
    "    return temp\n",
    "\n",
    "# Taking user input\n",
    "s = input(\"Enter the string to encode: \")\n",
    "shift = int(input(\"Enter the Caesar cipher shift value: \"))\n",
    "\n",
    "# Calling the encodeString function\n",
    "encodedString = encodeString(s, shift)\n",
    "\n",
    "# Displaying the result\n",
    "print(\"Encoded string:\", encodedString)\n",
    "    "
   ]
  },
  {
   "cell_type": "markdown",
   "id": "91b99cfb-a956-4115-84d8-804c5dd7d037",
   "metadata": {},
   "source": [
    " "
   ]
  },
  {
   "cell_type": "markdown",
   "id": "8dead1d5-7bf8-45fb-be94-721a9c1b2313",
   "metadata": {},
   "source": [
    "<h5>44. Find the most frequent word in a string."
   ]
  },
  {
   "cell_type": "code",
   "execution_count": 264,
   "id": "165a0f71-1cd2-4529-925c-325b371c509f",
   "metadata": {},
   "outputs": [
    {
     "name": "stdin",
     "output_type": "stream",
     "text": [
      "Enter the string:  Full Stack Data Science Pro Pro Pro\n"
     ]
    },
    {
     "name": "stdout",
     "output_type": "stream",
     "text": [
      "Most Freq Word: Pro\n"
     ]
    }
   ],
   "source": [
    "#Function to find most frequent word in string\n",
    "\n",
    "def findFreq(inputString):\n",
    "    wordCount = 0\n",
    "    freqWord = ''\n",
    "    tempDict = {}\n",
    "    \n",
    "    for i in inputString.lower().split():\n",
    "        if i not in tempDict:\n",
    "            tempDict[i] = 1\n",
    "        else:\n",
    "            tempDict[i] = tempDict[i] + 1\n",
    "            if tempDict[i]>wordCount:\n",
    "                wordCount = tempDict[i]\n",
    "                freqWord = i\n",
    "    return freqWord\n",
    "\n",
    "# Taking user input\n",
    "userInput = input(\"Enter the string: \")\n",
    "\n",
    "# Calling the function\n",
    "freqWord = findFreq(userInput)\n",
    "\n",
    "# Displaying the result\n",
    "print(\"Most Freq Word:\", freqWord.title())"
   ]
  },
  {
   "cell_type": "markdown",
   "id": "a5bfe3ec-06fa-47ba-bb2e-3b2311d887ce",
   "metadata": {},
   "source": [
    " "
   ]
  },
  {
   "cell_type": "markdown",
   "id": "9e1d13e6-dd9a-4d69-9d9c-b1579b4f2bca",
   "metadata": {},
   "source": [
    "<h5>45. Find all unique words in a string."
   ]
  },
  {
   "cell_type": "code",
   "execution_count": 266,
   "id": "38df9f70-e4b9-4b7e-aa25-ebeadf0a7986",
   "metadata": {},
   "outputs": [
    {
     "name": "stdin",
     "output_type": "stream",
     "text": [
      "Input String:  Full Stack Data Science Pro Pro Data\n"
     ]
    },
    {
     "name": "stdout",
     "output_type": "stream",
     "text": [
      "Unique word in string:  Full Stack Data Science Pro "
     ]
    }
   ],
   "source": [
    "#Function to unique word in a string\n",
    "def uniqueWord(inputString):\n",
    "    tempLst = []\n",
    "    inputString = inputString.split()\n",
    "    for i in inputString:\n",
    "        if i not in tempLst:\n",
    "            tempLst.append(i)\n",
    "    return tempLst\n",
    "\n",
    "#Taking User input\n",
    "userInput = input(\"Input String: \" )\n",
    "\n",
    "#Calling Function\n",
    "unique = []\n",
    "unique = uniqueWord(userInput)\n",
    "\n",
    "#Displaying unique word\n",
    "print(\"Unique word in string: \", end = ' ')\n",
    "for i in unique:\n",
    "    print(i,end = ' ')"
   ]
  },
  {
   "cell_type": "markdown",
   "id": "c5aee6dd-c944-4ca3-99ce-fcb543c242c8",
   "metadata": {},
   "source": [
    " "
   ]
  },
  {
   "cell_type": "markdown",
   "id": "176798dc-9390-4e6b-afe7-2b54a29b326e",
   "metadata": {},
   "source": [
    "<h5>46. Count the number of syllables in a string"
   ]
  },
  {
   "cell_type": "code",
   "execution_count": 267,
   "id": "1f3bcfcb-40f7-434b-a964-fc3f3ac72de7",
   "metadata": {},
   "outputs": [
    {
     "name": "stdin",
     "output_type": "stream",
     "text": [
      "Enter a string:  Full Stack Data Science Pro\n"
     ]
    },
    {
     "name": "stdout",
     "output_type": "stream",
     "text": [
      "Total syllables: 7\n"
     ]
    }
   ],
   "source": [
    "#Function to Count the number of syllables in a string\n",
    "def countSyllables(word):\n",
    "    vowels = \"aeiouAEIOU\"\n",
    "    count = 0\n",
    "    prevVowel = False\n",
    "\n",
    "    for char in word:\n",
    "        if char in vowels:\n",
    "            if not prevVowel:\n",
    "                count += 1\n",
    "            prevVowel = True\n",
    "        else:\n",
    "            prevVowel = False\n",
    "\n",
    "    return count\n",
    "\n",
    "def countSyllablesString(inputString):\n",
    "    words = inputString.split()\n",
    "    totalSyllables = 0\n",
    "\n",
    "    for word in words:\n",
    "        totalSyllables += countSyllables(word)\n",
    "\n",
    "    return totalSyllables\n",
    "\n",
    "# Taking user input\n",
    "userInput = input(\"Enter a string: \")\n",
    "\n",
    "#Calling functiom\n",
    "syllableCount = countSyllablesString(userInput)\n",
    "\n",
    "print(\"Total syllables:\", syllableCount)\n"
   ]
  },
  {
   "cell_type": "markdown",
   "id": "555984ad-d00c-420d-a149-28ebace4a9ee",
   "metadata": {},
   "source": [
    " "
   ]
  },
  {
   "cell_type": "markdown",
   "id": "73bdbb77-b9b5-4a24-8615-828c723e1a4b",
   "metadata": {},
   "source": [
    "<h5>47. Check if a string contains any special characters."
   ]
  },
  {
   "cell_type": "code",
   "execution_count": 268,
   "id": "e0c1146e-7a29-4682-ac6d-12b3226a62d6",
   "metadata": {},
   "outputs": [
    {
     "name": "stdin",
     "output_type": "stream",
     "text": [
      "Enter string:  Full Stack Data Science Pro $3.0 \n"
     ]
    },
    {
     "name": "stdout",
     "output_type": "stream",
     "text": [
      "String Contain special character\n"
     ]
    }
   ],
   "source": [
    "#Function check if a string contains special character\n",
    "def checkSp(inputString):\n",
    "    for i in inputString:\n",
    "        if not i.isalpha() and not i.isdigit() and not i == ' ':\n",
    "            return True\n",
    "\n",
    "        \n",
    "#Taking User Input\n",
    "userInput = input(\"Enter string: \")\n",
    "\n",
    "if checkSp(userInput):\n",
    "    print(\"String Contain special character\")\n",
    "else :\n",
    "    print(\"String Not Contain special character\")\n"
   ]
  },
  {
   "cell_type": "markdown",
   "id": "26501471-28fa-4932-81f4-0f003038e362",
   "metadata": {},
   "source": [
    "  "
   ]
  },
  {
   "cell_type": "markdown",
   "id": "c6779aad-e924-4fb5-8862-a927b2f08a2e",
   "metadata": {},
   "source": [
    "<h5>48. Remove the nth word from a string"
   ]
  },
  {
   "cell_type": "code",
   "execution_count": 269,
   "id": "0875f8d0-4621-46cc-a260-387d31ed62e9",
   "metadata": {},
   "outputs": [
    {
     "name": "stdin",
     "output_type": "stream",
     "text": [
      "Enter the string:  Full Stack Data Science Pro\n",
      "Enter the position to remove {first word = 1}:  3\n"
     ]
    },
    {
     "name": "stdout",
     "output_type": "stream",
     "text": [
      "Modified String:  Full Stack Science Pro\n"
     ]
    }
   ],
   "source": [
    "#Function To Remove the nth word from a string\n",
    "def removeNth(inputString,n):\n",
    "    inputString = inputString.split()\n",
    "    del inputString[n-1]\n",
    "    return ' '.join(inputString)\n",
    "    \n",
    "#Taking User Input\n",
    "userInput = input(\"Enter the string: \")\n",
    "n =int(input(\"Enter the position to remove {first word = 1}: \"))\n",
    "\n",
    "#Calling Function\n",
    "modifiedString = removeNth(userInput,n)\n",
    "       \n",
    "#Displaying Modified String\n",
    "print(\"Modified String: \",modifiedString)\n"
   ]
  },
  {
   "cell_type": "markdown",
   "id": "99d0df83-44c8-49c1-8373-349ff70c2486",
   "metadata": {},
   "source": [
    " "
   ]
  },
  {
   "cell_type": "markdown",
   "id": "8913bedb-3994-45d7-9b6d-2ae34d1ea2fd",
   "metadata": {},
   "source": [
    "<h5>49. Insert a word at the nth position in a string."
   ]
  },
  {
   "cell_type": "code",
   "execution_count": 270,
   "id": "32341baa-0cb5-4dab-a707-2641b4e8b551",
   "metadata": {},
   "outputs": [
    {
     "name": "stdin",
     "output_type": "stream",
     "text": [
      "Enter the string:  Full Stack Data Science Pro\n",
      "Enter the word to add:  3.0\n",
      "Enter the position to add {first word = 1}:  6\n"
     ]
    },
    {
     "name": "stdout",
     "output_type": "stream",
     "text": [
      "Modified String:  Full Stack Data Science Pro 3.0\n"
     ]
    }
   ],
   "source": [
    "#Function to Insert a word at the nth position in a string.\n",
    "def insertNth(inputString,n):\n",
    "    inputString = inputString.split()\n",
    "    inputString.insert(n-1,word)\n",
    "    return ' '.join(inputString)\n",
    "    \n",
    "#Taking User Input\n",
    "userInput = input(\"Enter the string: \")\n",
    "word = input(\"Enter the word to add: \")\n",
    "n =int(input(\"Enter the position to add {first word = 1}: \"))\n",
    "\n",
    "#Calling Function\n",
    "modifiedString = insertNth(userInput,n)\n",
    "       \n",
    "#Displaying Modified String\n",
    "print(\"Modified String: \",modifiedString)\n"
   ]
  },
  {
   "cell_type": "markdown",
   "id": "85f94010-cc34-45c1-8854-5f88bd2f6b0d",
   "metadata": {},
   "source": [
    " "
   ]
  },
  {
   "cell_type": "markdown",
   "id": "7e5ef412-e74f-4b0f-a1dd-50ac13f5742b",
   "metadata": {},
   "source": [
    "<h5>50. Convert a CSV string to a list of lists"
   ]
  },
  {
   "cell_type": "code",
   "execution_count": 271,
   "id": "88aa3f23-e066-46e5-abf0-83873aebf172",
   "metadata": {},
   "outputs": [
    {
     "name": "stdout",
     "output_type": "stream",
     "text": [
      "List of List of CSV:\n",
      "['S.No', 'FName', 'SName']\n",
      "['1', 'John', 'Doe']\n",
      "['2', 'Jane', 'Smith']\n",
      "['3', 'Bob', 'Johnson']\n"
     ]
    }
   ],
   "source": [
    "# Function to Convert a CSV string to a list of lists\n",
    "def convertCSV(inputString):\n",
    "    tempLines = inputString.split('\\n')\n",
    "    result = []\n",
    "    for i in tempLines:  # Fix the typo here\n",
    "        temp = i.split(',')\n",
    "        result.append(temp)\n",
    "    del result[0]\n",
    "    return result\n",
    "\n",
    "# Taking user input\n",
    "userInput = '''\n",
    "S.No,FName,SName\n",
    "1,John,Doe\n",
    "2,Jane,Smith\n",
    "3,Bob,Johnson'''\n",
    "\n",
    "# Calling Function\n",
    "result = convertCSV(userInput)\n",
    "# Displaying Result\n",
    "print(\"List of List of CSV:\")\n",
    "for i in result:\n",
    "    print(i)\n",
    "    \n"
   ]
  },
  {
   "cell_type": "markdown",
   "id": "6cb926ed-f85c-442a-a922-2b627e05ab61",
   "metadata": {},
   "source": [
    " "
   ]
  },
  {
   "cell_type": "markdown",
   "id": "58e703ee-ce94-4a04-94cc-95269f2fdacb",
   "metadata": {},
   "source": [
    "<h1>List Based Practice Problem :"
   ]
  },
  {
   "cell_type": "markdown",
   "id": "ef14bfd8-e7f6-4ad4-a15b-d787952ef591",
   "metadata": {},
   "source": [
    " "
   ]
  },
  {
   "cell_type": "markdown",
   "id": "91c4dc99-13aa-4fac-a4af-0fec942c2674",
   "metadata": {},
   "source": [
    "<h5>1. Create a list with integers from 1 to 10."
   ]
  },
  {
   "cell_type": "code",
   "execution_count": 11,
   "id": "5fca28d6-06a4-45ef-b621-34e485bc6c1c",
   "metadata": {},
   "outputs": [
    {
     "name": "stdout",
     "output_type": "stream",
     "text": [
      "[1, 2, 3, 4, 5, 6, 7, 8, 9, 10]\n"
     ]
    }
   ],
   "source": [
    "#Creating List\n",
    "lstInteger =[ i for i in range(1,11)]\n",
    "\n",
    "#Printing List\n",
    "print(lstInteger)"
   ]
  },
  {
   "cell_type": "markdown",
   "id": "67efaaed-2ea2-41a3-929b-5e6186943d0e",
   "metadata": {},
   "source": [
    " "
   ]
  },
  {
   "cell_type": "markdown",
   "id": "671de6be-75fb-4beb-a0ec-8e33d564e765",
   "metadata": {},
   "source": [
    "<h5>2. Find the length of a list without using the `len()` function."
   ]
  },
  {
   "cell_type": "code",
   "execution_count": 15,
   "id": "f02c015a-bfdf-47cb-86d8-348f34fb602f",
   "metadata": {},
   "outputs": [
    {
     "name": "stdout",
     "output_type": "stream",
     "text": [
      "Length of List:  10\n"
     ]
    }
   ],
   "source": [
    "#Function to Find the length of a list without using the `len()` function.\n",
    "def lengthLst(inputLst):\n",
    "    count = 0\n",
    "    for i in inputLst:\n",
    "        count = count + 1\n",
    "    return count\n",
    "\n",
    "userInput = [1, 2, 3, 4, 5, 6, 7, 8, 9, 10]\n",
    "\n",
    "\n",
    "#Calling Function\n",
    "length = lengthLst(userInput)\n",
    "\n",
    "#Displaying result\n",
    "print(\"Length of List: \",length)"
   ]
  },
  {
   "cell_type": "markdown",
   "id": "efd42d55-e6ca-4aa2-8948-e6708f449064",
   "metadata": {},
   "source": [
    " "
   ]
  },
  {
   "cell_type": "markdown",
   "id": "ab5ba054-7acb-427b-b206-0148c6c7c545",
   "metadata": {},
   "source": [
    "<h5>3. Append an element to the end of a list."
   ]
  },
  {
   "cell_type": "code",
   "execution_count": 1,
   "id": "8aef0aaf-c71a-4e8e-bd0e-7eaff204c93d",
   "metadata": {},
   "outputs": [
    {
     "name": "stdin",
     "output_type": "stream",
     "text": [
      "Enter element to append:  11\n"
     ]
    },
    {
     "name": "stdout",
     "output_type": "stream",
     "text": [
      "Modified list:  [1, 2, 3, 4, 5, 6, 7, 8, 9, 10, 11]\n"
     ]
    }
   ],
   "source": [
    "# Function to append an element to a list\n",
    "def appendElement(inputList, element):\n",
    "    inputList.append(element)\n",
    "    return inputList\n",
    "\n",
    "lst= [1, 2, 3, 4, 5, 6, 7, 8, 9, 10]\n",
    "\n",
    "# User input for the element to append\n",
    "userElement = int(input(\"Enter element to append: \"))\n",
    "\n",
    "# Calling function\n",
    "modifiedList = appendElement(lst, userElement)\n",
    "\n",
    "# Displaying result\n",
    "print(\"Modified list: \", [i for i in modifiedList])\n"
   ]
  },
  {
   "cell_type": "markdown",
   "id": "161ee5da-9fd4-447f-b96c-cb58bd22b598",
   "metadata": {},
   "source": [
    "  "
   ]
  },
  {
   "cell_type": "markdown",
   "id": "34c3742d-684c-491b-9b3e-fc737a5f7bba",
   "metadata": {},
   "source": [
    "<h5>4. Insert an element at a specific index in a list."
   ]
  },
  {
   "cell_type": "code",
   "execution_count": 2,
   "id": "91265c14-bec8-4de5-84a2-076ca5825771",
   "metadata": {},
   "outputs": [
    {
     "name": "stdin",
     "output_type": "stream",
     "text": [
      "Enter index where to insert:  3\n",
      "Enter element to insert:  5\n"
     ]
    },
    {
     "name": "stdout",
     "output_type": "stream",
     "text": [
      "Modified list:  [1, 2, 3, 5, 4, 5, 6, 7, 8, 9, 10]\n"
     ]
    }
   ],
   "source": [
    "# Function to insert an element at a specific index in a list\n",
    "def insertElementAtIndex(inputList, index, element):\n",
    "    inputList.insert(index, element)\n",
    "    return inputList\n",
    "\n",
    "lst= [1, 2, 3, 4, 5, 6, 7, 8, 9, 10]\n",
    "\n",
    "# User input for the index and element\n",
    "userIndex = int(input(\"Enter index where to insert: \"))\n",
    "userElement = int(input(\"Enter element to insert: \"))\n",
    "\n",
    "# Calling function\n",
    "modifiedList = insertElementAtIndex(lst, userIndex, userElement)\n",
    "\n",
    "# Displaying result\n",
    "print(\"Modified list: \", [i for i in modifiedList])\n"
   ]
  },
  {
   "cell_type": "markdown",
   "id": "9f300b53-2a9b-49cc-a606-d6cc9b9c9f5d",
   "metadata": {},
   "source": [
    " "
   ]
  },
  {
   "cell_type": "markdown",
   "id": "765ad9b9-e340-42cd-8354-b062e26c49fa",
   "metadata": {},
   "source": [
    "<h5>5. Remove an element from a list by its value."
   ]
  },
  {
   "cell_type": "code",
   "execution_count": 3,
   "id": "b3b575f2-a07a-4aa4-8cf6-698fb76b2ce8",
   "metadata": {},
   "outputs": [
    {
     "name": "stdin",
     "output_type": "stream",
     "text": [
      "Enter element to remove:  6\n"
     ]
    },
    {
     "name": "stdout",
     "output_type": "stream",
     "text": [
      "Modified list:  [1, 2, 3, 4, 5, 7, 8, 9, 10]\n"
     ]
    }
   ],
   "source": [
    "# Function to remove an element from a list by its value\n",
    "def removeElementByValue(inputList, element):\n",
    "    inputList.remove(element)\n",
    "    return inputList\n",
    "\n",
    "lst= [1, 2, 3, 4, 5, 6, 7, 8, 9, 10]\n",
    "\n",
    "# User input for the element to remove\n",
    "userElement = int(input(\"Enter element to remove: \"))\n",
    "\n",
    "# Calling function\n",
    "modifiedList = removeElementByValue(lst, userElement)\n",
    "\n",
    "# Displaying result\n",
    "print(\"Modified list: \", [i for i in modifiedList])\n"
   ]
  },
  {
   "cell_type": "markdown",
   "id": "f3be498a-42ef-43b5-b79a-800ced23a76e",
   "metadata": {},
   "source": [
    " "
   ]
  },
  {
   "cell_type": "markdown",
   "id": "0acd8563-d3f9-4d2f-8109-a35361dffa79",
   "metadata": {},
   "source": [
    "<h5>6. Remove an element from a list by its index."
   ]
  },
  {
   "cell_type": "code",
   "execution_count": 4,
   "id": "11eff3df-fc04-4372-abb5-b8563bb679bc",
   "metadata": {},
   "outputs": [
    {
     "name": "stdin",
     "output_type": "stream",
     "text": [
      "Enter index to remove:  3\n"
     ]
    },
    {
     "name": "stdout",
     "output_type": "stream",
     "text": [
      "Modified list:  [1, 2, 3, 5, 6, 7, 8, 9, 10]\n"
     ]
    }
   ],
   "source": [
    "# Function to remove an element from a list by its index\n",
    "def removeElementByIndex(inputList, index):\n",
    "    del inputList[index]\n",
    "    return inputList\n",
    "\n",
    "lst= [1, 2, 3, 4, 5, 6, 7, 8, 9, 10]\n",
    "\n",
    "# User input for the index to remove\n",
    "userIndex = int(input(\"Enter index to remove: \"))\n",
    "\n",
    "# Calling function\n",
    "modifiedList = removeElementByIndex(lst, userIndex)\n",
    "\n",
    "# Displaying result\n",
    "print(\"Modified list: \", [i for i in modifiedList])\n"
   ]
  },
  {
   "cell_type": "markdown",
   "id": "4fa3e8a6-6e8d-4cbc-9e12-7eb345754a49",
   "metadata": {},
   "source": [
    " "
   ]
  },
  {
   "cell_type": "markdown",
   "id": "2d1ef943-819a-4fc9-84d8-0a5e0421d055",
   "metadata": {},
   "source": [
    "<h5>7. Check if an element exists in a list."
   ]
  },
  {
   "cell_type": "code",
   "execution_count": 5,
   "id": "2e89bc7c-b792-4143-b652-c6871f15bd28",
   "metadata": {},
   "outputs": [
    {
     "name": "stdin",
     "output_type": "stream",
     "text": [
      "Enter the element to find:  7\n"
     ]
    },
    {
     "name": "stdout",
     "output_type": "stream",
     "text": [
      "7 is present in the list\n"
     ]
    }
   ],
   "source": [
    "# Function to check if an element is present in a list\n",
    "def checkElementPresence(inputList, element):\n",
    "    if element in inputList:\n",
    "        return True\n",
    "    else:\n",
    "        return False\n",
    "\n",
    "inputList = [1, 2, 3, 4, 5, 6, 7, 8, 9, 10] \n",
    "\n",
    "# User input for the element to find\n",
    "userElement = int(input(\"Enter the element to find: \"))\n",
    "\n",
    "# Calling function\n",
    "result = checkElementPresence(inputList, userElement)\n",
    "\n",
    "# Displaying result\n",
    "if result:\n",
    "    print(f\"{userElement} is present in the list\")\n",
    "else:\n",
    "    print(f\"{userElement} is not present in the list\")"
   ]
  },
  {
   "cell_type": "markdown",
   "id": "a2392543-911d-4399-8b56-6ebdd7afdf98",
   "metadata": {},
   "source": [
    " "
   ]
  },
  {
   "cell_type": "markdown",
   "id": "4b2ea03a-1043-4992-a252-6119cef47936",
   "metadata": {},
   "source": [
    "<h5>8. Find the index of the first occurrence of an element in a list."
   ]
  },
  {
   "cell_type": "code",
   "execution_count": 6,
   "id": "022ca0b1-0a98-4b40-b65c-e59a58ed44c2",
   "metadata": {},
   "outputs": [
    {
     "name": "stdin",
     "output_type": "stream",
     "text": [
      "Enter the element to find:  6\n"
     ]
    },
    {
     "name": "stdout",
     "output_type": "stream",
     "text": [
      "Index of 6: 5\n"
     ]
    }
   ],
   "source": [
    "# Function to find the index of the first occurrence of an element in a list\n",
    "def findElementIndex(inputList, element):\n",
    "    return inputList.index(element)\n",
    "\n",
    "lst = [1, 2, 3, 4, 5, 6, 7, 5, 9, 10] \n",
    "\n",
    "# User input for the element to find\n",
    "userElement = int(input(\"Enter the element to find: \"))\n",
    "\n",
    "# Calling function\n",
    "result = findElementIndex(lst, userElement)\n",
    "\n",
    "# Displaying result\n",
    "print(f\"Index of {userElement}: {result}\")\n"
   ]
  },
  {
   "cell_type": "markdown",
   "id": "2520af42-66ea-4a7f-80de-df97efc7d991",
   "metadata": {},
   "source": [
    " "
   ]
  },
  {
   "cell_type": "markdown",
   "id": "dae11ef9-a9a1-44b2-8939-ba953c71c39d",
   "metadata": {},
   "source": [
    "<h5>9. Count the occurrences of an element in a list."
   ]
  },
  {
   "cell_type": "code",
   "execution_count": 7,
   "id": "3a7c1df0-504b-442c-aed5-461bdb8cf84e",
   "metadata": {},
   "outputs": [
    {
     "name": "stdin",
     "output_type": "stream",
     "text": [
      "Enter element to count:  10\n"
     ]
    },
    {
     "name": "stdout",
     "output_type": "stream",
     "text": [
      "Occurrences of 10 in list: 2\n"
     ]
    }
   ],
   "source": [
    "# Function to count the occurrences of an element in a list\n",
    "def countElementOccurrences(inputList, element):\n",
    "    return inputList.count(element)\n",
    "\n",
    "lst = [1, 2, 3, 4, 5, 6, 7, 8, 9, 10, 10]\n",
    "\n",
    "# User input for the element to count\n",
    "userElement = int(input(\"Enter element to count: \"))\n",
    "\n",
    "# Calling function\n",
    "count = countElementOccurrences(lst, userElement)\n",
    "\n",
    "# Displaying result\n",
    "print(f\"Occurrences of {userElement} in list: {count}\")\n"
   ]
  },
  {
   "cell_type": "markdown",
   "id": "fc1828f1-49bf-4bcb-bac6-9f25675bfa91",
   "metadata": {},
   "source": [
    " "
   ]
  },
  {
   "cell_type": "markdown",
   "id": "8253fd11-5483-416d-816e-4b4f22a24b13",
   "metadata": {},
   "source": [
    "<h5>10. Reverse the order of elements in a list."
   ]
  },
  {
   "cell_type": "code",
   "execution_count": 71,
   "id": "5e9788d5-dad4-4a52-a411-bba4c82efe5b",
   "metadata": {},
   "outputs": [
    {
     "name": "stdout",
     "output_type": "stream",
     "text": [
      "Reversed list:  [10, 9, 8, 7, 6, 5, 4, 3, 2, 1]\n"
     ]
    }
   ],
   "source": [
    "# Function to reverse the order of elements in a list\n",
    "def reverseListOrder(inputList):\n",
    "    inputList.reverse()\n",
    "    return inputList\n",
    "\n",
    "lst = [1, 2, 3, 4, 5, 6, 7, 8, 9, 10]\n",
    "\n",
    "# Calling function\n",
    "reversedList = reverseListOrder(lst)\n",
    "\n",
    "# Displaying result\n",
    "print(\"Reversed list: \", reversedList)\n"
   ]
  },
  {
   "cell_type": "markdown",
   "id": "8eac177b-53d5-4bfa-8e73-e164a0436eb3",
   "metadata": {},
   "source": [
    " "
   ]
  },
  {
   "cell_type": "markdown",
   "id": "d90fa66c-25a0-45e7-86c5-a0b661991a73",
   "metadata": {},
   "source": [
    "<h5>11. Sort a list in ascending order."
   ]
  },
  {
   "cell_type": "code",
   "execution_count": 73,
   "id": "a3f1e6d7-1bc7-448a-8b73-c7561c9d1bf6",
   "metadata": {},
   "outputs": [
    {
     "name": "stdout",
     "output_type": "stream",
     "text": [
      "Sorted list in ascending order:  [1, 2, 3, 3, 5, 6, 7, 8, 9, 10]\n"
     ]
    }
   ],
   "source": [
    "# Function to sort a list in ascending order\n",
    "def sortListAscending(inputList):\n",
    "    inputList.sort()\n",
    "    return inputList\n",
    "\n",
    "lst = [1, 3, 3, 2, 5, 7, 10, 8, 9, 6]\n",
    "\n",
    "# Calling function\n",
    "sortedList = sortListAscending(lst)\n",
    "\n",
    "# Displaying result\n",
    "print(\"Sorted list in ascending order: \", sortedList)\n"
   ]
  },
  {
   "cell_type": "markdown",
   "id": "0ba327af-7614-4be7-857f-d1a8b562bd4c",
   "metadata": {},
   "source": [
    " "
   ]
  },
  {
   "cell_type": "markdown",
   "id": "c0ba1a1d-4457-4152-8249-f65770f3752e",
   "metadata": {},
   "source": [
    "<h5>12. Sort a list in descending order."
   ]
  },
  {
   "cell_type": "code",
   "execution_count": 74,
   "id": "f7f53fe1-065c-44c7-b9d9-85490230cc9c",
   "metadata": {},
   "outputs": [
    {
     "name": "stdout",
     "output_type": "stream",
     "text": [
      "Sorted list in descending order:  [10, 9, 8, 7, 6, 5, 3, 3, 2, 1]\n"
     ]
    }
   ],
   "source": [
    "# Function to sort a list in descending order\n",
    "def sortListDescending(inputList):\n",
    "    inputList.sort(reverse=True)\n",
    "    return inputList\n",
    "\n",
    "lst = [1, 3, 3, 2, 5, 7, 10, 8, 9, 6]\n",
    "\n",
    "# Calling function\n",
    "sortedList = sortListDescending(lst)\n",
    "\n",
    "# Displaying result\n",
    "print(\"Sorted list in descending order: \", sortedList)\n"
   ]
  },
  {
   "cell_type": "markdown",
   "id": "fca40c3d-cf8b-4285-a167-5381abb2f17e",
   "metadata": {},
   "source": [
    " "
   ]
  },
  {
   "cell_type": "markdown",
   "id": "465288e3-5935-412d-8d37-2e533bdb71ef",
   "metadata": {},
   "source": [
    "<h5>13. Create a list of even numbers from 1 to 20."
   ]
  },
  {
   "cell_type": "code",
   "execution_count": 75,
   "id": "30316c31-64c8-406b-a1cb-c1e4071dbe6e",
   "metadata": {},
   "outputs": [
    {
     "name": "stdout",
     "output_type": "stream",
     "text": [
      "List of even numbers:  [2, 4, 6, 8, 10, 12, 14, 16, 18, 20]\n"
     ]
    }
   ],
   "source": [
    "# Function to create a list of even numbers from 1 to 20\n",
    "def createEvenNumberList():\n",
    "    return [i for i in range(1, 21) if i % 2 == 0]\n",
    "\n",
    "# Calling function\n",
    "evenNumberList = createEvenNumberList()\n",
    "\n",
    "# Displaying result\n",
    "print(\"List of even numbers: \", evenNumberList)\n"
   ]
  },
  {
   "cell_type": "markdown",
   "id": "01ff46ea-e1c5-4755-a575-cdf4425c0cfe",
   "metadata": {},
   "source": [
    "  "
   ]
  },
  {
   "cell_type": "markdown",
   "id": "b31033a4-c26f-4af1-88a2-5b0a2d01e70f",
   "metadata": {},
   "source": [
    "<h5>14. Create a list of odd numbers from 1 to 20."
   ]
  },
  {
   "cell_type": "code",
   "execution_count": 76,
   "id": "442402be-b983-4ae0-ab80-070611498988",
   "metadata": {},
   "outputs": [
    {
     "name": "stdout",
     "output_type": "stream",
     "text": [
      "List of odd numbers:  [1, 3, 5, 7, 9, 11, 13, 15, 17, 19]\n"
     ]
    }
   ],
   "source": [
    "# Function to create a list of odd numbers from 1 to 20\n",
    "def createOddNumberList():\n",
    "    return [i for i in range(1, 21) if i % 2 == 1]\n",
    "\n",
    "# Calling function\n",
    "oddNumberList = createOddNumberList()\n",
    "\n",
    "# Displaying result\n",
    "print(\"List of odd numbers: \", oddNumberList)\n"
   ]
  },
  {
   "cell_type": "markdown",
   "id": "a5ec9e54-5674-40a5-8f66-b8877dfca4af",
   "metadata": {},
   "source": [
    " "
   ]
  },
  {
   "cell_type": "markdown",
   "id": "85a133c1-dba2-48b9-99fd-b5b4a66e4d68",
   "metadata": {},
   "source": [
    "<h5>15. Find the sum of all elements in a list."
   ]
  },
  {
   "cell_type": "code",
   "execution_count": 77,
   "id": "98aa9982-ed58-4af3-8305-750efa6dd90e",
   "metadata": {},
   "outputs": [
    {
     "name": "stdout",
     "output_type": "stream",
     "text": [
      "Sum of list:  54\n"
     ]
    }
   ],
   "source": [
    "# Function to find the sum of all elements in a list\n",
    "def findSumOfList(inputList):\n",
    "    return sum(inputList)\n",
    "\n",
    "# Calling function\n",
    "sumOfList = findSumOfList(lst)\n",
    "\n",
    "# Displaying result\n",
    "print(\"Sum of list: \", sumOfList)\n"
   ]
  },
  {
   "cell_type": "markdown",
   "id": "ca99b2e1-35b2-4ac7-9a3b-e92ee89b9f5c",
   "metadata": {},
   "source": [
    " "
   ]
  },
  {
   "cell_type": "markdown",
   "id": "7981eed7-f498-4197-b003-3135c3d4bd94",
   "metadata": {},
   "source": [
    "<h5>16. Find the maximum value in a list."
   ]
  },
  {
   "cell_type": "code",
   "execution_count": 78,
   "id": "4e689618-d5ae-44a9-aa04-5cc73bcf70f0",
   "metadata": {},
   "outputs": [
    {
     "name": "stdout",
     "output_type": "stream",
     "text": [
      "Max value of list:  10\n"
     ]
    }
   ],
   "source": [
    "# Function to find the maximum value in a list\n",
    "def findMaxValue(inputList):\n",
    "    return max(inputList)\n",
    "\n",
    "# Calling function\n",
    "maxValue = findMaxValue(lst)\n",
    "\n",
    "# Displaying result\n",
    "print(\"Max value of list: \", maxValue)\n"
   ]
  },
  {
   "cell_type": "markdown",
   "id": "3be73279-6fa2-4d74-9a1a-35e97759b4a7",
   "metadata": {},
   "source": [
    " "
   ]
  },
  {
   "cell_type": "markdown",
   "id": "962a2f25-7ec9-4ed3-9183-1fb6ab794c6c",
   "metadata": {},
   "source": [
    "<h5>17. Find the minimum value in a list."
   ]
  },
  {
   "cell_type": "code",
   "execution_count": 79,
   "id": "58cd462e-30f5-4aa6-a3a1-c59173e7a223",
   "metadata": {},
   "outputs": [
    {
     "name": "stdout",
     "output_type": "stream",
     "text": [
      "Min value of list:  1\n"
     ]
    }
   ],
   "source": [
    "# Function to find the minimum value in a list\n",
    "def findMinValue(inputList):\n",
    "    return min(inputList)\n",
    "\n",
    "# Calling function\n",
    "minValue = findMinValue(lst)\n",
    "\n",
    "# Displaying result\n",
    "print(\"Min value of list: \", minValue)\n"
   ]
  },
  {
   "cell_type": "markdown",
   "id": "2b356461-0273-4e54-9b24-a8db035f7b59",
   "metadata": {},
   "source": [
    " "
   ]
  },
  {
   "cell_type": "markdown",
   "id": "32e2f880-ec43-4fcc-9860-a86a2a634356",
   "metadata": {},
   "source": [
    "<h5>18. Create a list of squares of numbers from 1 to 10."
   ]
  },
  {
   "cell_type": "code",
   "execution_count": 80,
   "id": "49b20a74-7c00-4f51-b949-a6be41feed23",
   "metadata": {},
   "outputs": [
    {
     "name": "stdout",
     "output_type": "stream",
     "text": [
      "List of squares:  [1, 4, 9, 16, 25, 36, 49, 64, 81, 100]\n"
     ]
    }
   ],
   "source": [
    "# Function to create a list of squares of numbers from 1 to 10\n",
    "def createSquareList():\n",
    "    return [i * i for i in range(1, 11)]\n",
    "\n",
    "# Calling function\n",
    "squareList = createSquareList()\n",
    "\n",
    "# Displaying result\n",
    "print(\"List of squares: \", squareList)\n"
   ]
  },
  {
   "cell_type": "markdown",
   "id": "2cc5a61b-93f4-4b7b-8e07-8bc3594574e7",
   "metadata": {},
   "source": [
    " "
   ]
  },
  {
   "cell_type": "markdown",
   "id": "fba6f73c-7f66-4592-9119-48b8a13f7589",
   "metadata": {},
   "source": [
    "<h5>19. Create a list of random numbers."
   ]
  },
  {
   "cell_type": "code",
   "execution_count": 81,
   "id": "e1da27d0-5040-49eb-a30f-4b69b2eb8d1f",
   "metadata": {},
   "outputs": [
    {
     "name": "stdout",
     "output_type": "stream",
     "text": [
      "List of random numbers:  [561, 389, 88, 796, 863, 506, 94, 182, 256]\n"
     ]
    }
   ],
   "source": [
    "import random\n",
    "\n",
    "# Function to create a list of random numbers\n",
    "def createRandomNumberList():\n",
    "    return [random.randint(1, 1000) for _ in range(1, 10)]\n",
    "\n",
    "# Calling function\n",
    "randomNumberList = createRandomNumberList()\n",
    "\n",
    "# Displaying result\n",
    "print(\"List of random numbers: \", randomNumberList)\n"
   ]
  },
  {
   "cell_type": "markdown",
   "id": "e4dd3186-bef7-4186-a02c-20d12b4d8e02",
   "metadata": {},
   "source": [
    " "
   ]
  },
  {
   "cell_type": "markdown",
   "id": "5814c038-2966-4659-8453-858ea32ab479",
   "metadata": {},
   "source": [
    "<h5>20. Remove duplicates from a list."
   ]
  },
  {
   "cell_type": "code",
   "execution_count": 82,
   "id": "49ec5688-1c55-4fa4-b2f6-d88b46cf24ea",
   "metadata": {},
   "outputs": [
    {
     "name": "stdout",
     "output_type": "stream",
     "text": [
      "List after removing duplicates:  [1, 2, 3, 5, 6, 7, 8, 9, 10]\n"
     ]
    }
   ],
   "source": [
    "# Function to remove duplicates from a list\n",
    "def removeDuplicates(inputList):\n",
    "    return list(set(inputList))\n",
    "\n",
    "# Example list with duplicates\n",
    "lst = [1, 3, 3, 2, 5, 7, 10, 8, 9, 6, 6, 7, 10, 1]\n",
    "\n",
    "# Calling function\n",
    "uniqueList = removeDuplicates(lst)\n",
    "\n",
    "# Displaying result\n",
    "print(\"List after removing duplicates: \", uniqueList)\n"
   ]
  },
  {
   "cell_type": "markdown",
   "id": "87167a16-a847-422d-929e-82cec82a039f",
   "metadata": {},
   "source": [
    " "
   ]
  },
  {
   "cell_type": "markdown",
   "id": "1f24b907-4ba4-4ba4-a90a-c13eb734bd7a",
   "metadata": {},
   "source": [
    "<h5>21. Find the common elements between two lists."
   ]
  },
  {
   "cell_type": "code",
   "execution_count": 83,
   "id": "520bfffb-e224-440c-a591-caaf0c027443",
   "metadata": {},
   "outputs": [
    {
     "name": "stdout",
     "output_type": "stream",
     "text": [
      "Common elements in the lists:  [1, 2, 3, 4, 5, 6, 7, 8, 9, 10, 11, 12, 13, 14, 15, 16, 17, 18, 19, 20]\n"
     ]
    }
   ],
   "source": [
    "# Function to find common elements between two lists\n",
    "def findCommonElements(list1, list2):\n",
    "    commonElements = [i for i in list1 if i in list2]\n",
    "    return commonElements\n",
    "\n",
    "# Example lists\n",
    "list1 = [i for i in range(1, 21)]\n",
    "list2 = [i for i in range(1, 31)]\n",
    "\n",
    "# Calling function\n",
    "commonElementsList = findCommonElements(list1, list2)\n",
    "\n",
    "# Displaying result\n",
    "print(\"Common elements in the lists: \", commonElementsList)\n"
   ]
  },
  {
   "cell_type": "markdown",
   "id": "2285f8ff-7de9-4a8e-b95f-0b31530f4de3",
   "metadata": {},
   "source": [
    " "
   ]
  },
  {
   "cell_type": "markdown",
   "id": "94afed9c-b0c2-4d55-826b-b8ab55d039e1",
   "metadata": {},
   "source": [
    "<h5>22. Find the difference between two lists."
   ]
  },
  {
   "cell_type": "code",
   "execution_count": 84,
   "id": "1be4090c-a0c6-462d-a3c6-fb5265129297",
   "metadata": {},
   "outputs": [
    {
     "name": "stdout",
     "output_type": "stream",
     "text": [
      "Difference between two lists:  [11, 12, 13, 14, 15]\n"
     ]
    }
   ],
   "source": [
    "# Function to find the difference between two lists\n",
    "def findDifference(list1, list2):\n",
    "    differenceList = [i for i in list2 if i not in list1]\n",
    "    return differenceList\n",
    "\n",
    "# Example lists\n",
    "list1 = [i for i in range(1, 11)]\n",
    "list2 = [i for i in range(1, 16)]\n",
    "\n",
    "# Calling function\n",
    "differenceList = findDifference(list1, list2)\n",
    "\n",
    "# Displaying result\n",
    "print(\"Difference between two lists: \", differenceList)\n"
   ]
  },
  {
   "cell_type": "markdown",
   "id": "92bf4dba-5123-4966-b329-69ca85332cd8",
   "metadata": {},
   "source": [
    " "
   ]
  },
  {
   "cell_type": "markdown",
   "id": "6cdb19da-1874-4aa9-83f7-4e841052f3a9",
   "metadata": {},
   "source": [
    "<h5>23. Merge two lists"
   ]
  },
  {
   "cell_type": "code",
   "execution_count": 85,
   "id": "16cec757-2dec-402c-8a9c-9d3940ff28b6",
   "metadata": {},
   "outputs": [
    {
     "name": "stdout",
     "output_type": "stream",
     "text": [
      "Merged list:  [1, 2, 3, 4, 5, 6, 7, 8, 9, 10]\n"
     ]
    }
   ],
   "source": [
    "# Function to merge two lists\n",
    "def mergeTwoLists(list1, list2):\n",
    "    mergedList = list1 + list2\n",
    "    return mergedList\n",
    "\n",
    "# Example lists\n",
    "list1 = [i for i in range(1, 6)]\n",
    "list2 = [i for i in range(6, 11)]\n",
    "\n",
    "# Calling function\n",
    "mergedList = mergeTwoLists(list1, list2)\n",
    "\n",
    "# Displaying result\n",
    "print(\"Merged list: \", mergedList)\n"
   ]
  },
  {
   "cell_type": "markdown",
   "id": "1ad492e6-97d3-4d7b-923e-f8bd6f105639",
   "metadata": {},
   "source": [
    "  "
   ]
  },
  {
   "cell_type": "markdown",
   "id": "b90d9b20-6053-40fe-8507-17dd12f12e53",
   "metadata": {},
   "source": [
    "<h5>24. Multiply all elements in a list by 2."
   ]
  },
  {
   "cell_type": "code",
   "execution_count": 86,
   "id": "cd358f6a-9198-451b-840e-8fa3f7f1568d",
   "metadata": {},
   "outputs": [
    {
     "name": "stdout",
     "output_type": "stream",
     "text": [
      "Modified List:  [2, 4, 6, 8, 10, 12, 14, 16, 18, 20]\n"
     ]
    }
   ],
   "source": [
    "# Function to multiply all elements in a list by 2\n",
    "def multiplyBy2(inputList):\n",
    "    multipliedList = [i * 2 for i in inputList]\n",
    "    return multipliedList\n",
    "\n",
    "# Example list\n",
    "lst = [1, 2, 3, 4, 5, 6, 7, 8, 9, 10]\n",
    "\n",
    "# Calling function\n",
    "result = multiplyBy2(lst)\n",
    "\n",
    "# Displaying result\n",
    "print(\"Modified List: \", result)\n"
   ]
  },
  {
   "cell_type": "markdown",
   "id": "5fb67af6-1954-43f0-bed8-83c0bb9f1df2",
   "metadata": {},
   "source": [
    " "
   ]
  },
  {
   "cell_type": "markdown",
   "id": "6d8d6bce-638b-407e-b97a-fc8a566566ba",
   "metadata": {},
   "source": [
    "<h5>25. Filter out all even numbers from a list."
   ]
  },
  {
   "cell_type": "code",
   "execution_count": 87,
   "id": "7c2fb080-8d22-4d03-b822-2e6fdd48c404",
   "metadata": {},
   "outputs": [
    {
     "name": "stdout",
     "output_type": "stream",
     "text": [
      "Modified List:  [1, 3, 5, 7, 9]\n"
     ]
    }
   ],
   "source": [
    "# Function to filter out all even numbers from a list\n",
    "def filterOutEvenNumbers(inputList):\n",
    "    filteredList = [i for i in inputList if i % 2 != 0]\n",
    "    return filteredList\n",
    "\n",
    "# Example list\n",
    "lst = [1, 2, 3, 4, 5, 6, 7, 8, 9, 10]\n",
    "\n",
    "# Calling function\n",
    "result = filterOutEvenNumbers(lst)\n",
    "\n",
    "# Displaying result\n",
    "print(\"Modified List: \", result)\n"
   ]
  },
  {
   "cell_type": "markdown",
   "id": "acb62ddc-4810-4c3d-bf6c-028d65e0a350",
   "metadata": {},
   "source": [
    " "
   ]
  },
  {
   "cell_type": "markdown",
   "id": "9b709422-a358-4b0b-9f45-d3ca323bd878",
   "metadata": {},
   "source": [
    "<h5>26. Convert a list of strings to a list of integers."
   ]
  },
  {
   "cell_type": "code",
   "execution_count": 8,
   "id": "97f7d248-6679-4786-bb7e-50bdcd258e4f",
   "metadata": {},
   "outputs": [
    {
     "name": "stdout",
     "output_type": "stream",
     "text": [
      "Modified List:  [1, 2, 3, 4, 5, 6, 7, 8]\n"
     ]
    }
   ],
   "source": [
    "# Function to convert a list of strings to a list of integers\n",
    "def convertStringListToIntList(inputList):\n",
    "    convertedList = [int(i) for i in inputList]\n",
    "    return convertedList\n",
    "\n",
    "# Example list of strings\n",
    "stringList = [\"1\", \"2\", \"3\", \"4\", \"5\", \"6\", \"7\", \"8\"]\n",
    "\n",
    "# Calling function\n",
    "result = convertStringListToIntList(stringList)\n",
    "\n",
    "# Displaying result\n",
    "print(\"Modified List: \",result)\n"
   ]
  },
  {
   "cell_type": "markdown",
   "id": "c86b19e7-5f3b-4f5b-843a-c1bb8d14a555",
   "metadata": {},
   "source": [
    "  "
   ]
  },
  {
   "cell_type": "markdown",
   "id": "b57c47e1-2c14-47c8-96e5-aecabdc125d1",
   "metadata": {},
   "source": [
    "<h5>27. Convert a list of integers to a list of strings."
   ]
  },
  {
   "cell_type": "code",
   "execution_count": 10,
   "id": "3bce1cbe-3a3e-4685-a6e3-279f099bde20",
   "metadata": {},
   "outputs": [
    {
     "name": "stdout",
     "output_type": "stream",
     "text": [
      "Modified List:  ['1', '2', '3', '4', '5', '6', '7', '8', '9', '10']\n"
     ]
    }
   ],
   "source": [
    "# Function to convert a list of integers to a list of strings\n",
    "def convertIntListToStringList(inputList):\n",
    "    convertedList = [str(i) for i in inputList]\n",
    "    return convertedList\n",
    "\n",
    "# Example list of integers\n",
    "intList = [1, 2, 3, 4, 5, 6, 7, 8, 9, 10]\n",
    "\n",
    "# Calling function\n",
    "result = convertIntListToStringList(intList)\n",
    "\n",
    "# Displaying result\n",
    "print(\"Modified List: \",result)\n"
   ]
  },
  {
   "cell_type": "markdown",
   "id": "4965599c-098d-4302-9ac0-2a20710754ae",
   "metadata": {},
   "source": [
    "   "
   ]
  },
  {
   "cell_type": "markdown",
   "id": "6dc9ec02-c965-4f58-97b0-aad690a5e4ca",
   "metadata": {},
   "source": [
    "<h5>28. Flatten a nested list."
   ]
  },
  {
   "cell_type": "code",
   "execution_count": 11,
   "id": "ff734f4e-7581-467f-9334-4ca6046fb7ef",
   "metadata": {},
   "outputs": [
    {
     "name": "stdout",
     "output_type": "stream",
     "text": [
      "Modified List:  [1, 2, 3, 4, 5, 6, 7, 8, 9, 10]\n"
     ]
    }
   ],
   "source": [
    "# Function to flatten a nested list\n",
    "def flattenNestedList(nestedList):\n",
    "    flattenedList = [j for i in nestedList for j in i]\n",
    "    return flattenedList\n",
    "\n",
    "# Example nested list\n",
    "nestedList = [[1, 2, 3, 4], [5, 6, 7, 8], [9, 10]]\n",
    "\n",
    "# Calling function\n",
    "result = flattenNestedList(nestedList)\n",
    "\n",
    "# Displaying result\n",
    "print(\"Modified List: \",result)\n"
   ]
  },
  {
   "cell_type": "markdown",
   "id": "264892aa-cc68-419b-8b1c-74ab39f1c4b9",
   "metadata": {},
   "source": [
    "  "
   ]
  },
  {
   "cell_type": "markdown",
   "id": "0bc30359-05c7-47ac-9ab7-254e0326aa4f",
   "metadata": {},
   "source": [
    "<h5>29. Create a list of the first 10 Fibonacci numbers."
   ]
  },
  {
   "cell_type": "code",
   "execution_count": 12,
   "id": "45157aeb-0802-43c2-ad07-be47b22a2b9d",
   "metadata": {},
   "outputs": [
    {
     "name": "stdout",
     "output_type": "stream",
     "text": [
      "Fibonacci List:  [1, 1, 2, 3, 5, 8, 13, 21, 34, 55]\n"
     ]
    }
   ],
   "source": [
    "# Function to create a list of the first n Fibonacci numbers\n",
    "def generateFibonacci(n):\n",
    "    a, b = 1, 1\n",
    "    fibonacciList = [a, b]\n",
    "    for _ in range(n - 2):\n",
    "        c = a + b\n",
    "        a, b = b, c\n",
    "        fibonacciList.append(c)\n",
    "    return fibonacciList\n",
    "\n",
    "# Example: generate the first 10 Fibonacci numbers\n",
    "n = 10\n",
    "result = generateFibonacci(n)\n",
    "\n",
    "# Displaying result\n",
    "print(\"Fibonacci List: \",result)\n"
   ]
  },
  {
   "cell_type": "markdown",
   "id": "cbee42c6-58be-4442-becd-166e358ded94",
   "metadata": {},
   "source": [
    " "
   ]
  },
  {
   "cell_type": "markdown",
   "id": "17c2c6fb-7f3f-48bd-a0c6-02d277ee3ee3",
   "metadata": {},
   "source": [
    "<h5>30. Check if a list is sorted."
   ]
  },
  {
   "cell_type": "code",
   "execution_count": 92,
   "id": "8d1656ba-da72-4230-8dd8-bd980d59af0b",
   "metadata": {},
   "outputs": [
    {
     "name": "stdout",
     "output_type": "stream",
     "text": [
      "True\n"
     ]
    }
   ],
   "source": [
    "# Function to check if a list is sorted\n",
    "def isListSorted(inputList):\n",
    "    for i in range(1, len(inputList)):\n",
    "        if inputList[i] < inputList[i - 1]:\n",
    "            return False\n",
    "    return True\n",
    "\n",
    "# Example sorted list\n",
    "lst = [1, 2, 3, 4, 5, 6, 7, 8, 9, 10]\n",
    "\n",
    "# Calling function\n",
    "result = isListSorted(lst)\n",
    "\n",
    "# Displaying result\n",
    "print(result)\n"
   ]
  },
  {
   "cell_type": "markdown",
   "id": "4be36d16-8fa1-41fc-95ad-fbe51e6bc779",
   "metadata": {},
   "source": [
    " "
   ]
  },
  {
   "cell_type": "markdown",
   "id": "1a7a17ec-4905-4f60-9af2-9328bd3b561e",
   "metadata": {},
   "source": [
    "<h5>31. Rotate a list to the left by `n` positions."
   ]
  },
  {
   "cell_type": "code",
   "execution_count": 93,
   "id": "9783c94c-cb86-47bf-8cb4-4f6657842130",
   "metadata": {},
   "outputs": [
    {
     "name": "stdin",
     "output_type": "stream",
     "text": [
      "Enter the number of positions to rotate left:  3\n"
     ]
    },
    {
     "name": "stdout",
     "output_type": "stream",
     "text": [
      "[4, 5, 6, 7, 8, 9, 10, 1, 2, 3]\n"
     ]
    }
   ],
   "source": [
    "# Function to rotate a list to the left by n positions\n",
    "def rotateListLeft(inputList, n):\n",
    "    n = n % len(inputList)\n",
    "    rotatedList = inputList[n:] + inputList[:n]\n",
    "    return rotatedList\n",
    "\n",
    "# Example list\n",
    "lst = [1, 2, 3, 4, 5, 6, 7, 8, 9, 10]\n",
    "\n",
    "# User input for the number of positions to rotate\n",
    "n = int(input(\"Enter the number of positions to rotate left: \"))\n",
    "\n",
    "# Calling function\n",
    "result = rotateListLeft(lst, n)\n",
    "\n",
    "# Displaying result\n",
    "print(result)\n"
   ]
  },
  {
   "cell_type": "markdown",
   "id": "f098464d-81dc-4247-a0e4-6795d055a780",
   "metadata": {},
   "source": [
    " "
   ]
  },
  {
   "cell_type": "markdown",
   "id": "4844ae56-5437-4cdf-a769-5bb2c54e17e7",
   "metadata": {},
   "source": [
    "<h5>32. Rotate a list to the right by `n` positions."
   ]
  },
  {
   "cell_type": "code",
   "execution_count": 94,
   "id": "36cb92ee-8a97-4678-8b05-594655e26d0a",
   "metadata": {},
   "outputs": [
    {
     "name": "stdin",
     "output_type": "stream",
     "text": [
      "Enter the number of positions to rotate right:  3\n"
     ]
    },
    {
     "name": "stdout",
     "output_type": "stream",
     "text": [
      "[8, 9, 10, 1, 2, 3, 4, 5, 6, 7]\n"
     ]
    }
   ],
   "source": [
    "# Function to rotate a list to the right by n positions\n",
    "def rotateListRight(inputList, n):\n",
    "    n = n % len(inputList)\n",
    "    rotatedList = inputList[-n:] + inputList[:-n]\n",
    "    return rotatedList\n",
    "\n",
    "# Example list\n",
    "lst = [1, 2, 3, 4, 5, 6, 7, 8, 9, 10]\n",
    "\n",
    "# User input for the number of positions to rotate\n",
    "n = int(input(\"Enter the number of positions to rotate right: \"))\n",
    "\n",
    "# Calling function\n",
    "result = rotateListRight(lst, n)\n",
    "\n",
    "# Displaying result\n",
    "print(result)\n"
   ]
  },
  {
   "cell_type": "markdown",
   "id": "f67a35b2-d01a-4e19-ae18-620e9160aaf8",
   "metadata": {},
   "source": [
    " "
   ]
  },
  {
   "cell_type": "markdown",
   "id": "99a9b92d-ac9c-468c-8742-814fd418fdfd",
   "metadata": {},
   "source": [
    "<h5>33. Create a list of prime numbers up to 50."
   ]
  },
  {
   "cell_type": "code",
   "execution_count": 95,
   "id": "5830e41e-d6a0-4167-bda8-8991812117ec",
   "metadata": {},
   "outputs": [
    {
     "name": "stdout",
     "output_type": "stream",
     "text": [
      "[2, 3, 5, 7, 11, 13, 17, 19, 23, 29, 31, 37, 41, 43, 47]\n"
     ]
    }
   ],
   "source": [
    "# Function to check if a number is prime\n",
    "def isPrime(num):\n",
    "    if num < 2:\n",
    "        return False\n",
    "    for i in range(2, int(num**0.5) + 1):\n",
    "        if num % i == 0:\n",
    "            return False\n",
    "    return True\n",
    "\n",
    "# Generate a list of prime numbers up to n\n",
    "def generatePrimeList(up_to_number):\n",
    "    primeList = [i for i in range(2, up_to_number) if isPrime(i)]\n",
    "    return primeList\n",
    "\n",
    "# Example: generate a list of prime numbers up to 50\n",
    "n = 50\n",
    "primeList = generatePrimeList(n)\n",
    "print(primeList)\n"
   ]
  },
  {
   "cell_type": "markdown",
   "id": "70943382-4329-4ea7-8ba9-297d02918dc6",
   "metadata": {},
   "source": [
    " "
   ]
  },
  {
   "cell_type": "markdown",
   "id": "939113bc-d26a-43e2-8e5e-9cf435b4dc89",
   "metadata": {},
   "source": [
    "<h5>34. Split a list into chunks of size n"
   ]
  },
  {
   "cell_type": "code",
   "execution_count": 96,
   "id": "8adf91a3-bc3a-452b-9981-8935dda8eb11",
   "metadata": {},
   "outputs": [
    {
     "name": "stdout",
     "output_type": "stream",
     "text": [
      "[[1, 2], [3, 5], [7, 11], [13, 17], [19, 23], [29, 31], [37, 41], [43, 47]]\n"
     ]
    }
   ],
   "source": [
    "# Function to split a list into chunks of size n\n",
    "def splitListIntoChunks(inputList, chunkSize):\n",
    "    chunks = []\n",
    "    currentChunk = []\n",
    "    for item in inputList:\n",
    "        currentChunk.append(item)\n",
    "        if len(currentChunk) == chunkSize:\n",
    "            chunks.append(currentChunk)\n",
    "            currentChunk = []\n",
    "    if currentChunk:\n",
    "        chunks.append(currentChunk)\n",
    "    return chunks\n",
    "\n",
    "# Example list\n",
    "lst = [1, 2, 3, 5, 7, 11, 13, 17, 19, 23, 29, 31, 37, 41, 43, 47]\n",
    "\n",
    "# Calling function\n",
    "result = splitListIntoChunks(lst, 2)\n",
    "\n",
    "# Displaying result\n",
    "print(result)\n"
   ]
  },
  {
   "cell_type": "markdown",
   "id": "53705d6d-4a84-4ccf-8102-4f505a7245ec",
   "metadata": {},
   "source": [
    " "
   ]
  },
  {
   "cell_type": "markdown",
   "id": "e9522924-e6c1-474e-ac47-a0c6ff824026",
   "metadata": {},
   "source": [
    "<h5>35. Find the second largest number in a list."
   ]
  },
  {
   "cell_type": "code",
   "execution_count": 13,
   "id": "20610c90-dadd-49a1-bc71-4152fdcd6c2d",
   "metadata": {},
   "outputs": [
    {
     "name": "stdout",
     "output_type": "stream",
     "text": [
      "Second Largest:  8\n"
     ]
    }
   ],
   "source": [
    "# Function to find the second-largest number in a list\n",
    "def findSecondLargest(inputList):\n",
    "    sortedList = sorted(inputList, reverse=True)\n",
    "    return sortedList[1]\n",
    "\n",
    "# Example list\n",
    "lst = [1, 3, 4, 7, 2, 4, 8, 10, 3, 8]\n",
    "\n",
    "# Calling function\n",
    "result = findSecondLargest(lst)\n",
    "\n",
    "# Displaying result\n",
    "print(\"Second Largest: \",result)\n"
   ]
  },
  {
   "cell_type": "markdown",
   "id": "4356be44-d0ac-4c7e-ab6b-ff1c31f91ba8",
   "metadata": {},
   "source": [
    " "
   ]
  },
  {
   "cell_type": "markdown",
   "id": "2d3aea39-eb62-4f54-b59d-1d9418c2a939",
   "metadata": {},
   "source": [
    "<h5>36. Replace every element in a list with its square."
   ]
  },
  {
   "cell_type": "code",
   "execution_count": 15,
   "id": "19332bbe-d558-46bc-8eac-c3bb4e1bf972",
   "metadata": {},
   "outputs": [
    {
     "name": "stdout",
     "output_type": "stream",
     "text": [
      "Modified List:  [1, 9, 16, 49, 4, 16, 64, 100, 9, 64]\n"
     ]
    }
   ],
   "source": [
    "# Function to replace every element in a list with its square\n",
    "def replaceWithSquare(inputList):\n",
    "    squaredList = [i*i for i in inputList]\n",
    "    return squaredList\n",
    "\n",
    "# Example list\n",
    "lst = [1, 3, 4, 7, 2, 4, 8, 10, 3, 8]\n",
    "\n",
    "# Calling function\n",
    "result = replaceWithSquare(lst)\n",
    "\n",
    "# Displaying result\n",
    "print(\"Modified List: \",result)\n"
   ]
  },
  {
   "cell_type": "markdown",
   "id": "f1b6361b-cd32-4e5b-8aca-5fff119fdbf3",
   "metadata": {},
   "source": [
    "  "
   ]
  },
  {
   "cell_type": "markdown",
   "id": "40a2d78f-0550-40a7-b74c-847fbb895a39",
   "metadata": {},
   "source": [
    "<h5>37. Convert a list to a dictionary where list elements become keys and their\n",
    "indices become values."
   ]
  },
  {
   "cell_type": "code",
   "execution_count": 16,
   "id": "ec1990ec-cb74-401d-89a8-cd8d14353f3b",
   "metadata": {},
   "outputs": [
    {
     "name": "stdout",
     "output_type": "stream",
     "text": [
      "Dictionary:  {1: 0, 3: 8, 4: 5, 7: 3, 2: 4, 8: 9, 10: 7}\n"
     ]
    }
   ],
   "source": [
    "# Function to convert a list to a dictionary\n",
    "def convertListToDictionary(inputList):\n",
    "    dictionary = {}\n",
    "    for i in range(len(inputList)):\n",
    "        dictionary[inputList[i]] = i\n",
    "    return dictionary\n",
    "\n",
    "# Example list\n",
    "lst = [1, 3, 4, 7, 2, 4, 8, 10, 3, 8]\n",
    "\n",
    "# Calling function\n",
    "result = convertListToDictionary(lst)\n",
    "\n",
    "# Displaying result\n",
    "print(\"Dictionary: \",result)\n"
   ]
  },
  {
   "cell_type": "markdown",
   "id": "6fc32a31-7ec8-43d4-bdd8-3ff26257a173",
   "metadata": {},
   "source": [
    " "
   ]
  },
  {
   "cell_type": "markdown",
   "id": "fdfb2a91-55b0-4904-8350-c4a75f96ac8e",
   "metadata": {},
   "source": [
    "<h5>38. Shuffle the elements of a list randomly."
   ]
  },
  {
   "cell_type": "code",
   "execution_count": 17,
   "id": "d4208c4f-f61c-47ff-b05f-32d2a256ea16",
   "metadata": {},
   "outputs": [
    {
     "name": "stdout",
     "output_type": "stream",
     "text": [
      "Modified List:  [3, 8, 8, 4, 3, 7, 2, 4, 10, 1]\n"
     ]
    }
   ],
   "source": [
    "# Importing the random module\n",
    "import random\n",
    "\n",
    "# Example list\n",
    "lst = [1, 3, 4, 7, 2, 4, 8, 10, 3, 8]\n",
    "\n",
    "# Shuffling the list randomly\n",
    "random.shuffle(lst)\n",
    "\n",
    "# Displaying the shuffled list\n",
    "print(\"Modified List: \",lst)\n"
   ]
  },
  {
   "cell_type": "markdown",
   "id": "323b2528-6545-4c9f-a812-0547dd658707",
   "metadata": {},
   "source": [
    " "
   ]
  },
  {
   "cell_type": "markdown",
   "id": "01e3555d-833a-4cf0-a44f-bab6383110bc",
   "metadata": {},
   "source": [
    "<h5>39. Create a list of the first 10 factorial numbers."
   ]
  },
  {
   "cell_type": "code",
   "execution_count": 18,
   "id": "a9e8c70e-0f9a-425f-8072-aa4b58d45ea9",
   "metadata": {},
   "outputs": [
    {
     "name": "stdout",
     "output_type": "stream",
     "text": [
      "Factorial List:  [1, 2, 6, 24, 120, 720, 5040, 40320, 362880, 3628800]\n"
     ]
    }
   ],
   "source": [
    "# Function to calculate the factorial of a number\n",
    "def factorial(n):\n",
    "    if n == 0 or n == 1:\n",
    "        return 1\n",
    "    return n * factorial(n - 1)\n",
    "\n",
    "# Generating a list of the first 10 factorial numbers\n",
    "factorialList = [factorial(i) for i in range(1, 11)]\n",
    "\n",
    "# Displaying the list\n",
    "print(\"Factorial List: \",factorialList)\n"
   ]
  },
  {
   "cell_type": "markdown",
   "id": "642ec500-3959-411f-9a5a-187b3d4d73e5",
   "metadata": {},
   "source": [
    " "
   ]
  },
  {
   "cell_type": "markdown",
   "id": "cbbcc211-17e0-424b-9f78-e102179534cb",
   "metadata": {},
   "source": [
    "<h5>40. Check if two lists have at least one element in common"
   ]
  },
  {
   "cell_type": "code",
   "execution_count": 102,
   "id": "022985cd-3d96-4372-b55c-ca34e003419e",
   "metadata": {},
   "outputs": [
    {
     "name": "stdout",
     "output_type": "stream",
     "text": [
      "Contain at least one common element\n"
     ]
    }
   ],
   "source": [
    "# Function to check if two lists have at least one element in common\n",
    "def haveCommonElement(list1, list2):\n",
    "    for item in list1:\n",
    "        if item in list2:\n",
    "            return True\n",
    "    return False\n",
    "\n",
    "# Example lists\n",
    "list_1 = [1, 2, 4, 6, 8, 2, 5, 3, 8]\n",
    "list_2 = [5, 7, 2, 8, 3]\n",
    "\n",
    "# Calling function\n",
    "result = haveCommonElement(list_1, list_2)\n",
    "\n",
    "# Displaying result\n",
    "if result:\n",
    "    print(\"Contain at least one common element\")\n",
    "else:\n",
    "    print(\"Not any common element\")\n"
   ]
  },
  {
   "cell_type": "markdown",
   "id": "c7a12f5f-dcd2-4f72-b63a-412e405d0dd3",
   "metadata": {},
   "source": [
    " "
   ]
  },
  {
   "cell_type": "markdown",
   "id": "0600e28d-031e-477b-910e-9d06df69b538",
   "metadata": {},
   "source": [
    "<h5>41. Remove all elements from a list"
   ]
  },
  {
   "cell_type": "code",
   "execution_count": 103,
   "id": "6d4fdedd-909b-4083-b21d-8743e4f63560",
   "metadata": {},
   "outputs": [
    {
     "name": "stdout",
     "output_type": "stream",
     "text": [
      "[]\n"
     ]
    }
   ],
   "source": [
    "# Example list\n",
    "lst = [2, 5, 3, 6, 72, 3, 5, 87, 33]\n",
    "\n",
    "# Clearing the list (removing all elements)\n",
    "lst.clear()\n",
    "\n",
    "# Displaying the list after clearing\n",
    "print(lst)\n"
   ]
  },
  {
   "cell_type": "markdown",
   "id": "94056c0d-2789-475f-8da8-14b852bd61f8",
   "metadata": {},
   "source": [
    " "
   ]
  },
  {
   "cell_type": "markdown",
   "id": "683da499-bcfd-48ee-b813-a007b0ab5394",
   "metadata": {},
   "source": [
    "<h5>42. Replace negative numbers in a list with 0."
   ]
  },
  {
   "cell_type": "code",
   "execution_count": 20,
   "id": "64bec04f-35a8-4233-876f-f193086632c9",
   "metadata": {},
   "outputs": [
    {
     "name": "stdout",
     "output_type": "stream",
     "text": [
      "Modified List:  [2, 4, 0, 7, 0, 4, 0]\n"
     ]
    }
   ],
   "source": [
    "# Function to replace negative numbers in a list with 0\n",
    "def replaceNegativesWithZero(inputList):\n",
    "    result = [0 if i < 0 else i for i in inputList]\n",
    "    return result\n",
    "\n",
    "# Example list\n",
    "lst = [2, 4, -6, 7, -2, 4, -1]\n",
    "\n",
    "# Calling function\n",
    "result = replaceNegativesWithZero(lst)\n",
    "\n",
    "# Displaying result\n",
    "print(\"Modified List: \",result)\n"
   ]
  },
  {
   "cell_type": "markdown",
   "id": "d3fb5681-dcc2-4811-abb5-295d184352a0",
   "metadata": {},
   "source": [
    " "
   ]
  },
  {
   "cell_type": "markdown",
   "id": "42a97cbd-7d10-4e58-814e-05af78e7fa25",
   "metadata": {},
   "source": [
    "<h5>43. Convert a string into a list of words."
   ]
  },
  {
   "cell_type": "code",
   "execution_count": 105,
   "id": "db8254c8-9ae1-4d12-98b9-1dff9947fdc0",
   "metadata": {},
   "outputs": [
    {
     "name": "stdin",
     "output_type": "stream",
     "text": [
      "Enter String:  Full Stack Data Science Pro\n"
     ]
    },
    {
     "name": "stdout",
     "output_type": "stream",
     "text": [
      "['Full', 'Stack', 'Data', 'Science', 'Pro']\n"
     ]
    }
   ],
   "source": [
    "# Function to convert a string into a list of words\n",
    "def convertStringToList(inputString):\n",
    "    return inputString.split()\n",
    "\n",
    "# User input for the string\n",
    "s = input(\"Enter String: \")\n",
    "\n",
    "# Calling function\n",
    "result = convertStringToList(s)\n",
    "\n",
    "# Displaying result\n",
    "print(result)\n"
   ]
  },
  {
   "cell_type": "markdown",
   "id": "49dea32d-666f-4abf-935b-9598019bf522",
   "metadata": {},
   "source": [
    " "
   ]
  },
  {
   "cell_type": "markdown",
   "id": "8a4ce95a-0942-437b-b7c8-1a78a21dfa99",
   "metadata": {},
   "source": [
    "<h5>44. Convert a list of words into a string."
   ]
  },
  {
   "cell_type": "code",
   "execution_count": 22,
   "id": "e3fb0b6f-2884-4616-8c78-5d2cfa724874",
   "metadata": {},
   "outputs": [
    {
     "name": "stdout",
     "output_type": "stream",
     "text": [
      "Converted List to string:  Full Stack Data Science Pro\n"
     ]
    }
   ],
   "source": [
    "# Function to convert a list of words into a string\n",
    "def convertListToString(inputList):\n",
    "    return ' '.join(inputList)\n",
    "\n",
    "# Example list of words\n",
    "lst = ['Full', 'Stack', 'Data', 'Science', 'Pro']\n",
    "\n",
    "# Calling function\n",
    "result = convertListToString(lst)\n",
    "\n",
    "# Displaying result\n",
    "print(\"Converted List to string: \",result)\n"
   ]
  },
  {
   "cell_type": "markdown",
   "id": "ac0bd0c5-af4f-42a6-a1f5-9f55c17ce096",
   "metadata": {},
   "source": [
    " "
   ]
  },
  {
   "cell_type": "markdown",
   "id": "f67a4b46-b05c-499d-96c8-7fa09d79caa6",
   "metadata": {},
   "source": [
    "<h5>45. Create a list of the first `n` powers of 2."
   ]
  },
  {
   "cell_type": "code",
   "execution_count": 107,
   "id": "459c1413-900f-45f2-a581-7aa29d44647c",
   "metadata": {},
   "outputs": [
    {
     "name": "stdin",
     "output_type": "stream",
     "text": [
      "Enter the number of powers:  2\n"
     ]
    },
    {
     "name": "stdout",
     "output_type": "stream",
     "text": [
      "[2, 4]\n"
     ]
    }
   ],
   "source": [
    "# Function to create a list of the first n powers of 2\n",
    "def generatePowersOfTwo(n):\n",
    "    return [2**i for i in range(1, n+1)]\n",
    "\n",
    "# User input for the number of powers\n",
    "n = int(input(\"Enter the number of powers: \"))\n",
    "\n",
    "# Calling function\n",
    "result = generatePowersOfTwo(n)\n",
    "\n",
    "# Displaying result\n",
    "print(result)\n"
   ]
  },
  {
   "cell_type": "markdown",
   "id": "e2a81d40-018b-4f24-ac40-f4b1d174b69c",
   "metadata": {},
   "source": [
    " "
   ]
  },
  {
   "cell_type": "markdown",
   "id": "b7e88096-7b7b-45e1-8171-994d0f015c6d",
   "metadata": {},
   "source": [
    "<h5>46. Find the longest string in a list of strings."
   ]
  },
  {
   "cell_type": "code",
   "execution_count": 23,
   "id": "a4d66f0e-5497-4a14-97d3-6590375797f3",
   "metadata": {},
   "outputs": [
    {
     "name": "stdout",
     "output_type": "stream",
     "text": [
      "Longest String in List of String:  sdsf dsfv ssf rwss\n"
     ]
    }
   ],
   "source": [
    "# Function to find the longest string in a list of strings\n",
    "def findLongestString(inputList):\n",
    "    max_len = 0\n",
    "    longest = ''\n",
    "    for string_list in inputList:\n",
    "        for string in string_list:\n",
    "            if len(string) > max_len:\n",
    "                longest = string\n",
    "                max_len = len(string)\n",
    "    return longest\n",
    "\n",
    "# Example list of strings\n",
    "lst = [[\"adadad sfs da\"], [\"sfsf sf\"], [\"sdsf dsfv ssf rwss\"], [\"dsd\"]]\n",
    "\n",
    "# Calling function\n",
    "result = findLongestString(lst)\n",
    "\n",
    "# Displaying result\n",
    "print(\"Longest String in List of String: \",result)\n"
   ]
  },
  {
   "cell_type": "markdown",
   "id": "55acfc89-d8b4-47a8-8b44-903ddaf1dd9f",
   "metadata": {},
   "source": [
    " "
   ]
  },
  {
   "cell_type": "markdown",
   "id": "b009008f-efc3-42b0-83df-38a9ca5fed8d",
   "metadata": {},
   "source": [
    "<h5>47. Find the shortest string in a list of strings."
   ]
  },
  {
   "cell_type": "code",
   "execution_count": 24,
   "id": "4d1bb70c-55d3-4162-ae16-50dd536615df",
   "metadata": {},
   "outputs": [
    {
     "name": "stdout",
     "output_type": "stream",
     "text": [
      "shortest string in a list of strings:  dsd\n"
     ]
    }
   ],
   "source": [
    "# Function to find the shortest string in a list of strings\n",
    "def findShortestString(inputList):\n",
    "    min_len = float('inf')\n",
    "    shortest = ''\n",
    "    for string_list in inputList:\n",
    "        for string in string_list:\n",
    "            if len(string) < min_len:\n",
    "                shortest = string\n",
    "                min_len = len(string)\n",
    "    return shortest\n",
    "\n",
    "# Example list of strings\n",
    "lst = [[\"adadad sfs da\"], [\"sfsf sf\"], [\"sdsf dsfv ssf rwss\"], [\"dsd\"]]\n",
    "\n",
    "# Calling function\n",
    "result = findShortestString(lst)\n",
    "\n",
    "# Displaying result\n",
    "print(\"shortest string in a list of strings: \",result)\n"
   ]
  },
  {
   "cell_type": "markdown",
   "id": "4a475f83-215e-445c-822a-023741fcc0c8",
   "metadata": {},
   "source": [
    " "
   ]
  },
  {
   "cell_type": "markdown",
   "id": "a26032e3-2c04-4544-8a42-45b726471751",
   "metadata": {},
   "source": [
    "<h5>48. Create a list of the first `n` triangular numbers."
   ]
  },
  {
   "cell_type": "code",
   "execution_count": 110,
   "id": "15ae2b40-154b-4093-a275-23807cd1b37a",
   "metadata": {},
   "outputs": [
    {
     "name": "stdin",
     "output_type": "stream",
     "text": [
      "Enter the number of triangular numbers:  10\n"
     ]
    },
    {
     "name": "stdout",
     "output_type": "stream",
     "text": [
      "[1, 3, 6, 10, 15, 21, 28, 36, 45, 55]\n"
     ]
    }
   ],
   "source": [
    "# Function to create a list of the first n triangular numbers\n",
    "def generateTriangularNumbers(n):\n",
    "    return [(i*(i+1)) // 2 for i in range(1, n+1)]\n",
    "\n",
    "# User input for the number of triangular numbers\n",
    "n = int(input(\"Enter the number of triangular numbers: \"))\n",
    "\n",
    "# Calling function\n",
    "result = generateTriangularNumbers(n)\n",
    "\n",
    "# Displaying result\n",
    "print(result)\n"
   ]
  },
  {
   "cell_type": "markdown",
   "id": "ee765d3a-e79a-4925-b602-c5083c0b7da7",
   "metadata": {},
   "source": [
    " "
   ]
  },
  {
   "cell_type": "markdown",
   "id": "b7799d1e-440c-4639-8b78-6211456464fc",
   "metadata": {},
   "source": [
    "<h5>49. Check if a list contains another list as a subsequence."
   ]
  },
  {
   "cell_type": "code",
   "execution_count": 111,
   "id": "eb674d5f-ad36-46ea-b6c0-aaaf2e3367f9",
   "metadata": {},
   "outputs": [
    {
     "name": "stdout",
     "output_type": "stream",
     "text": [
      "True\n"
     ]
    }
   ],
   "source": [
    "# Function to check if a list contains another list as a subsequence\n",
    "def containsSublist(inputList):\n",
    "    for item in inputList:\n",
    "        if isinstance(item, list):\n",
    "            return True\n",
    "    return False\n",
    "\n",
    "# Example list\n",
    "lst = [2, 5, \"jshf ajda\", 5, [2, 4, 67, \"sd\"], \"fjsf\"]\n",
    "\n",
    "# Calling function\n",
    "result = containsSublist(lst)\n",
    "\n",
    "# Displaying result\n",
    "print(result)\n"
   ]
  },
  {
   "cell_type": "markdown",
   "id": "df765c81-a763-4203-8f6d-4ca75ee79216",
   "metadata": {},
   "source": [
    " "
   ]
  },
  {
   "cell_type": "markdown",
   "id": "e577b419-7d7b-4d88-bacf-e7a09438087f",
   "metadata": {},
   "source": [
    "<h5> 50. Swap two elements in a list by their indices"
   ]
  },
  {
   "cell_type": "code",
   "execution_count": 112,
   "id": "54bf1af3-888f-4801-866c-c60cc3a6af05",
   "metadata": {},
   "outputs": [
    {
     "name": "stdin",
     "output_type": "stream",
     "text": [
      "Enter the first index:  2\n",
      "Enter the second index:  1\n"
     ]
    },
    {
     "name": "stdout",
     "output_type": "stream",
     "text": [
      "[2, 1, 3, 0]\n"
     ]
    }
   ],
   "source": [
    "# Function to swap two elements in a list by their indices\n",
    "def swapElementsByIndices(inputList, index1, index2):\n",
    "    if 0 <= index1 < len(inputList) and 0 <= index2 < len(inputList):\n",
    "        # Swap the elements\n",
    "        inputList[index1], inputList[index2] = inputList[index2], inputList[index1]\n",
    "    return inputList\n",
    "\n",
    "# Example list\n",
    "lst = [2, 3, 1, 0]\n",
    "\n",
    "# User input for indices to swap\n",
    "index_1 = int(input(\"Enter the first index: \"))\n",
    "index_2 = int(input(\"Enter the second index: \"))\n",
    "\n",
    "# Calling function\n",
    "result = swapElementsByIndices(lst, index_1, index_2)\n",
    "\n",
    "# Displaying result\n",
    "print(result)\n"
   ]
  },
  {
   "cell_type": "markdown",
   "id": "2cdf5af8-7bd6-4bd6-931a-245e05e64a00",
   "metadata": {},
   "source": [
    "  "
   ]
  },
  {
   "cell_type": "markdown",
   "id": "62f5fdfd-b714-4156-ac6f-b614b1acafb6",
   "metadata": {},
   "source": [
    "<h1>Tuple Based Practice Problem"
   ]
  },
  {
   "cell_type": "markdown",
   "id": "0a6ebc05-96a1-457d-8ac8-034d6a127f65",
   "metadata": {},
   "source": [
    "<h5>1. Create a tuple with integers from 1 to 5."
   ]
  },
  {
   "cell_type": "code",
   "execution_count": 26,
   "id": "9ae601ed-6282-49a6-a328-a4b8d5ec221f",
   "metadata": {},
   "outputs": [
    {
     "name": "stdout",
     "output_type": "stream",
     "text": [
      "(1, 2, 3, 4, 5)\n"
     ]
    }
   ],
   "source": [
    "#Create a tuple with integers from 1 to 5\n",
    "tpl = (1, 2, 3, 4, 5)\n",
    "print(tpl)"
   ]
  },
  {
   "cell_type": "markdown",
   "id": "eebb6d61-888d-47ce-8f20-9523ce2037cc",
   "metadata": {},
   "source": [
    " "
   ]
  },
  {
   "cell_type": "markdown",
   "id": "5c013441-e625-46f8-9809-0c1d4246d927",
   "metadata": {},
   "source": [
    "<h5>2. Access the third element of a tuple."
   ]
  },
  {
   "cell_type": "code",
   "execution_count": 27,
   "id": "0dba7423-6795-4f86-b45b-3f83b7a312a1",
   "metadata": {},
   "outputs": [
    {
     "name": "stdout",
     "output_type": "stream",
     "text": [
      "3\n"
     ]
    }
   ],
   "source": [
    "#Access the third element of a tuple.\n",
    "tpl = (1, 2, 3, 4, 5)\n",
    "print(tpl[2])"
   ]
  },
  {
   "cell_type": "markdown",
   "id": "e4084e72-733d-4f30-bb41-d082680895f5",
   "metadata": {},
   "source": [
    " "
   ]
  },
  {
   "cell_type": "markdown",
   "id": "1cc8a6c1-7a95-4bf4-8961-c5d99f77fae0",
   "metadata": {},
   "source": [
    "<h5>3. Find the length of a tuple without using the `len()` function."
   ]
  },
  {
   "cell_type": "code",
   "execution_count": 1,
   "id": "39e420d7-c56c-407f-aad1-7b119e94794b",
   "metadata": {},
   "outputs": [
    {
     "name": "stdout",
     "output_type": "stream",
     "text": [
      "Length of Tuple:  5\n"
     ]
    }
   ],
   "source": [
    "# Function to find the length of a tuple\n",
    "def lengthTuple(inputTuple):\n",
    "    count = 0\n",
    "    for _ in inputTuple:\n",
    "        count += 1\n",
    "    return count\n",
    "\n",
    "# Input\n",
    "userInputTuple = (1, 2, 3, 4, 5)\n",
    "\n",
    "# Calling Function\n",
    "length = lengthTuple(userInputTuple)\n",
    "\n",
    "# Displaying result\n",
    "print(\"Length of Tuple: \", length)\n"
   ]
  },
  {
   "cell_type": "markdown",
   "id": "55c4a2d5-ed8c-47c7-977b-2aa4314c59e0",
   "metadata": {},
   "source": [
    "  "
   ]
  },
  {
   "cell_type": "markdown",
   "id": "18ad3039-cb24-49c0-995f-b6cb84ecf860",
   "metadata": {},
   "source": [
    "<h5>4. Count the occurrences of an element in a tuple."
   ]
  },
  {
   "cell_type": "code",
   "execution_count": 2,
   "id": "1044c7d3-f764-4149-bf60-fa96493ab27e",
   "metadata": {},
   "outputs": [
    {
     "name": "stdout",
     "output_type": "stream",
     "text": [
      "Occurrences of 5 in the tuple:  3\n"
     ]
    }
   ],
   "source": [
    "# Function to count the occurrences of an element in a tuple\n",
    "def countOccurrence(inputTuple, element):\n",
    "    return inputTuple.count(element)\n",
    "\n",
    "# Input\n",
    "userInputTuple = (1, 2, 3, 4, 5, 5, 5)\n",
    "elementToCount = 5\n",
    "\n",
    "# Calling Function\n",
    "occurrences = countOccurrence(userInputTuple, elementToCount)\n",
    "\n",
    "# Displaying result\n",
    "print(\"Occurrences of\", elementToCount, \"in the tuple: \", occurrences)\n"
   ]
  },
  {
   "cell_type": "markdown",
   "id": "d0902911-4c07-45e8-854c-ab177f98051f",
   "metadata": {},
   "source": [
    "  "
   ]
  },
  {
   "cell_type": "markdown",
   "id": "289ddb60-c8fc-4b72-9ead-d73259391b19",
   "metadata": {},
   "source": [
    "<h5>5. Find the index of the first occurrence of an element in a tuple"
   ]
  },
  {
   "cell_type": "code",
   "execution_count": 3,
   "id": "605a3242-c685-4c72-94b1-af5051bd367c",
   "metadata": {},
   "outputs": [
    {
     "name": "stdin",
     "output_type": "stream",
     "text": [
      "Enter the element to find:  5\n"
     ]
    },
    {
     "name": "stdout",
     "output_type": "stream",
     "text": [
      "Index of the first occurrence of 5 in the tuple:  4\n"
     ]
    }
   ],
   "source": [
    "# Function to find the index of the first occurrence of an element in a tuple\n",
    "def findIndexOfElement(inputTuple, element):\n",
    "    return inputTuple.index(element)\n",
    "\n",
    "# Input\n",
    "userInputTuple = (1, 2, 3, 4, 5, 5, 5)\n",
    "elementToFind = int(input(\"Enter the element to find: \"))\n",
    "\n",
    "# Calling Function\n",
    "index = findIndexOfElement(userInputTuple, elementToFind)\n",
    "\n",
    "# Displaying result\n",
    "print(\"Index of the first occurrence of\", elementToFind, \"in the tuple: \", index)\n"
   ]
  },
  {
   "cell_type": "markdown",
   "id": "964f848d-f779-46a6-a780-535a560bf446",
   "metadata": {},
   "source": [
    " "
   ]
  },
  {
   "cell_type": "markdown",
   "id": "4dcedeaa-3100-4fd1-83d3-c6eb3d7c5c9a",
   "metadata": {},
   "source": [
    "<h5>6. Check if an element exists in a tuple."
   ]
  },
  {
   "cell_type": "code",
   "execution_count": 4,
   "id": "f492a301-b5a4-463d-af01-747a2fda39ab",
   "metadata": {},
   "outputs": [
    {
     "name": "stdin",
     "output_type": "stream",
     "text": [
      "Enter the element to check:  9\n"
     ]
    },
    {
     "name": "stdout",
     "output_type": "stream",
     "text": [
      "Not Present\n"
     ]
    }
   ],
   "source": [
    "# Function to check if an element exists in a tuple\n",
    "def checkElementInTuple(inputTuple, element):\n",
    "    return element in inputTuple\n",
    "\n",
    "# Input\n",
    "userInputTuple = (1, 2, 3, 4, 5, 5, 5)\n",
    "elementToCheck = int(input(\"Enter the element to check: \"))\n",
    "\n",
    "# Calling Function\n",
    "exists = checkElementInTuple(userInputTuple, elementToCheck)\n",
    "\n",
    "# Displaying result\n",
    "if exists:\n",
    "    print(\"Present\")\n",
    "else:\n",
    "    print(\"Not Present\")\n"
   ]
  },
  {
   "cell_type": "markdown",
   "id": "5c4e33d5-3ad9-453f-9cb8-0698a4058110",
   "metadata": {},
   "source": [
    "  "
   ]
  },
  {
   "cell_type": "markdown",
   "id": "f59ae006-d15e-408b-b997-3e1bf67e8826",
   "metadata": {},
   "source": [
    "<h5>7. Convert a tuple to a list."
   ]
  },
  {
   "cell_type": "code",
   "execution_count": 5,
   "id": "3ff1dab2-b1bd-4815-93e4-e70accb8a1db",
   "metadata": {},
   "outputs": [
    {
     "name": "stdout",
     "output_type": "stream",
     "text": [
      "Converted List:  [1, 2, 3, 4, 5, 5, 5]\n"
     ]
    }
   ],
   "source": [
    "# Function to convert a tuple to a list\n",
    "def convertTupleToList(inputTuple):\n",
    "    return list(inputTuple)\n",
    "\n",
    "# Input\n",
    "userInputTuple = (1, 2, 3, 4, 5, 5, 5)\n",
    "\n",
    "# Calling Function\n",
    "convertedList = convertTupleToList(userInputTuple)\n",
    "\n",
    "# Displaying result\n",
    "print(\"Converted List: \", convertedList)\n"
   ]
  },
  {
   "cell_type": "markdown",
   "id": "145bb40e-6237-4b06-951a-67234b049181",
   "metadata": {},
   "source": [
    "  "
   ]
  },
  {
   "cell_type": "markdown",
   "id": "bdb34290-a8ed-4b29-9b46-78aeeae7fd17",
   "metadata": {},
   "source": [
    "<h5>8. Convert a list to a tuple"
   ]
  },
  {
   "cell_type": "code",
   "execution_count": 6,
   "id": "987b567d-f09c-482d-9bd6-aac876802d07",
   "metadata": {},
   "outputs": [
    {
     "name": "stdout",
     "output_type": "stream",
     "text": [
      "Converted Tuple:  (1, 2, 3, 4, 5, 5, 5)\n"
     ]
    }
   ],
   "source": [
    "# Function to convert a list to a tuple\n",
    "def convertListToTuple(inputList):\n",
    "    return tuple(inputList)\n",
    "\n",
    "# Input\n",
    "userInputList = [1, 2, 3, 4, 5, 5, 5]\n",
    "\n",
    "# Calling Function\n",
    "convertedTuple = convertListToTuple(userInputList)\n",
    "\n",
    "# Displaying result\n",
    "print(\"Converted Tuple: \", convertedTuple)\n"
   ]
  },
  {
   "cell_type": "markdown",
   "id": "1dfb6438-1af3-42d8-a8c6-e239e244c3cc",
   "metadata": {},
   "source": [
    " "
   ]
  },
  {
   "cell_type": "markdown",
   "id": "08adb028-007a-434e-a447-5f09950c52da",
   "metadata": {},
   "source": [
    "<h5>9. Unpack the elements of a tuple into variables."
   ]
  },
  {
   "cell_type": "code",
   "execution_count": 7,
   "id": "fc5fd9eb-ed7c-4c50-84c9-a58a3a876755",
   "metadata": {},
   "outputs": [
    {
     "name": "stdout",
     "output_type": "stream",
     "text": [
      "1 2 3 4 5\n"
     ]
    }
   ],
   "source": [
    "# Unpack the elements of a tuple into variables\n",
    "inputTuple = (1, 2, 3, 4, 5)\n",
    "\n",
    "# Unpacking\n",
    "a, b, c, d, e = inputTuple\n",
    "\n",
    "# Displaying result\n",
    "print(a, b, c, d, e)\n"
   ]
  },
  {
   "cell_type": "markdown",
   "id": "d841047b-729f-44fc-b257-8235e52dfca0",
   "metadata": {},
   "source": [
    " "
   ]
  },
  {
   "cell_type": "markdown",
   "id": "0555c644-3bfc-44f8-b188-d249937d264e",
   "metadata": {},
   "source": [
    "<h5>10. Create a tuple of even numbers from 1 to 10."
   ]
  },
  {
   "cell_type": "code",
   "execution_count": 8,
   "id": "eac2b18f-f240-4531-aa41-6672fb911742",
   "metadata": {},
   "outputs": [
    {
     "name": "stdout",
     "output_type": "stream",
     "text": [
      "Tuple of even numbers from 1 to 10:  (2, 4, 6, 8, 10)\n"
     ]
    }
   ],
   "source": [
    "# Create a tuple of even numbers from 1 to 10\n",
    "evenNumbersTuple = tuple(i for i in range(1, 11) if i % 2 == 0)\n",
    "\n",
    "# Displaying result\n",
    "print(\"Tuple of even numbers from 1 to 10: \", evenNumbersTuple)\n"
   ]
  },
  {
   "cell_type": "markdown",
   "id": "e9cc00a8-c553-49c0-aa63-6c79885a3ded",
   "metadata": {},
   "source": [
    " "
   ]
  },
  {
   "cell_type": "markdown",
   "id": "84be7447-aeb2-41ed-a801-be29ce67e540",
   "metadata": {},
   "source": [
    "<h5>11. Create a tuple of odd numbers from 1 to 10."
   ]
  },
  {
   "cell_type": "code",
   "execution_count": 9,
   "id": "6e425dc2-dd66-4fe7-8ac8-15aa223d43e3",
   "metadata": {},
   "outputs": [
    {
     "name": "stdout",
     "output_type": "stream",
     "text": [
      "Tuple of odd numbers from 1 to 10:  (1, 3, 5, 7, 9)\n"
     ]
    }
   ],
   "source": [
    "# Create a tuple of odd numbers from 1 to 10\n",
    "oddNumbersTuple = tuple(i for i in range(1, 11) if i % 2 != 0)\n",
    "\n",
    "# Displaying result\n",
    "print(\"Tuple of odd numbers from 1 to 10: \", oddNumbersTuple)\n"
   ]
  },
  {
   "cell_type": "markdown",
   "id": "1e88e775-1d1e-4769-b2a9-fab193756112",
   "metadata": {},
   "source": [
    " "
   ]
  },
  {
   "cell_type": "markdown",
   "id": "ef12f63a-6624-4bd3-8cb2-2c6f62435ba5",
   "metadata": {},
   "source": [
    "<h5>12. Concatenate two tuples"
   ]
  },
  {
   "cell_type": "code",
   "execution_count": 10,
   "id": "b79aae9b-ea5f-41f1-9365-e72d39774c4a",
   "metadata": {},
   "outputs": [
    {
     "name": "stdout",
     "output_type": "stream",
     "text": [
      "Concatenated tuple:  (1, 2, 3, 4, 5, 6, 7, 8, 9, 10)\n"
     ]
    }
   ],
   "source": [
    "# Concatenate two tuples\n",
    "tuple1 = (1, 2, 3, 4, 5)\n",
    "tuple2 = (6, 7, 8, 9, 10)\n",
    "\n",
    "# Concatenating\n",
    "resultTuple = tuple1 + tuple2\n",
    "\n",
    "# Displaying result\n",
    "print(\"Concatenated tuple: \", resultTuple)\n"
   ]
  },
  {
   "cell_type": "markdown",
   "id": "c308be99-1a8a-4591-b44b-57ec94039a81",
   "metadata": {},
   "source": [
    " "
   ]
  },
  {
   "cell_type": "markdown",
   "id": "22f5db08-bab3-49f4-9513-7f4f8ab911bf",
   "metadata": {},
   "source": [
    "<h5>13. Repeat a tuple three times"
   ]
  },
  {
   "cell_type": "code",
   "execution_count": 11,
   "id": "750ffb98-4606-45b7-83c6-de8860639cfe",
   "metadata": {},
   "outputs": [
    {
     "name": "stdout",
     "output_type": "stream",
     "text": [
      "Repeated tuple three times:  (1, 2, 3, 4, 5, 6, 7, 8, 9, 1, 2, 3, 4, 5, 6, 7, 8, 9, 1, 2, 3, 4, 5, 6, 7, 8, 9)\n"
     ]
    }
   ],
   "source": [
    "# Repeat a tuple three times\n",
    "originalTuple = (1, 2, 3, 4, 5, 6, 7, 8, 9)\n",
    "\n",
    "# Repeating\n",
    "resultTuple = 3 * originalTuple\n",
    "\n",
    "# Displaying result\n",
    "print(\"Repeated tuple three times: \", resultTuple)\n"
   ]
  },
  {
   "cell_type": "markdown",
   "id": "1242d30b-80a2-4575-bbd4-e2a21be3c7ee",
   "metadata": {},
   "source": [
    " "
   ]
  },
  {
   "cell_type": "markdown",
   "id": "fa5ac51e-b684-494a-b9c5-82997edfb2ae",
   "metadata": {},
   "source": [
    "<h5>14. Check if a tuple is empty."
   ]
  },
  {
   "cell_type": "code",
   "execution_count": 12,
   "id": "5efaaecf-899a-460c-8812-eb417c9c44cf",
   "metadata": {},
   "outputs": [
    {
     "name": "stdout",
     "output_type": "stream",
     "text": [
      "Is the first tuple empty?  False\n",
      "Is the second tuple empty?  True\n"
     ]
    }
   ],
   "source": [
    "# Function to check if a tuple is empty\n",
    "def isTupleEmpty(inputTuple):\n",
    "    return not bool(inputTuple)\n",
    "\n",
    "# Input\n",
    "userInputTuple = (1, 2, 3, 4, 5, 5, 5)\n",
    "emptyTuple = ()\n",
    "\n",
    "# Calling Function\n",
    "resultX = isTupleEmpty(userInputTuple)\n",
    "resultY = isTupleEmpty(emptyTuple)\n",
    "\n",
    "# Displaying results\n",
    "print(\"Is the first tuple empty? \", resultX)\n",
    "print(\"Is the second tuple empty? \", resultY)\n"
   ]
  },
  {
   "cell_type": "markdown",
   "id": "fa24f91d-e5c8-4248-af41-b19017b4a8f9",
   "metadata": {},
   "source": [
    " "
   ]
  },
  {
   "cell_type": "markdown",
   "id": "244547ec-11ff-4064-aabf-3c110a9255fb",
   "metadata": {},
   "source": [
    "<h5>15. Create a nested tuple."
   ]
  },
  {
   "cell_type": "code",
   "execution_count": 13,
   "id": "eb980dbe-59a1-4bb8-aa05-1f83756d5f6f",
   "metadata": {},
   "outputs": [
    {
     "name": "stdout",
     "output_type": "stream",
     "text": [
      "Nested Tuple:  ((1, 2, 3), ('adad', 'adc sd', 'ada'), (1, 2, 3, 'dsd'))\n"
     ]
    }
   ],
   "source": [
    "# Create a nested tuple\n",
    "nestedTuple = ((1, 2, 3), (\"adad\", \"adc sd\", \"ada\"), (1, 2, 3, \"dsd\"))\n",
    "\n",
    "# Displaying result\n",
    "print(\"Nested Tuple: \", nestedTuple)\n"
   ]
  },
  {
   "cell_type": "markdown",
   "id": "16ccd876-1c19-4bfe-8399-586e85433be3",
   "metadata": {},
   "source": [
    " "
   ]
  },
  {
   "cell_type": "markdown",
   "id": "9ab06ea8-9090-4c89-9a4c-68b0ad501e74",
   "metadata": {},
   "source": [
    "<h5>16. Access the first element of a nested tuple"
   ]
  },
  {
   "cell_type": "code",
   "execution_count": 109,
   "id": "849d4b96-2ed5-44fe-a0ee-9244628e2791",
   "metadata": {},
   "outputs": [
    {
     "name": "stdout",
     "output_type": "stream",
     "text": [
      "1\n",
      "adad\n",
      "1\n"
     ]
    }
   ],
   "source": [
    "# Access the first element of each tuple in a nested tuple\n",
    "nestedTuple = ((1, 2, 3), (\"adad\", \"adc sd\", \"ada\"), (1, 2, 3, \"dsd\"))\n",
    "\n",
    "# Accessing the first element of each tuple\n",
    "for innerTuple in nestedTuple:\n",
    "    print(innerTuple[0])\n"
   ]
  },
  {
   "cell_type": "markdown",
   "id": "63724fb3-1b22-4401-b54a-47eab867e042",
   "metadata": {},
   "source": [
    " "
   ]
  },
  {
   "cell_type": "markdown",
   "id": "4ed93073-f33b-4da0-9ed1-95d732821aed",
   "metadata": {},
   "source": [
    "<h5>17. Create a tuple with a single element"
   ]
  },
  {
   "cell_type": "code",
   "execution_count": 15,
   "id": "70305d12-b108-4ce4-ab57-cf0612eee93b",
   "metadata": {},
   "outputs": [
    {
     "name": "stdout",
     "output_type": "stream",
     "text": [
      "(1,)\n"
     ]
    }
   ],
   "source": [
    "# Create a tuple with a single element\n",
    "singleElementTuple = (1,)\n",
    "\n",
    "# Displaying result\n",
    "print(\"Tuple with a single element: \", singleElementTuple)\n"
   ]
  },
  {
   "cell_type": "markdown",
   "id": "956aed72-4c4b-4012-86f0-04600183ac81",
   "metadata": {},
   "source": [
    "  "
   ]
  },
  {
   "cell_type": "markdown",
   "id": "5a7734ba-8ae4-4822-8eaa-28f41fba0cd9",
   "metadata": {},
   "source": [
    "<h5>18. Compare two tuples."
   ]
  },
  {
   "cell_type": "code",
   "execution_count": 67,
   "id": "5c07488f-4117-450f-ba34-509eb6a3af5a",
   "metadata": {},
   "outputs": [
    {
     "name": "stdout",
     "output_type": "stream",
     "text": [
      "Is tuple1 greater than tuple2?  False\n",
      "Is tuple1 less than tuple2?  True\n",
      "Is tuple1 greater than or equal to tuple2?  False\n",
      "Is tuple1 less than or equal to tuple2?  True\n",
      "Are tuple1 and tuple2 equal?  False\n",
      "Are tuple1 and tuple2 not equal?  True\n"
     ]
    }
   ],
   "source": [
    "# Compare two tuples\n",
    "tuple1 = (1, 2, 3)\n",
    "tuple2 = (6, 7, 8)\n",
    "\n",
    "# Comparisons\n",
    "print(\"Is tuple1 greater than tuple2? \", tuple1 > tuple2)\n",
    "print(\"Is tuple1 less than tuple2? \", tuple1 < tuple2)\n",
    "print(\"Is tuple1 greater than or equal to tuple2? \", tuple1 >= tuple2)\n",
    "print(\"Is tuple1 less than or equal to tuple2? \", tuple1 <= tuple2)\n",
    "print(\"Are tuple1 and tuple2 equal? \", tuple1 == tuple2)\n",
    "print(\"Are tuple1 and tuple2 not equal? \", tuple1 != tuple2)\n"
   ]
  },
  {
   "cell_type": "markdown",
   "id": "c04c5b84-f6bf-4858-b95f-234e8cbe3772",
   "metadata": {},
   "source": [
    " "
   ]
  },
  {
   "cell_type": "markdown",
   "id": "c148bbdb-9720-410a-9baf-07009d116930",
   "metadata": {},
   "source": [
    "<h5>19. Delete a tuple."
   ]
  },
  {
   "cell_type": "code",
   "execution_count": 68,
   "id": "313a80c1-b804-4ec5-9495-08ab6cf88d65",
   "metadata": {},
   "outputs": [
    {
     "name": "stdout",
     "output_type": "stream",
     "text": [
      "Before delete:  (1, 2, 3, 4, 5, 6)\n"
     ]
    }
   ],
   "source": [
    "# Delete a tuple\n",
    "tupleToDelete = (1, 2, 3, 4, 5, 6)\n",
    "print(\"Before delete: \", tupleToDelete)\n",
    "\n",
    "# Deleting the tuple\n",
    "del tupleToDelete"
   ]
  },
  {
   "cell_type": "markdown",
   "id": "27abd012-e24e-40ff-bddb-7d81c2f1d451",
   "metadata": {},
   "source": [
    " "
   ]
  },
  {
   "cell_type": "markdown",
   "id": "b8a24a37-5318-4692-ba3a-b6d57fdb425f",
   "metadata": {},
   "source": [
    "<h5>20. Slice a tuple."
   ]
  },
  {
   "cell_type": "code",
   "execution_count": 69,
   "id": "1b082e6b-1838-4b72-8684-7cf7bbee8a3d",
   "metadata": {},
   "outputs": [
    {
     "name": "stdout",
     "output_type": "stream",
     "text": [
      "First three elements:  (1, 2, 3)\n",
      "Reversed tuple:  (5, 4, 3, 2, 1)\n",
      "Last two elements in reverse order:  (5, 4)\n",
      "Alternate elements:  (1, 3, 5)\n"
     ]
    }
   ],
   "source": [
    "# Slice a tuple\n",
    "originalTuple = (1, 2, 3, 4, 5)\n",
    "\n",
    "first3 = originalTuple[:3]\n",
    "reverse = originalTuple[::-1]\n",
    "last2 = originalTuple[4:2:-1]\n",
    "alternate = originalTuple[::2]\n",
    "\n",
    "# Displaying results\n",
    "print(\"First three elements: \", first3)\n",
    "print(\"Reversed tuple: \", reverse)\n",
    "print(\"Last two elements in reverse order: \", last2)\n",
    "print(\"Alternate elements: \", alternate)\n"
   ]
  },
  {
   "cell_type": "markdown",
   "id": "221d1a6a-4866-4fea-9ce9-f8e6d7b0c644",
   "metadata": {},
   "source": [
    " "
   ]
  },
  {
   "cell_type": "markdown",
   "id": "0b6c92b8-09c0-4dbc-9893-8fff71a61bce",
   "metadata": {},
   "source": [
    "<h5>21. Find the maximum value in a tuple."
   ]
  },
  {
   "cell_type": "code",
   "execution_count": 70,
   "id": "0af7380b-65af-482c-81ae-929355a85a77",
   "metadata": {},
   "outputs": [
    {
     "name": "stdout",
     "output_type": "stream",
     "text": [
      "Maximum value in the tuple:  5\n"
     ]
    }
   ],
   "source": [
    "# Function to find the maximum value in a tuple\n",
    "def findMaxValue(inputTuple):\n",
    "    return max(inputTuple)\n",
    "\n",
    "# Input\n",
    "userInputTuple = (1, 2, 3, 4, 5)\n",
    "\n",
    "# Calling Function\n",
    "resultMax = findMaxValue(userInputTuple)\n",
    "\n",
    "# Displaying result\n",
    "print(\"Maximum value in the tuple: \", resultMax)\n"
   ]
  },
  {
   "cell_type": "markdown",
   "id": "d01d5ae5-499f-4a6c-8e19-8e8df2219b39",
   "metadata": {},
   "source": [
    " "
   ]
  },
  {
   "cell_type": "markdown",
   "id": "ee7e2a9a-7f1f-40b9-87d9-7e3de21a4094",
   "metadata": {},
   "source": [
    "<h5>22. Find the minimum value in a tuple."
   ]
  },
  {
   "cell_type": "code",
   "execution_count": 71,
   "id": "4982925c-741f-458c-8a66-286e2a0cbef4",
   "metadata": {},
   "outputs": [
    {
     "name": "stdout",
     "output_type": "stream",
     "text": [
      "Minimum value in the tuple:  1\n"
     ]
    }
   ],
   "source": [
    "# Function to find the minimum value in a tuple\n",
    "def findMinValue(inputTuple):\n",
    "    return min(inputTuple)\n",
    "\n",
    "# Input\n",
    "userInputTuple = (1, 2, 3, 4, 5)\n",
    "\n",
    "# Calling Function\n",
    "resultMin = findMinValue(userInputTuple)\n",
    "\n",
    "# Displaying result\n",
    "print(\"Minimum value in the tuple: \", resultMin)\n"
   ]
  },
  {
   "cell_type": "markdown",
   "id": "b64e0927-d3c7-4ae0-bcbf-df8a6466ccd4",
   "metadata": {},
   "source": [
    " "
   ]
  },
  {
   "cell_type": "markdown",
   "id": "458ba7a7-ae64-4344-a8a9-666f23763196",
   "metadata": {},
   "source": [
    "<h5>23. Convert a string to a tuple of characters."
   ]
  },
  {
   "cell_type": "code",
   "execution_count": 107,
   "id": "c823c2ee-0438-48cf-875c-68ca2fa60564",
   "metadata": {},
   "outputs": [
    {
     "name": "stdout",
     "output_type": "stream",
     "text": [
      "Tuple of characters from the string:  ('F', 'u', 'l', 'l', ' ', 'S', 't', 'a', 'c', 'k', ' ', 'D', 'a', 't', 'a', ' ', 'S', 'c', 'i', 'e', 'n', 'c', 'e')\n"
     ]
    }
   ],
   "source": [
    "# Convert a string to a tuple of characters\n",
    "inputString = \"Full Stack Data Science\"\n",
    "\n",
    "# Converting\n",
    "charTuple = tuple(char for char in inputString)\n",
    "\n",
    "# Displaying result\n",
    "print(\"Tuple of characters from the string: \", charTuple)\n"
   ]
  },
  {
   "cell_type": "markdown",
   "id": "4d3837c3-0956-4af9-8da3-edb1d5337e65",
   "metadata": {},
   "source": [
    "  \n",
    "  "
   ]
  },
  {
   "cell_type": "markdown",
   "id": "1ec722c5-03de-4cf1-b847-5a336689a80e",
   "metadata": {},
   "source": [
    "<h5>24. Convert a tuple of characters to a string."
   ]
  },
  {
   "cell_type": "code",
   "execution_count": 108,
   "id": "c128ef17-4b5e-46b6-acfa-fa796ead5c98",
   "metadata": {},
   "outputs": [
    {
     "name": "stdout",
     "output_type": "stream",
     "text": [
      "String from the tuple of characters:  Full Stack Data Science\n"
     ]
    }
   ],
   "source": [
    "# Convert a tuple of characters to a string\n",
    "charTuple = ('F', 'u', 'l', 'l', ' ', 'S', 't', 'a', 'c', 'k', ' ', 'D', 'a', 't', 'a', ' ', 'S', 'c', 'i', 'e', 'n', 'c', 'e')\n",
    "# Converting\n",
    "resultString = ''.join(charTuple)\n",
    "\n",
    "# Displaying result\n",
    "print(\"String from the tuple of characters: \", resultString)\n"
   ]
  },
  {
   "cell_type": "markdown",
   "id": "7bf4b186-13c6-4c96-85fb-4c5dd418fa66",
   "metadata": {},
   "source": [
    " "
   ]
  },
  {
   "cell_type": "markdown",
   "id": "e7e5bb25-15d0-4fd0-b0a7-4b7565eaf6a5",
   "metadata": {},
   "source": [
    "<h5>25. Create a tuple from multiple data types."
   ]
  },
  {
   "cell_type": "code",
   "execution_count": 74,
   "id": "f491add2-31bf-4df3-bb2f-ce2c242cb472",
   "metadata": {},
   "outputs": [
    {
     "name": "stdout",
     "output_type": "stream",
     "text": [
      "Tuple with multiple data types:  (1, 2, 3, 'asd', (2+3j), 'as d sds', 3.0)\n"
     ]
    }
   ],
   "source": [
    "# Create a tuple from multiple data types\n",
    "mixedTuple = (1, 2, 3, \"asd\", 2 + 3j, \"as d sds\", 3.0)\n",
    "\n",
    "# Displaying result\n",
    "print(\"Tuple with multiple data types: \", mixedTuple)\n"
   ]
  },
  {
   "cell_type": "markdown",
   "id": "ad62492e-520f-43c8-a4c0-e903dd56e3fc",
   "metadata": {},
   "source": [
    " "
   ]
  },
  {
   "cell_type": "markdown",
   "id": "5a5e1eeb-fcb1-4e91-900d-03e020d46661",
   "metadata": {},
   "source": [
    "<h5>26. Check if two tuples are identical."
   ]
  },
  {
   "cell_type": "code",
   "execution_count": 75,
   "id": "07acd195-9825-4e08-955d-167b43dece2c",
   "metadata": {},
   "outputs": [
    {
     "name": "stdout",
     "output_type": "stream",
     "text": [
      "Are tuple1 and tuple2 identical?  True\n",
      "Are tuple1 and tuple3 identical?  False\n"
     ]
    }
   ],
   "source": [
    "# Check if two tuples are identical\n",
    "def areTuplesIdentical(tuple1, tuple2):\n",
    "    return tuple1 == tuple2\n",
    "\n",
    "# Input\n",
    "tuple1 = (1, 2, 3)\n",
    "tuple2 = (1, 2, 3)\n",
    "tuple3 = (3, 4, 5)\n",
    "\n",
    "# Calling Function\n",
    "resultCheck1 = areTuplesIdentical(tuple1, tuple2)\n",
    "resultCheck2 = areTuplesIdentical(tuple1, tuple3)\n",
    "\n",
    "# Displaying results\n",
    "print(\"Are tuple1 and tuple2 identical? \", resultCheck1)\n",
    "print(\"Are tuple1 and tuple3 identical? \", resultCheck2)\n"
   ]
  },
  {
   "cell_type": "markdown",
   "id": "b9fa1fd1-3cb3-4586-9d51-538a65f45608",
   "metadata": {},
   "source": [
    "  "
   ]
  },
  {
   "cell_type": "markdown",
   "id": "843120a4-88e1-474a-b6c8-834e2abc606d",
   "metadata": {},
   "source": [
    "<h5>27. Sort the elements of a tuple."
   ]
  },
  {
   "cell_type": "code",
   "execution_count": 76,
   "id": "b8a897aa-7c22-4b5b-b45b-5a590cf9cde4",
   "metadata": {},
   "outputs": [
    {
     "name": "stdout",
     "output_type": "stream",
     "text": [
      "Sorted tuple:  (1, 2, 4, 5, 6)\n"
     ]
    }
   ],
   "source": [
    "# Sort the elements of a tuple\n",
    "originalTuple = (1, 5, 2, 4, 6)\n",
    "\n",
    "# Sorting\n",
    "sortedTuple = tuple(sorted(originalTuple))\n",
    "\n",
    "# Displaying result\n",
    "print(\"Sorted tuple: \", sortedTuple)\n"
   ]
  },
  {
   "cell_type": "markdown",
   "id": "7254a2d2-2f35-4606-af7e-03f75dd48d6f",
   "metadata": {},
   "source": [
    " \n"
   ]
  },
  {
   "cell_type": "markdown",
   "id": "68e778c3-a830-49d6-9cb8-a4379f570ff4",
   "metadata": {},
   "source": [
    "<h5>28. Convert a tuple of integers to a tuple of strings."
   ]
  },
  {
   "cell_type": "code",
   "execution_count": 77,
   "id": "398b3adb-a0b8-4406-8081-dcb9303c30bb",
   "metadata": {},
   "outputs": [
    {
     "name": "stdout",
     "output_type": "stream",
     "text": [
      "Tuple of strings from the tuple of integers:  ('1', '2', '3', '4', '5')\n"
     ]
    }
   ],
   "source": [
    "# Convert a tuple of integers to a tuple of strings\n",
    "originalTuple = (1, 2, 3, 4, 5)\n",
    "\n",
    "# Converting\n",
    "stringTuple = tuple(str(i) for i in originalTuple)\n",
    "\n",
    "# Displaying result\n",
    "print(\"Tuple of strings from the tuple of integers: \", stringTuple)\n"
   ]
  },
  {
   "cell_type": "markdown",
   "id": "91d35da7-3a46-4124-976c-6900bfc890dd",
   "metadata": {},
   "source": [
    "   "
   ]
  },
  {
   "cell_type": "markdown",
   "id": "468dd0ee-cdc2-47d1-b383-7390073869c2",
   "metadata": {},
   "source": [
    "<h5>29. Convert a tuple of strings to a tuple of integers."
   ]
  },
  {
   "cell_type": "code",
   "execution_count": 78,
   "id": "90996a2d-0aa6-45db-b557-fc20e9b59b0b",
   "metadata": {},
   "outputs": [
    {
     "name": "stdout",
     "output_type": "stream",
     "text": [
      "Tuple of integers from the tuple of strings:  (1, 2, 3, 4, 5)\n"
     ]
    }
   ],
   "source": [
    "# Convert a tuple of strings to a tuple of integers\n",
    "originalTuple = ('1', '2', '3', '4', '5')\n",
    "\n",
    "# Converting\n",
    "integerTuple = tuple(int(i) for i in originalTuple)\n",
    "\n",
    "# Displaying result\n",
    "print(\"Tuple of integers from the tuple of strings: \", integerTuple)\n"
   ]
  },
  {
   "cell_type": "markdown",
   "id": "a6d592bd-c301-4081-9cfa-cfa605759b84",
   "metadata": {},
   "source": [
    " "
   ]
  },
  {
   "cell_type": "markdown",
   "id": "8e2ece40-1361-4666-a4c9-2a21aaf48d19",
   "metadata": {},
   "source": [
    "<h5>30. Merge two tuples."
   ]
  },
  {
   "cell_type": "code",
   "execution_count": 79,
   "id": "0f7b381f-3a8d-4eb1-ae23-54e8d190dcf1",
   "metadata": {},
   "outputs": [
    {
     "name": "stdout",
     "output_type": "stream",
     "text": [
      "Merged tuple:  (1, 2, 3, 3, 5, 6)\n"
     ]
    }
   ],
   "source": [
    "# Merge two tuples\n",
    "tuple1 = (1, 2, 3)\n",
    "tuple2 = (3, 5, 6)\n",
    "\n",
    "# Merging\n",
    "mergedTuple = tuple1 + tuple2\n",
    "\n",
    "# Displaying result\n",
    "print(\"Merged tuple: \", mergedTuple)\n"
   ]
  },
  {
   "cell_type": "markdown",
   "id": "c89c6679-8545-4123-b895-8ab6188c2680",
   "metadata": {},
   "source": [
    "   "
   ]
  },
  {
   "cell_type": "markdown",
   "id": "db6a8a36-202c-4099-a3f4-3cadf9e03dc2",
   "metadata": {},
   "source": [
    "<h5>31. Flatten a nested tuple."
   ]
  },
  {
   "cell_type": "code",
   "execution_count": 80,
   "id": "fdf35b12-7e95-4096-a049-eb3ce22eeeab",
   "metadata": {},
   "outputs": [
    {
     "name": "stdout",
     "output_type": "stream",
     "text": [
      "Flattened tuple:  (1, 2, 3, 4, 5, 6, 7, 8, 9, 12, 13)\n"
     ]
    }
   ],
   "source": [
    "# Flatten a nested tuple\n",
    "nestedTuple = ((1, 2, 3), (4, 5, 6), (7, 8, 9), (12, 13))\n",
    "\n",
    "# Flattening\n",
    "flattenedTuple = tuple(j for i in nestedTuple for j in i)\n",
    "\n",
    "# Displaying result\n",
    "print(\"Flattened tuple: \", flattenedTuple)\n"
   ]
  },
  {
   "cell_type": "markdown",
   "id": "9b80f17c-c620-4e3e-8ba0-8b8c469c4acb",
   "metadata": {},
   "source": [
    " "
   ]
  },
  {
   "cell_type": "markdown",
   "id": "baa4366a-60f6-446e-b6e5-32ef2598d2c5",
   "metadata": {},
   "source": [
    "<h5>32. Create a tuple of the first 5 prime numbers."
   ]
  },
  {
   "cell_type": "code",
   "execution_count": 106,
   "id": "f50498de-557c-4aa2-95a1-dd90c3487790",
   "metadata": {},
   "outputs": [
    {
     "name": "stdout",
     "output_type": "stream",
     "text": [
      "Tuple of the first 5 prime numbers:  (13, 17, 19, 23, 29)\n"
     ]
    }
   ],
   "source": [
    "# Function to check if a number is prime\n",
    "def is_prime(num):\n",
    "    if num < 2:\n",
    "        return False\n",
    "    for i in range(2, int(num**0.5) + 1):\n",
    "        if num % i == 0:\n",
    "            return False\n",
    "    return True\n",
    "\n",
    "# Input\n",
    "n = 5  \n",
    "\n",
    "prime_numbers = []\n",
    "while len(prime_numbers) < n:\n",
    "    if is_prime(i):\n",
    "        prime_numbers.append(i)\n",
    "    i += 1\n",
    "\n",
    "prime_tuple = tuple(prime_numbers)\n",
    "print(\"Tuple of the first 5 prime numbers: \", prime_tuple)\n"
   ]
  },
  {
   "cell_type": "markdown",
   "id": "d51f26f1-679b-46b4-820b-b6f7a184cfcd",
   "metadata": {},
   "source": [
    " "
   ]
  },
  {
   "cell_type": "markdown",
   "id": "d62ecd42-29e2-4674-a603-726a9ccd5216",
   "metadata": {},
   "source": [
    "<h5>33. Check if a tuple is a palindrome."
   ]
  },
  {
   "cell_type": "code",
   "execution_count": 82,
   "id": "5b646f0d-415a-431f-8ab2-4dd473ea2913",
   "metadata": {},
   "outputs": [
    {
     "name": "stdout",
     "output_type": "stream",
     "text": [
      "The tuple is not a palindrome.\n"
     ]
    }
   ],
   "source": [
    "# Function to check if a tuple is a palindrome\n",
    "def isTuplePalindrome(inputTuple):\n",
    "    reversedTuple = inputTuple[::-1]\n",
    "    return inputTuple == reversedTuple\n",
    "\n",
    "# Input\n",
    "tupleToCheck = (1, 2, 3)\n",
    "\n",
    "# Checking if the tuple is a palindrome\n",
    "if isTuplePalindrome(tupleToCheck):\n",
    "    print(\"The tuple is a palindrome.\")\n",
    "else:\n",
    "    print(\"The tuple is not a palindrome.\")\n"
   ]
  },
  {
   "cell_type": "markdown",
   "id": "f86c82cb-86e8-4e40-a41d-ea751a41a905",
   "metadata": {},
   "source": [
    " "
   ]
  },
  {
   "cell_type": "markdown",
   "id": "63caf550-b782-4470-b810-ad719ec2681b",
   "metadata": {},
   "source": [
    "<h5>34. Create a tuple of squares of numbers from 1 to 5."
   ]
  },
  {
   "cell_type": "code",
   "execution_count": 83,
   "id": "389ff2b7-fbaf-44be-abd2-a161897e460c",
   "metadata": {},
   "outputs": [
    {
     "name": "stdin",
     "output_type": "stream",
     "text": [
      "Enter the value of n:  2\n"
     ]
    },
    {
     "name": "stdout",
     "output_type": "stream",
     "text": [
      "Tuple of squares of numbers from 1 to 2: (1, 4)\n"
     ]
    }
   ],
   "source": [
    "# Function to create a tuple of squares of numbers from 1 to n\n",
    "def createSquaresTuple(n):\n",
    "    return tuple(i*i for i in range(1, n+1))\n",
    "\n",
    "# Input\n",
    "n = int(input(\"Enter the value of n: \"))\n",
    "\n",
    "# Calling function\n",
    "resultTuple = createSquaresTuple(n)\n",
    "\n",
    "# Displaying result\n",
    "print(\"Tuple of squares of numbers from 1 to {}: {}\".format(n, resultTuple))\n"
   ]
  },
  {
   "cell_type": "markdown",
   "id": "8cbf79f9-0a11-4806-aa82-b05d64902480",
   "metadata": {},
   "source": [
    " "
   ]
  },
  {
   "cell_type": "markdown",
   "id": "0a3d369d-ef8d-4c3d-bd50-f2a99c256eb8",
   "metadata": {},
   "source": [
    "<h5>35. Filter out all even numbers from a tuple."
   ]
  },
  {
   "cell_type": "code",
   "execution_count": 105,
   "id": "a9659839-6b58-4939-9da9-b5ed0d2c4fe9",
   "metadata": {},
   "outputs": [
    {
     "name": "stdout",
     "output_type": "stream",
     "text": [
      "Tuple after filtering out even numbers:  (1, 3, 5, 7, 9)\n"
     ]
    }
   ],
   "source": [
    "# Function to filter out all even numbers from a tuple\n",
    "def filterOutEvenNumbers(inputTuple):\n",
    "    tempList = list(inputTuple)\n",
    "    tempList = [i for i in tempList if i % 2 != 0]\n",
    "    return tuple(tempList)\n",
    "\n",
    "# Input\n",
    "tupleToFilter = (1, 2, 3, 4, 5, 6, 7, 8, 9)\n",
    "\n",
    "# Calling function\n",
    "resultTuple = filterOutEvenNumbers(tupleToFilter)\n",
    "\n",
    "# Displaying result\n",
    "print(\"Tuple after filtering out even numbers: \", resultTuple)\n"
   ]
  },
  {
   "cell_type": "markdown",
   "id": "fac4f398-7f1a-4454-98fc-f9410b470d5c",
   "metadata": {},
   "source": [
    " "
   ]
  },
  {
   "cell_type": "markdown",
   "id": "dde55c77-af20-458a-bb4f-4487dc7b645e",
   "metadata": {},
   "source": [
    "<h5>36. Multiply all elements in a tuple by 2."
   ]
  },
  {
   "cell_type": "code",
   "execution_count": 85,
   "id": "18259e79-c781-4d36-a602-65a25ccb3888",
   "metadata": {},
   "outputs": [
    {
     "name": "stdout",
     "output_type": "stream",
     "text": [
      "Tuple after multiplying all elements by 2:  (2, 4, 6, 8, 10)\n"
     ]
    }
   ],
   "source": [
    "# Function to multiply all elements in a tuple by 2\n",
    "def multiplyByTwo(inputTuple):\n",
    "    return tuple(i * 2 for i in inputTuple)\n",
    "\n",
    "# Input\n",
    "tupleToMultiply = (1, 2, 3, 4, 5)\n",
    "\n",
    "# Calling function\n",
    "resultTuple = multiplyByTwo(tupleToMultiply)\n",
    "\n",
    "# Displaying result\n",
    "print(\"Tuple after multiplying all elements by 2: \", resultTuple)\n"
   ]
  },
  {
   "cell_type": "markdown",
   "id": "82855810-dbbf-4b09-a5cd-13d54edfcf94",
   "metadata": {},
   "source": [
    "  "
   ]
  },
  {
   "cell_type": "markdown",
   "id": "753dd8be-2a27-4faa-9ea7-f5f60a88e1d7",
   "metadata": {},
   "source": [
    "<h5>37. Create a tuple of random numbers."
   ]
  },
  {
   "cell_type": "code",
   "execution_count": 86,
   "id": "61593c54-be39-4bac-971a-6342694087fe",
   "metadata": {},
   "outputs": [
    {
     "name": "stdout",
     "output_type": "stream",
     "text": [
      "Tuple of random numbers:  (50, 46, 58, 71, 75, 84, 66, 11, 61, 42)\n"
     ]
    }
   ],
   "source": [
    "# Importing the random module\n",
    "import random\n",
    "\n",
    "# Creating a tuple of 10 random numbers\n",
    "randomNumbersTuple = tuple(random.randint(10, 90) for _ in range(10))\n",
    "\n",
    "# Displaying result\n",
    "print(\"Tuple of random numbers: \", randomNumbersTuple)\n"
   ]
  },
  {
   "cell_type": "markdown",
   "id": "f21e59cc-717e-4d9e-af84-64bb11b8ff6b",
   "metadata": {},
   "source": [
    "  "
   ]
  },
  {
   "cell_type": "markdown",
   "id": "255efb75-60f2-40fb-9695-c2b27d5b41c9",
   "metadata": {},
   "source": [
    "<h5>38. Check if a tuple is sorted."
   ]
  },
  {
   "cell_type": "code",
   "execution_count": 103,
   "id": "912cd155-d06e-4a89-a153-95296b90d762",
   "metadata": {},
   "outputs": [
    {
     "name": "stdout",
     "output_type": "stream",
     "text": [
      "The tuple is sorted.\n"
     ]
    }
   ],
   "source": [
    "# Function to check if a tuple is sorted\n",
    "def isTupleSorted(inputTuple):\n",
    "    tempList = list(inputTuple)\n",
    "    for i in range(1, len(tempList)):\n",
    "        if tempList[i] < tempList[i - 1]:\n",
    "            return False\n",
    "    return True\n",
    "\n",
    "# Input\n",
    "tupleToCheck = (1, 2, 3, 4, 5)\n",
    "\n",
    "# Calling function\n",
    "result = isTupleSorted(tupleToCheck)\n",
    "\n",
    "# Displaying result\n",
    "if result:\n",
    "    print(\"The tuple is sorted.\")\n",
    "else:\n",
    "    print(\"The tuple is not sorted.\")\n"
   ]
  },
  {
   "cell_type": "markdown",
   "id": "75c6e91e-fa73-47f2-85e3-df6c70672305",
   "metadata": {},
   "source": [
    " "
   ]
  },
  {
   "cell_type": "markdown",
   "id": "b6dca70c-a2eb-44d8-8b93-84dd9273e0fe",
   "metadata": {},
   "source": [
    "<h5>39. Rotate a tuple to the left by `n` positions."
   ]
  },
  {
   "cell_type": "code",
   "execution_count": 88,
   "id": "a540ff70-f6fe-41ae-9283-467889e9f4a2",
   "metadata": {},
   "outputs": [
    {
     "name": "stdin",
     "output_type": "stream",
     "text": [
      "Enter the number of positions to rotate:  2\n"
     ]
    },
    {
     "name": "stdout",
     "output_type": "stream",
     "text": [
      "Tuple after rotating left by 2 positions: (3, 4, 5, 1, 2)\n"
     ]
    }
   ],
   "source": [
    "# Function to rotate a tuple to the left by n positions\n",
    "def rotateTupleLeft(inputTuple, n):\n",
    "    return inputTuple[n:] + inputTuple[:n]\n",
    "\n",
    "# Input\n",
    "tupleToRotate = (1, 2, 3, 4, 5)\n",
    "n = int(input(\"Enter the number of positions to rotate: \"))\n",
    "\n",
    "# Calling function\n",
    "resultTuple = rotateTupleLeft(tupleToRotate, n)\n",
    "\n",
    "# Displaying result\n",
    "print(\"Tuple after rotating left by {} positions: {}\".format(n, resultTuple))\n"
   ]
  },
  {
   "cell_type": "markdown",
   "id": "3e559b64-dafa-4e7b-bb9f-da766c9b5141",
   "metadata": {},
   "source": [
    "  "
   ]
  },
  {
   "cell_type": "markdown",
   "id": "8371e228-d6cd-47ad-954d-35c791a0c091",
   "metadata": {},
   "source": [
    "<h5>40. Rotate a tuple to the right by `n` positions."
   ]
  },
  {
   "cell_type": "code",
   "execution_count": 89,
   "id": "4a427171-ec8c-44a7-8178-693d77691d21",
   "metadata": {},
   "outputs": [
    {
     "name": "stdin",
     "output_type": "stream",
     "text": [
      "Enter the number of positions to rotate:  2\n"
     ]
    },
    {
     "name": "stdout",
     "output_type": "stream",
     "text": [
      "Tuple after rotating right by 2 positions: (4, 5, 1, 2, 3)\n"
     ]
    }
   ],
   "source": [
    "# Function to rotate a tuple to the right by n positions\n",
    "def rotateTupleRight(inputTuple, n):\n",
    "    return inputTuple[-n:] + inputTuple[:-n]\n",
    "\n",
    "# Input\n",
    "tupleToRotate = (1, 2, 3, 4, 5)\n",
    "n = int(input(\"Enter the number of positions to rotate: \"))\n",
    "\n",
    "# Calling function\n",
    "resultTuple = rotateTupleRight(tupleToRotate, n)\n",
    "\n",
    "# Displaying result\n",
    "print(\"Tuple after rotating right by {} positions: {}\".format(n, resultTuple))\n"
   ]
  },
  {
   "cell_type": "markdown",
   "id": "3e1f9651-b205-4998-90cc-a312d5cabdf5",
   "metadata": {},
   "source": [
    "  "
   ]
  },
  {
   "cell_type": "markdown",
   "id": "ab6937cc-e40c-49c9-bc3c-b92927f765d2",
   "metadata": {},
   "source": [
    "<h5>41. Create a tuple of the first 5 Fibonacci numbers."
   ]
  },
  {
   "cell_type": "code",
   "execution_count": 90,
   "id": "914a4dc8-c366-4106-8c00-31f12f78e35c",
   "metadata": {},
   "outputs": [
    {
     "name": "stdin",
     "output_type": "stream",
     "text": [
      "Enter the value of n:  5\n"
     ]
    },
    {
     "name": "stdout",
     "output_type": "stream",
     "text": [
      "Tuple of the first 5 Fibonacci numbers: (1, 1, 2, 3, 5)\n"
     ]
    }
   ],
   "source": [
    "# Function to create a tuple of the first n Fibonacci numbers\n",
    "def generateFibonacciTuple(n):\n",
    "    a, b = 1, 1\n",
    "    fibonacciList = [1, 1]\n",
    "    \n",
    "    for _ in range(n - 2):\n",
    "        c = a + b\n",
    "        a, b = b, c\n",
    "        fibonacciList.append(c)\n",
    "    \n",
    "    return tuple(fibonacciList)\n",
    "\n",
    "# Input\n",
    "n = int(input(\"Enter the value of n: \"))\n",
    "\n",
    "# Calling function\n",
    "resultTuple = generateFibonacciTuple(n)\n",
    "\n",
    "# Displaying result\n",
    "print(\"Tuple of the first {} Fibonacci numbers: {}\".format(n, resultTuple))\n"
   ]
  },
  {
   "cell_type": "markdown",
   "id": "c4243827-875d-4aec-a68f-946c92f03fdb",
   "metadata": {},
   "source": [
    " "
   ]
  },
  {
   "cell_type": "markdown",
   "id": "3ef1b2cb-8223-4072-8560-8cbcf2cf70ce",
   "metadata": {},
   "source": [
    "<h5>42. Create a tuple from user input."
   ]
  },
  {
   "cell_type": "code",
   "execution_count": 91,
   "id": "788a9b85-a68b-44de-9076-da9007603608",
   "metadata": {},
   "outputs": [
    {
     "name": "stdin",
     "output_type": "stream",
     "text": [
      "Enter the size of the tuple:  5\n",
      "Enter element 1:  1\n",
      "Enter element 2:  2\n",
      "Enter element 3:  3\n",
      "Enter element 4:  4\n",
      "Enter element 5:  5\n"
     ]
    },
    {
     "name": "stdout",
     "output_type": "stream",
     "text": [
      "Tuple from user input:  (1, 2, 3, 4, 5)\n"
     ]
    }
   ],
   "source": [
    "# Get the size of the tuple from user input\n",
    "n = int(input(\"Enter the size of the tuple: \"))\n",
    "\n",
    "# Create a tuple from user input\n",
    "userInputTuple = tuple(int(input(\"Enter element {}: \".format(i + 1))) for i in range(n))\n",
    "\n",
    "# Displaying result\n",
    "print(\"Tuple from user input: \", userInputTuple)\n"
   ]
  },
  {
   "cell_type": "markdown",
   "id": "29881986-ef58-4992-b2ba-7aaaa944196d",
   "metadata": {},
   "source": [
    " "
   ]
  },
  {
   "cell_type": "markdown",
   "id": "e216ba51-78c1-4f02-a565-2fee6a8dee30",
   "metadata": {},
   "source": [
    "<h5>43. Swap two elements in a tuple."
   ]
  },
  {
   "cell_type": "code",
   "execution_count": 102,
   "id": "b3b5fe1e-ed4c-434a-b14c-4f76015bc05c",
   "metadata": {},
   "outputs": [
    {
     "name": "stdin",
     "output_type": "stream",
     "text": [
      "Enter the first index to swap:  2\n",
      "Enter the second index to swap:  4\n"
     ]
    },
    {
     "name": "stdout",
     "output_type": "stream",
     "text": [
      "Tuple after swapping elements:  (1, 2, 5, 4, 3)\n"
     ]
    }
   ],
   "source": [
    "# Function to swap two elements in a tuple\n",
    "def swapElements(inputTuple, index1, index2):\n",
    "    tempList = list(inputTuple)\n",
    "    tempList[index1], tempList[index2] = tempList[index2], tempList[index1]\n",
    "    return tuple(tempList)\n",
    "\n",
    "# Input\n",
    "tupleToSwap = (1, 2, 3, 4, 5)\n",
    "index1 = int(input(\"Enter the first index to swap: \"))\n",
    "index2 = int(input(\"Enter the second index to swap: \"))\n",
    "\n",
    "# Calling function\n",
    "resultTuple = swapElements(tupleToSwap, index1, index2)\n",
    "\n",
    "# Displaying result\n",
    "print(\"Tuple after swapping elements: \", resultTuple)\n"
   ]
  },
  {
   "cell_type": "markdown",
   "id": "031a89ad-3f1c-4e55-a8b9-659547be8ed2",
   "metadata": {},
   "source": [
    " "
   ]
  },
  {
   "cell_type": "markdown",
   "id": "681f4ceb-3178-46f7-a94f-8a98f0f128cc",
   "metadata": {},
   "source": [
    "<h5>44. Reverse the elements of a tuple."
   ]
  },
  {
   "cell_type": "code",
   "execution_count": 93,
   "id": "63b3b87d-3682-4ac7-ae9e-abe31997c468",
   "metadata": {},
   "outputs": [
    {
     "name": "stdout",
     "output_type": "stream",
     "text": [
      "Tuple after reversing elements:  (5, 4, 3, 2, 1)\n"
     ]
    }
   ],
   "source": [
    "# Function to reverse the elements of a tuple\n",
    "def reverseTuple(inputTuple):\n",
    "    return inputTuple[::-1]\n",
    "\n",
    "# Input\n",
    "tupleToReverse = (1, 2, 3, 4, 5)\n",
    "\n",
    "# Calling function\n",
    "resultTuple = reverseTuple(tupleToReverse)\n",
    "\n",
    "# Displaying result\n",
    "print(\"Tuple after reversing elements: \", resultTuple)\n"
   ]
  },
  {
   "cell_type": "markdown",
   "id": "cd010ea6-e1d9-4d73-999f-704c97b7c940",
   "metadata": {},
   "source": [
    " "
   ]
  },
  {
   "cell_type": "markdown",
   "id": "94e61a05-e998-474a-9090-f5afdaee6efa",
   "metadata": {},
   "source": [
    "<h5>45. Create a tuple of the first `n` powers of 2."
   ]
  },
  {
   "cell_type": "code",
   "execution_count": 94,
   "id": "42cf4689-1506-47a5-a891-85ca847ed6b9",
   "metadata": {},
   "outputs": [
    {
     "name": "stdin",
     "output_type": "stream",
     "text": [
      "Enter the value of n:  2\n"
     ]
    },
    {
     "name": "stdout",
     "output_type": "stream",
     "text": [
      "Tuple of the first 2 powers of 2: (2, 4)\n"
     ]
    }
   ],
   "source": [
    "# Function to create a tuple of the first n powers of 2\n",
    "def powersOfTwo(n):\n",
    "    return tuple(2**i for i in range(1, n+1))\n",
    "\n",
    "# Input\n",
    "n = int(input(\"Enter the value of n: \"))\n",
    "\n",
    "# Calling function\n",
    "resultTuple = powersOfTwo(n)\n",
    "\n",
    "# Displaying result\n",
    "print(\"Tuple of the first {} powers of 2: {}\".format(n, resultTuple))\n"
   ]
  },
  {
   "cell_type": "markdown",
   "id": "e0cdb6d7-2a09-430f-847b-c70ac85b793f",
   "metadata": {},
   "source": [
    " "
   ]
  },
  {
   "cell_type": "markdown",
   "id": "16d37fb3-dbdf-4d05-84ef-befaf665a32b",
   "metadata": {},
   "source": [
    "<h5>46. Find the longest string in a tuple of strings."
   ]
  },
  {
   "cell_type": "code",
   "execution_count": 97,
   "id": "4da8556b-fddb-4bd4-a074-a09864183d35",
   "metadata": {},
   "outputs": [
    {
     "name": "stdout",
     "output_type": "stream",
     "text": [
      "Longest string in the tuple:  sfs sfsf sfs\n"
     ]
    }
   ],
   "source": [
    "# Function to find the longest string in a tuple of strings\n",
    "def longestString(inputTuple):\n",
    "    longStr = ''\n",
    "    maxLen = 0\n",
    "\n",
    "    for string in inputTuple:\n",
    "        if len(string) > maxLen:\n",
    "            maxLen = len(string)\n",
    "            longStr = string\n",
    "\n",
    "    return longStr\n",
    "\n",
    "# Input\n",
    "tupleOfStrings = (\"fss sfs\", \"sfsfsvs\", \"sfs sfsf sfs\", \"sd\")\n",
    "\n",
    "# Calling function\n",
    "resultString = longestString(tupleOfStrings)\n",
    "\n",
    "# Displaying result\n",
    "print(\"Longest string in the tuple: \", resultString)\n"
   ]
  },
  {
   "cell_type": "markdown",
   "id": "483277d3-9332-4b95-b7ce-f10fff3d70de",
   "metadata": {},
   "source": [
    " "
   ]
  },
  {
   "cell_type": "markdown",
   "id": "0f867938-b8b4-4c3a-b3f4-ed9882e89931",
   "metadata": {},
   "source": [
    "<h5>47. Find the shortest string in a tuple of strings."
   ]
  },
  {
   "cell_type": "code",
   "execution_count": 101,
   "id": "4e2674f4-bfb7-4fe1-83df-421ff34833be",
   "metadata": {},
   "outputs": [
    {
     "name": "stdout",
     "output_type": "stream",
     "text": [
      "Shortest string in the tuple:  sd\n"
     ]
    }
   ],
   "source": [
    "# Function to find the shortest string in a tuple of strings\n",
    "def shortestString(inputTuple):\n",
    "    shortestStr = ''\n",
    "    minLen = float('inf') \n",
    "\n",
    "    for string in inputTuple:\n",
    "        if len(string) < minLen:\n",
    "            minLen = len(string)\n",
    "            shortestStr = string\n",
    "\n",
    "    return shortestStr\n",
    "\n",
    "# Input\n",
    "tupleOfStrings = (\"fss sfs\", \"sfsfsvs\", \"sfs sfsf sfs\", \"sd\")\n",
    "\n",
    "# Calling function\n",
    "resultString = shortestString(tupleOfStrings)\n",
    "\n",
    "# Displaying result\n",
    "print(\"Shortest string in the tuple: \", resultString)\n"
   ]
  },
  {
   "cell_type": "markdown",
   "id": "95a040ea-c8b0-45d3-afe2-21428bea839c",
   "metadata": {},
   "source": [
    " "
   ]
  },
  {
   "cell_type": "markdown",
   "id": "3d2305d4-3917-4c01-8b9a-e31aee0bffe6",
   "metadata": {},
   "source": [
    "<h5>48. Create a tuple of the first `n` triangular numbers."
   ]
  },
  {
   "cell_type": "code",
   "execution_count": 98,
   "id": "bf517588-0200-449b-ae9b-029ff0b3d32c",
   "metadata": {},
   "outputs": [
    {
     "name": "stdin",
     "output_type": "stream",
     "text": [
      "Enter the value of n:  5\n"
     ]
    },
    {
     "name": "stdout",
     "output_type": "stream",
     "text": [
      "Tuple of the first 5 triangular numbers: (1, 3, 6, 10, 15)\n"
     ]
    }
   ],
   "source": [
    "# Function to create a tuple of the first n triangular numbers\n",
    "def triangularNumbers(n):\n",
    "    return tuple((i * (i + 1)) // 2 for i in range(1, n + 1))\n",
    "\n",
    "# Input\n",
    "n = int(input(\"Enter the value of n: \"))\n",
    "\n",
    "# Calling function\n",
    "resultTuple = triangularNumbers(n)\n",
    "\n",
    "# Displaying result\n",
    "print(\"Tuple of the first {} triangular numbers: {}\".format(n, resultTuple))\n"
   ]
  },
  {
   "cell_type": "markdown",
   "id": "d0fb22e3-39dd-4399-add2-7987d57fee94",
   "metadata": {},
   "source": [
    " "
   ]
  },
  {
   "cell_type": "markdown",
   "id": "d081a555-5de9-4036-812c-062e19550894",
   "metadata": {},
   "source": [
    "<h5>49. Check if a tuple contains another tuple as a subsequence."
   ]
  },
  {
   "cell_type": "code",
   "execution_count": 99,
   "id": "37a02d58-b46f-46d6-a8b0-5d6e1f09abab",
   "metadata": {},
   "outputs": [
    {
     "name": "stdout",
     "output_type": "stream",
     "text": [
      "The tuple contains another tuple as a subsequence.\n"
     ]
    }
   ],
   "source": [
    "# Function to check if a tuple contains another tuple as a subsequence\n",
    "def containsSubsequence(inputTuple):\n",
    "    for element in inputTuple:\n",
    "        if isinstance(element, tuple):\n",
    "            return True\n",
    "    return False\n",
    "\n",
    "# Input\n",
    "tupleToCheck = (1, 3, 4, 5, (1, 2, 34), \"dsf\")\n",
    "\n",
    "# Calling function\n",
    "result = containsSubsequence(tupleToCheck)\n",
    "\n",
    "# Displaying result\n",
    "if result:\n",
    "    print(\"The tuple contains another tuple as a subsequence.\")\n",
    "else:\n",
    "    print(\"The tuple does not contain another tuple as a subsequence.\")\n"
   ]
  },
  {
   "cell_type": "markdown",
   "id": "609193a2-81b5-4b42-b6b3-6d1f6bebd957",
   "metadata": {},
   "source": [
    " "
   ]
  },
  {
   "cell_type": "markdown",
   "id": "826d685b-90e7-4875-b0af-36eaa4f96413",
   "metadata": {},
   "source": [
    "<h5>50. Create a tuple of alternating 1s and 0s of length `n`."
   ]
  },
  {
   "cell_type": "code",
   "execution_count": 100,
   "id": "7e7715b3-409c-4c77-93f4-0076f16a3194",
   "metadata": {},
   "outputs": [
    {
     "name": "stdin",
     "output_type": "stream",
     "text": [
      "Enter the length of the tuple:  5\n"
     ]
    },
    {
     "name": "stdout",
     "output_type": "stream",
     "text": [
      "Tuple of alternating 1s and 0s of length 5: (1, 0, 1, 0, 1)\n"
     ]
    }
   ],
   "source": [
    "# Function to create a tuple of alternating 1s and 0s of length n\n",
    "def alternatingOnesZeros(n):\n",
    "    return tuple(1 if i % 2 == 0 else 0 for i in range(n))\n",
    "\n",
    "# Input\n",
    "n = int(input(\"Enter the length of the tuple: \"))\n",
    "\n",
    "# Calling function\n",
    "resultTuple = alternatingOnesZeros(n)\n",
    "\n",
    "# Displaying result\n",
    "print(\"Tuple of alternating 1s and 0s of length {}: {}\".format(n, resultTuple))\n"
   ]
  },
  {
   "cell_type": "markdown",
   "id": "e6ecacdf-7758-4a3c-9f13-67b253fcea49",
   "metadata": {},
   "source": [
    " "
   ]
  },
  {
   "cell_type": "markdown",
   "id": "5492ad5f-95ec-477a-b72d-38f0f62fdaae",
   "metadata": {},
   "source": [
    "<h1>Set Based Practice Problem :"
   ]
  },
  {
   "cell_type": "markdown",
   "id": "f65efa2b-0350-4557-b547-4d805e8d2ef8",
   "metadata": {},
   "source": [
    "<h5>1. Create a set with integers from 1 to 5."
   ]
  },
  {
   "cell_type": "code",
   "execution_count": 140,
   "id": "feb142d7-fa8d-489e-a6df-b129cd34feb6",
   "metadata": {},
   "outputs": [
    {
     "name": "stdout",
     "output_type": "stream",
     "text": [
      "{1, 2, 3, 4, 5}\n"
     ]
    }
   ],
   "source": [
    "# Create a set with integers from 1 to 5\n",
    "setInt = {1, 2, 3, 4, 5}\n",
    "\n",
    "# Display the set\n",
    "print(setInt)\n"
   ]
  },
  {
   "cell_type": "markdown",
   "id": "d9f630c6-e35c-4a64-995b-c08fb0bea4d3",
   "metadata": {},
   "source": [
    " "
   ]
  },
  {
   "cell_type": "markdown",
   "id": "1b81df60-f09b-4cf4-a387-4a95c598192e",
   "metadata": {},
   "source": [
    "<h5>2. Add an element to a set."
   ]
  },
  {
   "cell_type": "code",
   "execution_count": 143,
   "id": "74ad38ce-7e71-490f-a601-067a19293a72",
   "metadata": {},
   "outputs": [
    {
     "name": "stdin",
     "output_type": "stream",
     "text": [
      "Enter the element to add:  6\n"
     ]
    },
    {
     "name": "stdout",
     "output_type": "stream",
     "text": [
      "Modified Set:  {1, 2, 3, 4, 5, 6}\n"
     ]
    }
   ],
   "source": [
    "# Function to add an element to a set.\n",
    "def addElementToSet(setInt, element):\n",
    "    setInt.add(element)\n",
    "\n",
    "\n",
    "setInt = {1, 2, 3, 4, 5}\n",
    "\n",
    "# taking User Input\n",
    "elementToAdd = int(input(\"Enter the element to add: \"))\n",
    "\n",
    "# Calling Function\n",
    "addElementToSet(setInt, elementToAdd)\n",
    "\n",
    "# Displaying Result\n",
    "print(\"Modified Set: \", setInt)\n"
   ]
  },
  {
   "cell_type": "markdown",
   "id": "9c8d52bc-a361-475a-9a59-0354e6ed362e",
   "metadata": {},
   "source": [
    "  "
   ]
  },
  {
   "cell_type": "markdown",
   "id": "e40b9c70-e01c-4a2e-9a37-95d62143ebcb",
   "metadata": {},
   "source": [
    "<h5>3. Remove an element from a set."
   ]
  },
  {
   "cell_type": "code",
   "execution_count": 144,
   "id": "1319d6de-2632-45fe-8a90-4c0c1e8a2764",
   "metadata": {},
   "outputs": [
    {
     "name": "stdin",
     "output_type": "stream",
     "text": [
      "Enter the element to remove:  4\n"
     ]
    },
    {
     "name": "stdout",
     "output_type": "stream",
     "text": [
      "Modified Set:  {1, 2, 3, 5}\n"
     ]
    }
   ],
   "source": [
    "# Function to remove an element from a set.\n",
    "def removeElementFromSet(setInt, element):\n",
    "    setInt.remove(element)\n",
    "\n",
    "setInt = {1, 2, 3, 4, 5}\n",
    "\n",
    "#taking user Input\n",
    "elementToRemove = int(input(\"Enter the element to remove: \"))\n",
    "\n",
    "# Calling Function\n",
    "removeElementFromSet(setInt, elementToRemove)\n",
    "\n",
    "# Displaying Result\n",
    "print(\"Modified Set: \", setInt)\n"
   ]
  },
  {
   "cell_type": "markdown",
   "id": "fbcbd98f-a745-4c0b-8fbc-856885379e54",
   "metadata": {},
   "source": [
    "  "
   ]
  },
  {
   "cell_type": "markdown",
   "id": "c38959ed-38d2-4dce-8a87-2950d65a600b",
   "metadata": {},
   "source": [
    "<h5>4. Check if an element exists in a set."
   ]
  },
  {
   "cell_type": "code",
   "execution_count": 166,
   "id": "0e9fdb76-29c5-489a-9195-db4105f9c423",
   "metadata": {},
   "outputs": [
    {
     "name": "stdin",
     "output_type": "stream",
     "text": [
      "Enter the element to check:  3\n"
     ]
    },
    {
     "name": "stdout",
     "output_type": "stream",
     "text": [
      "Element Exists in the Set.\n"
     ]
    }
   ],
   "source": [
    "# Function to check if an element exists in a set.\n",
    "def checkExist(setInt, element):\n",
    "    return element in setInt\n",
    "\n",
    "setInt = {1, 2, 3, 4, 5}\n",
    "\n",
    "#taking User Input\n",
    "elementToCheck = int(input(\"Enter the element to check: \"))\n",
    "\n",
    "# Checking Existence\n",
    "if checkExist(setInt, elementToCheck):\n",
    "    print(\"Element Exists in the Set.\")\n",
    "else:\n",
    "    print(\"Element Does Not Exist in the Set.\")\n"
   ]
  },
  {
   "cell_type": "markdown",
   "id": "3cfdb533-3917-4972-b6ab-495d2f98f357",
   "metadata": {},
   "source": [
    " "
   ]
  },
  {
   "cell_type": "markdown",
   "id": "5c6f461e-3030-4b58-9853-ebfb3454c88c",
   "metadata": {},
   "source": [
    "<h5>5. Find the length of a set without using the `len()` function."
   ]
  },
  {
   "cell_type": "code",
   "execution_count": 167,
   "id": "115fabee-1473-4299-8c49-ee58ecd098c8",
   "metadata": {},
   "outputs": [
    {
     "name": "stdout",
     "output_type": "stream",
     "text": [
      "Length of Set:  5\n"
     ]
    }
   ],
   "source": [
    "# Function to find the length of a set without using the `len()` function.\n",
    "def findSetLength(setInt):\n",
    "    count = 0\n",
    "    for _ in setInt:\n",
    "        count += 1\n",
    "    return count\n",
    "\n",
    "setInt = {1, 2, 3, 4, 5}\n",
    "\n",
    "# Calling Function\n",
    "result = findSetLength(setInt)\n",
    "\n",
    "# Displaying Result\n",
    "print(\"Length of Set: \", result)\n"
   ]
  },
  {
   "cell_type": "markdown",
   "id": "b4206c4d-fcfb-44ad-a992-86780e3d3b68",
   "metadata": {},
   "source": [
    "  "
   ]
  },
  {
   "cell_type": "markdown",
   "id": "41ea1b65-b88b-4cb6-ab37-8ceea9bf5a6e",
   "metadata": {},
   "source": [
    "<h5>6. Clear all elements from a set."
   ]
  },
  {
   "cell_type": "code",
   "execution_count": 147,
   "id": "88345e4f-8415-4706-b126-09c79ac7cc1d",
   "metadata": {},
   "outputs": [
    {
     "name": "stdout",
     "output_type": "stream",
     "text": [
      "Before Clearing: {1, 2, 3, 4, 5}\n",
      "After Clearing: set()\n"
     ]
    }
   ],
   "source": [
    "# Function to clear all elements from a set.\n",
    "def clearSet(setInt):\n",
    "    setInt.clear()\n",
    "\n",
    "setInt = {1, 2, 3, 4, 5}\n",
    "\n",
    "# Displaying Set Before Clearing\n",
    "print(\"Before Clearing:\", setInt)\n",
    "\n",
    "# Calling Function\n",
    "clearSet(setInt)\n",
    "\n",
    "# Displaying Set After Clearing\n",
    "print(\"After Clearing:\", setInt)\n"
   ]
  },
  {
   "cell_type": "markdown",
   "id": "d28c92e3-c9a1-4b21-a002-4f716c65abaa",
   "metadata": {},
   "source": [
    " "
   ]
  },
  {
   "cell_type": "markdown",
   "id": "a3a8f56c-72cc-4435-8d57-4898293e9d69",
   "metadata": {},
   "source": [
    "<h5>7. Create a set of even numbers from 1 to 10"
   ]
  },
  {
   "cell_type": "code",
   "execution_count": 148,
   "id": "bdde1d7f-45f6-495a-97db-1ba1b3a7f494",
   "metadata": {},
   "outputs": [
    {
     "name": "stdout",
     "output_type": "stream",
     "text": [
      "Even Numbers Set:  {2, 4, 6, 8, 10}\n"
     ]
    }
   ],
   "source": [
    "#7. Create a set of even numbers from 1 to 10.\n",
    "setInt = set( i for i in range(2,11,2))\n",
    "print(\"Even Numbers Set: \",setInt)\n",
    "    "
   ]
  },
  {
   "cell_type": "markdown",
   "id": "fb93eac0-a83c-418c-afb9-117d1cf24f96",
   "metadata": {},
   "source": [
    " "
   ]
  },
  {
   "cell_type": "markdown",
   "id": "78751752-77ff-4074-a97d-aea1ace1ebc3",
   "metadata": {},
   "source": [
    "<h5>8. Create a set of odd numbers from 1 to 10."
   ]
  },
  {
   "cell_type": "code",
   "execution_count": 149,
   "id": "469074e1-b142-4055-a685-f1dabb2e9e17",
   "metadata": {},
   "outputs": [
    {
     "name": "stdout",
     "output_type": "stream",
     "text": [
      "odd Numbers Set:  {1, 3, 5, 7, 9}\n"
     ]
    }
   ],
   "source": [
    "#8. Create a set of odd numbers from 1 to 10.\n",
    "setInt = set( i for i in range(1,11,2))\n",
    "print(\"odd Numbers Set: \",setInt)"
   ]
  },
  {
   "cell_type": "markdown",
   "id": "f07d856f-7a41-4cdd-8962-55ff9a1246a0",
   "metadata": {},
   "source": [
    "  "
   ]
  },
  {
   "cell_type": "markdown",
   "id": "d5cf6274-f419-4e29-b018-9cbcab3c5c80",
   "metadata": {},
   "source": [
    "<h5>9. Find the union of two sets."
   ]
  },
  {
   "cell_type": "code",
   "execution_count": 150,
   "id": "8bf80a3a-013c-4812-a5dd-897249146fb6",
   "metadata": {},
   "outputs": [
    {
     "name": "stdout",
     "output_type": "stream",
     "text": [
      "Union of Sets:  {1, 2, 3, 4, 5, 6, 7, 8, 9, 10}\n"
     ]
    }
   ],
   "source": [
    "# Function to find the union of two sets.\n",
    "def findSetUnion(set1, set2):\n",
    "    return set1.union(set2)\n",
    "\n",
    "setInt1 = {1, 2, 3, 4, 5, 6, 7}\n",
    "setInt2 = {4, 5, 6, 7, 8, 9, 10}\n",
    "\n",
    "# Calling Function\n",
    "setInt = findSetUnion(setInt1, setInt2)\n",
    "\n",
    "# Displaying Result\n",
    "print(\"Union of Sets: \", setInt)\n"
   ]
  },
  {
   "cell_type": "markdown",
   "id": "8c78419e-c33d-4d46-b902-10305bd5f0e6",
   "metadata": {},
   "source": [
    " "
   ]
  },
  {
   "cell_type": "markdown",
   "id": "c2632d0b-c121-4cd6-8ab1-ca64828662f2",
   "metadata": {},
   "source": [
    "<h5>10. Find the intersection of two sets."
   ]
  },
  {
   "cell_type": "code",
   "execution_count": 169,
   "id": "800534cd-38c6-48bc-91c9-1b75dc43d293",
   "metadata": {},
   "outputs": [
    {
     "name": "stdout",
     "output_type": "stream",
     "text": [
      "Intersection of Sets:  {4, 5, 6, 7}\n"
     ]
    }
   ],
   "source": [
    "# Function to find the intersection of two sets.\n",
    "def findInter(set1, set2):\n",
    "    return set1.intersection(set2)\n",
    "\n",
    "setInt1 = {1, 2, 3, 4, 5, 6, 7}\n",
    "setInt2 = {4, 5, 6, 7, 8, 9, 10}\n",
    "\n",
    "# Calling Function\n",
    "setInt = findInter(setInt1, setInt2)\n",
    "\n",
    "# Displaying Result\n",
    "print(\"Intersection of Sets: \", setInt)\n"
   ]
  },
  {
   "cell_type": "markdown",
   "id": "6d29d940-a986-47b7-90c6-a54d5d68454e",
   "metadata": {},
   "source": [
    " "
   ]
  },
  {
   "cell_type": "markdown",
   "id": "feb96e04-6a6a-4adf-aa98-617219058674",
   "metadata": {
    "tags": []
   },
   "source": [
    "<h5>11. Find the difference between two sets."
   ]
  },
  {
   "cell_type": "code",
   "execution_count": 170,
   "id": "2df898a8-5414-4ced-95c1-919e7dcf1d41",
   "metadata": {},
   "outputs": [
    {
     "name": "stdout",
     "output_type": "stream",
     "text": [
      "Difference of Sets:  {1, 2, 3}\n"
     ]
    }
   ],
   "source": [
    "# Function to find the difference between two sets.\n",
    "def findDiff(set1, set2):\n",
    "    return set1.difference(set2)\n",
    "\n",
    "setInt1 = {1, 2, 3, 4, 5, 6, 7}\n",
    "setInt2 = {4, 5, 6, 7, 8, 9, 10}\n",
    "\n",
    "# Calling Function\n",
    "setInt = findDiff(setInt1, setInt2)\n",
    "\n",
    "# Displaying Result\n",
    "print(\"Difference of Sets: \", setInt)\n"
   ]
  },
  {
   "cell_type": "markdown",
   "id": "d15274c2-e752-4fee-bfd0-6ad97a1df454",
   "metadata": {
    "tags": []
   },
   "source": [
    " "
   ]
  },
  {
   "cell_type": "markdown",
   "id": "f8ec56c1-2e93-406b-b827-3edeac7c9bbd",
   "metadata": {},
   "source": [
    "<h5>12. Check if a set is a subset of another set"
   ]
  },
  {
   "cell_type": "code",
   "execution_count": 153,
   "id": "f0d604d3-253e-4eb6-8d8e-c3c8cc4091e6",
   "metadata": {},
   "outputs": [
    {
     "name": "stdout",
     "output_type": "stream",
     "text": [
      "Set 1 is not a subset of Set 2.\n"
     ]
    }
   ],
   "source": [
    "# Function to check if a set is a subset of another set.\n",
    "def checkSubset(set1, set2):\n",
    "    return set1.issubset(set2)\n",
    "\n",
    "setInt1 = {1, 2, 3, 4, 5, 6, 7}\n",
    "setInt2 = {4, 5, 6, 7, 8, 9, 10}\n",
    "\n",
    "# Calling Function\n",
    "isSubset = checkSubset(setInt1, setInt2)\n",
    "\n",
    "# Displaying Result\n",
    "if isSubset:\n",
    "    print(\"Set 1 is a subset of Set 2.\")\n",
    "else:\n",
    "    print(\"Set 1 is not a subset of Set 2.\")\n"
   ]
  },
  {
   "cell_type": "markdown",
   "id": "076bd0c3-1998-4ed7-8ce6-680661fa070c",
   "metadata": {},
   "source": [
    " "
   ]
  },
  {
   "cell_type": "markdown",
   "id": "2a975fa7-e04e-492b-9cb3-29b64f67b925",
   "metadata": {
    "tags": []
   },
   "source": [
    "<h5>13. Check if a set is a superset of another set."
   ]
  },
  {
   "cell_type": "code",
   "execution_count": 154,
   "id": "5349c26d-c1f4-406c-9b9d-fb36236c0eab",
   "metadata": {},
   "outputs": [
    {
     "name": "stdout",
     "output_type": "stream",
     "text": [
      "Set 1 is not a superset of Set 2.\n"
     ]
    }
   ],
   "source": [
    "# Function to check if a set is a superset of another set.\n",
    "def checkSuperset(set1, set2):\n",
    "    return set1.issuperset(set2)\n",
    "\n",
    "setInt1 = {1, 2, 3, 4, 5, 6, 7}\n",
    "setInt2 = {4, 5, 6, 7, 8, 9, 10}\n",
    "\n",
    "# Calling Function\n",
    "isSuperset = checkSuperset(setInt1, setInt2)\n",
    "\n",
    "# Displaying Result\n",
    "if isSuperset:\n",
    "    print(\"Set 1 is a superset of Set 2.\")\n",
    "else:\n",
    "    print(\"Set 1 is not a superset of Set 2.\")\n"
   ]
  },
  {
   "cell_type": "markdown",
   "id": "dd4cf6fb-cdb2-40fb-b25b-6f4c70ede911",
   "metadata": {
    "tags": []
   },
   "source": [
    " "
   ]
  },
  {
   "cell_type": "markdown",
   "id": "5ae6892c-65b0-4ace-8bbe-7a25668b6081",
   "metadata": {},
   "source": [
    "<h5>14. Create a set from a list."
   ]
  },
  {
   "cell_type": "code",
   "execution_count": 155,
   "id": "e595edf8-ff36-4f2a-b7a5-de7429583dad",
   "metadata": {},
   "outputs": [
    {
     "name": "stdout",
     "output_type": "stream",
     "text": [
      "Set from List:  {1, 2, 3, 4, 5}\n"
     ]
    }
   ],
   "source": [
    "# Function to create a set from a list.\n",
    "def createSetFromList(lst):\n",
    "    return set(lst)\n",
    "\n",
    "lst = [1, 2, 3, 4, 5]\n",
    "\n",
    "# Calling Function\n",
    "setInt = createSetFromList(lst)\n",
    "\n",
    "# Displaying Result\n",
    "print(\"Set from List: \", setInt)\n"
   ]
  },
  {
   "cell_type": "markdown",
   "id": "97ab3c4b-77dd-4b0e-92cb-9db9d4a81710",
   "metadata": {},
   "source": [
    " "
   ]
  },
  {
   "cell_type": "markdown",
   "id": "a78f0ede-9380-436c-bdf4-1e0fccad8f83",
   "metadata": {
    "tags": []
   },
   "source": [
    "<h5>15. Convert a set to a list."
   ]
  },
  {
   "cell_type": "code",
   "execution_count": 156,
   "id": "c9b1e903-6534-4261-a7ee-48fc1a0ee113",
   "metadata": {},
   "outputs": [
    {
     "name": "stdout",
     "output_type": "stream",
     "text": [
      "List from Set:  [1, 2, 3, 4, 5]\n"
     ]
    }
   ],
   "source": [
    "# Function to convert a set to a list.\n",
    "def convertSetToList(setInt):\n",
    "    return list(setInt)\n",
    "\n",
    "# Input: Set of integers\n",
    "setInt = {1, 2, 3, 4, 5}\n",
    "\n",
    "# Calling Function\n",
    "lst = convertSetToList(setInt)\n",
    "\n",
    "# Displaying Result\n",
    "print(\"List from Set: \", lst)\n"
   ]
  },
  {
   "cell_type": "markdown",
   "id": "c339c53c-4522-4f47-ba99-375829eae2b7",
   "metadata": {},
   "source": [
    " "
   ]
  },
  {
   "cell_type": "markdown",
   "id": "bab7aa42-7d75-49eb-b054-7ab4ca80830c",
   "metadata": {},
   "source": [
    "<h5>16. Remove a random element from a set"
   ]
  },
  {
   "cell_type": "code",
   "execution_count": 171,
   "id": "22c9f910-e9c0-465a-a344-8e31765d7794",
   "metadata": {},
   "outputs": [
    {
     "name": "stdout",
     "output_type": "stream",
     "text": [
      "Removed Random Element:  4\n",
      "Modified Set:  {1, 2, 3, 5, 6, 7, 8, 9}\n"
     ]
    }
   ],
   "source": [
    "# Function to remove a random element from a set.\n",
    "import random\n",
    "\n",
    "def removeRandom(setInt):\n",
    "    randomElement = random.choice(list(setInt))\n",
    "    setInt.discard(randomElement)\n",
    "    return randomElement\n",
    "\n",
    "setInt = {1, 2, 3, 4, 5, 6, 7, 8, 9}\n",
    "\n",
    "# Calling Function\n",
    "removedElement = removeRandom(setInt)\n",
    "\n",
    "# Displaying Result\n",
    "print(\"Removed Random Element: \", removedElement)\n",
    "print(\"Modified Set: \", setInt)\n"
   ]
  },
  {
   "cell_type": "markdown",
   "id": "9be9fa80-e6a9-467b-a3bd-cde12810a051",
   "metadata": {},
   "source": [
    " "
   ]
  },
  {
   "cell_type": "markdown",
   "id": "dcc3f571-5fe3-43e9-afeb-aee33abe9d6f",
   "metadata": {},
   "source": [
    "<h5>17. Pop an element from a set."
   ]
  },
  {
   "cell_type": "code",
   "execution_count": 159,
   "id": "8fe4e9a7-e5ac-4046-ac91-c55319b43a96",
   "metadata": {},
   "outputs": [
    {
     "name": "stdout",
     "output_type": "stream",
     "text": [
      "Popped Element:  1\n",
      "Modified Set:  {2, 3, 4, 5, 6, 7, 8, 9}\n"
     ]
    }
   ],
   "source": [
    "# Function to pop an element from a set.\n",
    "def popElementFromSet(setInt):\n",
    "    poppedElement = setInt.pop()\n",
    "    return poppedElement\n",
    "\n",
    "setInt = {1, 2, 3, 4, 5, 6, 7, 8, 9}\n",
    "\n",
    "# Calling Function\n",
    "poppedElement = popElementFromSet(setInt)\n",
    "\n",
    "# Displaying Result\n",
    "print(\"Popped Element: \", poppedElement)\n",
    "print(\"Modified Set: \", setInt)\n"
   ]
  },
  {
   "cell_type": "markdown",
   "id": "8d736234-c1cc-4211-911d-27a8345c36dc",
   "metadata": {},
   "source": [
    " "
   ]
  },
  {
   "cell_type": "markdown",
   "id": "046536ed-54d3-4aef-8981-7d5ae2da2688",
   "metadata": {},
   "source": [
    "<h5>18. Check if two sets have no elements in common."
   ]
  },
  {
   "cell_type": "code",
   "execution_count": 161,
   "id": "57be9f5d-ed31-4269-baaa-58f182b74dbb",
   "metadata": {},
   "outputs": [
    {
     "name": "stdout",
     "output_type": "stream",
     "text": [
      "No Common Elements\n"
     ]
    }
   ],
   "source": [
    "# Function to check if two sets have no elements in common.\n",
    "def checkNoCommonElements(set1, set2):\n",
    "    return len(set1.intersection(set2)) == 0\n",
    "\n",
    "setInt1 = {1, 2, 3}\n",
    "setInt2 = {4, 5, 6}\n",
    "\n",
    "# Calling Function\n",
    "noCommon = checkNoCommonElements(setInt1, setInt2)\n",
    "\n",
    "# Displaying Result\n",
    "if noCommon:\n",
    "    print(\"No Common Elements\")\n",
    "else:\n",
    "    print(\"Common Elements Exist\")\n"
   ]
  },
  {
   "cell_type": "markdown",
   "id": "b90bffca-bcc7-460b-adf8-3b04d15d00c1",
   "metadata": {},
   "source": [
    " "
   ]
  },
  {
   "cell_type": "markdown",
   "id": "efc423d7-8f55-4db9-b39a-1ddcde6d73a7",
   "metadata": {},
   "source": [
    "<h5>19. Find the symmetric difference between two sets."
   ]
  },
  {
   "cell_type": "code",
   "execution_count": 163,
   "id": "cb5a475d-7d10-4d97-8b0f-2943d920ed18",
   "metadata": {},
   "outputs": [
    {
     "name": "stdout",
     "output_type": "stream",
     "text": [
      "Symmetric Difference:  {1, 2, 3, 6, 7, 8}\n"
     ]
    }
   ],
   "source": [
    "# Function to find the symmetric difference between two sets.\n",
    "def findSymDiff(set1, set2):\n",
    "    diff1 = set1.difference(set2)\n",
    "    diff2 = set2.difference(set1)\n",
    "    symDiff = diff1.union(diff2)\n",
    "    return symDiff\n",
    "\n",
    "setInt1 = {1, 2, 3, 4, 5}\n",
    "setInt2 = {4, 5, 6, 7, 8}\n",
    "\n",
    "# Calling Function\n",
    "symDiff = findSymDiff(setInt1, setInt2)\n",
    "\n",
    "# Displaying Result\n",
    "print(\"Symmetric Difference: \", symDiff)\n"
   ]
  },
  {
   "cell_type": "markdown",
   "id": "886928d9-3794-4cd7-b519-57d991bd1323",
   "metadata": {},
   "source": [
    "  "
   ]
  },
  {
   "cell_type": "markdown",
   "id": "b92c4837-b587-4cfd-b360-db416f2868b2",
   "metadata": {},
   "source": [
    "<h5>20. Update a set with elements from another set."
   ]
  },
  {
   "cell_type": "code",
   "execution_count": 58,
   "id": "287a67f7-45bb-40ba-bd1c-b6813c3fab07",
   "metadata": {},
   "outputs": [
    {
     "name": "stdout",
     "output_type": "stream",
     "text": [
      "Updated SetInt1:  {1, 2, 3, 4, 5, 6, 7, 8}\n"
     ]
    }
   ],
   "source": [
    "# Function to update a set with elements from another set.\n",
    "def updateSet(set1, set2):\n",
    "    set1.update(set2)\n",
    "\n",
    "setInt1 = {1, 2, 3, 4, 5}\n",
    "setInt2 = {4, 5, 6, 7, 8}\n",
    "\n",
    "# Calling Function\n",
    "updateSet(setInt1, setInt2)\n",
    "\n",
    "# Displaying Result\n",
    "print(\"Updated SetInt1: \", setInt1)\n"
   ]
  },
  {
   "cell_type": "markdown",
   "id": "814198d3-4bc3-4b86-ae01-012581da7808",
   "metadata": {},
   "source": [
    " "
   ]
  },
  {
   "cell_type": "markdown",
   "id": "f2a42560-95ac-423a-931b-0cf764fd4026",
   "metadata": {
    "tags": []
   },
   "source": [
    "<h5>21. Create a set of the first 5 prime numbers."
   ]
  },
  {
   "cell_type": "code",
   "execution_count": 173,
   "id": "5b4c943a-5a5f-4bbf-b0ca-e398140789e5",
   "metadata": {},
   "outputs": [
    {
     "name": "stdin",
     "output_type": "stream",
     "text": [
      "Enter the number of prime numbers to generate:  10\n"
     ]
    },
    {
     "name": "stdout",
     "output_type": "stream",
     "text": [
      "Set of the first 10 prime numbers: {2, 3, 5, 7, 11, 13, 17, 19, 23, 29}\n"
     ]
    }
   ],
   "source": [
    "# Function to check if a number is prime.\n",
    "def isPrime(n):\n",
    "    if n < 2:\n",
    "        return False\n",
    "    for i in range(2, int(n**0.5) + 1):\n",
    "        if n % i == 0:\n",
    "            return False\n",
    "    return True\n",
    "\n",
    "# Function to create a set of the first n prime numbers.\n",
    "def createPrimeSet(n):\n",
    "    primes = []\n",
    "    i = 1\n",
    "    while len(primes) < n:\n",
    "        if isPrime(i):\n",
    "            primes.append(i)\n",
    "        i += 1\n",
    "    return set(primes)\n",
    "\n",
    "#taking User input\n",
    "n = int(input(\"Enter the number of prime numbers to generate: \"))\n",
    "\n",
    "# Calling Function\n",
    "primeSet = createPrimeSet(n)\n",
    "\n",
    "# Displaying Result\n",
    "print(\"Set of the first\", n, \"prime numbers:\", primeSet)\n"
   ]
  },
  {
   "cell_type": "markdown",
   "id": "6e51d73a-aec5-40d6-9d3b-6e28348446bb",
   "metadata": {},
   "source": [
    " "
   ]
  },
  {
   "cell_type": "markdown",
   "id": "5a64dc72-fa01-4bcc-984b-acd0b20c233d",
   "metadata": {},
   "source": [
    "<h5>22. Check if two sets are identical."
   ]
  },
  {
   "cell_type": "code",
   "execution_count": 174,
   "id": "7a22bfa4-d3c4-40cf-ade2-d7cf43bced88",
   "metadata": {},
   "outputs": [
    {
     "name": "stdout",
     "output_type": "stream",
     "text": [
      "Sets are Identical.\n"
     ]
    }
   ],
   "source": [
    "# Function to check if two sets are identical.\n",
    "def checkIdenticalSets(set1, set2):\n",
    "    return set1 == set2\n",
    "\n",
    "setInt1 = {1, 2, 3}\n",
    "setInt2 = {1, 2, 3}\n",
    "\n",
    "# Calling Function\n",
    "areIdentical = checkIdenticalSets(setInt1, setInt2)\n",
    "\n",
    "# Displaying Result\n",
    "if areIdentical:\n",
    "    print(\"Sets are Identical.\")\n",
    "else:\n",
    "    print(\"Sets are Not Identical.\")\n"
   ]
  },
  {
   "cell_type": "markdown",
   "id": "d4e59781-c6e2-49ec-9975-ffbfcdc62999",
   "metadata": {},
   "source": [
    " "
   ]
  },
  {
   "cell_type": "markdown",
   "id": "2b408eea-c086-4408-9e94-32c17bfe5047",
   "metadata": {},
   "source": [
    "<h5>23. Create a frozen set."
   ]
  },
  {
   "cell_type": "code",
   "execution_count": 175,
   "id": "fedf2314-4ef4-40ed-9931-08818a28682c",
   "metadata": {},
   "outputs": [
    {
     "name": "stdout",
     "output_type": "stream",
     "text": [
      "Frozen Set:  frozenset({1, 2, 3, 4, 5})\n",
      "Original Set:  {1, 2, 3, 4, 5}\n"
     ]
    }
   ],
   "source": [
    "# Function to create a frozen set.\n",
    "def createFrozenSet(setInt):\n",
    "    return frozenset(setInt)\n",
    "\n",
    "# Input: Set of integers\n",
    "setInt = {1, 2, 3, 4, 5}\n",
    "\n",
    "# Calling Function\n",
    "frozenSet = createFrozenSet(setInt)\n",
    "\n",
    "# Displaying Result\n",
    "print(\"Frozen Set: \", frozenSet)\n",
    "print(\"Original Set: \", setInt)\n"
   ]
  },
  {
   "cell_type": "markdown",
   "id": "d4a1b837-297c-4d36-a7d0-fbf03f502eb6",
   "metadata": {},
   "source": [
    " "
   ]
  },
  {
   "cell_type": "markdown",
   "id": "621ef87c-c4b0-4292-b97a-b15882bc36bc",
   "metadata": {},
   "source": [
    "<h5>24. Check if a set is disjoint with another set."
   ]
  },
  {
   "cell_type": "code",
   "execution_count": 176,
   "id": "52a88fef-d3d8-4280-9110-e777c6be3c1c",
   "metadata": {},
   "outputs": [
    {
     "name": "stdout",
     "output_type": "stream",
     "text": [
      "Sets are Disjoint.\n"
     ]
    }
   ],
   "source": [
    "# Function to check if a set is disjoint with another set.\n",
    "def checkDisjointSets(set1, set2):\n",
    "    return set1.isdisjoint(set2)\n",
    "\n",
    "setInt1 = {1, 2, 3}\n",
    "setInt2 = {4, 5, 6}\n",
    "\n",
    "# Calling Function\n",
    "Disjoint = checkDisjointSets(setInt1, setInt2)\n",
    "\n",
    "# Displaying Result\n",
    "if Disjoint:\n",
    "    print(\"Sets are Disjoint.\")\n",
    "else:\n",
    "    print(\"Sets are Not Disjoint.\")\n"
   ]
  },
  {
   "cell_type": "markdown",
   "id": "4ae4c415-7732-4ddf-a8d9-1b1fe0e4fa97",
   "metadata": {},
   "source": [
    " "
   ]
  },
  {
   "cell_type": "markdown",
   "id": "7b7d11d2-ae76-46a1-b932-240e83ee996a",
   "metadata": {},
   "source": [
    "<h5>25. Create a set of squares of numbers from 1 to 5."
   ]
  },
  {
   "cell_type": "code",
   "execution_count": 177,
   "id": "1d6240da-01e6-4b91-a793-e55dc8dad098",
   "metadata": {},
   "outputs": [
    {
     "name": "stdout",
     "output_type": "stream",
     "text": [
      "Set of Squares:  {1, 4, 9, 16, 25}\n"
     ]
    }
   ],
   "source": [
    "# Function to create a set of squares of numbers from a given range.\n",
    "def createSquareSet(start, end):\n",
    "    return set(i*i for i in range(start, end + 1))\n",
    "\n",
    "startRange = 1\n",
    "endRange = 5\n",
    "\n",
    "# Calling Function\n",
    "setInt = createSquareSet(startRange, endRange)\n",
    "\n",
    "# Displaying Result\n",
    "print(\"Set of Squares: \", setInt)\n"
   ]
  },
  {
   "cell_type": "markdown",
   "id": "be088e52-cf6d-4bbf-91d2-7485fc3508b1",
   "metadata": {},
   "source": [
    " "
   ]
  },
  {
   "cell_type": "markdown",
   "id": "7d3afd0b-add6-4f3b-b14b-fd8d2708af54",
   "metadata": {},
   "source": [
    "<h5>26. Filter out all even numbers from a set."
   ]
  },
  {
   "cell_type": "code",
   "execution_count": 178,
   "id": "4b11e99a-3c98-402a-8987-47460f392452",
   "metadata": {},
   "outputs": [
    {
     "name": "stdout",
     "output_type": "stream",
     "text": [
      "Filtered Set (Odd Numbers):  {1, 3, 5}\n"
     ]
    }
   ],
   "source": [
    "# Function to filter out all even numbers from a set.\n",
    "def filterOutEven(setInt):\n",
    "    oddNumbers = [i for i in setInt if i % 2 != 0]\n",
    "    return set(oddNumbers)\n",
    "\n",
    "\n",
    "setInt = {1, 2, 3, 4, 5}\n",
    "\n",
    "# Calling Function\n",
    "result = filterOutEven(setInt)\n",
    "\n",
    "# Displaying Result\n",
    "print(\"Filtered Set (Odd Numbers): \", result)\n"
   ]
  },
  {
   "cell_type": "markdown",
   "id": "0d1b02ea-9486-41c0-8eec-c61b3e7d4eca",
   "metadata": {},
   "source": [
    " "
   ]
  },
  {
   "cell_type": "markdown",
   "id": "76abaa8e-db6e-4ff0-b048-e080450ef671",
   "metadata": {},
   "source": [
    "<h5>27. Multiply all elements in a set by 2."
   ]
  },
  {
   "cell_type": "code",
   "execution_count": 179,
   "id": "8096ce38-13d0-4fa7-9c26-3e061cb107e5",
   "metadata": {},
   "outputs": [
    {
     "name": "stdout",
     "output_type": "stream",
     "text": [
      "Modified Set (Multiplied by 2):  {2, 4, 6, 8, 10}\n"
     ]
    }
   ],
   "source": [
    "# Function to multiply all elements in a set by 2.\n",
    "def multiplybytwo(setInt):\n",
    "    return set(i * 2 for i in setInt)\n",
    "\n",
    "# Input: Set of integers\n",
    "setInt = {1, 2, 3, 4, 5}\n",
    "\n",
    "# Calling Function\n",
    "result = multiplybytwo(setInt)\n",
    "\n",
    "# Displaying Result\n",
    "print(\"Modified Set (Multiplied by 2): \", result)\n"
   ]
  },
  {
   "cell_type": "markdown",
   "id": "e8733d17-cc35-46c7-87e5-d5061faa8d2c",
   "metadata": {},
   "source": [
    " "
   ]
  },
  {
   "cell_type": "markdown",
   "id": "1a08117e-f935-4842-8ecd-dd476f7ad12e",
   "metadata": {},
   "source": [
    "<h5>28. Create a set of random numbers."
   ]
  },
  {
   "cell_type": "code",
   "execution_count": 180,
   "id": "b31b9bbc-9652-48ae-96b3-c0fa34b448c2",
   "metadata": {},
   "outputs": [
    {
     "name": "stdout",
     "output_type": "stream",
     "text": [
      "Random Number Set:  {64, 44, 18, 83, 54, 87, 58, 60, 31}\n"
     ]
    }
   ],
   "source": [
    "#28. Create a set of random numbers.\n",
    "import random\n",
    "\n",
    "setInt = set(random.randint(10,90) for _ in range(10))\n",
    "\n",
    "# Displaying Result\n",
    "print(\"Random Number Set: \", setInt)"
   ]
  },
  {
   "cell_type": "markdown",
   "id": "07d27439-72fd-48bb-87e9-2be7e62eecd6",
   "metadata": {},
   "source": [
    " "
   ]
  },
  {
   "cell_type": "markdown",
   "id": "113c31f9-f5f4-4c2e-a867-8dc8486f9416",
   "metadata": {},
   "source": [
    "<h5>29. Check if a set is empty."
   ]
  },
  {
   "cell_type": "code",
   "execution_count": 181,
   "id": "58c67999-8955-4d71-a79c-993d19cb77e2",
   "metadata": {},
   "outputs": [
    {
     "name": "stdout",
     "output_type": "stream",
     "text": [
      "Set is Not Empty.\n"
     ]
    }
   ],
   "source": [
    "# Function to check if a set is empty.\n",
    "def checkEmptySet(setInt):\n",
    "    return len(setInt) == 0\n",
    "\n",
    "setInt = {1, 2, 3, 4, 5}\n",
    "\n",
    "# Calling Function\n",
    "Empty = checkEmptySet(setInt)\n",
    "\n",
    "# Displaying Result\n",
    "if Empty:\n",
    "    print(\"Set is Empty.\")\n",
    "else:\n",
    "    print(\"Set is Not Empty.\")\n"
   ]
  },
  {
   "cell_type": "markdown",
   "id": "f3581f31-1c0c-4a42-8fae-ff05aa10d986",
   "metadata": {},
   "source": [
    " "
   ]
  },
  {
   "cell_type": "markdown",
   "id": "c2ec3a77-abaa-4132-ab4a-b2de2c6a5f48",
   "metadata": {},
   "source": [
    "<h5>30. Create a nested set"
   ]
  },
  {
   "cell_type": "code",
   "execution_count": 182,
   "id": "e92278ee-b914-405b-a951-e44c59177506",
   "metadata": {},
   "outputs": [
    {
     "name": "stdout",
     "output_type": "stream",
     "text": [
      "Nested Set:  {frozenset({1, 2, 3}), frozenset({4, 5, 6})}\n"
     ]
    }
   ],
   "source": [
    "# Function to create a nested set using frozenset.\n",
    "def createNestedSet(set1, set2):\n",
    "    return {frozenset(set1), frozenset(set2)}\n",
    "\n",
    "setInt1 = {1, 2, 3}\n",
    "setInt2 = {4, 5, 6}\n",
    "\n",
    "# Calling Function\n",
    "nestedSet = createNestedSet(setInt1, setInt2)\n",
    "\n",
    "# Displaying Result\n",
    "print(\"Nested Set: \", nestedSet)\n"
   ]
  },
  {
   "cell_type": "markdown",
   "id": "812eccfb-7208-495b-b29d-d080ac38eac6",
   "metadata": {},
   "source": [
    " "
   ]
  },
  {
   "cell_type": "markdown",
   "id": "7ef63239-5e25-4e11-8a8b-b04430d30d00",
   "metadata": {},
   "source": [
    "<h5>31. Remove an element from a set using the discard method."
   ]
  },
  {
   "cell_type": "code",
   "execution_count": 183,
   "id": "562f9c99-c3cb-4a10-b2d5-931b1284b9ca",
   "metadata": {},
   "outputs": [
    {
     "name": "stdout",
     "output_type": "stream",
     "text": [
      "Modified Set:  {1, 2, 4, 5}\n"
     ]
    }
   ],
   "source": [
    "#31. Remove an element from a set using the discard method.\n",
    "setInt = {1,2,3,4,5}\n",
    "setInt.discard(3)\n",
    "\n",
    "# Displaying Result\n",
    "print(\"Modified Set: \", setInt)"
   ]
  },
  {
   "cell_type": "markdown",
   "id": "1c853cc6-7045-41d1-a2d6-0fce63ec0b6b",
   "metadata": {},
   "source": [
    " "
   ]
  },
  {
   "cell_type": "markdown",
   "id": "4b9b1ab3-b3b3-4bdd-b165-f592b8560f66",
   "metadata": {},
   "source": [
    "<h5>32. Compare two sets"
   ]
  },
  {
   "cell_type": "code",
   "execution_count": 184,
   "id": "14a54fe6-2d5b-43c4-9098-a3147ab0b7b3",
   "metadata": {},
   "outputs": [
    {
     "name": "stdout",
     "output_type": "stream",
     "text": [
      "Sets are Equal:  True\n",
      "Set 1 is Subset of Set 2:  True\n",
      "Set 1 is Superset of Set 2:  True\n"
     ]
    }
   ],
   "source": [
    "# Function to compare two sets.\n",
    "def compareSets(set1, set2):\n",
    "    \n",
    "    # sets are equal\n",
    "    isEqual = set1 == set2\n",
    "    print(\"Sets are Equal: \", isEqual)\n",
    "\n",
    "    # set1 is a subset of set2\n",
    "    isSubset = set1 <= set2\n",
    "    print(\"Set 1 is Subset of Set 2: \", isSubset)\n",
    "\n",
    "    # set1 is a superset of set2\n",
    "    isSuperset = set1 >= set2\n",
    "    print(\"Set 1 is Superset of Set 2: \", isSuperset)\n",
    "\n",
    "setInt1 = {1, 2}\n",
    "setInt2 = {2, 1}\n",
    "\n",
    "# Calling Function\n",
    "compareSets(setInt1, setInt2)\n"
   ]
  },
  {
   "cell_type": "markdown",
   "id": "8b03b73b-90e7-4e4f-922d-13264f371287",
   "metadata": {},
   "source": [
    " "
   ]
  },
  {
   "cell_type": "markdown",
   "id": "c1209145-1bdb-4e85-8605-1b7dad902d7c",
   "metadata": {},
   "source": [
    "<h5>33. Create a set from a string"
   ]
  },
  {
   "cell_type": "code",
   "execution_count": 185,
   "id": "eb459a02-e765-450e-8484-800f91025d85",
   "metadata": {},
   "outputs": [
    {
     "name": "stdin",
     "output_type": "stream",
     "text": [
      "Enter the string:  Full Stack Data Science Pro\n"
     ]
    },
    {
     "name": "stdout",
     "output_type": "stream",
     "text": [
      "Set from String:  {'Stack', 'Data', 'Pro', 'Science', 'Full'}\n"
     ]
    }
   ],
   "source": [
    "# Function to create a set from a string.\n",
    "def createSetFromString(s):\n",
    "    return set(s.split())\n",
    "\n",
    "# Taking user Input\n",
    "s = input(\"Enter the string: \")\n",
    "\n",
    "# Calling Function\n",
    "setInt = createSetFromString(s)\n",
    "\n",
    "# Displaying Result\n",
    "print(\"Set from String: \", setInt)\n"
   ]
  },
  {
   "cell_type": "markdown",
   "id": "9105549b-c91f-45db-bf20-3c9f84f7a03c",
   "metadata": {},
   "source": [
    " "
   ]
  },
  {
   "cell_type": "markdown",
   "id": "b5bcd2b9-b679-4d4c-94cb-52ac878c5ede",
   "metadata": {},
   "source": [
    "<h5>34. Convert a set of strings to a set of integers."
   ]
  },
  {
   "cell_type": "code",
   "execution_count": 186,
   "id": "4b34f764-5b52-4e2c-b469-233ab2b05629",
   "metadata": {},
   "outputs": [
    {
     "name": "stdout",
     "output_type": "stream",
     "text": [
      "Converted Set to Integers:  {1, 2, 3, 4}\n"
     ]
    }
   ],
   "source": [
    "# Function to convert a set of strings to a set of integers.\n",
    "def convertInt(setInt):\n",
    "    return set(int(i) for i in setInt)\n",
    "\n",
    "setInt = {'1', '2', '3', '4'}\n",
    "\n",
    "# Calling Function\n",
    "result = convertInt(setInt)\n",
    "\n",
    "# Displaying Result\n",
    "print(\"Converted Set to Integers: \", result)\n"
   ]
  },
  {
   "cell_type": "markdown",
   "id": "951299dc-65f7-4f81-8921-e7b8830ec295",
   "metadata": {},
   "source": [
    " "
   ]
  },
  {
   "cell_type": "markdown",
   "id": "8c7bd1a8-4d07-429e-a44a-de7af39542e4",
   "metadata": {},
   "source": [
    "<h5>35. Convert a set of integers to a set of strings."
   ]
  },
  {
   "cell_type": "code",
   "execution_count": 187,
   "id": "ad348728-34ff-4077-9df9-1c656f576e38",
   "metadata": {},
   "outputs": [
    {
     "name": "stdout",
     "output_type": "stream",
     "text": [
      "Converted Set:  {'3', '4', '1', '2'}\n"
     ]
    }
   ],
   "source": [
    "# Function to convert a set of integers to a set of strings.\n",
    "def convertString(setInt):\n",
    "    return set(str(i) for i in setInt)\n",
    "\n",
    "# Input: Set of integers\n",
    "setInt = {1, 2, 3, 4}\n",
    "\n",
    "# Calling Function\n",
    "result = convertString(setInt)\n",
    "\n",
    "# Displaying Result\n",
    "print(\"Converted Set: \", result)\n"
   ]
  },
  {
   "cell_type": "markdown",
   "id": "1d22cc62-6449-40f9-b619-1058bc68e66b",
   "metadata": {},
   "source": [
    " "
   ]
  },
  {
   "cell_type": "markdown",
   "id": "8c245a63-77ce-4e61-a2ce-1005f1a34f1c",
   "metadata": {},
   "source": [
    "<h5>36. Create a set from a tuple"
   ]
  },
  {
   "cell_type": "code",
   "execution_count": 188,
   "id": "1c3c112a-cc16-4f24-8977-289fc800aba3",
   "metadata": {},
   "outputs": [
    {
     "name": "stdout",
     "output_type": "stream",
     "text": [
      "Set from Tuple:  {1, 2, 3, 4, 5}\n"
     ]
    }
   ],
   "source": [
    "# Function to create a set from a tuple.\n",
    "def createSet(tplInt):\n",
    "    return set(tplInt)\n",
    "\n",
    "tplInt = (1, 2, 3, 4, 5)\n",
    "\n",
    "# Calling Function\n",
    "setInt = createSet(tplInt)\n",
    "\n",
    "# Displaying Result\n",
    "print(\"Set from Tuple: \", setInt)\n"
   ]
  },
  {
   "cell_type": "markdown",
   "id": "4ac16564-aa76-4cce-b8aa-cd21bfc3cafb",
   "metadata": {},
   "source": [
    " "
   ]
  },
  {
   "cell_type": "markdown",
   "id": "6b0da67c-3525-44f6-92ca-6582a5e9e716",
   "metadata": {},
   "source": [
    "<h5>37. Convert a set to a tuple."
   ]
  },
  {
   "cell_type": "code",
   "execution_count": 189,
   "id": "778e428c-6c06-4d4e-9a5f-59d342473532",
   "metadata": {},
   "outputs": [
    {
     "name": "stdout",
     "output_type": "stream",
     "text": [
      "Tuple from Set:  (1, 2, 3, 4, 5)\n"
     ]
    }
   ],
   "source": [
    "# Function to convert a set to a tuple.\n",
    "def convertTuple(setInt):\n",
    "    return tuple(setInt)\n",
    "\n",
    "setInt = {1, 2, 3, 4, 5}\n",
    "\n",
    "# Calling Function\n",
    "tplInt = convertTuple(setInt)\n",
    "\n",
    "# Displaying Result\n",
    "print(\"Tuple from Set: \", tplInt)\n"
   ]
  },
  {
   "cell_type": "markdown",
   "id": "4dd836e1-b548-4b20-8127-63f1e439425c",
   "metadata": {},
   "source": [
    " "
   ]
  },
  {
   "cell_type": "markdown",
   "id": "fe3b705f-6cd4-4d40-be3c-a246880c8605",
   "metadata": {},
   "source": [
    "<h5>38. Find the maximum value in a set."
   ]
  },
  {
   "cell_type": "code",
   "execution_count": 190,
   "id": "577bced2-c1ee-43e0-87c4-0b77f88c27f3",
   "metadata": {},
   "outputs": [
    {
     "name": "stdout",
     "output_type": "stream",
     "text": [
      "Maximum Value in Set:  5\n"
     ]
    }
   ],
   "source": [
    "# Function to find the maximum value in a set.\n",
    "def findMax(setInt):\n",
    "    return max(setInt)\n",
    "\n",
    "setInt = {1, 2, 3, 4, 5}\n",
    "\n",
    "# Calling Function\n",
    "maxValue = findMax(setInt)\n",
    "\n",
    "# Displaying Result\n",
    "print(\"Maximum Value in Set: \", maxValue)\n"
   ]
  },
  {
   "cell_type": "markdown",
   "id": "9ffc8902-b502-4433-87e5-7bf37d006e4a",
   "metadata": {},
   "source": [
    "  "
   ]
  },
  {
   "cell_type": "markdown",
   "id": "eef2a6c7-e2df-4997-a288-8f029fe06418",
   "metadata": {},
   "source": [
    "<h5>39. Find the minimum value in a set"
   ]
  },
  {
   "cell_type": "code",
   "execution_count": 191,
   "id": "821aa6c0-6bdc-4143-90e5-e5814a52f024",
   "metadata": {},
   "outputs": [
    {
     "name": "stdout",
     "output_type": "stream",
     "text": [
      "Minimum Value in Set:  1\n"
     ]
    }
   ],
   "source": [
    "# Function to find the minimum value in a set.\n",
    "def findMin(setInt):\n",
    "    return min(setInt)\n",
    "\n",
    "setInt = {1, 2, 3, 4, 5}\n",
    "\n",
    "# Calling Function\n",
    "minValue = findMin(setInt)\n",
    "\n",
    "# Displaying Result\n",
    "print(\"Minimum Value in Set: \", minValue)\n"
   ]
  },
  {
   "cell_type": "markdown",
   "id": "096b073e-13de-4183-970d-ae992269b901",
   "metadata": {},
   "source": [
    " "
   ]
  },
  {
   "cell_type": "markdown",
   "id": "ff3c1453-a00d-4392-8923-331c9c998c55",
   "metadata": {},
   "source": [
    "<h5>40. Create a set from user input."
   ]
  },
  {
   "cell_type": "code",
   "execution_count": 193,
   "id": "0f14b743-28a5-4380-a742-3035a8ef5a59",
   "metadata": {},
   "outputs": [
    {
     "name": "stdin",
     "output_type": "stream",
     "text": [
      "Enter the number of elements:  5\n",
      "Enter element 1: 1\n",
      "Enter element 2: 2\n",
      "Enter element 3: 3\n",
      "Enter element 4: 4\n",
      "Enter element 5: 5\n"
     ]
    },
    {
     "name": "stdout",
     "output_type": "stream",
     "text": [
      "User Input Set:  {1, 2, 3, 4, 5}\n"
     ]
    }
   ],
   "source": [
    "# Function to create a set from user input.\n",
    "def UserInput():\n",
    "    n = int(input(\"Enter the number of elements: \"))\n",
    "    return set(int(input(\"Enter element {}:\".format(i + 1))) for i in range(n))\n",
    "\n",
    "# Calling Function\n",
    "setInt = UserInput()\n",
    "\n",
    "# Displaying Result\n",
    "print(\"User Input Set: \", setInt)\n"
   ]
  },
  {
   "cell_type": "markdown",
   "id": "57d609a0-50d0-4b53-8259-f5232927aecc",
   "metadata": {},
   "source": [
    " "
   ]
  },
  {
   "cell_type": "markdown",
   "id": "0c58f467-c3cd-46b7-a44b-b0070e92dbc5",
   "metadata": {},
   "source": [
    "<h5>41. Check if the intersection of two sets is empty."
   ]
  },
  {
   "cell_type": "code",
   "execution_count": 194,
   "id": "0f4be175-3fb2-4ccc-bf23-320bb057c8bd",
   "metadata": {},
   "outputs": [
    {
     "name": "stdout",
     "output_type": "stream",
     "text": [
      "The intersection of the sets is not empty.\n"
     ]
    }
   ],
   "source": [
    "# Function to check if the intersection of two sets is empty.\n",
    "def checkEmpty(set1, set2):\n",
    "    return set1.isdisjoint(set2)\n",
    "\n",
    "setInt1 = {1, 2, 3, 4, 5}\n",
    "setInt2 = {1, 2}\n",
    "\n",
    "# Calling Function\n",
    "isEmpty = checkEmpty(setInt1, setInt2)\n",
    "\n",
    "# Displaying Result\n",
    "if isEmpty:\n",
    "    print(\"The intersection of the sets is empty.\")\n",
    "else:\n",
    "    print(\"The intersection of the sets is not empty.\")\n"
   ]
  },
  {
   "cell_type": "markdown",
   "id": "c6b81a6c-711a-459e-b1ee-c32d03411f7a",
   "metadata": {},
   "source": [
    " "
   ]
  },
  {
   "cell_type": "markdown",
   "id": "51b0e2ad-8f81-48c9-a47f-44d50b79894b",
   "metadata": {},
   "source": [
    "<h5>42. Create a set of the first 5 Fibonacci numbers."
   ]
  },
  {
   "cell_type": "code",
   "execution_count": 195,
   "id": "3bef87d4-99d4-4ca0-badc-022454843623",
   "metadata": {},
   "outputs": [
    {
     "name": "stdin",
     "output_type": "stream",
     "text": [
      "Enter the number of Fibonacci numbers to generate:  5\n"
     ]
    },
    {
     "name": "stdout",
     "output_type": "stream",
     "text": [
      "Set of the first 5 Fibonacci numbers: {1, 2, 3, 5}\n"
     ]
    }
   ],
   "source": [
    "# Function to generate the first n Fibonacci numbers.\n",
    "def generateFibonacci(n):\n",
    "    a, b = 1, 1\n",
    "    fibonacciNum = [1]\n",
    "    for i in range(n - 2):\n",
    "        c = a + b\n",
    "        a, b = b, c\n",
    "        fibonacciNum.append(c)\n",
    "    return set(fibonacciNum)\n",
    "\n",
    "#taking User Input\n",
    "n = int(input(\"Enter the number of Fibonacci numbers to generate: \"))\n",
    "\n",
    "# Calling Function\n",
    "result = generateFibonacci(n)\n",
    "\n",
    "# Displaying Result\n",
    "print(\"Set of the first\", n, \"Fibonacci numbers:\", result)\n"
   ]
  },
  {
   "cell_type": "markdown",
   "id": "4ccd6172-e5ba-4d1a-9fc5-2c77f86b3c2c",
   "metadata": {},
   "source": [
    "  "
   ]
  },
  {
   "cell_type": "markdown",
   "id": "89b30415-270f-4845-925a-af61945a31f5",
   "metadata": {},
   "source": [
    "<h5>43. Remove duplicates from a list using sets."
   ]
  },
  {
   "cell_type": "code",
   "execution_count": 197,
   "id": "b27e1feb-9804-4323-9b29-511f77034c80",
   "metadata": {},
   "outputs": [
    {
     "name": "stdout",
     "output_type": "stream",
     "text": [
      "List with Duplicates Removed:  [1, 2, 3, 4, 5]\n"
     ]
    }
   ],
   "source": [
    "# Function to remove duplicates from a list using sets.\n",
    "def removeDuplicates(lst):\n",
    "    return list(set(lst))\n",
    "\n",
    "lst = [1, 2, 2, 3, 3, 4, 4, 5, 5]\n",
    "\n",
    "# Calling Function\n",
    "result = removeDuplicates(lst)\n",
    "\n",
    "# Displaying Result\n",
    "print(\"List with Duplicates Removed: \", result)\n"
   ]
  },
  {
   "cell_type": "markdown",
   "id": "30450fc9-8b14-49f0-b87f-af5fba408c55",
   "metadata": {},
   "source": [
    "  "
   ]
  },
  {
   "cell_type": "markdown",
   "id": "2d53a299-f367-4eaa-8bf6-3499cea79eda",
   "metadata": {},
   "source": [
    "<h5>44. Check if two sets have the same elements, regardless of their count."
   ]
  },
  {
   "cell_type": "code",
   "execution_count": 198,
   "id": "2fa4ba8f-6444-4d5e-8234-57278f1b9426",
   "metadata": {},
   "outputs": [
    {
     "name": "stdout",
     "output_type": "stream",
     "text": [
      "Sets have the same elements.\n"
     ]
    }
   ],
   "source": [
    "# Function to check if two sets have the same elements, regardless of their count.\n",
    "def checkSame(set1, set2):\n",
    "    return set1 == set2\n",
    "\n",
    "setInt1 = {1, 2, 3}\n",
    "setInt2 = {1, 2, 3, 2, 3, 1}\n",
    "\n",
    "# Calling Function\n",
    "SameElements = checkSame(setInt1, setInt2)\n",
    "\n",
    "# Displaying Result\n",
    "if SameElements:\n",
    "    print(\"Sets have the same elements.\")\n",
    "else:\n",
    "    print(\"Sets do not have the same elements.\")\n"
   ]
  },
  {
   "cell_type": "markdown",
   "id": "50eeb147-17bc-49a5-b11a-474cb9a0c452",
   "metadata": {},
   "source": [
    " "
   ]
  },
  {
   "cell_type": "markdown",
   "id": "39f2b8e5-9e99-42d8-99a7-d99209e7a335",
   "metadata": {},
   "source": [
    "<h5>45. Create a set of the first `n` powers of 2. "
   ]
  },
  {
   "cell_type": "code",
   "execution_count": 199,
   "id": "8ca79917-49bf-4e65-8637-8bd439b602d6",
   "metadata": {},
   "outputs": [
    {
     "name": "stdin",
     "output_type": "stream",
     "text": [
      "Enter the number of powers of 2 to generate:  5\n"
     ]
    },
    {
     "name": "stdout",
     "output_type": "stream",
     "text": [
      "Set of the first 5 powers of 2: {32, 2, 4, 8, 16}\n"
     ]
    }
   ],
   "source": [
    "# Function to create a set of the first n powers of 2.\n",
    "def createPower(n):\n",
    "    return set(2**i for i in range(1, n + 1))\n",
    "\n",
    "#taking User Input\n",
    "n = int(input(\"Enter the number of powers of 2 to generate: \"))\n",
    "\n",
    "# Calling Function\n",
    "setInt = createPower(n)\n",
    "\n",
    "# Displaying Result\n",
    "print(\"Set of the first\", n, \"powers of 2:\", setInt)\n"
   ]
  },
  {
   "cell_type": "markdown",
   "id": "366aa7cd-39d5-4892-a656-b5e7101f5991",
   "metadata": {},
   "source": [
    " "
   ]
  },
  {
   "cell_type": "markdown",
   "id": "b19b8466-f362-4e17-a3fe-499f15ccdde7",
   "metadata": {},
   "source": [
    "<h5>46. Find the common elements between a set and a list. "
   ]
  },
  {
   "cell_type": "code",
   "execution_count": 200,
   "id": "4f2b99de-064c-4698-85fd-adf81535ae2d",
   "metadata": {},
   "outputs": [
    {
     "name": "stdout",
     "output_type": "stream",
     "text": [
      "Common Elements between Set and List:  [3, 4, 5]\n"
     ]
    }
   ],
   "source": [
    "# Function to find the common elements between a set and a list.\n",
    "def findCommon(setInt, lst):\n",
    "    return [i for i in lst if i in setInt]\n",
    "\n",
    "\n",
    "lst = [1, 2, 3, 4, 5]\n",
    "setInt = {3, 4, 5, 6, 7}\n",
    "\n",
    "# Calling Function\n",
    "result = findCommon(setInt, lst)\n",
    "\n",
    "# Displaying Result\n",
    "print(\"Common Elements between Set and List: \", result)\n"
   ]
  },
  {
   "cell_type": "markdown",
   "id": "6748d941-e9df-4061-b5f0-d665bd948425",
   "metadata": {},
   "source": [
    "  "
   ]
  },
  {
   "cell_type": "markdown",
   "id": "7a37a97f-60e0-4dec-8a7a-41ceb11f4591",
   "metadata": {},
   "source": [
    "<h5>47. Create a set of the first `n` triangular numbers."
   ]
  },
  {
   "cell_type": "code",
   "execution_count": 201,
   "id": "a7bc430e-3ec9-47dc-ae80-f5eb8c6b3ce6",
   "metadata": {},
   "outputs": [
    {
     "name": "stdin",
     "output_type": "stream",
     "text": [
      "Enter the number of triangular numbers to generate:  5\n"
     ]
    },
    {
     "name": "stdout",
     "output_type": "stream",
     "text": [
      "Set of the first 5 triangular numbers: {1, 3, 6, 10, 15}\n"
     ]
    }
   ],
   "source": [
    "# Function to create a set of the first n triangular numbers.\n",
    "def createTriNum(n):\n",
    "    return set((i * (i + 1)) // 2 for i in range(1, n + 1))\n",
    "\n",
    "#taking User Input\n",
    "n = int(input(\"Enter the number of triangular numbers to generate: \"))\n",
    "\n",
    "# Calling Function\n",
    "result = createTriNum(n)\n",
    "\n",
    "# Displaying Result\n",
    "print(\"Set of the first\", n, \"triangular numbers:\", result)\n"
   ]
  },
  {
   "cell_type": "markdown",
   "id": "9a22703b-58a4-4896-b131-04a573465d5e",
   "metadata": {},
   "source": [
    " "
   ]
  },
  {
   "cell_type": "markdown",
   "id": "048eb345-4714-466f-8f42-ec9680ae5196",
   "metadata": {},
   "source": [
    "<h5>48. Check if a set contains another set as a subset."
   ]
  },
  {
   "cell_type": "code",
   "execution_count": 202,
   "id": "293f86d9-b038-46bb-9e84-a55ec63b1bb5",
   "metadata": {},
   "outputs": [
    {
     "name": "stdout",
     "output_type": "stream",
     "text": [
      "Set 1 is a Subset of Set 2.\n"
     ]
    }
   ],
   "source": [
    "# Function to check if a set contains another set as a subset.\n",
    "def checkSubset(set1, set2):\n",
    "    return set1.issubset(set2)\n",
    "\n",
    "\n",
    "setInt1 = {1, 2, 3}\n",
    "setInt2 = {1, 2, 3, 4}\n",
    "\n",
    "# Calling Function\n",
    "isSubset = checkSubset(setInt1, setInt2)\n",
    "\n",
    "# Displaying Result\n",
    "if isSubset:\n",
    "    print(\"Set 1 is a Subset of Set 2.\")\n",
    "else:\n",
    "    print(\"Set 1 is Not a Subset of Set 2.\")\n"
   ]
  },
  {
   "cell_type": "markdown",
   "id": "93e371dd-c626-4071-8421-0d456fd9adf6",
   "metadata": {},
   "source": [
    " "
   ]
  },
  {
   "cell_type": "markdown",
   "id": "808cf763-3c62-4619-9bcd-5581bc720ba3",
   "metadata": {},
   "source": [
    "<h5>49. Create a set of alternating 1s and 0s of length `n`"
   ]
  },
  {
   "cell_type": "code",
   "execution_count": 203,
   "id": "2b909506-697c-4321-b2a4-a027ccc84a70",
   "metadata": {},
   "outputs": [
    {
     "name": "stdin",
     "output_type": "stream",
     "text": [
      "Enter the length of the set:  5\n"
     ]
    },
    {
     "name": "stdout",
     "output_type": "stream",
     "text": [
      "Set of alternating 1s and 0s: {0, 1}\n"
     ]
    }
   ],
   "source": [
    "# Function to create a set of alternating 1s and 0s of length n.\n",
    "def createAlternat(n):\n",
    "    return set(0 if i % 2 == 0 else 1 for i in range(n))\n",
    "\n",
    "# Input: Length of the set\n",
    "n = int(input(\"Enter the length of the set: \"))\n",
    "\n",
    "# Calling Function\n",
    "result = createAlternat(n)\n",
    "\n",
    "# Displaying Result\n",
    "print(\"Set of alternating 1s and 0s:\", result)\n"
   ]
  },
  {
   "cell_type": "markdown",
   "id": "29e2067f-209a-41d6-be68-5b74d644b181",
   "metadata": {},
   "source": [
    " "
   ]
  },
  {
   "cell_type": "markdown",
   "id": "70f0c128-0113-4d01-91c9-e54d5fb5fec6",
   "metadata": {},
   "source": [
    "<h5>50. Merge multiple sets into one."
   ]
  },
  {
   "cell_type": "code",
   "execution_count": 207,
   "id": "78a39c90-59ce-4e9c-8573-b2add0549465",
   "metadata": {},
   "outputs": [
    {
     "name": "stdout",
     "output_type": "stream",
     "text": [
      "Merged Set:  {1, 2, 3, 4, 5, 6, 7, 8, 9}\n"
     ]
    }
   ],
   "source": [
    "#50. Merge multiple sets into one\n",
    "setInt1 = {1, 2, 3}\n",
    "setInt2 = {4, 5, 6}\n",
    "setInt3 = {7, 8, 9}\n",
    "\n",
    "# Using union method\n",
    "mergedSet = setInt1.union(setInt2, setInt3)\n",
    "\n",
    "# Displaying Result\n",
    "print(\"Merged Set: \", mergedSet)"
   ]
  }
 ],
 "metadata": {
  "kernelspec": {
   "display_name": "Python 3 (ipykernel)",
   "language": "python",
   "name": "python3"
  },
  "language_info": {
   "codemirror_mode": {
    "name": "ipython",
    "version": 3
   },
   "file_extension": ".py",
   "mimetype": "text/x-python",
   "name": "python",
   "nbconvert_exporter": "python",
   "pygments_lexer": "ipython3",
   "version": "3.10.8"
  }
 },
 "nbformat": 4,
 "nbformat_minor": 5
}
