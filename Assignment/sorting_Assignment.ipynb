{
 "cells": [
  {
   "cell_type": "markdown",
   "id": "17ecf348-e188-48de-b7b6-2b0889b25bef",
   "metadata": {},
   "source": [
    "# Problem 1.Given an array of n numbers, give an algorithm which gives the element appearing maximum number of times?"
   ]
  },
  {
   "cell_type": "code",
   "execution_count": 5,
   "id": "913ae7ee-015a-47e6-b425-dc04868d662a",
   "metadata": {},
   "outputs": [
    {
     "name": "stdout",
     "output_type": "stream",
     "text": [
      "Element appearing maximum number of times: 3\n"
     ]
    }
   ],
   "source": [
    "def freqMax(a):\n",
    "    freMap = {}\n",
    "    for n in a:\n",
    "        if n in freMap:\n",
    "            freMap[n] += 1\n",
    "        else:\n",
    "            freMap[n] = 1\n",
    "            \n",
    "    max_freq = 0\n",
    "    max_freq_ele = None\n",
    "    for n,f in freMap.items():\n",
    "        if f > max_freq:\n",
    "            max_freq = f\n",
    "            max_freq_ele = n\n",
    "    return max_freq_ele\n",
    "\n",
    "arr = [1, 3, 4, 5, 1, 3, 3, 2, 1, 3]\n",
    "result = freqMax(arr)\n",
    "print(\"Element appearing maximum number of times:\", result)\n",
    "            "
   ]
  },
  {
   "cell_type": "markdown",
   "id": "641b349d-9638-468d-90ed-0ec55859fa4d",
   "metadata": {},
   "source": [
    "# Problem 2 : We are given a list of n-1 integers and these integers are in the range of 1 to n . There are no duplicates in the list. One of the integers is missing in the list. Give an algorithm to find that element Ex: [1,2,4,6,3,7,8] 5 is the missing num."
   ]
  },
  {
   "cell_type": "code",
   "execution_count": null,
   "id": "3a1867f2-7ec6-4781-95da-90244b15e3b6",
   "metadata": {},
   "outputs": [],
   "source": [
    "def find(a):\n",
    "    n = len(a) + 1\n",
    "    SUM = n * (n + 1) // 2\n",
    "    \n",
    "    for i in a:\n",
    "        lstSum += i\n",
    "    \n",
    "    missing = SUM - lstSum\n",
    "    return missing"
   ]
  },
  {
   "cell_type": "markdown",
   "id": "8568d486-16b4-46d4-bd1e-7bc918af124d",
   "metadata": {},
   "source": [
    "# Problem 3 : Given an array of n positive numbers. All numbers occurs even number of times except 1 whichoccurs odd number of times. Find that number in O(n) time and O(1) space. Ex: [1,2,3,2,3,1,3]. 3 is repeats odd times."
   ]
  },
  {
   "cell_type": "code",
   "execution_count": 7,
   "id": "150f09eb-69b4-4c07-8c68-16abd52c699c",
   "metadata": {},
   "outputs": [
    {
     "name": "stdout",
     "output_type": "stream",
     "text": [
      "3\n"
     ]
    }
   ],
   "source": [
    "def find(a):\n",
    "    freMap = {}\n",
    "    for i in a:\n",
    "        if i in freMap:\n",
    "            freMap[i] += 1\n",
    "        else:\n",
    "            freMap[i] = 1\n",
    "    for i,f in freMap.items():\n",
    "        if f %2 != 0:\n",
    "            return i\n",
    "    return \"Not\"\n",
    "\n",
    "a = [1,2,3,2,3,1,3]\n",
    "print(find(a))\n"
   ]
  },
  {
   "cell_type": "markdown",
   "id": "163c0c58-2302-429b-bea2-39c017d513de",
   "metadata": {},
   "source": [
    "# Problem 4 : Given an array of n elements. Find two elements in the array such that their sum is equal to given element K."
   ]
  },
  {
   "cell_type": "code",
   "execution_count": 14,
   "id": "da244b1e-0ada-4158-b084-28826af2d8a6",
   "metadata": {},
   "outputs": [
    {
     "name": "stdout",
     "output_type": "stream",
     "text": [
      "Pair with sum 9 : (5, 4)\n"
     ]
    }
   ],
   "source": [
    "def find(a,k):\n",
    "    seen = set()\n",
    "    for i in a:\n",
    "        diff = k - i\n",
    "        if diff in seen:\n",
    "            return i,diff\n",
    "        seen.add(i)\n",
    "        \n",
    "arr = [1, 2, 3, 4, 5]\n",
    "K = 9\n",
    "result = find(arr, K)\n",
    "print(\"Pair with sum\", K, \":\", result)\n",
    "    \n",
    "    "
   ]
  },
  {
   "cell_type": "markdown",
   "id": "b0e47df6-52db-4a54-9349-9dd29eba778f",
   "metadata": {},
   "source": [
    "# Problem 5 : Given an array of both positive and negative numbers, find two numbers such that their sum is closest to 0. Ex: [ 1 ,60 ,-10, 70, -80,85]. Ans : -80,85."
   ]
  },
  {
   "cell_type": "code",
   "execution_count": 8,
   "id": "cd521ca4-7731-44bd-81e2-d7278f7a3f5b",
   "metadata": {},
   "outputs": [
    {
     "data": {
      "text/plain": [
       "0"
      ]
     },
     "execution_count": 8,
     "metadata": {},
     "output_type": "execute_result"
    }
   ],
   "source": [
    "def find(a):\n",
    "    a.sort()\n",
    "    left, right = 0,len(a)=1\n",
    "    \n",
    "    closetSum = float(\"inf\")\n",
    "    closetPair = None\n",
    "    while left < right:\n",
    "        curSum = a[left] + a[right]\n",
    "        if abs(curSum) < abs(closetSum):\n",
    "            closetSum = curSum\n",
    "            closetPair = (a[left],a[right])\n",
    "        if curSum < 0:\n",
    "            left += 1\n",
    "        elif curSum > 0:\n",
    "            right -= 1\n",
    "        \n",
    "        "
   ]
  },
  {
   "cell_type": "markdown",
   "id": "1f3b64b7-1269-423b-8317-c57c733ab1de",
   "metadata": {},
   "source": [
    "# Problem 6 : Given an array of n elements . Find three elements such that their sum is equal to the given number."
   ]
  },
  {
   "cell_type": "code",
   "execution_count": 17,
   "id": "d6eac46a-d564-46ea-9eb7-e5c869452edc",
   "metadata": {},
   "outputs": [],
   "source": [
    "def find(n,k):\n",
    "    n = len(a)\n",
    "    a.aort()\n",
    "    for i in range(n-2):\n",
    "        left, right = i+1,n-1\n",
    "        while left < right:\n",
    "            curSum = a[i] + a[left] + a[right]\n",
    "            if curSum == k:\n",
    "                return (a[i], a[left], a[right])\n",
    "            elif curSum < k:\n",
    "                left += 1\n",
    "            else:\n",
    "                right -= 1\n",
    "                \n",
    "    return None\n",
    "                \n",
    "    \n",
    "    "
   ]
  },
  {
   "cell_type": "markdown",
   "id": "7a1a7572-b011-46b7-9fcb-17e12fdd2e62",
   "metadata": {},
   "source": [
    "# Problem 7 : Given an array of n elements . Find three elements i, j, k in the array such that i * i + j * j = k*k."
   ]
  },
  {
   "cell_type": "code",
   "execution_count": 21,
   "id": "63d570fb-7694-47d5-bac8-9983e443f1f7",
   "metadata": {},
   "outputs": [
    {
     "name": "stdout",
     "output_type": "stream",
     "text": [
      "Triplet satisfying i*i + j*j = k*k: (3, 4, 5)\n"
     ]
    }
   ],
   "source": [
    "def find(a):\n",
    "    a.sort()\n",
    "    n = len(a)\n",
    "    \n",
    "    for i in range(n-1,1,-1):\n",
    "        left, right = 0,i-1\n",
    "        while left < right:\n",
    "            sumS = a[left] * a[left] + a[right] * a[right]\n",
    "            if sumS == a[i] * a[i]:\n",
    "                return a[left],a[right],a[i]\n",
    "            elif sumS < a[i] * a[i]:\n",
    "                left += 1\n",
    "            else:\n",
    "                right -= 1\n",
    "    return None\n",
    "\n",
    "arr = [3, 1, 4, 6, 5]\n",
    "result = find(arr)\n",
    "print(\"Triplet satisfying i*i + j*j = k*k:\", result)\n",
    "                "
   ]
  },
  {
   "cell_type": "markdown",
   "id": "260ef3cc-487f-489e-a061-42808c6c08bb",
   "metadata": {},
   "source": [
    "# Problem 8 : An element is a majority if it appears more than n/2 times. Give an algorithm takes an array of n element as argument and identifies a majority (if it exists)."
   ]
  },
  {
   "cell_type": "code",
   "execution_count": 2,
   "id": "74bda91d-b74b-467e-bc9d-06bf5840e428",
   "metadata": {},
   "outputs": [
    {
     "name": "stdout",
     "output_type": "stream",
     "text": [
      "Majority element (if exists): 4\n"
     ]
    }
   ],
   "source": [
    "def find(a):\n",
    "    candidate = None\n",
    "    count = 0\n",
    "    for i in a:\n",
    "        if count == 0:\n",
    "            candidate = i\n",
    "            count = 1\n",
    "        elif i == candidate:\n",
    "            count += 1\n",
    "        else:\n",
    "            count -= 1\n",
    "            \n",
    "    count = a.count(candidate)\n",
    "    if count > len(a)// 2:\n",
    "        return candidate\n",
    "    else:\n",
    "        return \"No majority\"\n",
    "    \n",
    "arr = [3, 3, 4, 2, 4, 4, 2, 4, 4]\n",
    "result = find(arr)\n",
    "print(\"Majority element (if exists):\", result)\n",
    "            \n",
    "            \n",
    "    "
   ]
  },
  {
   "cell_type": "markdown",
   "id": "0e9bb191-ae29-4164-8a13-c34c2a66d07f",
   "metadata": {},
   "source": [
    "# Problem 9 : Given n × n matrix, and in each row all 1’s are followed by 0’s. Find the row with the maximum number of 0’s."
   ]
  },
  {
   "cell_type": "code",
   "execution_count": 6,
   "id": "a474706b-bc36-4ec2-bef5-c2fd834a4671",
   "metadata": {},
   "outputs": [
    {
     "name": "stdout",
     "output_type": "stream",
     "text": [
      "Row with maximum number of zeros: 3\n"
     ]
    }
   ],
   "source": [
    "def find(m):\n",
    "    maxZeros = -1\n",
    "    maxRow = -1\n",
    "    for rowIndex,row in enumerate(m):\n",
    "        left = 0\n",
    "        right = len(row) -1\n",
    "        while left <= right:\n",
    "            mid = left + (right - left)// 2\n",
    "            \n",
    "            if row[mid] == 0:\n",
    "                right = mid -1\n",
    "            else:\n",
    "                left = mid + 1\n",
    "        zeros_count = len(row) - left\n",
    "        if zeros_count > maxZeros:\n",
    "            maxZeros = zeros_count\n",
    "            max_zeros_row = rowIndex\n",
    "    return max_zeros_row\n",
    "\n",
    "\n",
    "matrix = [\n",
    "    [1, 1, 1, 1, 0],\n",
    "    [1, 1, 1, 0, 0],\n",
    "    [1, 1, 0, 0, 0],\n",
    "    [1, 0, 0, 0, 0],\n",
    "    [1, 1, 1, 1, 1]\n",
    "]\n",
    "result = find(matrix)\n",
    "print(\"Row with maximum number of zeros:\", result)"
   ]
  },
  {
   "cell_type": "code",
   "execution_count": null,
   "id": "8834222f-24d1-454b-9d22-7a15afa40c04",
   "metadata": {},
   "outputs": [],
   "source": []
  },
  {
   "cell_type": "code",
   "execution_count": null,
   "id": "9ad7bcc2-9338-4689-8549-4b72d56d5801",
   "metadata": {},
   "outputs": [],
   "source": [
    "def sort_colors(arr):\n",
    "    low = 0\n",
    "    mid = 0\n",
    "    high = len(arr) - 1\n",
    "\n",
    "    while mid <= high:\n",
    "        if arr[mid] == 0:\n",
    "            arr[mid], arr[low] = arr[low], arr[mid]\n",
    "            low += 1\n",
    "            mid += 1\n",
    "        elif arr[mid] == 1:\n",
    "            mid += 1\n",
    "        else:\n",
    "            arr[mid], arr[high] = arr[high], arr[mid]\n",
    "            high -= 1\n",
    "\n",
    "# Example usage:\n",
    "arr = [0, 1, 1, 0, 1, 2, 1, 2, 0, 0, 0, 1]\n",
    "sort_colors(arr)\n",
    "print(\"Sorted array:\", arr)\n"
   ]
  }
 ],
 "metadata": {
  "kernelspec": {
   "display_name": "Python 3 (ipykernel)",
   "language": "python",
   "name": "python3"
  },
  "language_info": {
   "codemirror_mode": {
    "name": "ipython",
    "version": 3
   },
   "file_extension": ".py",
   "mimetype": "text/x-python",
   "name": "python",
   "nbconvert_exporter": "python",
   "pygments_lexer": "ipython3",
   "version": "3.10.8"
  }
 },
 "nbformat": 4,
 "nbformat_minor": 5
}
