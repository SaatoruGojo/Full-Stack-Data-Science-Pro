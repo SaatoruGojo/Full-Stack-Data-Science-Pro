{
 "cells": [
  {
   "cell_type": "markdown",
   "id": "d614a8c3-b176-4271-ad65-5201738a5f4f",
   "metadata": {},
   "source": [
    "<h1>Basic If-Else Statements:"
   ]
  },
  {
   "cell_type": "markdown",
   "id": "60d329c0-2ac0-4ee8-8a68-efa1a3bac9e8",
   "metadata": {},
   "source": [
    "#### 1. Write a Python program to check if a given number is positive or negative."
   ]
  },
  {
   "cell_type": "code",
   "execution_count": 3,
   "id": "59b21d9d-23d5-4396-9f69-b97f0d5fe5f6",
   "metadata": {},
   "outputs": [
    {
     "name": "stdin",
     "output_type": "stream",
     "text": [
      "Enter the number:  2\n"
     ]
    },
    {
     "name": "stdout",
     "output_type": "stream",
     "text": [
      "Positive\n"
     ]
    }
   ],
   "source": [
    "#Function to check numbe3r is +ve or -ve\n",
    "def check(n):\n",
    "    return n>0\n",
    "\n",
    "#Taking User Input\n",
    "n = int(input(\"Enter the number: \"))\n",
    "\n",
    "#Calling FUnction\n",
    "result = check(n)\n",
    "\n",
    "#Displaying Result\n",
    "if result:\n",
    "    print(\"Positive\")\n",
    "else:\n",
    "    print(\"Negative\")"
   ]
  },
  {
   "cell_type": "markdown",
   "id": "83700774-5965-4052-a3d0-2f65b20039fc",
   "metadata": {},
   "source": [
    "#### 2. Create a program that determines if a person is eligible to vote based on their age."
   ]
  },
  {
   "cell_type": "code",
   "execution_count": 4,
   "id": "37197c8c-bdfc-4e6e-b6df-9947d37c44eb",
   "metadata": {},
   "outputs": [
    {
     "name": "stdin",
     "output_type": "stream",
     "text": [
      "Enter the number:  22\n"
     ]
    },
    {
     "name": "stdout",
     "output_type": "stream",
     "text": [
      "Eligible To vote\n"
     ]
    }
   ],
   "source": [
    "#Function determines if a person is eligible to vote based on their age.\n",
    "def check(age):\n",
    "    return age>18\n",
    "\n",
    "#Taking User Input\n",
    "n = int(input(\"Enter the age: \"))\n",
    "\n",
    "#Calling FUnction\n",
    "result = check(n)\n",
    "\n",
    "#Displaying Result\n",
    "if result:\n",
    "    print(\"Eligible To vote\")\n",
    "else:\n",
    "    print(\"Not Eligible To vote\")\n"
   ]
  },
  {
   "cell_type": "markdown",
   "id": "1541835c-0ddb-45a9-838b-4792db1f60be",
   "metadata": {},
   "source": [
    "#### 3. Develop a program to find the maximum of two numbers using if-else statements."
   ]
  },
  {
   "cell_type": "code",
   "execution_count": 6,
   "id": "631b9023-c88f-4cfe-b424-2cc947791e6a",
   "metadata": {},
   "outputs": [
    {
     "name": "stdin",
     "output_type": "stream",
     "text": [
      "Enter the Num 1:  2\n",
      "Enter the Num 2:  34\n"
     ]
    },
    {
     "name": "stdout",
     "output_type": "stream",
     "text": [
      "Num 2 is Maximum\n"
     ]
    }
   ],
   "source": [
    "#Function to find maximum of two number\n",
    "def check(a,b):\n",
    "    return a>b\n",
    "\n",
    "#Taking User Input\n",
    "num1 = int(input(\"Enter the Num 1: \"))\n",
    "num2 = int(input(\"Enter the Num 2: \"))\n",
    "\n",
    "#Calling FUnction\n",
    "result = check(num1 ,num2)\n",
    "\n",
    "#Displaying Result\n",
    "if result:\n",
    "    print(\"Num 1 is Maximum\")\n",
    "else:\n",
    "    print(\"Num 2 is Maximum\")\n"
   ]
  },
  {
   "cell_type": "markdown",
   "id": "7f6cbc59-ab9a-4eaf-8b39-a0ba4ee0327b",
   "metadata": {},
   "source": [
    "#### 4. Write a Python script to classify a given year as a leap year or not."
   ]
  },
  {
   "cell_type": "code",
   "execution_count": 10,
   "id": "7d0ff0a6-d549-4175-aff5-2130085a9370",
   "metadata": {},
   "outputs": [
    {
     "name": "stdin",
     "output_type": "stream",
     "text": [
      "Enter the year:  2024\n"
     ]
    },
    {
     "name": "stdout",
     "output_type": "stream",
     "text": [
      "2024 is a leap year\n"
     ]
    }
   ],
   "source": [
    "#function to classify a given year as leap year or not \n",
    "def leap(year):\n",
    "    if year % 4 == 0:\n",
    "        if year%100 == 0:\n",
    "            return year%400 == 0\n",
    "        return True\n",
    "    return False\n",
    "\n",
    "#Taking User Input\n",
    "year = int(input(\"Enter the year: \"))\n",
    "\n",
    "#Calling FUnction\n",
    "result = leap(year)\n",
    "\n",
    "#Displaying Result\n",
    "if result:\n",
    "    print(f\"{year} is a leap year\")\n",
    "else:\n",
    "    print(f\"{year} is not a leap year\")\n"
   ]
  },
  {
   "cell_type": "markdown",
   "id": "845ecd75-2a15-4805-a4de-abba5b6ced7c",
   "metadata": {},
   "source": [
    "####  5. Create a program that checks whether a character is a vowel or a consonant."
   ]
  },
  {
   "cell_type": "code",
   "execution_count": 16,
   "id": "d8dd9762-f41f-4359-96a9-ddc715f00776",
   "metadata": {},
   "outputs": [
    {
     "name": "stdin",
     "output_type": "stream",
     "text": [
      "Enter the character:  A\n"
     ]
    },
    {
     "name": "stdout",
     "output_type": "stream",
     "text": [
      "A is a vowel\n"
     ]
    }
   ],
   "source": [
    "#Function checks whether a character is a vowel or a consonant.\n",
    "def check(c):\n",
    "    vowel = 'aeiou'\n",
    "    return  c.lower() in vowel\n",
    "\n",
    "#Taking User Input\n",
    "c = input(\"Enter the character: \")\n",
    "\n",
    "#Calling FUnction\n",
    "result = check(c)\n",
    "\n",
    "#Displaying Result\n",
    "if result:\n",
    "    print(f\"{c} is a vowel\")\n",
    "else:\n",
    "    print(f\"{c} is not a vowel\")\n",
    "\n",
    "    "
   ]
  },
  {
   "cell_type": "markdown",
   "id": "ec33e4cd-c723-47fd-9711-3f1ca7430d1e",
   "metadata": {},
   "source": [
    "#### 6. Implement a program to determine whether a given number is even or odd. "
   ]
  },
  {
   "cell_type": "code",
   "execution_count": 18,
   "id": "39298dfd-ec59-4769-a3c5-ff7023dc12ab",
   "metadata": {},
   "outputs": [
    {
     "name": "stdin",
     "output_type": "stream",
     "text": [
      "Enter the number:  3\n"
     ]
    },
    {
     "name": "stdout",
     "output_type": "stream",
     "text": [
      "3 is Odd\n"
     ]
    }
   ],
   "source": [
    "#Function to check number is even or odd\n",
    "def check(num):\n",
    "    return n%2 == 0 \n",
    "\n",
    "#Taking User Input\n",
    "n = int(input(\"Enter the number: \"))\n",
    "\n",
    "#Calling FUnction\n",
    "result = check(n)\n",
    "\n",
    "#Displaying Result\n",
    "if result:\n",
    "    print(f\"{n} is Even\")\n",
    "else:\n",
    "    print(f\"{n} is Odd\")\n",
    "\n"
   ]
  },
  {
   "cell_type": "markdown",
   "id": "efe82d63-9651-4e0f-afc2-96d6445ca5c2",
   "metadata": {},
   "source": [
    "#### 7. Write a Python function to calculate the absolute value of a number without using the `abs()` function. "
   ]
  },
  {
   "cell_type": "code",
   "execution_count": 25,
   "id": "aa517705-7f03-4f48-8ce9-a3716763fe17",
   "metadata": {},
   "outputs": [
    {
     "name": "stdin",
     "output_type": "stream",
     "text": [
      "Enter the number:  -3\n"
     ]
    },
    {
     "name": "stdout",
     "output_type": "stream",
     "text": [
      "Absolute value of -3: 3\n"
     ]
    }
   ],
   "source": [
    "#function to calculate absolute value using abs()\n",
    "def absolute(num):\n",
    "    if num > 0 :\n",
    "        return num\n",
    "    else:\n",
    "        return num*-1\n",
    "\n",
    "#Taking User Input\n",
    "n = int(input(\"Enter the number: \"))\n",
    "\n",
    "#Calling FUnction\n",
    "result = absolute(n)\n",
    "\n",
    "#Displaying Result\n",
    "print(f\"Absolute value of {n}: {result}\")\n",
    "\n",
    "\n",
    "    "
   ]
  },
  {
   "cell_type": "markdown",
   "id": "813b2c1f-f99d-4919-8f0f-3008b5570c3f",
   "metadata": {},
   "source": [
    "#### 8. Develop a program that determines the largest of three given numbers using if-else statements."
   ]
  },
  {
   "cell_type": "code",
   "execution_count": 28,
   "id": "e8f5fd6e-ce7b-4507-9e66-4515909d904a",
   "metadata": {},
   "outputs": [
    {
     "name": "stdin",
     "output_type": "stream",
     "text": [
      "Enter the number 1:  5\n",
      "Enter the number 2:  4\n",
      "Enter the number 3:  7\n"
     ]
    },
    {
     "name": "stdout",
     "output_type": "stream",
     "text": [
      "7 is Max among them\n"
     ]
    }
   ],
   "source": [
    "#function to find largest of three number using if-else\n",
    "def find(a,b,c):\n",
    "    if a>b and b>c:\n",
    "        return a\n",
    "    elif b>a and a>c:\n",
    "        return b\n",
    "    else:\n",
    "        return c\n",
    "    \n",
    "#Taking User Input\n",
    "num1 = int(input(\"Enter the number 1: \"))\n",
    "num2 = int(input(\"Enter the number 2: \"))\n",
    "num3 = int(input(\"Enter the number 3: \"))\n",
    "\n",
    "#Calling FUnction\n",
    "result = find(num1,num2,num3)\n",
    "\n",
    "#Displaying Result\n",
    "print(f\"{result} is Max among them\")\n"
   ]
  },
  {
   "cell_type": "markdown",
   "id": "f24f14d5-8f6c-4eb6-853e-a71aa5475940",
   "metadata": {},
   "source": [
    "#### 9. Create a program that checks if a given string is a palindrome."
   ]
  },
  {
   "cell_type": "code",
   "execution_count": 32,
   "id": "8f733c88-4c71-4925-8182-287f1d1c04b6",
   "metadata": {},
   "outputs": [
    {
     "name": "stdin",
     "output_type": "stream",
     "text": [
      "Enter the string:  Nitin\n"
     ]
    },
    {
     "name": "stdout",
     "output_type": "stream",
     "text": [
      "Nitin is palindrom\n"
     ]
    }
   ],
   "source": [
    "#function to check string is palinf=drom or not\n",
    "def check(s):\n",
    "    return s.lower() == s[::-1].lower()\n",
    "\n",
    "#Taking User Input\n",
    "s = input(\"Enter the string: \")\n",
    "\n",
    "#Calling FUnction\n",
    "result = check(s)\n",
    "\n",
    "#Displaying Result\n",
    "if result:\n",
    "    print(f\"{s} is palindrom\")\n",
    "else:\n",
    "    print(f\"{s} is not palindrom\")"
   ]
  },
  {
   "cell_type": "markdown",
   "id": "c393c92c-5bfb-4516-952f-8e3b3350b669",
   "metadata": {},
   "source": [
    "#### 10. Write a Python program to calculate the grade based on a student's score."
   ]
  },
  {
   "cell_type": "code",
   "execution_count": 37,
   "id": "2c139213-8e30-40c9-9739-601cee305f21",
   "metadata": {},
   "outputs": [
    {
     "name": "stdin",
     "output_type": "stream",
     "text": [
      "Enter the number:  91\n"
     ]
    },
    {
     "name": "stdout",
     "output_type": "stream",
     "text": [
      "Grae :  A+\n"
     ]
    }
   ],
   "source": [
    "#function to calculate grade based on score\n",
    "def grade(grade):\n",
    "    if grade >=90:\n",
    "        return \"A+\"\n",
    "    elif grade >=80:\n",
    "        return \"A\"\n",
    "    elif grade >= 70:\n",
    "        return \"B\"\n",
    "    elif grade >= 60:\n",
    "        return \"C\"\n",
    "    elif grade >= 50:\n",
    "        return \"D\"\n",
    "    elif grade >= 40:\n",
    "        return \"E\"\n",
    "    else:\n",
    "        return \"F\"\n",
    "\n",
    "\n",
    "#Taking User Input\n",
    "n = int(input(\"Enter the number: \"))\n",
    "\n",
    "#Calling FUnction\n",
    "result = grade(n)\n",
    "\n",
    "#Displaying Result\n",
    "print(\"Grae : \",result)\n",
    "    "
   ]
  },
  {
   "cell_type": "markdown",
   "id": "d2d340a2-2482-43c3-a3cd-a5415afe4b0b",
   "metadata": {},
   "source": [
    "<h1>Nested If-Else Statements:"
   ]
  },
  {
   "cell_type": "markdown",
   "id": "52661f9e-d8b4-4c5d-bf3c-a4b4ea543b61",
   "metadata": {},
   "source": [
    "#### 12. Write a program to determine if a triangle is equilateral, isosceles, or scalene."
   ]
  },
  {
   "cell_type": "code",
   "execution_count": 3,
   "id": "5deda64b-6698-4279-82f9-7b3612e5a4de",
   "metadata": {},
   "outputs": [
    {
     "name": "stdin",
     "output_type": "stream",
     "text": [
      "Enter the side 1:  2\n",
      "Enter the side 2:  2\n",
      "Enter the side 3:  2\n"
     ]
    },
    {
     "name": "stdout",
     "output_type": "stream",
     "text": [
      "given triangle is Equilateral\n"
     ]
    }
   ],
   "source": [
    "#Function to determine if a triangle is equilateral, isosceles, or scalene. \n",
    "def find(a,b,c):\n",
    "    if a == b == c:\n",
    "        return \"Equilateral\"\n",
    "    elif a==c!=b or b==c!=a or a==b!=c:\n",
    "        return \"Isosceles\"\n",
    "    else:\n",
    "        return \"Scalene\"\n",
    "    \n",
    "#Taking User Input\n",
    "num1 = int(input(\"Enter the side 1: \"))\n",
    "num2 = int(input(\"Enter the side 2: \"))\n",
    "num3 = int(input(\"Enter the side 3: \"))\n",
    "\n",
    "#Calling FUnction\n",
    "result = find(num1,num2,num3)\n",
    "\n",
    "#Displaying Result\n",
    "print(f\"given triangle is {result}\")\n",
    "    \n",
    "    "
   ]
  },
  {
   "cell_type": "markdown",
   "id": "8721ff11-25f5-461b-8093-da31e93d94d6",
   "metadata": {},
   "source": [
    "#### 13. Develop a program that checks if a year is a leap year and also if it is a century year."
   ]
  },
  {
   "cell_type": "code",
   "execution_count": 11,
   "id": "3d2611d9-78d0-4448-ac5f-a6943e2cca3e",
   "metadata": {},
   "outputs": [
    {
     "name": "stdin",
     "output_type": "stream",
     "text": [
      "Enter the year:  1972\n"
     ]
    },
    {
     "name": "stdout",
     "output_type": "stream",
     "text": [
      "1972 is a leap year\n"
     ]
    }
   ],
   "source": [
    "#Function to check leap year or century year\n",
    "def leap(year):\n",
    "    if year%4 == 0:\n",
    "        if year % 100 == 0:\n",
    "            return year%400 == 0\n",
    "        return True\n",
    "    return False\n",
    "\n",
    "\n",
    "#Taking User Input\n",
    "year = int(input(\"Enter the year: \"))\n",
    "\n",
    "#Calling FUnction\n",
    "result = leap(year)\n",
    "\n",
    "#Displaying Result\n",
    "if result and year%100==0:\n",
    "    print(f\"{year} is a leap and century year\")\n",
    "elif result:\n",
    "     print(f\"{year} is a leap year\")\n",
    "else:\n",
    "    print(f\"{year} is not a leap year\")\n",
    "\n",
    "\n",
    "\n"
   ]
  },
  {
   "cell_type": "markdown",
   "id": "87779eca-2224-4c2b-8801-bbc6b4c580ec",
   "metadata": {
    "tags": []
   },
   "source": [
    "#### 14. Write a Python script to determine if a number is positive, negative, or zero.\n"
   ]
  },
  {
   "cell_type": "code",
   "execution_count": 14,
   "id": "394ee6cc-8a48-494d-a4cf-2c9bb3e315c7",
   "metadata": {},
   "outputs": [
    {
     "name": "stdin",
     "output_type": "stream",
     "text": [
      "Enter the number:  -3\n"
     ]
    },
    {
     "name": "stdout",
     "output_type": "stream",
     "text": [
      "-3 is Negative\n"
     ]
    }
   ],
   "source": [
    "#Function to determine if a number is positive negative or zero\n",
    "def find(num):\n",
    "    if num > 0:\n",
    "        return \"Positive\"\n",
    "    elif num == 0:\n",
    "        return \"Zero\"\n",
    "    else:\n",
    "        return \"Negative\"\n",
    "\n",
    "    \n",
    "#Taking User Input\n",
    "n = int(input(\"Enter the number: \"))\n",
    "\n",
    "#Calling FUnction\n",
    "result = find(n)\n",
    "\n",
    "#Displaying Result\n",
    "print(f\"{n} is {result}\")"
   ]
  },
  {
   "cell_type": "markdown",
   "id": "42882a0b-4286-4491-a4dc-25fc0654fdc4",
   "metadata": {},
   "source": [
    "#### 15. Create a program to check if a person is a teenager (between 13 and 19 years old)."
   ]
  },
  {
   "cell_type": "code",
   "execution_count": 16,
   "id": "fe506c1a-3df8-4c49-9bdd-73445ec13bf3",
   "metadata": {},
   "outputs": [
    {
     "name": "stdin",
     "output_type": "stream",
     "text": [
      "Enter the age:  24\n"
     ]
    },
    {
     "name": "stdout",
     "output_type": "stream",
     "text": [
      "A person is Teenager\n"
     ]
    }
   ],
   "source": [
    "#Function to check if a person is teenager\n",
    "def check(age):\n",
    "    return 13 <= age <= 19\n",
    "\n",
    "\n",
    "#Taking User Input\n",
    "n = int(input(\"Enter the age: \"))\n",
    "\n",
    "#Calling FUnction\n",
    "result = find(n)\n",
    "\n",
    "#Displaying Result\n",
    "if result:\n",
    "    print(\"A person is Teenager\")\n",
    "else:\n",
    "    print(\"A person is not a Teenager\")"
   ]
  },
  {
   "cell_type": "markdown",
   "id": "9f0d228a-af90-4e0d-9cb7-b00c3d8c680b",
   "metadata": {},
   "source": [
    "#### 16. Develop a program that determines the type of angle based on its measure (acute, obtuse, or right). "
   ]
  },
  {
   "cell_type": "code",
   "execution_count": 24,
   "id": "1acfdd3f-2cb7-4aa8-a9c8-0e4c5e501583",
   "metadata": {},
   "outputs": [
    {
     "name": "stdin",
     "output_type": "stream",
     "text": [
      "Enter the side 1:  100\n",
      "Enter the side 2:  40\n",
      "Enter the side 3:  40\n"
     ]
    },
    {
     "name": "stdout",
     "output_type": "stream",
     "text": [
      "given triangle is Obtuse\n"
     ]
    }
   ],
   "source": [
    "#Function to determine the type of angle based on its measure (acute, obtuse, or right)\n",
    "def check(a1,a2,a3):\n",
    "    if a1+a2+a3 == 180:\n",
    "        if a1==90 and (a2 and a3 !=90) or a2==90 and (a1 and a3) !=90 or a3==90 and (a1 and a2) !=90:\n",
    "            return \"Right\"\n",
    "        elif a1<90 and a2<90 and a3<90:\n",
    "            return \"Acute\"\n",
    "        elif a1 >90 and (a2 and a3) !=90 or a2>90 and (a1 and a3) !=90 or a3>90 and (a1 and a2) !=90:\n",
    "            return \"Obtuse\"\n",
    "    else:\n",
    "        return \"Angle are not of triangle\"\n",
    "    \n",
    "#Taking User Input\n",
    "num1 = int(input(\"Enter the side 1: \"))\n",
    "num2 = int(input(\"Enter the side 2: \"))\n",
    "num3 = int(input(\"Enter the side 3: \"))\n",
    "\n",
    "#Calling FUnction\n",
    "result = check(num1,num2,num3)\n",
    "\n",
    "#Displaying Result\n",
    "print(f\"given triangle is {result}\")\n",
    "    \n",
    "        "
   ]
  },
  {
   "cell_type": "markdown",
   "id": "d2ca175e-898c-4963-93ee-b3ce08917702",
   "metadata": {},
   "source": [
    "#### 17. Write a Python program to calculate the roots of a quadratic equation."
   ]
  },
  {
   "cell_type": "code",
   "execution_count": 35,
   "id": "260384b3-c69d-4296-b3be-5d7436ad65d4",
   "metadata": {},
   "outputs": [
    {
     "name": "stdin",
     "output_type": "stream",
     "text": [
      "Enter the a:  1\n",
      "Enter the b:  2\n",
      "Enter the c:  5\n"
     ]
    },
    {
     "name": "stdout",
     "output_type": "stream",
     "text": [
      "given triangle is ((-1+2j), (-1-2j))\n"
     ]
    }
   ],
   "source": [
    "import math\n",
    "#Function to calculate roots of quadratic equation\n",
    "def find(a,b,c):\n",
    "    if a == 0:\n",
    "        return \"Wrong input\"\n",
    "    else:\n",
    "        D = (b*b) - (4*a*c)\n",
    "        \n",
    "        if D == 0:\n",
    "            return (-b / (2*a))\n",
    "        elif D> 0:\n",
    "            return ((-b + math.sqrt(D))/(2*a)), ((-b - math.sqrt(D))/(2*a))\n",
    "        else:\n",
    "            return (-b/(2*a)) + ((math.sqrt(abs(D))/(2*a))*1j) , (-b/(2*a)) - ((math.sqrt(abs(D))/(2*a))*1j)\n",
    "                                              \n",
    "#Taking User Input\n",
    "num1 = int(input(\"Enter the a: \"))\n",
    "num2 = int(input(\"Enter the b: \"))\n",
    "num3 = int(input(\"Enter the c: \"))\n",
    "\n",
    "#Calling FUnction\n",
    "result = find(num1,num2,num3)\n",
    "\n",
    "#Displaying Result\n",
    "print(f\"given triangle is {result}\")"
   ]
  },
  {
   "cell_type": "markdown",
   "id": "fe901f75-779d-457f-a79f-f36dec89fb85",
   "metadata": {},
   "source": [
    "#### 18. Implement a program to determine the day of the week based on a user-provided number (1 for Monday, 2 for Tuesday, etc.)."
   ]
  },
  {
   "cell_type": "code",
   "execution_count": 36,
   "id": "8f24220c-320d-4630-9886-279e65219b31",
   "metadata": {},
   "outputs": [
    {
     "name": "stdin",
     "output_type": "stream",
     "text": [
      "Enter the number:  4\n"
     ]
    },
    {
     "name": "stdout",
     "output_type": "stream",
     "text": [
      "4 is Thrusday\n"
     ]
    }
   ],
   "source": [
    "#Function to determine the day of the week based on a user-provided number (1 for Monday, 2 for Tuesday, etc.).\n",
    "def check(day):\n",
    "    if day == 1:\n",
    "        return \"Monday\"\n",
    "    elif day == 2:\n",
    "        return \"Tueday\"\n",
    "    elif day == 3:\n",
    "        return \"Wenesday\"\n",
    "    elif day == 4:\n",
    "        return \"Thrusday\"\n",
    "    elif day == 5:\n",
    "        return \"Friday\"\n",
    "    elif day == 6:\n",
    "        return \"Saturday\"\n",
    "    elif day == 7:\n",
    "        return \"Sunday\"\n",
    "    else:\n",
    "        return \"Wrong Input\"\n",
    "    \n",
    "    \n",
    "#Taking User Input\n",
    "n = int(input(\"Enter the number: \"))\n",
    "\n",
    "#Calling FUnction\n",
    "result = check(n)\n",
    "\n",
    "#Displaying Result\n",
    "print(f\"{n} is {result}\")"
   ]
  },
  {
   "cell_type": "markdown",
   "id": "24652eb9-1a59-4522-b96e-692fdf6bd7b5",
   "metadata": {},
   "source": [
    "#### 20. Develop a program that checks if a given number is prime or not using nested if-else statements."
   ]
  },
  {
   "cell_type": "code",
   "execution_count": 40,
   "id": "cb7e390a-288e-42e5-96c0-126e6b3b9d21",
   "metadata": {},
   "outputs": [
    {
     "name": "stdin",
     "output_type": "stream",
     "text": [
      "Enter the number:  121\n"
     ]
    },
    {
     "name": "stdout",
     "output_type": "stream",
     "text": [
      "121 is Prime\n"
     ]
    }
   ],
   "source": [
    "#Function to checks if a given number is prime or not using nested if-else statements.\n",
    "def check(n):\n",
    "    if n<2:\n",
    "        return True\n",
    "    for i in range(2,int((n**0.5)/2)):\n",
    "        if n%i == 0:\n",
    "            return False\n",
    "    return True\n",
    "\n",
    "#Taking User Input\n",
    "n = int(input(\"Enter the number: \"))\n",
    "\n",
    "#Calling FUnction\n",
    "result = check(n)\n",
    "\n",
    "#Displaying Result\n",
    "if result :\n",
    "    print(f\"{n} is Prime\")\n",
    "else:\n",
    "    print(f\"{n} is not Prime\")\n",
    "\n",
    "\n"
   ]
  },
  {
   "cell_type": "code",
   "execution_count": null,
   "id": "5f222c26-65f3-4232-8e8f-611344bbfa87",
   "metadata": {},
   "outputs": [],
   "source": []
  }
 ],
 "metadata": {
  "kernelspec": {
   "display_name": "Python 3 (ipykernel)",
   "language": "python",
   "name": "python3"
  },
  "language_info": {
   "codemirror_mode": {
    "name": "ipython",
    "version": 3
   },
   "file_extension": ".py",
   "mimetype": "text/x-python",
   "name": "python",
   "nbconvert_exporter": "python",
   "pygments_lexer": "ipython3",
   "version": "3.10.8"
  }
 },
 "nbformat": 4,
 "nbformat_minor": 5
}
