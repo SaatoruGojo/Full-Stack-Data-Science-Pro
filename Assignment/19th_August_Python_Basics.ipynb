{
 "cells": [
  {
   "cell_type": "markdown",
   "id": "699fa97e-da87-4e10-b8cb-256e38905ee9",
   "metadata": {},
   "source": [
    "<h1>TOPIC: Python Basics Variable"
   ]
  },
  {
   "cell_type": "markdown",
   "id": "71dac392-3451-4de1-85db-ce07f6d27c4c",
   "metadata": {},
   "source": [
    "<h5>1. Declare two variables, `x` and `y`, and assign them integer values. Swap the values of these variables without using any temporary variable."
   ]
  },
  {
   "cell_type": "code",
   "execution_count": 2,
   "id": "fd58b36b-4654-48fd-85d9-21fa13ac05b2",
   "metadata": {},
   "outputs": [
    {
     "name": "stdout",
     "output_type": "stream",
     "text": [
      "x =  20\n",
      "y =  10\n"
     ]
    }
   ],
   "source": [
    "#Declare and assign value to x and y\n",
    "x = 10\n",
    "y = 20\n",
    "\n",
    "#Swapping Without Using Temporary variable\n",
    "x = x+y\n",
    "y = x-y\n",
    "x = x-y\n",
    "\n",
    "#Swapped Value of x and y\n",
    "print('x = ',x)\n",
    "print('y = ',y)"
   ]
  },
  {
   "cell_type": "markdown",
   "id": "f257d242-f688-4b2a-a127-ca8a5761e79c",
   "metadata": {},
   "source": [
    " "
   ]
  },
  {
   "cell_type": "markdown",
   "id": "f649a03c-88be-47a0-9aaf-5b17c67e1edd",
   "metadata": {},
   "source": [
    "<h5>2. Create a program that calculates the area of a rectangle. Take the length and width as inputs from the user and store them in variables. Calculate and display the area."
   ]
  },
  {
   "cell_type": "code",
   "execution_count": 6,
   "id": "4115bc1b-53a3-4d1e-8786-7c2a1b866f01",
   "metadata": {},
   "outputs": [
    {
     "name": "stdin",
     "output_type": "stream",
     "text": [
      "Input Length of rectangle :  5\n",
      "Input width of rectangle :  10\n"
     ]
    },
    {
     "name": "stdout",
     "output_type": "stream",
     "text": [
      "Area Of Rectangle :  50.0\n"
     ]
    }
   ],
   "source": [
    "#Getting length and width from user\n",
    "length = float(input('Input Length of rectangle : '))\n",
    "width = float(input('Input width of rectangle : '))\n",
    "\n",
    "#Area Of rectangle\n",
    "area = length * width\n",
    "\n",
    "#Print Area\n",
    "print('Area Of Rectangle : ', area)"
   ]
  },
  {
   "cell_type": "markdown",
   "id": "ab447255-9e81-4bac-8bd4-2d744bc7264e",
   "metadata": {},
   "source": [
    " "
   ]
  },
  {
   "cell_type": "markdown",
   "id": "16322e63-4ba0-4b7a-bab6-c9c439f0a6fd",
   "metadata": {},
   "source": [
    "<h5>3. Write a Python program that converts temperatures from Celsius to Fahrenheit. Take the temperature in Celsius as input, store it in a variable,\n",
    "convert it to Fahrenheit, and display the result."
   ]
  },
  {
   "cell_type": "code",
   "execution_count": 5,
   "id": "731943a1-f18e-48e8-b78a-09022766efbc",
   "metadata": {},
   "outputs": [
    {
     "name": "stdin",
     "output_type": "stream",
     "text": [
      "Input Temprature :  32\n"
     ]
    },
    {
     "name": "stdout",
     "output_type": "stream",
     "text": [
      "Temprature in fahrenheit is :  89.6\n"
     ]
    }
   ],
   "source": [
    "#Converts temperatures from Celsius to Fahrenheit\n",
    "\n",
    "#Input Temprature \n",
    "celsiusTemp = float(input('Input Temprature : '))\n",
    "\n",
    "#Converting celsius to fahrenheit\n",
    "fahrenheitTemp = celsiusTemp * (9/5) + 32\n",
    "\n",
    "#Print Temprature in fahrenheit\n",
    "print('Temprature in fahrenheit is : ',fahrenheitTemp )\n",
    "\n"
   ]
  },
  {
   "cell_type": "markdown",
   "id": "5e03edf0-6cb5-4d6e-b33d-3d7338067698",
   "metadata": {},
   "source": [
    " "
   ]
  },
  {
   "cell_type": "markdown",
   "id": "dad06517-e355-41da-8072-68f043e70ed8",
   "metadata": {},
   "source": [
    "<h1>TOPIC: String Based Questions"
   ]
  },
  {
   "cell_type": "markdown",
   "id": "2edb0e26-04ae-43cb-a5e1-498460ff56a9",
   "metadata": {},
   "source": [
    "<h5>1. Write a Python program that takes a string as input and prints the length of\n",
    "the string."
   ]
  },
  {
   "cell_type": "code",
   "execution_count": 8,
   "id": "ad8bb921-7472-4fdf-b92e-b93a18734128",
   "metadata": {},
   "outputs": [
    {
     "name": "stdin",
     "output_type": "stream",
     "text": [
      "Enter string :  Harsh\n"
     ]
    },
    {
     "name": "stdout",
     "output_type": "stream",
     "text": [
      "Length of \"Harsh\" Input String is: 5\n"
     ]
    }
   ],
   "source": [
    "#Taking Input \n",
    "s = input('Enter string : ')\n",
    "\n",
    "#Calculating Length of String \n",
    "length = len(s)\n",
    "\n",
    "#Print Length of string\n",
    "print(f'Length of \"{s}\" Input String is: {length}')"
   ]
  },
  {
   "cell_type": "markdown",
   "id": "960868d7-920a-4c53-880c-e952811afe8e",
   "metadata": {},
   "source": [
    " "
   ]
  },
  {
   "cell_type": "markdown",
   "id": "1ea92a7d-e535-4679-b9f7-2cf8dad76423",
   "metadata": {},
   "source": [
    "<h5>2. Create a program that takes a sentence from the user and counts the number\n",
    "of vowels (a, e, i, o, u) in the string."
   ]
  },
  {
   "cell_type": "code",
   "execution_count": 17,
   "id": "9e17d69c-dd66-4b47-8c84-8b4bb2263427",
   "metadata": {},
   "outputs": [
    {
     "name": "stdin",
     "output_type": "stream",
     "text": [
      "Enter a sentence:  Harsh Anand\n"
     ]
    },
    {
     "name": "stdout",
     "output_type": "stream",
     "text": [
      "Number of vowels in the sentence: 3\n"
     ]
    }
   ],
   "source": [
    "# Taking input sentence from the user\n",
    "sentence = input('Enter a sentence: ')\n",
    "\n",
    "# Initializing a variable to count vowels\n",
    "vowelCount = 0\n",
    "\n",
    "# List of vowels\n",
    "vowels = 'aeiou'\n",
    "\n",
    "\n",
    "# Counting vowels in the sentence\n",
    "for i in sentence:\n",
    "    if i.lower() in vowels:\n",
    "        vowelCount = vowelCount +1\n",
    "        \n",
    "\n",
    "# Displaying the result        \n",
    "print(f'Number of vowels in the sentence: {vowelCount}')\n"
   ]
  },
  {
   "cell_type": "markdown",
   "id": "1dafdbf6-0d5f-4ba2-88d9-ddad1080e642",
   "metadata": {},
   "source": [
    " "
   ]
  },
  {
   "cell_type": "markdown",
   "id": "d74bbe07-a71d-481c-913e-ad54ba5e30ca",
   "metadata": {},
   "source": [
    "<h5>3. Given a string, reverse the order of characters using string slicing and print\n",
    "the reversed string."
   ]
  },
  {
   "cell_type": "code",
   "execution_count": 21,
   "id": "9b37f1aa-1e59-49f7-a3ab-d5fa62a58632",
   "metadata": {},
   "outputs": [
    {
     "name": "stdout",
     "output_type": "stream",
     "text": [
      "Reversed string: dnanA hsraH\n"
     ]
    }
   ],
   "source": [
    "#Given String\n",
    "givenString = 'Harsh Anand'\n",
    "\n",
    "# Reversing the string using string slicing\n",
    "reversedString = givenString[::-1]\n",
    "\n",
    "# Displaying the reversed string\n",
    "print('Reversed string:', reversedString)\n"
   ]
  },
  {
   "cell_type": "markdown",
   "id": "d003b84a-6251-4b67-9b45-c1be015692f4",
   "metadata": {},
   "source": [
    " "
   ]
  },
  {
   "cell_type": "markdown",
   "id": "c79b646b-3708-46d8-adc0-927e0ee7f403",
   "metadata": {},
   "source": [
    "<h5>4. Write a program that takes a string as input and checks if it is a palindrome\n",
    "(reads the same forwards and backwards)."
   ]
  },
  {
   "cell_type": "code",
   "execution_count": 31,
   "id": "eedbfd53-75b3-4898-a8f0-94c2e4c67597",
   "metadata": {},
   "outputs": [
    {
     "name": "stdin",
     "output_type": "stream",
     "text": [
      "Enter a string:  Nitin nitin\n"
     ]
    },
    {
     "name": "stdout",
     "output_type": "stream",
     "text": [
      "The entered string is a palindrome.\n"
     ]
    }
   ],
   "source": [
    "# Taking input string from the user\n",
    "inputString = input('Enter a string: ')\n",
    "\n",
    "'''\n",
    "    For case-insensitive comparison\n",
    "        1. Removing spaces\n",
    "        2. Converting into Lowercase\n",
    "'''\n",
    "inputString = inputString.replace(\" \", \"\").lower()\n",
    "\n",
    "# Checking if the Input string is equal to its reverse\n",
    "if inputString == inputString[::-1]:\n",
    "    print('The entered string is a palindrome.')\n",
    "else:\n",
    "    print('The entered string is not a palindrome.')"
   ]
  },
  {
   "cell_type": "markdown",
   "id": "c8f9cac6-97a9-4871-9fbb-3ceb468e6800",
   "metadata": {},
   "source": [
    " "
   ]
  },
  {
   "cell_type": "markdown",
   "id": "46074710-c4d5-42d5-9b3f-f328ac0cb181",
   "metadata": {},
   "source": [
    "<h5>5. Create a program that takes a string as input and removes all the spaces from\n",
    "it. Print the modified string without spaces."
   ]
  },
  {
   "cell_type": "code",
   "execution_count": 33,
   "id": "72381ee2-1501-475a-a7e6-32d06fa2c53f",
   "metadata": {},
   "outputs": [
    {
     "name": "stdin",
     "output_type": "stream",
     "text": [
      "Enter a string:  Harsh Anand\n"
     ]
    },
    {
     "name": "stdout",
     "output_type": "stream",
     "text": [
      "Modified string without spaces: HarshAnand\n"
     ]
    }
   ],
   "source": [
    "# Taking input string from the user\n",
    "inputString = input('Enter a string: ')\n",
    "\n",
    "# Removing spaces from the input string\n",
    "modifiedString = inputString.replace(\" \", \"\")\n",
    "\n",
    "# Displaying the modified string without spaces\n",
    "print('Modified string without spaces:', modifiedString)"
   ]
  },
  {
   "cell_type": "code",
   "execution_count": null,
   "id": "db5d3d9a-b2b6-4c2f-ae3a-27fbbf1df1c9",
   "metadata": {},
   "outputs": [],
   "source": []
  }
 ],
 "metadata": {
  "kernelspec": {
   "display_name": "Python 3 (ipykernel)",
   "language": "python",
   "name": "python3"
  },
  "language_info": {
   "codemirror_mode": {
    "name": "ipython",
    "version": 3
   },
   "file_extension": ".py",
   "mimetype": "text/x-python",
   "name": "python",
   "nbconvert_exporter": "python",
   "pygments_lexer": "ipython3",
   "version": "3.10.8"
  }
 },
 "nbformat": 4,
 "nbformat_minor": 5
}
