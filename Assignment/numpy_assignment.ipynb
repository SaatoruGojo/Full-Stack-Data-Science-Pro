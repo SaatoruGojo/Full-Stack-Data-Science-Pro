{
 "cells": [
  {
   "cell_type": "markdown",
   "id": "d88a2a9c-4198-4410-9e7e-3f8d76d77718",
   "metadata": {},
   "source": [
    " What is a Python library? Why do we use Python libraries?"
   ]
  },
  {
   "cell_type": "code",
   "execution_count": null,
   "id": "e1b41224-7756-403a-9bf4-34429f213145",
   "metadata": {},
   "outputs": [],
   "source": [
    "'''\n",
    "A collection of pre-written code modules that provide functionalities to accomplish certain tasks. \n",
    "These libraries contain functions, classes, and methods that can be imported into Python \n",
    "script or program, allowing us to use them to perform various operations without having to write \n",
    "the code from scratch.\n",
    "\n",
    "1. Libraries provide pre-written code that can be reused across multiple projects, \n",
    "    saving time and effort in writing code from scratch.\n",
    "2. Many Python libraries are designed to handle specific tasks or domains, such as data analysis, \n",
    "    machine learning, web development, scientific computing, etc\n",
    "3.  Python libraries are often developed and maintained by a community of contributors, \n",
    "    providing ongoing support, updates, and bug fixes.\n",
    "'''"
   ]
  },
  {
   "cell_type": "markdown",
   "id": "43002750-d1d4-44eb-bbb1-81fde6bf9223",
   "metadata": {},
   "source": [
    "What is the d0ifference between Numpy array and List?"
   ]
  },
  {
   "cell_type": "code",
   "execution_count": null,
   "id": "45723c15-173b-4885-b15c-7d63a7d696f9",
   "metadata": {},
   "outputs": [],
   "source": [
    "'''\n",
    "NumPy arrays and Python lists are both used to store collections of data, but there are several differences between them:\n",
    "\n",
    "Homogeneity:\n",
    "- NumPy arrays are homogeneous, meaning all elements must have the same data type. \n",
    "    This allows for more efficient storage and operations.\n",
    "- Python lists can contain elements of different data types, making them heterogeneous.\n",
    "\n",
    "Memory Efficiency:\n",
    "-NumPy arrays are more memory efficient compared to Python lists, especially for large datasets, \n",
    "    because they store data in a contiguous block of memory.\n",
    "-Python lists are less memory efficient because they store references to objects, which are scattered across memory.\n",
    "\n",
    "Performance:\n",
    "-NumPy arrays offer better performance for numerical operations and computations compared to Python lists, \n",
    "    especially for operations involving large datasets. This is because NumPy arrays are implemented in C and optimized for performance.\n",
    "-Python lists are slower for numerical computations because they are interpreted in Python and involve more overhead.\n",
    "\n",
    "Functionality:\n",
    "- NumPy arrays provide a wide range of mathematical functions and operations optimized for \n",
    "    numerical computing, such as matrix operations, linear algebra, statistical functions, and random number generation.\n",
    "- Python lists offer more general-purpose functionality and are suitable for a wide range of tasks beyond numerical computing.\n",
    "\n",
    "Syntax:\n",
    "- NumPy arrays support vectorized operations, allowing you to perform operations on entire arrays at once without using loops.\n",
    "- Python lists require explicit iteration using loops to perform operations on individual elements.\n",
    "'''"
   ]
  },
  {
   "cell_type": "markdown",
   "id": "0d3bf5e0-04e3-40fc-9029-374bb3ee34ee",
   "metadata": {},
   "source": [
    "Find the shape, size and dimension of the following array?\n",
    "[[1, 2, 3, 4]\n",
    "[5, 6, 7, 8],\n",
    "[9, 10, 11, 12]]"
   ]
  },
  {
   "cell_type": "code",
   "execution_count": 2,
   "id": "ce5d6996-5d0b-48e4-acc2-a11438763b1a",
   "metadata": {},
   "outputs": [
    {
     "name": "stdout",
     "output_type": "stream",
     "text": [
      "Shape: (3, 4)\n",
      "Size: 12\n",
      "Dimension: 2\n"
     ]
    }
   ],
   "source": [
    "import numpy as np\n",
    "\n",
    "arr = np.array([[1, 2, 3, 4], [5, 6, 7, 8], [9, 10, 11, 12]])\n",
    "\n",
    "shape = arr.shape\n",
    "\n",
    "size = arr.size\n",
    "\n",
    "dimension = arr.ndim\n",
    "\n",
    "# Print the results\n",
    "print(\"Shape:\", shape)\n",
    "print(\"Size:\", size)\n",
    "print(\"Dimension:\", dimension)\n"
   ]
  },
  {
   "cell_type": "markdown",
   "id": "5dc19252-a18d-49ac-ac3f-267f2909b0be",
   "metadata": {},
   "source": [
    "4. Write python code to access the first row of the following array?\n",
    "[[1, 2, 3, 4]\n",
    "[5, 6, 7, 8],\n",
    "[9, 10, 11, 12]]"
   ]
  },
  {
   "cell_type": "code",
   "execution_count": 3,
   "id": "9c2f9f26-8363-4fd9-b304-d1bc6795b04d",
   "metadata": {},
   "outputs": [
    {
     "name": "stdout",
     "output_type": "stream",
     "text": [
      "First Row: [1 2 3 4]\n"
     ]
    }
   ],
   "source": [
    "import numpy as np\n",
    "\n",
    "arr = np.array([[1, 2, 3, 4], [5, 6, 7, 8], [9, 10, 11, 12]])\n",
    "first_row = arr[0]\n",
    "print(\"First Row:\", first_row)\n"
   ]
  },
  {
   "cell_type": "markdown",
   "id": "53979da5-4b3a-4505-8d64-87b74f91bfac",
   "metadata": {},
   "source": [
    "5. How do you access the element at the third row and fourth column from the given numpy array?\n",
    "[[1, 2, 3, 4]\n",
    "[5, 6, 7, 8],\n",
    "[9, 10, 11, 12]]"
   ]
  },
  {
   "cell_type": "code",
   "execution_count": 4,
   "id": "d3849a8b-35cd-4421-a5ba-05ab38362603",
   "metadata": {},
   "outputs": [
    {
     "name": "stdout",
     "output_type": "stream",
     "text": [
      "Element at the third row and fourth column: 12\n"
     ]
    }
   ],
   "source": [
    "import numpy as np\n",
    "arr = np.array([[1, 2, 3, 4], [5, 6, 7, 8], [9, 10, 11, 12]])\n",
    "element = arr[2, 3]  \n",
    "\n",
    "print(\"Element at the third row and fourth column:\", element)\n"
   ]
  },
  {
   "cell_type": "markdown",
   "id": "0323e2c6-68e3-4b09-b888-5e44f58dcc5c",
   "metadata": {},
   "source": [
    "6. Write code to extract all odd-indexed elements from the given numpy array?\n",
    "[[1, 2, 3, 4]\n",
    "[5, 6, 7, 8],\n",
    "[9, 10, 11, 12]]"
   ]
  },
  {
   "cell_type": "code",
   "execution_count": 18,
   "id": "219ca161-c625-4de1-8ecb-486d1318b680",
   "metadata": {},
   "outputs": [
    {
     "name": "stdout",
     "output_type": "stream",
     "text": [
      "Odd-indexed elements:\n",
      "[[ 2  4]\n",
      " [ 6  8]\n",
      " [10 12]]\n"
     ]
    }
   ],
   "source": [
    "import numpy as np\n",
    "\n",
    "arr = np.array([[1, 2, 3, 4], [5, 6, 7, 8], [9, 10, 11, 12]])\n",
    "\n",
    "odd_indexed_elements = arr[:, 1::2]\n",
    "print(\"Odd-indexed elements:\")\n",
    "print(odd_indexed_elements)\n"
   ]
  },
  {
   "cell_type": "markdown",
   "id": "d7414538-745f-46d3-8ab4-890a8a560787",
   "metadata": {},
   "source": [
    "7. How can you generate a random 3x3 matrix with values between 0 and 1?"
   ]
  },
  {
   "cell_type": "code",
   "execution_count": 20,
   "id": "3246b00a-a719-4346-86e9-33ab7f4ba3a8",
   "metadata": {},
   "outputs": [
    {
     "name": "stdout",
     "output_type": "stream",
     "text": [
      "Random 3x3 matrix with values between 0 and 1:\n",
      "[[0.19825009 0.78173109 0.1274816 ]\n",
      " [0.4415636  0.35356467 0.63358369]\n",
      " [0.57330404 0.59194798 0.51179029]]\n"
     ]
    }
   ],
   "source": [
    "import numpy as np\n",
    "\n",
    "random_matrix = np.random.rand(3, 3)\n",
    "print(\"Random 3x3 matrix with values between 0 and 1:\")\n",
    "print(random_matrix)\n"
   ]
  },
  {
   "cell_type": "markdown",
   "id": "7b06ae8a-96fd-447b-a907-d28c04e5bc8d",
   "metadata": {},
   "source": [
    "8. Describe the difference between np.random.rand and np.random.randn?"
   ]
  },
  {
   "cell_type": "code",
   "execution_count": null,
   "id": "3feb96f7-9420-46d7-8926-401743ab0fa1",
   "metadata": {},
   "outputs": [],
   "source": [
    "'''\n",
    "- `np.random.rand` generates random numbers from a uniform distribution over the interval [0, 1), \n",
    "    whereas `np.random.randn` generates random numbers from a standard normal distribution.\n",
    "\n",
    "- `np.random.rand` requires shape parameters to define the size of the output array, \n",
    "    while `np.random.randn` can take either individual dimensions or a tuple representing the shape.\n",
    "\n",
    "- `np.random.rand` is suitable when you need random numbers uniformly distributed between 0 and 1, \n",
    "    while `np.random.randn` is useful for generating random numbers following a standard normal distribution.\n",
    "'''"
   ]
  },
  {
   "cell_type": "markdown",
   "id": "fbeb9e58-3e66-417b-ad66-b216b11965ed",
   "metadata": {},
   "source": [
    "9. Write code to increase the dimension of the following array?\n",
    "[[1, 2, 3, 4]\n",
    "[5, 6, 7, 8],\n",
    "[9, 10, 11, 12]]"
   ]
  },
  {
   "cell_type": "code",
   "execution_count": 10,
   "id": "cfb55c3a-2973-4ef9-a041-085ae0575ee0",
   "metadata": {},
   "outputs": [
    {
     "name": "stdout",
     "output_type": "stream",
     "text": [
      "Original array:\n",
      "[[ 1  2  3  4]\n",
      " [ 5  6  7  8]\n",
      " [ 9 10 11 12]]\n",
      "\n",
      "Array with increased dimension:\n",
      "[[[ 1]\n",
      "  [ 2]\n",
      "  [ 3]\n",
      "  [ 4]]\n",
      "\n",
      " [[ 5]\n",
      "  [ 6]\n",
      "  [ 7]\n",
      "  [ 8]]\n",
      "\n",
      " [[ 9]\n",
      "  [10]\n",
      "  [11]\n",
      "  [12]]]\n"
     ]
    }
   ],
   "source": [
    "import numpy as np\n",
    "\n",
    "arr = np.array([[1, 2, 3, 4], [5, 6, 7, 8], [9, 10, 11, 12]])\n",
    "#new_arr = arr[:, :, np.newaxis]\n",
    "new_arr = np.expand_dims(arr, axis=2)\n",
    "\n",
    "print(\"Original array:\")\n",
    "print(arr)\n",
    "print(\"\\nArray with increased dimension:\")\n",
    "print(new_arr)\n"
   ]
  },
  {
   "cell_type": "markdown",
   "id": "cf443dbc-54ed-436d-949c-d852b2e7b01c",
   "metadata": {},
   "source": [
    "10. How to transpose the following array in NumPy?\n",
    "[[1, 2, 3, 4]\n",
    "[5, 6, 7, 8],\n",
    "[9, 10, 11, 12]]"
   ]
  },
  {
   "cell_type": "code",
   "execution_count": 12,
   "id": "8513161c-e8dd-4aae-914a-f83c3cf8f2dc",
   "metadata": {},
   "outputs": [
    {
     "name": "stdout",
     "output_type": "stream",
     "text": [
      "Original array:\n",
      "[[ 1  2  3  4]\n",
      " [ 5  6  7  8]\n",
      " [ 9 10 11 12]]\n",
      "\n",
      "Transposed array:\n",
      "[[ 1  5  9]\n",
      " [ 2  6 10]\n",
      " [ 3  7 11]\n",
      " [ 4  8 12]]\n"
     ]
    }
   ],
   "source": [
    "import numpy as np\n",
    "\n",
    "arr = np.array([[1, 2, 3, 4], [5, 6, 7, 8], [9, 10, 11, 12]])\n",
    "transposed_arr = np.transpose(arr)\n",
    "print(\"Original array:\")\n",
    "print(arr)\n",
    "print(\"\\nTransposed array:\")\n",
    "print(transposed_arr)\n"
   ]
  },
  {
   "cell_type": "markdown",
   "id": "93fc2bf4-412b-41d4-9800-b0241b580a1f",
   "metadata": {},
   "source": [
    "11. Consi^er the following matrix:\n",
    "Matrix A2 [[1, 2, 3, 4] [5, 6, 7, 8],[9, 10, 11, 12]]\n",
    "Matrix B2 [[1, 2, 3, 4] [5, 6, 7, 8],[9, 10, 11, 12]]\n",
    "\n",
    "Perform the following operation using Python:\n",
    "1. Index wise multiplication\n",
    "2. Matrix multiplication\n",
    "3. Add both the matrics\n",
    "4. Subtract matrix B from A\n",
    "5. Divide Matrix B by A"
   ]
  },
  {
   "cell_type": "code",
   "execution_count": 13,
   "id": "dd5977f1-90fc-433a-9241-0503f4182910",
   "metadata": {},
   "outputs": [
    {
     "name": "stdout",
     "output_type": "stream",
     "text": [
      "1. Index wise multiplication:\n",
      "[[  1   4   9  16]\n",
      " [ 25  36  49  64]\n",
      " [ 81 100 121 144]]\n",
      "\n",
      "2. Matrix multiplication:\n",
      "[[ 30  70 110]\n",
      " [ 70 174 278]\n",
      " [110 278 446]]\n",
      "\n",
      "3. Matrix addition:\n",
      "[[ 2  4  6  8]\n",
      " [10 12 14 16]\n",
      " [18 20 22 24]]\n",
      "\n",
      "4. Matrix subtraction:\n",
      "[[0 0 0 0]\n",
      " [0 0 0 0]\n",
      " [0 0 0 0]]\n",
      "\n",
      "5. Matrix division:\n",
      "[[1. 1. 1. 1.]\n",
      " [1. 1. 1. 1.]\n",
      " [1. 1. 1. 1.]]\n"
     ]
    }
   ],
   "source": [
    "import numpy as np\n",
    "\n",
    "A2 = np.array([[1, 2, 3, 4], [5, 6, 7, 8], [9, 10, 11, 12]])\n",
    "B2 = np.array([[1, 2, 3, 4], [5, 6, 7, 8], [9, 10, 11, 12]])\n",
    "\n",
    "# 1. Index wise multiplication\n",
    "index_wise_multiplication = A2 * B2\n",
    "\n",
    "# 2. Matrix multiplication\n",
    "matrix_multiplication = np.dot(A2, B2.T)  # Assuming you want to perform matrix multiplication and transpose B2\n",
    "\n",
    "# 3. Add both the matrices\n",
    "matrix_addition = A2 + B2\n",
    "\n",
    "# 4. Subtract matrix B from A\n",
    "matrix_subtraction = A2 - B2\n",
    "\n",
    "# 5. Divide Matrix B by A\n",
    "matrix_division = np.divide(B2, A2)\n",
    "\n",
    "# Print the results\n",
    "print(\"1. Index wise multiplication:\")\n",
    "print(index_wise_multiplication)\n",
    "print(\"\\n2. Matrix multiplication:\")\n",
    "print(matrix_multiplication)\n",
    "print(\"\\n3. Matrix addition:\")\n",
    "print(matrix_addition)\n",
    "print(\"\\n4. Matrix subtraction:\")\n",
    "print(matrix_subtraction)\n",
    "print(\"\\n5. Matrix division:\")\n",
    "print(matrix_division)\n"
   ]
  },
  {
   "cell_type": "markdown",
   "id": "79e6154f-1281-4319-8d9a-6985fa370c9f",
   "metadata": {},
   "source": [
    "12. Which function in Numpy can be used to swap the byte order of an array?"
   ]
  },
  {
   "cell_type": "code",
   "execution_count": null,
   "id": "0582d836-e93f-4ce9-8184-0c4806794743",
   "metadata": {},
   "outputs": [],
   "source": [
    "numpy.ndarray.byteswap()"
   ]
  },
  {
   "cell_type": "markdown",
   "id": "c04e8b6b-8eee-4208-a68e-27b81da65d68",
   "metadata": {},
   "source": [
    "13. What is the significance of the p.linalg.inv function?"
   ]
  },
  {
   "cell_type": "code",
   "execution_count": null,
   "id": "c57827e3-c82e-4595-99dd-3af03db155a8",
   "metadata": {},
   "outputs": [],
   "source": [
    "'''\n",
    "The significance of the numpy.linalg.inv function is that it computes the multiplicative inverse of a matrix. \n",
    "In linear algebra, the multiplicative inverse (or matrix inverse) of a square matrix A is another matrix A^-1, \n",
    "such that the product of A and A^-1 equals the identity matrix. This function is particularly useful in solving \n",
    "systems of linear equations and in various matrix operations.\n",
    "'''"
   ]
  },
  {
   "cell_type": "markdown",
   "id": "df02eb9c-27e7-49f2-ac8a-b5ad155de47c",
   "metadata": {},
   "source": [
    "14. What does the p.reshape function do, and how is it used?"
   ]
  },
  {
   "cell_type": "code",
   "execution_count": 17,
   "id": "a77ec105-7d93-4712-bd33-ed651657ee70",
   "metadata": {},
   "outputs": [
    {
     "name": "stdout",
     "output_type": "stream",
     "text": [
      "Original array:\n",
      "[[1 2 3]\n",
      " [4 5 6]]\n",
      "\n",
      "Reshaped array:\n",
      "[[1 2]\n",
      " [3 4]\n",
      " [5 6]]\n"
     ]
    }
   ],
   "source": [
    "''' \n",
    "The numpy.reshape function is used to change the shape of an array without changing its data. \n",
    "It returns a new array with the specified shape. The function takes the new shape as input and \n",
    "rearranges the elements of the input array to fit the new shape. If the total number of elements \n",
    "in the new shape is not equal to the total number of elements in the original array, a ValueError is raised. \n",
    "Here's an example of how it's used:'''\n",
    "import numpy as np\n",
    "\n",
    "arr = np.array([[1, 2, 3], [4, 5, 6]])\n",
    "\n",
    "\n",
    "reshaped_arr = np.reshape(arr, (3, 2))\n",
    "\n",
    "print(\"Original array:\")\n",
    "print(arr)\n",
    "\n",
    "print(\"\\nReshaped array:\")\n",
    "print(reshaped_arr)"
   ]
  },
  {
   "cell_type": "markdown",
   "id": "8a2a642d-38fc-458c-948f-59b545245c3e",
   "metadata": {},
   "source": [
    "15. What is broadcasting in Numpy?"
   ]
  },
  {
   "cell_type": "code",
   "execution_count": null,
   "id": "202670ad-190c-4a45-b44b-4b476b9f3bd3",
   "metadata": {},
   "outputs": [],
   "source": [
    "'''\n",
    "Broadcasting in NumPy is a powerful mechanism that allows arithmetic operations to be \n",
    "performed between arrays of different shapes, without explicitly reshaping the arrays. \n",
    "\n",
    "When performing operations involving arrays with different shapes, NumPy automatically \n",
    "broadcasts the arrays to make their shapes compatible. Broadcasting involves two steps:\n",
    "\n",
    "a. Alignment: The dimensions of the arrays are aligned to make them compatible for \n",
    "element-wise operations. If the arrays have different numbers of dimensions, \n",
    "the smaller array is padded with ones on its left side.\n",
    "\n",
    "b. Element-wise operation: After alignment, the operation is performed element-wise on the broadcasted arrays.\n",
    "\n",
    "Broadcasting simplifies the syntax and improves the efficiency of array operations in NumPy, allowing for concise and efficient code.\n",
    "'''"
   ]
  }
 ],
 "metadata": {
  "kernelspec": {
   "display_name": "Python 3 (ipykernel)",
   "language": "python",
   "name": "python3"
  },
  "language_info": {
   "codemirror_mode": {
    "name": "ipython",
    "version": 3
   },
   "file_extension": ".py",
   "mimetype": "text/x-python",
   "name": "python",
   "nbconvert_exporter": "python",
   "pygments_lexer": "ipython3",
   "version": "3.10.8"
  }
 },
 "nbformat": 4,
 "nbformat_minor": 5
}
