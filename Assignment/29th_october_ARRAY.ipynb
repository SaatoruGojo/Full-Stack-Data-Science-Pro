{
 "cells": [
  {
   "cell_type": "markdown",
   "id": "38b3d3b2-e2b2-4124-affa-d31593c45bc5",
   "metadata": {},
   "source": [
    "#### 1. Given an array, check if it contains any duplicates or not."
   ]
  },
  {
   "cell_type": "code",
   "execution_count": 2,
   "id": "0c81cb7c-0079-4ebe-a1e3-17c32ffb1c31",
   "metadata": {},
   "outputs": [
    {
     "name": "stdout",
     "output_type": "stream",
     "text": [
      "True\n"
     ]
    }
   ],
   "source": [
    "def check(arr):\n",
    "    return len(arr) != len(set(arr))\n",
    "    \n",
    "arr = [1, 2, 4, 2, 5, 9]\n",
    "print(check(arr))\n"
   ]
  },
  {
   "cell_type": "markdown",
   "id": "c566f5d0-c884-4705-adaa-ec3b262eccb0",
   "metadata": {},
   "source": [
    "#### 2. Given an array and an integer k, rotate the array to the right by k steps."
   ]
  },
  {
   "cell_type": "code",
   "execution_count": 5,
   "id": "dd09d470-d8fa-4bdd-a27d-836cbe003d7b",
   "metadata": {},
   "outputs": [
    {
     "name": "stdout",
     "output_type": "stream",
     "text": [
      "[5, 6, 7, 1, 2, 3, 4]\n"
     ]
    }
   ],
   "source": [
    "def rotate(arr,k):\n",
    "    k = k%len(arr)\n",
    "    arr = arr[-k: ] + arr[: -k]\n",
    "    return arr\n",
    "\n",
    "arr = [1, 2, 3, 4, 5, 6, 7] \n",
    "k = 3\n",
    "print(rotate(arr,3))"
   ]
  },
  {
   "cell_type": "markdown",
   "id": "de9f590e-0bc9-4e61-b70f-e9f76306ea54",
   "metadata": {},
   "source": [
    "#### 3. Reverse the given array in-place, means without using any extra data structure. "
   ]
  },
  {
   "cell_type": "code",
   "execution_count": 7,
   "id": "98d81658-43c7-428c-acef-db6ec974d149",
   "metadata": {},
   "outputs": [
    {
     "name": "stdout",
     "output_type": "stream",
     "text": [
      "[12, 9, 7, 5, 4, 2]\n"
     ]
    }
   ],
   "source": [
    "def find(a):\n",
    "    start = 0\n",
    "    end = len(arr)-1\n",
    "    while start<=end:\n",
    "        a[start],a[end] = a[end],a[start]\n",
    "        start += 1\n",
    "        end -= 1\n",
    "\n",
    "\n",
    "arr = [2, 4, 5, 7, 9, 12] \n",
    "find(arr)\n",
    "print(arr)"
   ]
  },
  {
   "cell_type": "markdown",
   "id": "67721c40-5ea9-42fc-91c4-854552d48cb2",
   "metadata": {},
   "source": [
    "#### 4. Given an array of integers, find the maximum element in an array"
   ]
  },
  {
   "cell_type": "code",
   "execution_count": 19,
   "id": "a92902a5-2254-40ff-88c2-e16f24d90389",
   "metadata": {},
   "outputs": [
    {
     "name": "stdout",
     "output_type": "stream",
     "text": [
      "20\n"
     ]
    }
   ],
   "source": [
    "def find(a):\n",
    "    max1 = 0\n",
    "    for i in a:\n",
    "        if i > max1:\n",
    "            max1 = i\n",
    "    return max1\n",
    "\n",
    "arr = [10, 5, 20, 8, 15]\n",
    "print(find(arr))"
   ]
  },
  {
   "cell_type": "markdown",
   "id": "b846b5f7-8fe9-49eb-a86f-fac6640e47a0",
   "metadata": {},
   "source": [
    "#### 5. Given a sorted array, remove the duplicate element without using any extra data structure. "
   ]
  },
  {
   "cell_type": "code",
   "execution_count": 24,
   "id": "87f9271b-31b0-495e-a78a-b37a98c18d32",
   "metadata": {},
   "outputs": [
    {
     "name": "stdout",
     "output_type": "stream",
     "text": [
      "Array after removing duplicates: [1, 2, 3, 4, 5]\n"
     ]
    }
   ],
   "source": [
    "def remove_duplicates(arr):\n",
    "    if not arr:\n",
    "        return \n",
    "\n",
    "    index = 0  \n",
    "\n",
    "    for i in range(1, len(arr)):\n",
    "        if arr[i] != arr[index]:\n",
    "            index += 1\n",
    "            arr[index] = arr[i]\n",
    "\n",
    "    del arr[index + 1:]  \n",
    "\n",
    "arr = [1, 1, 2, 2, 2, 3, 3, 4, 4, 4, 5, 5]\n",
    "remove_duplicates(arr)\n",
    "print(\"Array after removing duplicates:\", arr)\n"
   ]
  },
  {
   "cell_type": "code",
   "execution_count": null,
   "id": "e638a6c7-3e5b-457b-abda-2484556e316b",
   "metadata": {},
   "outputs": [],
   "source": []
  }
 ],
 "metadata": {
  "kernelspec": {
   "display_name": "Python 3 (ipykernel)",
   "language": "python",
   "name": "python3"
  },
  "language_info": {
   "codemirror_mode": {
    "name": "ipython",
    "version": 3
   },
   "file_extension": ".py",
   "mimetype": "text/x-python",
   "name": "python",
   "nbconvert_exporter": "python",
   "pygments_lexer": "ipython3",
   "version": "3.10.8"
  }
 },
 "nbformat": 4,
 "nbformat_minor": 5
}
