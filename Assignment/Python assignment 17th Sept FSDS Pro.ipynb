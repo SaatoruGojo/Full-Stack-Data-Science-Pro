{
 "cells": [
  {
   "cell_type": "markdown",
   "id": "9871c6cf-6e84-4645-9245-eed932bd0538",
   "metadata": {},
   "source": [
    "# For Loop"
   ]
  },
  {
   "cell_type": "markdown",
   "id": "6d20a8f8-2a22-476c-bbd2-701d4949c3b9",
   "metadata": {},
   "source": [
    "#### 1. Write a Python program to print numbers from 1 to 10 using a for loop."
   ]
  },
  {
   "cell_type": "code",
   "execution_count": 30,
   "id": "a2d31782-1364-4b03-b78a-f87b32a1e353",
   "metadata": {},
   "outputs": [
    {
     "name": "stdout",
     "output_type": "stream",
     "text": [
      "1 2 3 4 5 6 7 8 9 10 "
     ]
    }
   ],
   "source": [
    "# Print numbers from 1 to 10 using a for loop\n",
    "for i in range(1, 11):\n",
    "    print(i, end=' ')\n"
   ]
  },
  {
   "cell_type": "markdown",
   "id": "175dffb4-9d00-4244-bbef-3947578b8bd0",
   "metadata": {},
   "source": [
    "#### 2. Explain the difference between a for loop and a while loop in Python."
   ]
  },
  {
   "cell_type": "markdown",
   "id": "c9f55515-4159-4b4d-8cc9-8f36f790ef33",
   "metadata": {},
   "source": [
    " ###### For Loop \n",
    "> A loop which is used when the number of iterations is predetermined or when iterating over a sequence or other iterable object is required.\n",
    "\n",
    "##### while loop \n",
    "> A loop which used when the number of iterations is not known beforehand, and the loop should continue executing as long as a specific condition holds true. "
   ]
  },
  {
   "cell_type": "markdown",
   "id": "f1c6573a-36fa-4dda-b7ec-f20b1386bd5d",
   "metadata": {},
   "source": [
    "#### 3. Write a Python program to calculate the sum of all numbers from 1 to 100 using a for loop."
   ]
  },
  {
   "cell_type": "code",
   "execution_count": 31,
   "id": "20e48785-a614-44bb-9320-9b772f151233",
   "metadata": {},
   "outputs": [
    {
     "name": "stdout",
     "output_type": "stream",
     "text": [
      "Sum: 5050\n"
     ]
    }
   ],
   "source": [
    "# Calculate the sum of numbers from 1 to 100 using a for loop\n",
    "sumNum = 0\n",
    "for i in range(1, 101):\n",
    "    sumNum = sumNum + i\n",
    "    \n",
    "print(\"Sum:\", sumNum)\n"
   ]
  },
  {
   "cell_type": "markdown",
   "id": "a7d82322-e311-4467-b88d-9c796e5c4a58",
   "metadata": {},
   "source": [
    "#### 4. How do you iterate through a list using a for loop in Python?"
   ]
  },
  {
   "cell_type": "code",
   "execution_count": 32,
   "id": "736dcaa3-c650-43c4-825a-1ed8b25880a0",
   "metadata": {},
   "outputs": [
    {
     "name": "stdout",
     "output_type": "stream",
     "text": [
      "1 2 3 4 "
     ]
    }
   ],
   "source": [
    "# Iterate through a list using a for loop in Python\n",
    "lst = [1, 2, 3, 4]\n",
    "for i in lst:\n",
    "    print(i, end=' ')\n"
   ]
  },
  {
   "cell_type": "markdown",
   "id": "a709537a-71ef-44a3-b028-fa4ba686b4cf",
   "metadata": {},
   "source": [
    "#### 5. Write a Python program to find the product of all elements in a list using a for loop."
   ]
  },
  {
   "cell_type": "code",
   "execution_count": 33,
   "id": "5fa29979-c62a-4e59-8770-91ea33604f7d",
   "metadata": {},
   "outputs": [
    {
     "name": "stdout",
     "output_type": "stream",
     "text": [
      "Product: 120\n"
     ]
    }
   ],
   "source": [
    "# Find the product of all elements in a list using a for loop\n",
    "def product_of_elements(lst):\n",
    "    product = 1\n",
    "    for i in lst:\n",
    "        product = product * i\n",
    "    return product\n",
    "\n",
    "lst = [1, 2, 3, 4, 5]\n",
    "\n",
    "result = product_of_elements(lst)\n",
    "\n",
    "print(\"Product:\", result)\n"
   ]
  },
  {
   "cell_type": "markdown",
   "id": "8ed766e6-e3ac-44cb-8036-75410d4f1cd5",
   "metadata": {},
   "source": [
    "#### 6. Create a Python program that prints all even numbers from 1 to 20 using a for loop."
   ]
  },
  {
   "cell_type": "code",
   "execution_count": 34,
   "id": "fb5ba4a3-0cb0-4dc8-9d15-0ff1c0dac03c",
   "metadata": {},
   "outputs": [
    {
     "name": "stdout",
     "output_type": "stream",
     "text": [
      "2 4 6 8 10 12 14 16 18 20 "
     ]
    }
   ],
   "source": [
    "# Print all even numbers from 1 to 20 using a for loop\n",
    "for i in range(1, 21):\n",
    "    if i % 2 == 0:\n",
    "        print(i, end=' ')\n"
   ]
  },
  {
   "cell_type": "markdown",
   "id": "d8d88ecd-11d4-453e-8d55-1e071bbe1db1",
   "metadata": {},
   "source": [
    "#### 7. Write a Python program that calculates the factorial of a number using a for loop."
   ]
  },
  {
   "cell_type": "code",
   "execution_count": 35,
   "id": "a9d07693-916f-435a-9929-4b5b3d808d7c",
   "metadata": {},
   "outputs": [
    {
     "name": "stdin",
     "output_type": "stream",
     "text": [
      "Enter the number:  10\n"
     ]
    },
    {
     "name": "stdout",
     "output_type": "stream",
     "text": [
      "Factorial: 3628800\n"
     ]
    }
   ],
   "source": [
    "# Calculate the factorial of a number using a for loop\n",
    "def factorial(n):\n",
    "    result = 1\n",
    "    for i in range(1, n + 1):\n",
    "        result = result * i\n",
    "    return result\n",
    "\n",
    "# User input\n",
    "number = int(input(\"Enter the number: \"))\n",
    "\n",
    "# Print the factorial\n",
    "print(\"Factorial:\", factorial(number))\n"
   ]
  },
  {
   "cell_type": "markdown",
   "id": "febe95db-0ade-44c5-a1be-01345361c5b6",
   "metadata": {},
   "source": [
    "#### 8. How can you iterate through the characters of a string using a for loop in Python?"
   ]
  },
  {
   "cell_type": "code",
   "execution_count": 36,
   "id": "c21b1eac-61e8-444f-9922-72f1358cf7df",
   "metadata": {},
   "outputs": [
    {
     "name": "stdout",
     "output_type": "stream",
     "text": [
      "F u l l   S t a c k   D a t a   S C I e n c e "
     ]
    }
   ],
   "source": [
    "# Iterate through the characters of a string using a for loop in Python\n",
    "s = \"Full Stack Data SCIence\"\n",
    "for char in s:\n",
    "    print(char, end=' ')\n"
   ]
  },
  {
   "cell_type": "markdown",
   "id": "32e1d99b-683f-4781-8d67-fca6c921b228",
   "metadata": {},
   "source": [
    "#### 9. Write a Python program to find the largest number in a list using a for loop."
   ]
  },
  {
   "cell_type": "code",
   "execution_count": 38,
   "id": "d5696139-9764-4185-b67f-8ac11c29fb29",
   "metadata": {},
   "outputs": [
    {
     "name": "stdout",
     "output_type": "stream",
     "text": [
      "Largest Number: 5\n"
     ]
    }
   ],
   "source": [
    "# Find the largest number in a list using a for loop\n",
    "def find(lst):\n",
    "    maxNum = 0\n",
    "    for i in lst:\n",
    "        if i > maxNum:\n",
    "            maxNum = i\n",
    "    return maxNum\n",
    "\n",
    "lst = [1, 2, 3, 4, 5]\n",
    "\n",
    "result = find(lst)\n",
    "\n",
    "print(\"Largest Number:\", result)\n"
   ]
  },
  {
   "cell_type": "markdown",
   "id": "be882263-4304-4d74-b405-e8bbbe0b8ce5",
   "metadata": {},
   "source": [
    "#### 10. Create a Python program that prints the Fibonacci sequence up to a specified limit using a for loop."
   ]
  },
  {
   "cell_type": "code",
   "execution_count": 39,
   "id": "bc4e8a39-350e-4718-a141-614980269f08",
   "metadata": {},
   "outputs": [
    {
     "name": "stdin",
     "output_type": "stream",
     "text": [
      "Enter the limit for the Fibonacci sequence:  5\n"
     ]
    },
    {
     "name": "stdout",
     "output_type": "stream",
     "text": [
      "Fibonacci Sequence: [1, 1, 2, 3, 5]\n"
     ]
    }
   ],
   "source": [
    "# Generate Fibonacci sequence up to a specified limit using a for loop\n",
    "def fibo(n):\n",
    "    a, b = 1, 1\n",
    "    temp = [1, 1]\n",
    "    for i in range(2, n):\n",
    "        c = a + b\n",
    "        a, b = b, c\n",
    "        temp.append(c)\n",
    "    return temp\n",
    "\n",
    "# Get user input for the limit\n",
    "user_limit = int(input(\"Enter the limit for the Fibonacci sequence: \"))\n",
    "\n",
    "# Calculate and display the Fibonacci sequence\n",
    "sequence_result = fibo(user_limit)\n",
    "print(\"Fibonacci Sequence:\", sequence_result)\n"
   ]
  },
  {
   "cell_type": "markdown",
   "id": "fee3280a-11de-4e4e-84ff-25fa25c3bc75",
   "metadata": {},
   "source": [
    "#### 11. Write a Python program to count the number of vowels in a given string using a for loop."
   ]
  },
  {
   "cell_type": "code",
   "execution_count": 42,
   "id": "7e4293ee-4d21-402a-8ebf-c274f98a925b",
   "metadata": {},
   "outputs": [
    {
     "name": "stdin",
     "output_type": "stream",
     "text": [
      "Enter a string:  Full stack data science\n"
     ]
    },
    {
     "name": "stdout",
     "output_type": "stream",
     "text": [
      "Number of vowels: 7\n"
     ]
    }
   ],
   "source": [
    "# Count vowels in a string using a for loop\n",
    "def count(s):\n",
    "    count = 0  # Initialize vowel count\n",
    "    vowel = 'aeiouAEIOU'  # Define vowels\n",
    "    for i in s:  # Iterate through each character in the string\n",
    "        if i in vowel:  # Check if the character is a vowel\n",
    "            count += 1  # Increment vowel count\n",
    "    return count\n",
    "\n",
    "user_input = input(\"Enter a string: \")  # Prompt user for input\n",
    "result = count(user_input)\n",
    "print(\"Number of vowels:\", result)  # Display the count of vowels\n"
   ]
  },
  {
   "cell_type": "markdown",
   "id": "38ca6344-d2f6-4e18-a120-a6c6dd1ade27",
   "metadata": {},
   "source": [
    "#### 12. Create a Python program that generates a multiplication table for a given number using a for loop."
   ]
  },
  {
   "cell_type": "code",
   "execution_count": 41,
   "id": "9ec3cff0-7d51-40ff-8149-542e4fe99ca8",
   "metadata": {},
   "outputs": [
    {
     "name": "stdin",
     "output_type": "stream",
     "text": [
      "Enter a number to generate its multiplication table:  4\n"
     ]
    },
    {
     "name": "stdout",
     "output_type": "stream",
     "text": [
      "4 * 1 = 4\n",
      "4 * 2 = 8\n",
      "4 * 3 = 12\n",
      "4 * 4 = 16\n",
      "4 * 5 = 20\n",
      "4 * 6 = 24\n",
      "4 * 7 = 28\n",
      "4 * 8 = 32\n",
      "4 * 9 = 36\n",
      "4 * 10 = 40\n"
     ]
    }
   ],
   "source": [
    "# Generate multiplication table for a given number using a for loop.\n",
    "def gen(n):\n",
    "    for i in range(1, 11):\n",
    "         print(f\"{n} * {i} = {n*i}\")\n",
    "\n",
    "user_input = int(input(\"Enter a number to generate its multiplication table: \"))\n",
    "gen(user_input)\n"
   ]
  },
  {
   "cell_type": "markdown",
   "id": "7499a30a-bde5-41cb-b553-0cdcf4dfdbe7",
   "metadata": {},
   "source": [
    "#### 13. Write a Python program to reverse a list using a for loop."
   ]
  },
  {
   "cell_type": "code",
   "execution_count": 44,
   "id": "f7238ef9-7ca4-47df-96e3-1d6d18a4497b",
   "metadata": {},
   "outputs": [
    {
     "name": "stdout",
     "output_type": "stream",
     "text": [
      "Reversed List: [5, 4, 3, 2, 1]\n"
     ]
    }
   ],
   "source": [
    "# Reverse a list using a for loop\n",
    "def rev(lst):\n",
    "    temp = []\n",
    "    for i in range(len(lst) - 1, -1, -1):\n",
    "        temp.append(lst[i])\n",
    "    return temp\n",
    "\n",
    "lst = [1, 2, 3, 4, 5]\n",
    "result = rev(lst)\n",
    "print(\"Reversed List:\", result)\n"
   ]
  },
  {
   "cell_type": "markdown",
   "id": "5434dd36-27ea-4e2e-8de4-efc00786304e",
   "metadata": {},
   "source": [
    "#### 14. Write a Python program to find the common elements between two lists using a for loop."
   ]
  },
  {
   "cell_type": "code",
   "execution_count": 46,
   "id": "7a81d948-71dd-406d-9903-9c80cec8e54e",
   "metadata": {},
   "outputs": [
    {
     "name": "stdout",
     "output_type": "stream",
     "text": [
      "3 4 5 "
     ]
    }
   ],
   "source": [
    "# Find common elements between two lists using a for loop\n",
    "def fin(l1,l2):\n",
    "    for i in l1:\n",
    "        if i in l2:\n",
    "            print(i,end= ' ')\n",
    "\n",
    "l1 = [1,2,3,4,5]\n",
    "l2 = [3,4,5,6,7]\n",
    "fin(l1,l2)"
   ]
  },
  {
   "cell_type": "markdown",
   "id": "5f7e13dd-dfb4-4c9a-b7ae-63a4cd10fc6c",
   "metadata": {},
   "source": [
    "#### 15. Explain how to use a for loop to iterate through the keys and values of a dictionary in Python."
   ]
  },
  {
   "cell_type": "code",
   "execution_count": 45,
   "id": "7c890788-7054-452d-812f-966404aaa0c1",
   "metadata": {},
   "outputs": [
    {
     "name": "stdout",
     "output_type": "stream",
     "text": [
      "Key: roll | Value: 1\n",
      "Key: name | Value: rohan\n",
      "Key: course | Value: Data Science\n"
     ]
    }
   ],
   "source": [
    "# Iterate through keys and values of a dictionary using a for loop\n",
    "myDict = {'roll': 1, 'name': 'rohan', 'course': 'Data Science'}\n",
    "\n",
    "# Display keys and values using a for loop\n",
    "for key, value in myDict.items():\n",
    "    print(\"Key:\", key, \"| Value:\", value)\n"
   ]
  },
  {
   "cell_type": "markdown",
   "id": "4940f6f6-8680-4c55-a3bf-1ec2c1ebdbd3",
   "metadata": {},
   "source": [
    "#### 16. Write a Python program to find the GCD (Greatest Common Divisor) of two numbers using a for loop."
   ]
  },
  {
   "cell_type": "code",
   "execution_count": 46,
   "id": "9d5d1763-734e-4876-a5a3-76d457e6284c",
   "metadata": {},
   "outputs": [
    {
     "name": "stdin",
     "output_type": "stream",
     "text": [
      "Enter the first number:  24\n",
      "Enter the second number:  80\n"
     ]
    },
    {
     "name": "stdout",
     "output_type": "stream",
     "text": [
      "The greatest common divisor is: 8\n"
     ]
    }
   ],
   "source": [
    "# Find the Greatest Common Divisor (GCD) of two numbers using a for loop\n",
    "def find(a, b):\n",
    "    if a > b:\n",
    "        smaller = b\n",
    "    else:\n",
    "        smaller = a\n",
    "\n",
    "    for i in range(1, smaller + 1):\n",
    "        if a % i == 0 and b % i == 0:\n",
    "            gcd = i\n",
    "    return gcd\n",
    "\n",
    "# Get user input for the two numbers\n",
    "num1 = int(input(\"Enter the first number: \"))\n",
    "num2 = int(input(\"Enter the second number: \"))\n",
    "\n",
    "\n",
    "# Calculate and display the GCD\n",
    "result = find(num1, num2)\n",
    "print(f\"The greatest common divisor is: {result}\")\n"
   ]
  },
  {
   "cell_type": "markdown",
   "id": "0e10217c-4436-4a79-ba18-809c772d4675",
   "metadata": {},
   "source": [
    "#### 17. Create a Python program that checks if a string is a palindrome using a for loop."
   ]
  },
  {
   "cell_type": "code",
   "execution_count": 47,
   "id": "9e51ee3d-18a6-488c-94c9-cd01ad84cb56",
   "metadata": {},
   "outputs": [
    {
     "name": "stdin",
     "output_type": "stream",
     "text": [
      "Enter a string:  Nitin\n"
     ]
    },
    {
     "name": "stdout",
     "output_type": "stream",
     "text": [
      "The string is a palindrome.\n"
     ]
    }
   ],
   "source": [
    "# Check if a string is a palindrome using a for loop\n",
    "def check(s):\n",
    "    s = s.lower()\n",
    "    for i in range(len(s)//2):\n",
    "        if s[i] != s[len(s) - i - 1]:\n",
    "            return False\n",
    "    return True\n",
    "\n",
    "s = input(\"Enter a string: \")\n",
    "result = check(s)\n",
    "\n",
    "if result:\n",
    "    print(\"The string is a palindrome.\")\n",
    "else:\n",
    "    print(\"The string is not a palindrome.\")\n"
   ]
  },
  {
   "cell_type": "markdown",
   "id": "d05110fb-7c7d-4a2a-ab89-2d82416219ef",
   "metadata": {},
   "source": [
    "#### 18. Write a Python program to remove duplicates from a list using a for loop."
   ]
  },
  {
   "cell_type": "code",
   "execution_count": 49,
   "id": "33317a18-01b1-4b36-bde1-7f5a6add9c1b",
   "metadata": {},
   "outputs": [
    {
     "name": "stdout",
     "output_type": "stream",
     "text": [
      "[1, 2, 3, 4, 5]\n"
     ]
    }
   ],
   "source": [
    "# Remove duplicates from a list using a for loop\n",
    "def remove(lst):\n",
    "    temp = []\n",
    "    for i in lst:\n",
    "        if i not in temp:\n",
    "            temp.append(i)\n",
    "    return temp\n",
    "lst = [1,1,2,3,4,2,3,4,5,1,2,3]\n",
    "result = remove(lst)\n",
    "print(result)"
   ]
  },
  {
   "cell_type": "markdown",
   "id": "1a312120-5b77-42b7-8b54-875d481f2478",
   "metadata": {},
   "source": [
    "#### 19. Create a Python program that counts the number of words in a sentence using a for loop."
   ]
  },
  {
   "cell_type": "code",
   "execution_count": 78,
   "id": "dcbf02d9-76c8-4df5-add8-463eb8b248ce",
   "metadata": {},
   "outputs": [
    {
     "name": "stdin",
     "output_type": "stream",
     "text": [
      " Full Stack\n"
     ]
    },
    {
     "name": "stdout",
     "output_type": "stream",
     "text": [
      "10\n"
     ]
    }
   ],
   "source": [
    "def count(s):\n",
    "    count = 0\n",
    "    for i in s:\n",
    "        count += 1\n",
    "    return count\n",
    "s = input()\n",
    "result = count(s)\n",
    "print(result)"
   ]
  },
  {
   "cell_type": "markdown",
   "id": "c99686bb-c94d-4743-9aac-166bc5dbdc30",
   "metadata": {},
   "source": [
    "#### 20. Write a Python program to find the sum of all odd numbers from 1 to 50 using a for loop."
   ]
  },
  {
   "cell_type": "code",
   "execution_count": 79,
   "id": "1b2894da-0515-4c15-b72e-a48e32064d87",
   "metadata": {},
   "outputs": [
    {
     "name": "stdout",
     "output_type": "stream",
     "text": [
      "625\n"
     ]
    }
   ],
   "source": [
    "sumNum = 0\n",
    "for i in range(50):\n",
    "    if i%2!=0:\n",
    "        sumNum += i\n",
    "print(sumNum)"
   ]
  },
  {
   "cell_type": "markdown",
   "id": "a3cdda91-06f5-4ed8-9800-a0a4e0c0cb37",
   "metadata": {},
   "source": [
    "#### 21. Write a Python program that checks if a given year is a leap year using a for loop."
   ]
  },
  {
   "cell_type": "code",
   "execution_count": 82,
   "id": "cfdf4b54-d38b-4903-9f67-8fbdc9140a8a",
   "metadata": {},
   "outputs": [
    {
     "name": "stdin",
     "output_type": "stream",
     "text": [
      "Enter the start year:  2000\n",
      "Enter the end year:  2024\n"
     ]
    },
    {
     "name": "stdout",
     "output_type": "stream",
     "text": [
      "2000\n",
      "2004\n",
      "2008\n",
      "2012\n",
      "2016\n",
      "2020\n",
      "2024\n"
     ]
    }
   ],
   "source": [
    "def check(year):\n",
    "    return (year % 4 == 0 and year % 100 != 0) or (year % 400 == 0)\n",
    "\n",
    "startYear = int(input(\"Enter the start year: \"))\n",
    "lastYear = int(input(\"Enter the end year: \"))\n",
    "\n",
    "for i in range(startYear, lastYear + 1): \n",
    "    if check(i):\n",
    "        print(i)\n"
   ]
  },
  {
   "cell_type": "markdown",
   "id": "e2ad18d2-7dfa-4b2f-9f41-f3ac985ccaf9",
   "metadata": {},
   "source": [
    "#### 22. Create a Python program that calculates the square root of a number using a for loop."
   ]
  },
  {
   "cell_type": "code",
   "execution_count": 22,
   "id": "b0d5cd80-b756-482d-a41f-bcf9b0909dac",
   "metadata": {},
   "outputs": [
    {
     "name": "stdin",
     "output_type": "stream",
     "text": [
      "Enter the number:  14\n"
     ]
    },
    {
     "name": "stdout",
     "output_type": "stream",
     "text": [
      "The square root of 14 is approximately 3.741657\n"
     ]
    }
   ],
   "source": [
    "def find(number, iterations=1000, epsilon=1e-6):\n",
    "    if number < 0:\n",
    "        raise ValueError(\"Negative number\")\n",
    "    guess = number / 2\n",
    "    for _ in range(iterations):\n",
    "        guess = (guess + number / guess) / 2\n",
    "        if abs(guess**2 - number) < epsilon:\n",
    "            return guess\n",
    "    return guess\n",
    "\n",
    "n = int(input(\"Enter the number: \"))\n",
    "result = find(n)\n",
    "print(f\"The square root of {n} is approximately {result:.6f}\")\n"
   ]
  },
  {
   "cell_type": "markdown",
   "id": "29bb021a-2d73-41ff-8c7e-d5dceba3215c",
   "metadata": {},
   "source": [
    "#### 21. Write a Python program that checks if a given year is a leap year using a for loop."
   ]
  },
  {
   "cell_type": "code",
   "execution_count": 24,
   "id": "fe71ab3a-ebf3-4198-ab13-8f4a1d367e8e",
   "metadata": {},
   "outputs": [
    {
     "name": "stdin",
     "output_type": "stream",
     "text": [
      "Enter the start year:  2000\n",
      "Enter the end year:  2030\n"
     ]
    },
    {
     "name": "stdout",
     "output_type": "stream",
     "text": [
      "2000 2004 2008 2012 2016 2020 2024 2028 "
     ]
    }
   ],
   "source": [
    "def check(year):\n",
    "    return (year % 4 == 0 and year % 100 != 0) or (year % 400 == 0)\n",
    "\n",
    "startYear = int(input(\"Enter the start year: \"))\n",
    "lastYear = int(input(\"Enter the end year: \"))\n",
    "\n",
    "for i in range(startYear, lastYear + 1): \n",
    "    if check(i):\n",
    "        print(i,end = ' ')\n"
   ]
  },
  {
   "cell_type": "markdown",
   "id": "076b5b7a-4a02-4551-a49f-b3b17080d65f",
   "metadata": {},
   "source": [
    "#### 23. Write a Python program to find the LCM (Least Common Multiple) of two numbers using a for loop"
   ]
  },
  {
   "cell_type": "code",
   "execution_count": 26,
   "id": "1d4ed10b-2c07-4451-9173-ddddcde7fd0f",
   "metadata": {},
   "outputs": [
    {
     "name": "stdout",
     "output_type": "stream",
     "text": [
      "The LCM of 12 and 18 is 36\n"
     ]
    }
   ],
   "source": [
    "def find(num1, num2):\n",
    "    maxNum = max(num1, num2)\n",
    "    for i in range(maxNum, num1 * num2 + 1, maxNum):\n",
    "        if i % num1 == 0 and i % num2 == 0:\n",
    "            return i\n",
    "\n",
    "num1 = 12\n",
    "num2 = 18\n",
    "result = find(num1, num2)\n",
    "print(f\"The LCM of {num1} and {num2} is {result}\")\n"
   ]
  },
  {
   "cell_type": "markdown",
   "id": "d1731444-aba2-4b45-a0a8-628c7cf12879",
   "metadata": {},
   "source": [
    "# If else :"
   ]
  },
  {
   "cell_type": "markdown",
   "id": "936eeec9-7783-4bf7-8bd5-2fcba3dc6372",
   "metadata": {},
   "source": [
    "#### 1. Write a Python program to check if a number is positive, negative, or zero using an if-else statement."
   ]
  },
  {
   "cell_type": "code",
   "execution_count": 28,
   "id": "d1c2c156-1123-44ff-8cd5-4efd1fb32dcc",
   "metadata": {},
   "outputs": [
    {
     "name": "stdin",
     "output_type": "stream",
     "text": [
      "Enterrt the number;  -12\n"
     ]
    },
    {
     "name": "stdout",
     "output_type": "stream",
     "text": [
      "Negative\n"
     ]
    }
   ],
   "source": [
    "def check(n):\n",
    "    if n> 0:\n",
    "        return \"Positive\"\n",
    "    elif n<0:\n",
    "        return \"Negative\"\n",
    "    else:\n",
    "        return \"Zero\"\n",
    "    \n",
    "n =  int(input(\"Enterrt the number; \"))\n",
    "\n",
    "result = check(n)\n",
    "print(result) "
   ]
  },
  {
   "cell_type": "markdown",
   "id": "26fb8eab-1784-4a71-9efa-88a0109d9eff",
   "metadata": {},
   "source": [
    "#### 2. Create a Python program that checks if a given number is even or odd using an if-else statement."
   ]
  },
  {
   "cell_type": "code",
   "execution_count": 29,
   "id": "d4be68c0-59b0-4277-bb30-5031d418a042",
   "metadata": {},
   "outputs": [
    {
     "name": "stdin",
     "output_type": "stream",
     "text": [
      "Enter number:  34\n"
     ]
    },
    {
     "name": "stdout",
     "output_type": "stream",
     "text": [
      "even\n"
     ]
    }
   ],
   "source": [
    "def find(n):\n",
    "    return (\"even\" if n%2 == 0 else \"Odd\")\n",
    "\n",
    "n = int(input(\"Enter number: \"))\n",
    "result = find(n)\n",
    "print(result)"
   ]
  },
  {
   "cell_type": "markdown",
   "id": "87c722bf-0992-463c-96fa-a96bba32635f",
   "metadata": {},
   "source": [
    "#### 3. How can you use nested if-else statements in Python, and provide an example?"
   ]
  },
  {
   "cell_type": "code",
   "execution_count": 31,
   "id": "c97cc89b-a6c1-4951-834e-1d07a711e7c6",
   "metadata": {},
   "outputs": [
    {
     "name": "stdin",
     "output_type": "stream",
     "text": [
      " 121\n"
     ]
    },
    {
     "name": "stdout",
     "output_type": "stream",
     "text": [
      "positive odd\n"
     ]
    }
   ],
   "source": [
    "n = int(input())\n",
    "\n",
    "if n>0:\n",
    "    if n%2 == 0:\n",
    "        if n>100 :\n",
    "            print(\"positive even greater than 100\")\n",
    "        else:\n",
    "            print(\"positive even less than 100\")\n",
    "    else:\n",
    "        print(\"positive odd\")\n",
    "else:\n",
    "    print(\"negative or zero\")\n",
    "        "
   ]
  },
  {
   "cell_type": "markdown",
   "id": "bc9a3513-c336-41a7-ad5c-ff153468d708",
   "metadata": {},
   "source": [
    "#### 4. Write a Python program to determine the largest of three numbers using if-else."
   ]
  },
  {
   "cell_type": "code",
   "execution_count": 1,
   "id": "e3eabd40-f629-4a4d-8f54-2be8f2c11637",
   "metadata": {},
   "outputs": [
    {
     "name": "stdin",
     "output_type": "stream",
     "text": [
      " 1\n",
      " 6\n",
      " 2\n"
     ]
    },
    {
     "name": "stdout",
     "output_type": "stream",
     "text": [
      "6\n"
     ]
    }
   ],
   "source": [
    "def find(a,b,c):\n",
    "    if a>=b and a>=c:\n",
    "        return a\n",
    "    elif b>=a and b>=c:\n",
    "        return b\n",
    "    else:\n",
    "        return c\n",
    "    \n",
    "a  = int(input())\n",
    "b  = int(input())\n",
    "c  = int(input())\n",
    "\n",
    "\n",
    "result = find(a,b,c)\n",
    "print(result)"
   ]
  },
  {
   "cell_type": "markdown",
   "id": "16ca35e3-15ae-45f8-9638-c52b0440e4dc",
   "metadata": {},
   "source": [
    "#### 5. Write a Python program that calculates the absolute value of a number using if-else."
   ]
  },
  {
   "cell_type": "code",
   "execution_count": 2,
   "id": "d9cd9e85-f36d-45ce-95e9-d378079ff414",
   "metadata": {},
   "outputs": [
    {
     "name": "stdin",
     "output_type": "stream",
     "text": [
      " -3\n"
     ]
    },
    {
     "name": "stdout",
     "output_type": "stream",
     "text": [
      "3\n"
     ]
    }
   ],
   "source": [
    "def find(n):\n",
    "    if n<0:\n",
    "        return -n\n",
    "    else:\n",
    "        return n\n",
    "\n",
    "n  = int(input())\n",
    "result = find(n)\n",
    "print(result)"
   ]
  },
  {
   "cell_type": "markdown",
   "id": "9443765c-88e7-42c3-bfaf-8423fd236b58",
   "metadata": {},
   "source": [
    "#### 6. Create a Python program that checks if a given character is a vowel or consonant using if-else."
   ]
  },
  {
   "cell_type": "code",
   "execution_count": 1,
   "id": "1b966f61-67c3-4d36-bf9d-b7294cab7f9b",
   "metadata": {},
   "outputs": [
    {
     "name": "stdin",
     "output_type": "stream",
     "text": [
      " d\n"
     ]
    },
    {
     "name": "stdout",
     "output_type": "stream",
     "text": [
      "False\n"
     ]
    }
   ],
   "source": [
    "def check(c):\n",
    "    vowel='aeiouAEIOU'\n",
    "    if c in vowel:\n",
    "        return True\n",
    "    else:\n",
    "        return False\n",
    "\n",
    "c = input()\n",
    "result= check(c)\n",
    "print(result)"
   ]
  },
  {
   "cell_type": "markdown",
   "id": "5c1bba35-b75f-43d4-8b6e-98a7f15deadb",
   "metadata": {},
   "source": [
    "#### 7. Write a Python program to determine if a user is eligible to vote based on their age using if-else."
   ]
  },
  {
   "cell_type": "code",
   "execution_count": 2,
   "id": "1bfadf28-d63c-40b3-a9a6-6d9d9f85ea54",
   "metadata": {},
   "outputs": [
    {
     "name": "stdin",
     "output_type": "stream",
     "text": [
      " 43\n"
     ]
    },
    {
     "name": "stdout",
     "output_type": "stream",
     "text": [
      "True\n"
     ]
    }
   ],
   "source": [
    "def check(age):\n",
    "    return (True if age>=18 else False)\n",
    "age = int(input())\n",
    "\n",
    "result = check(age)\n",
    "print(result)"
   ]
  },
  {
   "cell_type": "markdown",
   "id": "0a4ff1e4-331a-4cf7-a188-303671e7710b",
   "metadata": {},
   "source": [
    "#### 8. Create a Python program that calculates the discount amount based on the purchase amount using if-else."
   ]
  },
  {
   "cell_type": "code",
   "execution_count": 4,
   "id": "e7d286b1-927b-475f-a579-7dba2761d2e8",
   "metadata": {},
   "outputs": [
    {
     "name": "stdin",
     "output_type": "stream",
     "text": [
      " 100\n"
     ]
    },
    {
     "name": "stdout",
     "output_type": "stream",
     "text": [
      "95.0\n"
     ]
    }
   ],
   "source": [
    "def find(p):\n",
    "    if 0<=p<=500:\n",
    "        return 5\n",
    "    elif 500<p<=1500:\n",
    "        return 10\n",
    "    elif 1500<p<=3000:\n",
    "        return 20\n",
    "    else:\n",
    "        return 30\n",
    "\n",
    "p = int(input())\n",
    "result = (p - (p*find(p))/100)\n",
    "print(result)"
   ]
  },
  {
   "cell_type": "markdown",
   "id": "cc7bb4d3-6fcd-421d-b52d-0b1aae356405",
   "metadata": {},
   "source": [
    "#### 9. Write a Python program to check if a number is within a specified range using if-else."
   ]
  },
  {
   "cell_type": "code",
   "execution_count": 11,
   "id": "22e0f3de-e396-4096-9f21-293e46925bec",
   "metadata": {},
   "outputs": [
    {
     "name": "stdin",
     "output_type": "stream",
     "text": [
      " 5\n",
      " 10\n",
      " 1\n"
     ]
    },
    {
     "name": "stdout",
     "output_type": "stream",
     "text": [
      "True\n"
     ]
    }
   ],
   "source": [
    "def check(n,u,l):\n",
    "    return n in range(l,u+1)\n",
    "\n",
    "n= int(input())\n",
    "u= int(input())\n",
    "l= int(input())\n",
    "\n",
    "result = check(n,u,l)\n",
    "print(result)"
   ]
  },
  {
   "cell_type": "markdown",
   "id": "508a253c-7e56-4621-8de7-f4299964d6f6",
   "metadata": {},
   "source": [
    "#### 10. Create a Python program that determines the grade of a student based on their score using if-else"
   ]
  },
  {
   "cell_type": "code",
   "execution_count": 12,
   "id": "f4424466-ff66-42b4-91a9-9fdd6503070e",
   "metadata": {},
   "outputs": [
    {
     "name": "stdin",
     "output_type": "stream",
     "text": [
      "Enter the number:  68\n"
     ]
    },
    {
     "name": "stdout",
     "output_type": "stream",
     "text": [
      "Grae :  C\n"
     ]
    }
   ],
   "source": [
    "#function to calculate grade based on score\n",
    "def grade(grade):\n",
    "    if grade >=90:\n",
    "        return \"A+\"\n",
    "    elif grade >=80:\n",
    "        return \"A\"\n",
    "    elif grade >= 70:\n",
    "        return \"B\"\n",
    "    elif grade >= 60:\n",
    "        return \"C\"\n",
    "    elif grade >= 50:\n",
    "        return \"D\"\n",
    "    elif grade >= 40:\n",
    "        return \"E\"\n",
    "    else:\n",
    "        return \"F\"\n",
    "\n",
    "\n",
    "#Taking User Input\n",
    "n = int(input(\"Enter the number: \"))\n",
    "\n",
    "#Calling FUnction\n",
    "result = grade(n)\n",
    "\n",
    "#Displaying Result\n",
    "print(\"Grae : \",result)\n",
    "    "
   ]
  },
  {
   "cell_type": "markdown",
   "id": "175d968b-d047-4a69-9633-215a98bde875",
   "metadata": {},
   "source": [
    "#### 11. Write a Python program to check if a string is empty or not using if-else."
   ]
  },
  {
   "cell_type": "code",
   "execution_count": 13,
   "id": "4a093721-0af2-49e5-a161-b2dc9a61766c",
   "metadata": {},
   "outputs": [
    {
     "name": "stdin",
     "output_type": "stream",
     "text": [
      " \n"
     ]
    },
    {
     "name": "stdout",
     "output_type": "stream",
     "text": [
      "True\n"
     ]
    }
   ],
   "source": [
    "def check(s):\n",
    "    if len(s) == 0:\n",
    "        return True\n",
    "    else:\n",
    "        return False\n",
    "s = input()\n",
    "result = check(s)\n",
    "print(result)"
   ]
  },
  {
   "cell_type": "markdown",
   "id": "f882a136-75d8-4993-b4db-c6ba5bf78354",
   "metadata": {},
   "source": [
    "#### 12. Create a Python program that identifies the type of a triangle (e.g., equilateral, isosceles, or scalene) based on input values using if-else."
   ]
  },
  {
   "cell_type": "code",
   "execution_count": 14,
   "id": "c7f32c72-38e6-49a2-ad14-07788772f63e",
   "metadata": {},
   "outputs": [
    {
     "name": "stdin",
     "output_type": "stream",
     "text": [
      "Enter the side 1:  3\n",
      "Enter the side 2:  3\n",
      "Enter the side 3:  3\n"
     ]
    },
    {
     "name": "stdout",
     "output_type": "stream",
     "text": [
      "given triangle is Equilateral\n"
     ]
    }
   ],
   "source": [
    "#Function to determine if a triangle is equilateral, isosceles, or scalene. \n",
    "def find(a,b,c):\n",
    "    if a == b == c:\n",
    "        return \"Equilateral\"\n",
    "    elif a==c!=b or b==c!=a or a==b!=c:\n",
    "        return \"Isosceles\"\n",
    "    else:\n",
    "        return \"Scalene\"\n",
    "    \n",
    "#Taking User Input\n",
    "num1 = int(input(\"Enter the side 1: \"))\n",
    "num2 = int(input(\"Enter the side 2: \"))\n",
    "num3 = int(input(\"Enter the side 3: \"))\n",
    "\n",
    "#Calling FUnction\n",
    "result = find(num1,num2,num3)\n",
    "\n",
    "#Displaying Result\n",
    "print(f\"given triangle is {result}\")\n",
    "    \n",
    "    "
   ]
  },
  {
   "cell_type": "markdown",
   "id": "57cbfd0b-e904-4be3-be54-1391329e209c",
   "metadata": {},
   "source": [
    "#### 13. Write a Python program to determine the day of the week based on a user-provided number using if-else."
   ]
  },
  {
   "cell_type": "code",
   "execution_count": 15,
   "id": "0de74bf0-d90d-43eb-9782-02f03b8a7981",
   "metadata": {},
   "outputs": [
    {
     "name": "stdin",
     "output_type": "stream",
     "text": [
      "Enter the day:  5\n"
     ]
    },
    {
     "name": "stdout",
     "output_type": "stream",
     "text": [
      "5 is Friday\n"
     ]
    }
   ],
   "source": [
    "#Function to Create a program that determines the day of the week based on the day number (1-7).\n",
    "def  find(n):\n",
    "    if n == 1 :\n",
    "        return \"Monday\"\n",
    "    elif n==2:\n",
    "        return \"Tuesday\"\n",
    "    elif n==3:\n",
    "        return \"Wednesday\"\n",
    "    elif n==4:\n",
    "        return \"Thrusday\"\n",
    "    elif n==5:\n",
    "        return \"Friday\"\n",
    "    elif n==6:\n",
    "        return \"Saturday\"\n",
    "    elif n==7:\n",
    "        return \"Sunday\"\n",
    "    else:\n",
    "        \"Worng Input\"\n",
    "        \n",
    "#taking User Input\n",
    "c = int(input(\"Enter the day: \"))\n",
    "\n",
    "#Calling FUnction\n",
    "result = find(c)\n",
    "\n",
    "#Displaying Result\n",
    "print(f\"{c} is {result}\")"
   ]
  },
  {
   "cell_type": "markdown",
   "id": "973569e3-1566-4c05-9fc8-13bb64b8ec60",
   "metadata": {},
   "source": [
    "#### 14. Create a Python program that checks if a given year is a leap year using both if-else and a function."
   ]
  },
  {
   "cell_type": "code",
   "execution_count": 16,
   "id": "cef1a5ad-9642-493d-8902-e1796d0008ba",
   "metadata": {},
   "outputs": [
    {
     "name": "stdin",
     "output_type": "stream",
     "text": [
      "Enter the year:  2024\n"
     ]
    },
    {
     "name": "stdout",
     "output_type": "stream",
     "text": [
      "2024 is a leap year\n"
     ]
    }
   ],
   "source": [
    "#function to classify a given year as leap year or not \n",
    "def leap(year):\n",
    "    if year % 4 == 0:\n",
    "        if year%100 == 0:\n",
    "            return year%400 == 0\n",
    "        return True\n",
    "    return False\n",
    "\n",
    "#Taking User Input\n",
    "year = int(input(\"Enter the year: \"))\n",
    "\n",
    "#Calling FUnction\n",
    "result = leap(year)\n",
    "\n",
    "#Displaying Result\n",
    "if result:\n",
    "    print(f\"{year} is a leap year\")\n",
    "else:\n",
    "    print(f\"{year} is not a leap year\")\n"
   ]
  },
  {
   "cell_type": "markdown",
   "id": "d419c978-3c01-4735-ae80-9d07d04da460",
   "metadata": {},
   "source": [
    "#### 15. How do you use the \"assert\" statement in Python to add debugging checks within if-else blocks?"
   ]
  },
  {
   "cell_type": "code",
   "execution_count": 20,
   "id": "e391f497-a729-4d7b-a6d5-1e7c45e92cf8",
   "metadata": {},
   "outputs": [
    {
     "name": "stdin",
     "output_type": "stream",
     "text": [
      "Enter the numerator:  3\n",
      "Enter the denominator:  0\n"
     ]
    },
    {
     "name": "stdout",
     "output_type": "stream",
     "text": [
      "AssertionError: Division by zero is not allowed\n"
     ]
    }
   ],
   "source": [
    "def find(a, b):\n",
    "    assert b != 0, \"Division by zero is not allowed\"\n",
    "    return a / b\n",
    "\n",
    "a = int(input(\"Enter the numerator: \"))\n",
    "b = int(input(\"Enter the denominator: \"))\n",
    "\n",
    "try:\n",
    "    result = find(a, b)\n",
    "    print(f\"The result of {a} / {b} is: {result}\")\n",
    "except AssertionError as e:\n",
    "    print(f\"AssertionError: {e}\")\n"
   ]
  },
  {
   "cell_type": "markdown",
   "id": "a6603b11-71c8-4865-8195-31a567ce1fe9",
   "metadata": {},
   "source": [
    "#### 16. Create a Python program that determines the eligibility of a person for a senior citizen discount based on age using if-else."
   ]
  },
  {
   "cell_type": "code",
   "execution_count": 21,
   "id": "2f77c6cb-42b1-40e0-8dce-09e80159c509",
   "metadata": {},
   "outputs": [
    {
     "name": "stdin",
     "output_type": "stream",
     "text": [
      " 76\n"
     ]
    },
    {
     "name": "stdout",
     "output_type": "stream",
     "text": [
      "True\n"
     ]
    }
   ],
   "source": [
    "def check(age):\n",
    "    return age>60\n",
    "\n",
    "age = int(input())\n",
    "result = check(age)\n",
    "print(result)"
   ]
  },
  {
   "cell_type": "markdown",
   "id": "9e7244e9-01cb-4387-8a66-fc6db9967d1b",
   "metadata": {},
   "source": [
    "#### 17. Write a Python program to categorize a given character as uppercase, lowercase, or neither using if-else."
   ]
  },
  {
   "cell_type": "code",
   "execution_count": 1,
   "id": "7e2d6f45-8979-4207-b83e-ac5c7f0873fb",
   "metadata": {},
   "outputs": [
    {
     "name": "stdin",
     "output_type": "stream",
     "text": [
      " H\n"
     ]
    },
    {
     "data": {
      "text/plain": [
       "'Upper'"
      ]
     },
     "execution_count": 1,
     "metadata": {},
     "output_type": "execute_result"
    }
   ],
   "source": [
    "def catg(c):\n",
    "    return (\"Upper\" if c.isupper() else(\"Lower\" if c.islower() else \"SPecial Character\"))\n",
    "\n",
    "c = input()\n",
    "catg(c)"
   ]
  },
  {
   "cell_type": "markdown",
   "id": "14e89e03-9ee8-4aa0-8353-59f0dc1da77a",
   "metadata": {},
   "source": [
    "#### 18. Write a Python program to determine the roots of a quadratic equation using if-else."
   ]
  },
  {
   "cell_type": "code",
   "execution_count": 2,
   "id": "e9264f94-9248-4e02-9f2e-7def4283070e",
   "metadata": {},
   "outputs": [
    {
     "name": "stdin",
     "output_type": "stream",
     "text": [
      "Enter the a:  2\n",
      "Enter the b:  5\n",
      "Enter the c:  3\n"
     ]
    },
    {
     "name": "stdout",
     "output_type": "stream",
     "text": [
      "given triangle is (-1.0, -1.5)\n"
     ]
    }
   ],
   "source": [
    "import math\n",
    "#Function to calculate roots of quadratic equation\n",
    "def find(a,b,c):\n",
    "    if a == 0:\n",
    "        return \"Wrong input\"\n",
    "    else:\n",
    "        D = (b*b) - (4*a*c)\n",
    "        \n",
    "        if D == 0:\n",
    "            return (-b / (2*a))\n",
    "        elif D> 0:\n",
    "            return ((-b + math.sqrt(D))/(2*a)), ((-b - math.sqrt(D))/(2*a))\n",
    "        else:\n",
    "            return (-b/(2*a)) + ((math.sqrt(abs(D))/(2*a))*1j) , (-b/(2*a)) - ((math.sqrt(abs(D))/(2*a))*1j)\n",
    "                                              \n",
    "#Taking User Input\n",
    "num1 = int(input(\"Enter the a: \"))\n",
    "num2 = int(input(\"Enter the b: \"))\n",
    "num3 = int(input(\"Enter the c: \"))\n",
    "\n",
    "#Calling FUnction\n",
    "result = find(num1,num2,num3)\n",
    "\n",
    "#Displaying Result\n",
    "print(f\"given triangle is {result}\")"
   ]
  },
  {
   "cell_type": "markdown",
   "id": "e6aa3d99-58c1-4ac8-b39a-51a9b533a5d3",
   "metadata": {},
   "source": [
    "#### 19. Create a Python program that checks if a given year is a century year or not using if-else."
   ]
  },
  {
   "cell_type": "code",
   "execution_count": 27,
   "id": "2ec17951-045c-4095-b738-4581b9ce4994",
   "metadata": {},
   "outputs": [
    {
     "name": "stdin",
     "output_type": "stream",
     "text": [
      "Enter a year:  2000\n"
     ]
    },
    {
     "name": "stdout",
     "output_type": "stream",
     "text": [
      "Is 2000 divisible by 100? True\n"
     ]
    }
   ],
   "source": [
    "def find(year):\n",
    "    return year % 100 == 0\n",
    "\n",
    "# Get user input for the year\n",
    "year = int(input(\"Enter a year: \"))\n",
    "\n",
    "# Check if the year is divisible by 100\n",
    "result = find(year)\n",
    "\n",
    "# Print the result\n",
    "print(f\"Is {year} divisible by 100? {result}\")\n"
   ]
  },
  {
   "cell_type": "markdown",
   "id": "712c9375-e9bf-429e-98c6-9b01072e5d21",
   "metadata": {},
   "source": [
    "#### 20. Write a Python program to determine if a given number is a perfect square using if-else."
   ]
  },
  {
   "cell_type": "code",
   "execution_count": 17,
   "id": "3b49324b-fff1-4f8f-bbf0-215b7393e547",
   "metadata": {
    "tags": []
   },
   "outputs": [
    {
     "name": "stdin",
     "output_type": "stream",
     "text": [
      "Enter a number:  35\n"
     ]
    },
    {
     "name": "stdout",
     "output_type": "stream",
     "text": [
      "35 is not a perfect square.\n"
     ]
    }
   ],
   "source": [
    "def is_perfect_square(n):\n",
    "    m = n // 2\n",
    "    for i in range(1, m + 1):\n",
    "        if i * i == n:\n",
    "            return True\n",
    "    return False\n",
    "\n",
    "n = int(input(\"Enter a number: \"))\n",
    "result = is_perfect_square(n)\n",
    "print(f\"{n} is a perfect square.\" if result else f\"{n} is not a perfect square.\")\n"
   ]
  },
  {
   "cell_type": "markdown",
   "id": "9055bc81-ca74-4aa9-93df-fbf9fc8999db",
   "metadata": {},
   "source": [
    "#### 21. Explain the purpose of the \"continue\" and \"break\" statements within if-else loops."
   ]
  },
  {
   "cell_type": "markdown",
   "id": "cc14de83-322d-449f-85ec-bc58f1d4f694",
   "metadata": {},
   "source": [
    "#### Continue\n",
    ">The continue statement is used to skip the rest of the code inside a loop for the current iteration and move on to the next iteration.\n",
    ">This is useful when you want to skip certain iterations based on a specific condition\n",
    "\n",
    "\n",
    "#### Break\n",
    ">The break statement is used to exit a loop prematurely\n",
    ">This is useful when you want to exit a loop based on a certain condition.\n",
    "\n"
   ]
  },
  {
   "cell_type": "markdown",
   "id": "95b7f1fc-3ed1-447f-a0d3-99207d0b2959",
   "metadata": {},
   "source": [
    "#### 22. Create a Python program that calculates the BMI (Body Mass Index) of a person based on their weight and height using if-else."
   ]
  },
  {
   "cell_type": "code",
   "execution_count": 20,
   "id": "d7d467ca-7b1e-41cb-ae30-96cf04dd9a07",
   "metadata": {},
   "outputs": [
    {
     "name": "stdout",
     "output_type": "stream",
     "text": [
      "BMI Doctor\n"
     ]
    },
    {
     "name": "stdin",
     "output_type": "stream",
     "text": [
      "Enter your weight in kilograms:  75\n",
      "Enter your height in centimeters:  168\n"
     ]
    },
    {
     "name": "stdout",
     "output_type": "stream",
     "text": [
      "\n",
      "Your BMI is:  26.573129\n",
      "BMI Category: Overweight\n"
     ]
    }
   ],
   "source": [
    "#Funnction to categorize a given person's BMI into underweight, normal, overweight, or obese using elif statements.\n",
    "def bmi(h,w):\n",
    "    h = h/100\n",
    "    return w/(h**2)\n",
    "\n",
    "def bmiCatg(bmi):\n",
    "    if bmi < 18.5:\n",
    "        return \"Underweight\"\n",
    "    elif 18.5 <= bmi < 25:\n",
    "        return \"Normal weight\"\n",
    "    elif 25 <= bmi < 30:\n",
    "        return \"Overweight\"\n",
    "    else:\n",
    "        return \"Obese\" \n",
    "    \n",
    "#Taking User Input \n",
    "print(\"BMI Doctor\")\n",
    "w = float(input(\"Enter your weight in kilograms: \"))\n",
    "h = float(input(\"Enter your height in centimeters: \"))\n",
    "\n",
    "#Calling Function\n",
    "BMI = bmi(h,w)\n",
    "category = bmiCatg(BMI)\n",
    "\n",
    "#Display Result\n",
    "print(f\"\\nYour BMI is: {BMI : 2F}\")\n",
    "print(f\"BMI Category: {category}\")"
   ]
  },
  {
   "cell_type": "markdown",
   "id": "ba373c75-1c40-4dc0-8ec6-7bf58d7ccf08",
   "metadata": {},
   "source": [
    "#### 23. How can you use the \"filter()\" function with if-else statements to filter elements from a list?"
   ]
  },
  {
   "cell_type": "code",
   "execution_count": 26,
   "id": "eed784da-c070-4845-8fff-19c6c74081ad",
   "metadata": {},
   "outputs": [
    {
     "name": "stdout",
     "output_type": "stream",
     "text": [
      "Even numbers: [2, 4, 6, 8, 10]\n"
     ]
    }
   ],
   "source": [
    "def check(num):\n",
    "    return num % 2 == 0\n",
    "\n",
    "# Example list of numbers\n",
    "num = [1, 2, 3, 4, 5, 6, 7, 8, 9, 10]\n",
    "\n",
    "# Use filter to select even numbers from the list\n",
    "filtered = filter(check, num)\n",
    "\n",
    "# Convert the filtered result to a list\n",
    "result = list(filtered)\n",
    "\n",
    "# Print the result\n",
    "print(f\"Even numbers: {result}\")\n"
   ]
  },
  {
   "cell_type": "markdown",
   "id": "379032aa-a51d-442b-ac17-12c32ee7afc9",
   "metadata": {},
   "source": [
    "#### 24. Write a Python program to determine if a given number is prime or not using if-else."
   ]
  },
  {
   "cell_type": "code",
   "execution_count": 1,
   "id": "d89e6fd1-91da-497d-a8fc-f07d2ba867cc",
   "metadata": {},
   "outputs": [
    {
     "name": "stdin",
     "output_type": "stream",
     "text": [
      " 3\n"
     ]
    },
    {
     "name": "stdout",
     "output_type": "stream",
     "text": [
      "True\n"
     ]
    }
   ],
   "source": [
    "def check(n):\n",
    "    if n<2:\n",
    "        return True\n",
    "    else:\n",
    "        for i in range(2,int(n**0.5)+1):\n",
    "            if n%i==0:\n",
    "                return False\n",
    "    return True\n",
    "n = int(input())\n",
    "result = check(n)\n",
    "print(result)\n",
    "        "
   ]
  },
  {
   "cell_type": "markdown",
   "id": "4ddb81f0-3c11-4284-83ff-f0abac7bb421",
   "metadata": {},
   "source": [
    "# Map"
   ]
  },
  {
   "cell_type": "markdown",
   "id": "48769998-9f9e-474b-a50f-d77bcc816525",
   "metadata": {},
   "source": [
    "#### 1. Explain the purpose of the `map()` function in Python and provide an example of how it can be used to apply a function to each element of an iterable.\n"
   ]
  },
  {
   "cell_type": "code",
   "execution_count": 2,
   "id": "438e12d9-e8b3-419d-ad9f-be3066b968b4",
   "metadata": {},
   "outputs": [
    {
     "name": "stdout",
     "output_type": "stream",
     "text": [
      "[1, 4, 9, 16, 25]\n"
     ]
    }
   ],
   "source": [
    "'''\n",
    "    The map() function in Python is a built-in function that is used to apply a \n",
    "    specified function to all items in an iterable (such as a list, tuple, or string) \n",
    "    and returns an iterator that produces the results. The primary purpose of map() is \n",
    "    to transform the data in an iterable by applying a given function to each element.\n",
    "'''\n",
    "# Define a function to square a number\n",
    "def square(x):\n",
    "    return x ** 2\n",
    "\n",
    "# Use map() to apply the square function to each element in the list\n",
    "num = [1, 2, 3, 4, 5]\n",
    "sqNum = map(square, num)\n",
    "result = list(sqNum)\n",
    "\n",
    "# Print the result\n",
    "print(result)"
   ]
  },
  {
   "cell_type": "markdown",
   "id": "f9b932f1-d2f3-451b-9636-6ce2415b9bbb",
   "metadata": {},
   "source": [
    "#### 2. Write a Python program that uses the `map()` function to square each element of a list of numbers."
   ]
  },
  {
   "cell_type": "code",
   "execution_count": 7,
   "id": "2bfe7c6c-1307-4da4-9b81-c73249294356",
   "metadata": {},
   "outputs": [
    {
     "name": "stdout",
     "output_type": "stream",
     "text": [
      "Original Numbers: [1, 2, 3, 4, 5]\n",
      "Squared Numbers: [1, 4, 9, 16, 25]\n"
     ]
    }
   ],
   "source": [
    "lst = [1,2,3,4,5]\n",
    "\n",
    "x = map(lambda a : a**2 ,lst)\n",
    "result = list(x)\n",
    "# Print the original and squared numbers\n",
    "print(\"Original Numbers:\", lst)\n",
    "print(\"Squared Numbers:\", result)"
   ]
  },
  {
   "cell_type": "markdown",
   "id": "47718190-aa96-470a-a8df-626bc47db144",
   "metadata": {},
   "source": [
    "#### 3. How does the `map()` function differ from a list comprehension in Python, and when would you choose one over the other?"
   ]
  },
  {
   "cell_type": "markdown",
   "id": "e22640db-81b1-4882-a974-23de9ffdb886",
   "metadata": {},
   "source": [
    "### Map\n",
    "> map() is suitable when you want to apply a function to each element of one or more iterables and obtain an iterator without creating a new list immediately.\n",
    "\n",
    "### List Comprehension\n",
    "> List comprehensions are more concise and readable when you want to create a new list by applying an expression to each element of an iterable or filtering elements based on a condition.\n",
    "\n",
    "### Choice\n",
    "> when if have to deal with large dataset than i will choose map() , as  map() with lazy evaluation can be more memory-efficient"
   ]
  },
  {
   "cell_type": "markdown",
   "id": "3678f495-8c0c-49c4-aecf-28528530172a",
   "metadata": {},
   "source": [
    "#### 4. Create a Python program that uses the `map()` function to convert a list of names to uppercase.\n"
   ]
  },
  {
   "cell_type": "code",
   "execution_count": 25,
   "id": "469169a8-713b-4c13-a600-80b42ae4ad06",
   "metadata": {},
   "outputs": [
    {
     "name": "stdout",
     "output_type": "stream",
     "text": [
      "Uppercased strings: ['SOHAN', 'ROHAN', 'MOHAN']\n"
     ]
    }
   ],
   "source": [
    "# Example list of strings\n",
    "lst = [\"sohan\", \"rohan\", \"Mohan\"]\n",
    "\n",
    "# Use map to convert each string to uppercase\n",
    "uppercased_list = list(map(lambda x: x.upper(), lst))\n",
    "\n",
    "# Print the list of uppercase strings\n",
    "print(f\"Uppercased strings: {uppercased_list}\")\n"
   ]
  },
  {
   "cell_type": "markdown",
   "id": "9a474a6c-b77f-4df8-b6a2-970eab2944f5",
   "metadata": {},
   "source": [
    "#### 5. Write a Python program that uses the `map()` function to calculate the length of each word in a list of strings."
   ]
  },
  {
   "cell_type": "code",
   "execution_count": 24,
   "id": "5976f015-bf30-4edc-9b98-a21a4f696ad7",
   "metadata": {},
   "outputs": [
    {
     "name": "stdout",
     "output_type": "stream",
     "text": [
      "String lengths: [5, 5, 5]\n"
     ]
    }
   ],
   "source": [
    "# Example list of strings\n",
    "lst = [\"sohan\", \"rohan\", \"Mohan\"]\n",
    "\n",
    "# Use map to calculate the length of each string\n",
    "lengths_list = list(map(lambda x: len(x), lst))\n",
    "\n",
    "# Print the list of string lengths\n",
    "print(f\"String lengths: {lengths_list}\")\n"
   ]
  },
  {
   "cell_type": "markdown",
   "id": "a25d7852-3432-4f9c-b6f3-e5c188c11f01",
   "metadata": {},
   "source": [
    "#### 6. How can you use the `map()` function to apply a custom function to elements of multiple lists simultaneously in Python?"
   ]
  },
  {
   "cell_type": "code",
   "execution_count": 23,
   "id": "94170213-d1ac-4d14-933b-70b12ec20352",
   "metadata": {},
   "outputs": [
    {
     "name": "stdout",
     "output_type": "stream",
     "text": [
      "Result of element-wise addition: [4, 6, 8, 10, 12]\n"
     ]
    }
   ],
   "source": [
    "# Function to add two numbers\n",
    "def add(x, y):\n",
    "    return x + y\n",
    "\n",
    "# Example lists\n",
    "lst1 = [1, 2, 3, 4, 5]\n",
    "lst2 = [3, 4, 5, 6, 7]\n",
    "\n",
    "# Use map to apply the add function element-wise to the lists\n",
    "result_list = list(map(add, lst1, lst2))\n",
    "\n",
    "# Print the result list\n",
    "print(f\"Result of element-wise addition: {result_list}\")\n"
   ]
  },
  {
   "cell_type": "markdown",
   "id": "47def9ef-61bc-4297-bd92-3ced66dd1a2f",
   "metadata": {},
   "source": [
    "#### 7. Create a Python program that uses `map()` to convert a list of temperatures from Celsius to Fahrenheit.\n"
   ]
  },
  {
   "cell_type": "code",
   "execution_count": 22,
   "id": "a027c9e7-9fd9-4f7b-bdb4-c557d885d3de",
   "metadata": {},
   "outputs": [
    {
     "name": "stdout",
     "output_type": "stream",
     "text": [
      "Temperatures in Fahrenheit: [32.0, 50.0, 68.0, 86.0, 104.0]\n"
     ]
    }
   ],
   "source": [
    "# Example list of temperatures in Celsius\n",
    "lst = [0, 10, 20, 30, 40]\n",
    "\n",
    "# Use map to convert each temperature to Fahrenheit\n",
    "fahrenheit_list = list(map(lambda c: (9/5)*c + 32, lst))\n",
    "\n",
    "# Print the list of temperatures in Fahrenheit\n",
    "print(f\"Temperatures in Fahrenheit: {fahrenheit_list}\")\n"
   ]
  },
  {
   "cell_type": "markdown",
   "id": "073de13f-fd4d-47ba-a4ef-66b9a03cca09",
   "metadata": {},
   "source": [
    "#### 8. Write a Python program that uses the `map()` function to round each element of a list of floating-point numbers to the nearest integer"
   ]
  },
  {
   "cell_type": "code",
   "execution_count": 21,
   "id": "f08c1642-3f23-4a39-a46b-133c8ded90c5",
   "metadata": {},
   "outputs": [
    {
     "name": "stdout",
     "output_type": "stream",
     "text": [
      "Rounded list: [2, 46, 345, 79]\n"
     ]
    }
   ],
   "source": [
    "# Example list\n",
    "lst = [2.3, 45.754, 345.4221, 78.98]\n",
    "\n",
    "# Use map to round each element to the nearest integer\n",
    "rounded_list = list(map(lambda a: round(a), lst))\n",
    "\n",
    "# Print the rounded list\n",
    "print(f\"Rounded list: {rounded_list}\")\n"
   ]
  },
  {
   "cell_type": "markdown",
   "id": "ac615fae-0344-4b8f-a371-2e6f061ef97e",
   "metadata": {},
   "source": [
    "# Reduce"
   ]
  },
  {
   "cell_type": "markdown",
   "id": "6280b151-0679-45fd-b14c-722050115e1a",
   "metadata": {},
   "source": [
    "#### 1. What is the `reduce()` function in Python, and what module should you import to use it? Provide an example of its basic usage."
   ]
  },
  {
   "cell_type": "code",
   "execution_count": 34,
   "id": "00e7f979-75b5-4eb4-af86-ac004d920604",
   "metadata": {},
   "outputs": [
    {
     "name": "stdout",
     "output_type": "stream",
     "text": [
      "120\n"
     ]
    }
   ],
   "source": [
    "'''\n",
    "    Reduce() helps you perform a series of operations on a list of things, \n",
    "    one after the other, until you get one final result.\n",
    "    \n",
    "    The reduce() function is a part of the functools module in Python\n",
    "'''\n",
    "from functools import reduce\n",
    "def find(a,b):\n",
    "    return a*b\n",
    "lst = [1,2,3,4,5]\n",
    "print(reduce(find,lst))"
   ]
  },
  {
   "cell_type": "markdown",
   "id": "b41b2d72-911b-466b-ba77-d2c1f8d60c38",
   "metadata": {},
   "source": [
    "#### 2. Write a Python program that uses the `reduce()` function to find the product of all elements in a list"
   ]
  },
  {
   "cell_type": "code",
   "execution_count": 20,
   "id": "b20d7b85-3f0d-40f7-940a-ea27f6fe674b",
   "metadata": {},
   "outputs": [
    {
     "name": "stdout",
     "output_type": "stream",
     "text": [
      "The product of the numbers in the list is: 120\n"
     ]
    }
   ],
   "source": [
    "from functools import reduce\n",
    "\n",
    "# Function to find the product of two numbers\n",
    "def find(a, b):\n",
    "    return a * b\n",
    "\n",
    "# Example list\n",
    "lst = [1, 2, 3, 4, 5]\n",
    "\n",
    "# Use reduce to calculate the product of all numbers in the list\n",
    "product_result = reduce(find, lst)\n",
    "\n",
    "# Print the product result\n",
    "print(f\"The product of the numbers in the list is: {product_result}\")\n"
   ]
  },
  {
   "cell_type": "markdown",
   "id": "c35fb5eb-337d-4557-b951-5773301aa39e",
   "metadata": {},
   "source": [
    "#### 3. Create a Python program that uses `reduce()` to find the maximum element in a list of numbers."
   ]
  },
  {
   "cell_type": "code",
   "execution_count": 19,
   "id": "c6233b17-6f36-4a3f-a9da-265339fe44e6",
   "metadata": {},
   "outputs": [
    {
     "name": "stdout",
     "output_type": "stream",
     "text": [
      "The maximum value in the list is: 5\n"
     ]
    }
   ],
   "source": [
    "from functools import reduce\n",
    "\n",
    "# Example list\n",
    "lst = [1, 2, 3, 4, 5]\n",
    "\n",
    "# Find the maximum value in the list using reduce\n",
    "max_value = reduce(lambda a, b: a if a > b else b, lst)\n",
    "\n",
    "# Print the maximum value\n",
    "print(f\"The maximum value in the list is: {max_value}\")\n"
   ]
  },
  {
   "cell_type": "markdown",
   "id": "0b7bd4dd-f26e-4441-af56-b7af005a5020",
   "metadata": {},
   "source": [
    "#### 4. How can you use the `reduce()` function to concatenate a list of strings into a single string?"
   ]
  },
  {
   "cell_type": "code",
   "execution_count": 18,
   "id": "7bfc0a4b-58a3-4ba0-8149-5537ee67e82e",
   "metadata": {},
   "outputs": [
    {
     "name": "stdout",
     "output_type": "stream",
     "text": [
      "The concatenated string is: sohanrohanMohan\n"
     ]
    }
   ],
   "source": [
    "from functools import reduce\n",
    "\n",
    "# Example list\n",
    "lst = [\"sohan\", \"rohan\", \"Mohan\"]\n",
    "\n",
    "# Concatenate the strings in the list using reduce\n",
    "result_concatenation = reduce(lambda a, b: a + b, lst)\n",
    "\n",
    "# Print the concatenated result\n",
    "print(f\"The concatenated string is: {result_concatenation}\")\n"
   ]
  },
  {
   "cell_type": "markdown",
   "id": "833966cb-a3b4-4adf-8192-7427b8f7abc1",
   "metadata": {},
   "source": [
    "#### 5. Write a Python program that calculates the factorial of a number using the `reduce()` function."
   ]
  },
  {
   "cell_type": "code",
   "execution_count": 17,
   "id": "1a57f3f6-a84e-4c93-968a-64b6df499119",
   "metadata": {},
   "outputs": [
    {
     "name": "stdin",
     "output_type": "stream",
     "text": [
      "Enter the number:  5\n"
     ]
    },
    {
     "name": "stdout",
     "output_type": "stream",
     "text": [
      "The factorial of 5 is: 120\n"
     ]
    }
   ],
   "source": [
    "from functools import reduce\n",
    "\n",
    "# Get user input for the number\n",
    "n = int(input(\"Enter the number: \"))\n",
    "\n",
    "# Calculate the factorial of the number using reduce and range\n",
    "factorial_result = reduce(lambda a, b: a * b, range(1, n + 1))\n",
    "\n",
    "# Print the factorial result\n",
    "print(f\"The factorial of {n} is: {factorial_result}\")\n"
   ]
  },
  {
   "cell_type": "markdown",
   "id": "23479bbb-9487-481c-9b5b-39ea5aaf13fa",
   "metadata": {},
   "source": [
    "#### 6. Create a Python program that uses `reduce()` to find the GCD (Greatest Common Divisor) of a list of numbers."
   ]
  },
  {
   "cell_type": "code",
   "execution_count": 16,
   "id": "091aa206-4dbd-4d99-a894-14f8b66db0fd",
   "metadata": {},
   "outputs": [
    {
     "name": "stdout",
     "output_type": "stream",
     "text": [
      "The GCD of [12, 20, 22, 64] is: 2\n"
     ]
    }
   ],
   "source": [
    "from functools import reduce\n",
    "\n",
    "# Function to calculate the GCD using the Euclidean algorithm\n",
    "def gcd(a, b):\n",
    "    while b:\n",
    "        a, b = b, a % b\n",
    "    return a\n",
    "\n",
    "# Example list\n",
    "lst = [12, 20, 22, 64]\n",
    "\n",
    "# Calculate the GCD of the list using reduce and the gcd function\n",
    "result_gcd = reduce(gcd, lst)\n",
    "\n",
    "# Print the GCD\n",
    "print(f\"The GCD of {lst} is: {result_gcd}\")\n"
   ]
  },
  {
   "cell_type": "markdown",
   "id": "96a3f253-f918-42e3-9ffe-f5c1b641d68b",
   "metadata": {},
   "source": [
    "#### 7. Write a Python program that uses the `reduce()` function to find the sum of the digits of a given number."
   ]
  },
  {
   "cell_type": "code",
   "execution_count": 15,
   "id": "2772437d-1659-4945-bbd0-98dfad70d534",
   "metadata": {},
   "outputs": [
    {
     "name": "stdin",
     "output_type": "stream",
     "text": [
      "Enter the number:  14\n"
     ]
    },
    {
     "name": "stdout",
     "output_type": "stream",
     "text": [
      "The sum of digits in 14 is: 5\n"
     ]
    }
   ],
   "source": [
    "from functools import reduce\n",
    "\n",
    "# Get user input for the number\n",
    "n = int(input(\"Enter the number: \"))\n",
    "\n",
    "# Sum the digits of the number using reduce and list comprehension\n",
    "digit_sum = reduce(lambda a, b: a + b, [int(i) for i in str(n)])\n",
    "\n",
    "# Print the sum of digits\n",
    "print(f\"The sum of digits in {n} is: {digit_sum}\")\n"
   ]
  },
  {
   "cell_type": "markdown",
   "id": "286705be-01e7-4e81-bc68-d1ba25aa4c04",
   "metadata": {},
   "source": [
    "# Filter"
   ]
  },
  {
   "cell_type": "markdown",
   "id": "bfdbbe89-62d5-4839-9760-8d80d910d297",
   "metadata": {},
   "source": [
    "#### 1. Explain the purpose of the `filter()` function in Python and provide an example of how it can be used to filter elements from an iterable."
   ]
  },
  {
   "cell_type": "code",
   "execution_count": 36,
   "id": "103fb40d-9ffd-40e2-95ab-86c8c2ecccbb",
   "metadata": {},
   "outputs": [
    {
     "data": {
      "text/plain": [
       "[2, 4]"
      ]
     },
     "execution_count": 36,
     "metadata": {},
     "output_type": "execute_result"
    }
   ],
   "source": [
    "''' \n",
    "    It is a built-in function that is used to filter elements from an \n",
    "    iterable based on a specified function or condition.\n",
    "    \n",
    "    It returns an iterator containing only the elements for which \n",
    "    the function returns True.\n",
    "'''\n",
    "\n",
    "lst  =[1,2,3,4,5]\n",
    "list(filter(lambda a: a%2==0,lst))"
   ]
  },
  {
   "cell_type": "markdown",
   "id": "9c05c106-1e28-4a81-a185-a724ac533de7",
   "metadata": {},
   "source": [
    "#### 2. Write a Python program that uses the `filter()` function to select even numbers from a list of integers."
   ]
  },
  {
   "cell_type": "code",
   "execution_count": 14,
   "id": "3eb56454-3c77-48d7-bab0-31002eab51c0",
   "metadata": {},
   "outputs": [
    {
     "name": "stdout",
     "output_type": "stream",
     "text": [
      "Even numbers in the list: [2, 4]\n"
     ]
    }
   ],
   "source": [
    "# Example list\n",
    "lst = [1, 2, 3, 4, 5]\n",
    "\n",
    "# Filter even numbers from the list\n",
    "filtered_evens = list(filter(lambda a: a % 2 == 0, lst))\n",
    "\n",
    "# Print the filtered list of even numbers\n",
    "print(f\"Even numbers in the list: {filtered_evens}\")\n"
   ]
  },
  {
   "cell_type": "markdown",
   "id": "44db3006-c750-492a-a879-1cfcc857b42d",
   "metadata": {},
   "source": [
    "#### 3. Create a Python program that uses the `filter()` function to select names that start with a specific letter from a list of strings."
   ]
  },
  {
   "cell_type": "code",
   "execution_count": 13,
   "id": "2a826e93-35b9-4a5b-a3e8-4532263ad249",
   "metadata": {},
   "outputs": [
    {
     "name": "stdin",
     "output_type": "stream",
     "text": [
      "Enter the starting character:  M\n"
     ]
    },
    {
     "name": "stdout",
     "output_type": "stream",
     "text": [
      "Names starting with 'M': ['Mohan', 'Mohit', 'Mukul']\n"
     ]
    }
   ],
   "source": [
    "# Example list\n",
    "lst = [\"Mohan\", \"Mohit\", \"sohan\", \"rohit\", \"Mukul\"]\n",
    "\n",
    "# Get user input for the starting character\n",
    "s = input(\"Enter the starting character: \")\n",
    "\n",
    "# Filter names starting with the specified character\n",
    "filtered_names = list(filter(lambda a: a[0] == s, lst))\n",
    "\n",
    "# Print the filtered list of names\n",
    "print(f\"Names starting with '{s}': {filtered_names}\")\n"
   ]
  },
  {
   "cell_type": "markdown",
   "id": "234c6de5-c776-4537-9ce0-ddcceb0c0f2c",
   "metadata": {},
   "source": [
    "#### 4. Write a Python program that uses the `filter()` function to select prime numbers from a list of integers."
   ]
  },
  {
   "cell_type": "code",
   "execution_count": 47,
   "id": "06981e9f-f7d8-43c2-97c4-51df06c9942e",
   "metadata": {},
   "outputs": [
    {
     "data": {
      "text/plain": [
       "[2, 3, 5, 7, 11]"
      ]
     },
     "execution_count": 47,
     "metadata": {},
     "output_type": "execute_result"
    }
   ],
   "source": [
    "# Example list\n",
    "lst = [1, 2, 3, 4, 5, 6, 7, 8, 11, 9]\n",
    "\n",
    "# Filter prime numbers from the list\n",
    "filtered_primes = list(filter(lambda x: all(x % i != 0 for i in range(2, int(x**0.5) + 1)) and x > 1, lst))\n",
    "\n",
    "# Print the filtered list of prime numbers\n",
    "print(f\"Prime numbers in the list: {filtered_primes}\")\n"
   ]
  },
  {
   "cell_type": "markdown",
   "id": "6409ed31-939f-429c-b8c2-98796505cf30",
   "metadata": {},
   "source": [
    "#### 5. How can you use the `filter()` function to remove None values from a list in Python?"
   ]
  },
  {
   "cell_type": "code",
   "execution_count": 12,
   "id": "c94a2434-4de9-44d8-bb37-544df4d2fdb1",
   "metadata": {},
   "outputs": [
    {
     "name": "stdout",
     "output_type": "stream",
     "text": [
      "List without None values: [1, 2, 3, 'Full', 5, 7, 9]\n"
     ]
    }
   ],
   "source": [
    "# Example list\n",
    "lst = [1, 2, 3, None, \"Full\", None, 5, 7, 9]\n",
    "\n",
    "# Filter out None values from the list\n",
    "filtered_list = list(filter(lambda a: a is not None, lst))\n",
    "\n",
    "# Print the filtered list\n",
    "print(f\"List without None values: {filtered_list}\")\n"
   ]
  },
  {
   "cell_type": "markdown",
   "id": "9df8578c-cead-41cd-92f7-ac6869f31a03",
   "metadata": {},
   "source": [
    "#### 6. Create a Python program that uses `filter()` to select words longer than a certain length from a list of strings"
   ]
  },
  {
   "cell_type": "code",
   "execution_count": 11,
   "id": "f9220018-8264-410e-8118-c7e65e88d864",
   "metadata": {},
   "outputs": [
    {
     "name": "stdin",
     "output_type": "stream",
     "text": [
      "Enter the threshold length:  5\n"
     ]
    },
    {
     "name": "stdout",
     "output_type": "stream",
     "text": [
      "Filtered strings: ['sunny Deol', 'saksham', 'Shayam']\n"
     ]
    }
   ],
   "source": [
    "# Example list\n",
    "lst = [\"sunny Deol\", \"sunny\", \"saksham\", \"Amit\", \"Shayam\"]\n",
    "\n",
    "# Get user input for the threshold length\n",
    "n = int(input(\"Enter the threshold length: \"))\n",
    "\n",
    "# Filter strings with length greater than the specified threshold\n",
    "filtered_list = list(filter(lambda a: len(a) > n, lst))\n",
    "\n",
    "# Print the filtered list\n",
    "print(f\"Filtered strings: {filtered_list}\")\n"
   ]
  },
  {
   "cell_type": "markdown",
   "id": "b8c174f9-7837-42d7-b439-08798b053097",
   "metadata": {},
   "source": [
    "#### 7. Write a Python program that uses the `filter()` function to select elements greater than a specified threshold from a list of values."
   ]
  },
  {
   "cell_type": "code",
   "execution_count": 10,
   "id": "4739b7f2-8743-4e62-8fe7-8919048fa243",
   "metadata": {},
   "outputs": [
    {
     "name": "stdin",
     "output_type": "stream",
     "text": [
      "Enter the threshold (n):  4\n"
     ]
    },
    {
     "name": "stdout",
     "output_type": "stream",
     "text": [
      "Elements greater than 4 in the list are: [11, 5, 6, 7, 8, 9]\n"
     ]
    }
   ],
   "source": [
    "lst = [1, 2, 3, 4, 11, 5, 6, 7, 8, 9]\n",
    "\n",
    "# Get user input for the threshold (n)\n",
    "n = int(input(\"Enter the threshold (n): \"))\n",
    "filtered_list = list(filter(lambda a: a > n, lst))\n",
    "\n",
    "# Print the filtered list\n",
    "print(f\"Elements greater than {n} in the list are: {filtered_list}\")\n"
   ]
  },
  {
   "cell_type": "markdown",
   "id": "1eec78c3-84b4-46ef-8a52-4b7b2aba8a09",
   "metadata": {},
   "source": [
    "# Recursion:"
   ]
  },
  {
   "cell_type": "markdown",
   "id": "1b61472e-1e40-4496-a8e0-27fa6df7093f",
   "metadata": {},
   "source": [
    "#### 1. Explain the concept of recursion in Python. How does it differ from iteration?"
   ]
  },
  {
   "cell_type": "code",
   "execution_count": null,
   "id": "17d57783-7e93-448e-9097-d9938c9303b1",
   "metadata": {},
   "outputs": [],
   "source": [
    "''' \n",
    "    RECURSION\n",
    "    It is technique where a function calls itself in order to solve a problem\n",
    "    In a recursive function, the problem is divided into smaller subproblems, \n",
    "    and the function is applied to each subproblem. \n",
    "    The base case is a condition that stops the recursion and provides the final result.\n",
    "    Recursion may use more memory due to the function call stack.\n",
    "    Recursive solutions can be less efficient due to the overhead of function calls.\n",
    "    \n",
    "    ITERATION\n",
    "    It is the process of repeatedly executing a set of statements using loops. \n",
    "    Iteration usually uses less memory because it doesn't involve the call stack.\n",
    "    Iterative solutions are often more efficient in terms of speed and memory.\n",
    "'''"
   ]
  },
  {
   "cell_type": "markdown",
   "id": "ec81904c-6744-4931-9f10-70b74d2faf85",
   "metadata": {},
   "source": [
    "#### 2. Write a Python program to calculate the factorial of a number using recursion."
   ]
  },
  {
   "cell_type": "code",
   "execution_count": 8,
   "id": "7efdfa16-bfdd-4719-bd5d-449a451475fb",
   "metadata": {},
   "outputs": [
    {
     "name": "stdin",
     "output_type": "stream",
     "text": [
      "Enter the number (n):  5\n"
     ]
    },
    {
     "name": "stdout",
     "output_type": "stream",
     "text": [
      "The factorial of 5 is: 120\n"
     ]
    }
   ],
   "source": [
    "def factorialRecursive(n):\n",
    "    if n == 0 or n == 1:\n",
    "        return 1\n",
    "    else:\n",
    "        return n * factorialRecursive(n - 1)\n",
    "\n",
    "# Get user input for the number (n)\n",
    "n = int(input(\"Enter the number (n): \"))\n",
    "\n",
    "# Calculate and print the factorial\n",
    "result = factorialRecursive(n)\n",
    "print(f\"The factorial of {n} is: {result}\")\n"
   ]
  },
  {
   "cell_type": "markdown",
   "id": "2c3bf461-d56c-4f37-a88c-f6f0f64d20f6",
   "metadata": {},
   "source": [
    "#### 3. Create a recursive Python function to find the nth Fibonacci number."
   ]
  },
  {
   "cell_type": "code",
   "execution_count": 7,
   "id": "9e836cc6-a93a-4202-a27f-24072247b4af",
   "metadata": {},
   "outputs": [
    {
     "name": "stdin",
     "output_type": "stream",
     "text": [
      "Enter the Fibonacci term (n):  5\n"
     ]
    },
    {
     "name": "stdout",
     "output_type": "stream",
     "text": [
      "The Fibonacci number at term 5 is: 5\n"
     ]
    }
   ],
   "source": [
    "def fibonacciRecursive(n):\n",
    "    if n <= 1:\n",
    "        return n\n",
    "    else:\n",
    "        return fibonacciRecursive(n - 1) + fibonacciRecursive(n - 2)\n",
    "\n",
    "# Get user input for the Fibonacci term (n)\n",
    "n = int(input(\"Enter the Fibonacci term (n): \"))\n",
    "\n",
    "# Calculate and print the Fibonacci number\n",
    "result = fibonacciRecursive(n)\n",
    "print(f\"The Fibonacci number at term {n} is: {result}\")\n"
   ]
  },
  {
   "cell_type": "markdown",
   "id": "8304e23f-78d4-4703-b8a9-672c5ded9846",
   "metadata": {},
   "source": [
    "#### 4. Write a recursive Python function to calculate the sum of all elements in a list."
   ]
  },
  {
   "cell_type": "code",
   "execution_count": 6,
   "id": "8827fda0-55b6-4789-ba88-dc1aa5a5d4bf",
   "metadata": {},
   "outputs": [
    {
     "name": "stdout",
     "output_type": "stream",
     "text": [
      "The sum of the list [1, 2, 3, 4, 5] is: 15\n"
     ]
    }
   ],
   "source": [
    "def sumRecursive(lst, n):\n",
    "    if n == 0:\n",
    "        return lst[0]\n",
    "    else:\n",
    "        return lst[n] + sumRecursive(lst, n - 1)\n",
    "\n",
    "# Example list\n",
    "lst = [1, 2, 3, 4, 5]\n",
    "\n",
    "# Calculate and print the sum using recursion\n",
    "result = sumRecursive(lst, len(lst) - 1)\n",
    "print(f\"The sum of the list {lst} is: {result}\")\n"
   ]
  },
  {
   "cell_type": "markdown",
   "id": "8bdf079a-e2c7-4de4-854c-372ae7cdf358",
   "metadata": {},
   "source": [
    "#### 5. How can you prevent a recursive function from running indefinitely, causing a stack overflow error?"
   ]
  },
  {
   "cell_type": "code",
   "execution_count": null,
   "id": "83c5342d-5c13-4904-be83-d3e95b828cd8",
   "metadata": {},
   "outputs": [],
   "source": [
    "Using Base Class"
   ]
  },
  {
   "cell_type": "markdown",
   "id": "a97b6978-ebe2-425b-803c-ed01b1558771",
   "metadata": {},
   "source": [
    "#### 6. Create a recursive Python function to find the greatest common divisor (GCD) of two numbers using the Euclidean algorithm."
   ]
  },
  {
   "cell_type": "code",
   "execution_count": 24,
   "id": "efada9e5-17be-4b7e-9802-207c32a41a43",
   "metadata": {},
   "outputs": [
    {
     "name": "stdin",
     "output_type": "stream",
     "text": [
      "Enter the first number:  12\n",
      "Enter the second number:  24\n"
     ]
    },
    {
     "name": "stdout",
     "output_type": "stream",
     "text": [
      "The GCD of 12 and 24 is: 12\n"
     ]
    }
   ],
   "source": [
    "def gcd(a, b):\n",
    "    if b == 0:\n",
    "        return a\n",
    "    else:\n",
    "        return gcd(b, a % b)\n",
    "\n",
    "# Example usage\n",
    "num1 = int(input(\"Enter the first number: \"))\n",
    "num2 = int(input(\"Enter the second number: \"))\n",
    "\n",
    "result = gcd(num1, num2)\n",
    "print(f\"The GCD of {num1} and {num2} is: {result}\")\n"
   ]
  },
  {
   "cell_type": "markdown",
   "id": "3d734159-2453-452d-a5ec-f839b2fe8ff7",
   "metadata": {},
   "source": [
    "#### 7. Write a recursive Python function to reverse a string."
   ]
  },
  {
   "cell_type": "code",
   "execution_count": 5,
   "id": "5138ae4c-00c8-43f5-87a3-9d49494748c3",
   "metadata": {},
   "outputs": [
    {
     "name": "stdin",
     "output_type": "stream",
     "text": [
      "Enter the string:  Full Stack\n"
     ]
    },
    {
     "name": "stdout",
     "output_type": "stream",
     "text": [
      "The reversed string is: kcatS lluF\n"
     ]
    }
   ],
   "source": [
    "def rev(s, n):\n",
    "    if n == 0:\n",
    "        return s[n]\n",
    "    else:\n",
    "        return s[n] + rev(s, n - 1)\n",
    "\n",
    "# Get user input for the string (s)\n",
    "s = input(\"Enter the string: \")\n",
    "\n",
    "# Calculate and print the reversed string\n",
    "result = rev(s, len(s) - 1)\n",
    "print(f\"The reversed string is: {result}\")\n"
   ]
  },
  {
   "cell_type": "markdown",
   "id": "41281227-45d3-4528-bfb9-4bccfee5e059",
   "metadata": {},
   "source": [
    "#### 8. Create a recursive Python function to calculate the power of a number (x^n)."
   ]
  },
  {
   "cell_type": "code",
   "execution_count": 4,
   "id": "b6a0ef88-7010-4958-8308-1728f6cdf1f5",
   "metadata": {},
   "outputs": [
    {
     "name": "stdin",
     "output_type": "stream",
     "text": [
      "Enter the base (x):  2\n",
      "Enter the exponent (n):  3\n"
     ]
    },
    {
     "name": "stdout",
     "output_type": "stream",
     "text": [
      "The result of 2 raised to the power of 3 is: 8\n"
     ]
    }
   ],
   "source": [
    "def find(x, n):\n",
    "    if n == 1:\n",
    "        return x\n",
    "    else:\n",
    "        return x * find(x, n - 1)\n",
    "\n",
    "# Get user input for the base (x)\n",
    "x = int(input(\"Enter the base (x): \"))\n",
    "# Get user input for the exponent (n)\n",
    "n = int(input(\"Enter the exponent (n): \"))\n",
    "\n",
    "# Calculate and print the result\n",
    "result = find(x, n)\n",
    "print(f\"The result of {x} raised to the power of {n} is: {result}\")\n"
   ]
  },
  {
   "cell_type": "markdown",
   "id": "9f42b2ec-3227-4050-a1e9-269d0211ef45",
   "metadata": {},
   "source": [
    "#### 9. Write a recursive Python function to find all permutations of a given string."
   ]
  },
  {
   "cell_type": "code",
   "execution_count": 27,
   "id": "78898fc9-c963-4122-ac34-aeb97096ed53",
   "metadata": {},
   "outputs": [
    {
     "name": "stdin",
     "output_type": "stream",
     "text": [
      "Enter a string:  Nitin\n"
     ]
    },
    {
     "name": "stdout",
     "output_type": "stream",
     "text": [
      "Permutations: ['Nitin', 'Nitni', 'Niitn', 'Niint', 'Ninti', 'Ninit', 'Ntiin', 'Ntini', 'Ntiin', 'Ntini', 'Ntnii', 'Ntnii', 'Niitn', 'Niint', 'Nitin', 'Nitni', 'Ninit', 'Ninti', 'Nniti', 'Nniit', 'Nntii', 'Nntii', 'Nniit', 'Nniti', 'iNtin', 'iNtni', 'iNitn', 'iNint', 'iNnti', 'iNnit', 'itNin', 'itNni', 'itiNn', 'itinN', 'itnNi', 'itniN', 'iiNtn', 'iiNnt', 'iitNn', 'iitnN', 'iinNt', 'iintN', 'inNti', 'inNit', 'intNi', 'intiN', 'iniNt', 'initN', 'tNiin', 'tNini', 'tNiin', 'tNini', 'tNnii', 'tNnii', 'tiNin', 'tiNni', 'tiiNn', 'tiinN', 'tinNi', 'tiniN', 'tiNin', 'tiNni', 'tiiNn', 'tiinN', 'tinNi', 'tiniN', 'tnNii', 'tnNii', 'tniNi', 'tniiN', 'tniNi', 'tniiN', 'iNitn', 'iNint', 'iNtin', 'iNtni', 'iNnit', 'iNnti', 'iiNtn', 'iiNnt', 'iitNn', 'iitnN', 'iinNt', 'iintN', 'itNin', 'itNni', 'itiNn', 'itinN', 'itnNi', 'itniN', 'inNit', 'inNti', 'iniNt', 'initN', 'intNi', 'intiN', 'nNiti', 'nNiit', 'nNtii', 'nNtii', 'nNiit', 'nNiti', 'niNti', 'niNit', 'nitNi', 'nitiN', 'niiNt', 'niitN', 'ntNii', 'ntNii', 'ntiNi', 'ntiiN', 'ntiNi', 'ntiiN', 'niNit', 'niNti', 'niiNt', 'niitN', 'nitNi', 'nitiN']\n"
     ]
    }
   ],
   "source": [
    "def get_permutations(s):\n",
    "    if len(s) == 1:\n",
    "        return [s]\n",
    "    permutations = []\n",
    "    for i in range(len(s)):\n",
    "        first_char = s[i]\n",
    "        rest_of_string = s[:i] + s[i+1:]\n",
    "        for perm in get_permutations(rest_of_string):\n",
    "            permutations.append(first_char + perm)\n",
    "\n",
    "    return permutations\n",
    "\n",
    "# Example usage\n",
    "input_string = input(\"Enter a string: \")\n",
    "result_permutations = get_permutations(input_string)\n",
    "print(\"Permutations:\", result_permutations)\n"
   ]
  },
  {
   "cell_type": "markdown",
   "id": "740a08f1-ef2b-4bc3-b8a3-33d57bc323a8",
   "metadata": {},
   "source": [
    "#### 10. Write a recursive Python function to check if a string is a palindrome."
   ]
  },
  {
   "cell_type": "code",
   "execution_count": 26,
   "id": "2285c85e-cc87-4597-8534-3002b6677447",
   "metadata": {},
   "outputs": [
    {
     "name": "stdin",
     "output_type": "stream",
     "text": [
      "Enter a word:  Nitin\n"
     ]
    },
    {
     "name": "stdout",
     "output_type": "stream",
     "text": [
      "Nitin is a palindrome.\n"
     ]
    }
   ],
   "source": [
    "def check(s):\n",
    "    if len(s) <= 1:\n",
    "        return True\n",
    "    else:\n",
    "        return s[0] == s[-1] and check(s[1:-1])\n",
    "\n",
    "s = input(\"Enter a word: \")\n",
    "\n",
    "if check(s.lower()):\n",
    "    print(f\"{s} is a palindrome.\")\n",
    "else:\n",
    "    print(f\"{s} is not a palindrome.\")\n"
   ]
  },
  {
   "cell_type": "markdown",
   "id": "2a6e90ab-57b1-446e-8049-bbcf9be6baa7",
   "metadata": {},
   "source": [
    "#### 11. Create a recursive Python function to generate all possible combinations of a list of elements."
   ]
  },
  {
   "cell_type": "code",
   "execution_count": 28,
   "id": "babdffd0-3e75-4119-8d3a-9c041768a17e",
   "metadata": {},
   "outputs": [
    {
     "name": "stdin",
     "output_type": "stream",
     "text": [
      "Enter elements separated by spaces:  F U L L\n"
     ]
    },
    {
     "name": "stdout",
     "output_type": "stream",
     "text": [
      "Combinations: [[], ['F'], ['U'], ['F', 'U'], ['L'], ['F', 'L'], ['U', 'L'], ['F', 'U', 'L'], ['L'], ['F', 'L'], ['U', 'L'], ['F', 'U', 'L'], ['L', 'L'], ['F', 'L', 'L'], ['U', 'L', 'L'], ['F', 'U', 'L', 'L']]\n"
     ]
    }
   ],
   "source": [
    "def comb(elements):\n",
    "    if not elements:\n",
    "        return [[]]\n",
    "    current_element = elements[0]\n",
    "    rest_of_elements = elements[1:]\n",
    "    combinations_without_current = comb(rest_of_elements)\n",
    "    combinations_with_current = []\n",
    "    for combination in combinations_without_current:\n",
    "        combinations_with_current.append(combination)\n",
    "        combinations_with_current.append([current_element] + combination)\n",
    "    return combinations_with_current\n",
    "\n",
    "input_elements = input(\"Enter elements separated by spaces: \").split()\n",
    "result_combinations = comb(input_elements)\n",
    "print(\"Combinations:\", result_combinations)\n"
   ]
  },
  {
   "cell_type": "markdown",
   "id": "52990884-1566-4fcb-ad80-17d3f9dbec18",
   "metadata": {},
   "source": [
    "# Basics of Functions"
   ]
  },
  {
   "cell_type": "markdown",
   "id": "4aedc85d-0a8e-429e-bf8c-af446054dab2",
   "metadata": {},
   "source": [
    "#### 1. What is a function in Python, and why is it used?"
   ]
  },
  {
   "cell_type": "code",
   "execution_count": null,
   "id": "f7597f7d-e1f7-4e5e-b6c1-da24dfcbdfea",
   "metadata": {},
   "outputs": [],
   "source": [
    "''' \n",
    "    A function is a block of reusable code that performs a specific task. \n",
    "    Functions are defined using the def keyword, and they are an essential \n",
    "    building block of modular and organized programming.\n",
    "    \n",
    "    functions in Python help organize and structure code, promote reusability, \n",
    "    enhance readability, and facilitate testing and debugging. \n",
    "    They are a fundamental concept in programming that supports the development \n",
    "    of clean, maintainable, and efficient code.\n",
    "'''"
   ]
  },
  {
   "cell_type": "markdown",
   "id": "e25b1ff8-9fe1-4add-a361-1bb5396555e5",
   "metadata": {},
   "source": [
    "#### 2. How do you define a function in Python? Provide an example."
   ]
  },
  {
   "cell_type": "code",
   "execution_count": null,
   "id": "9f5017ae-1945-4eb3-b336-97b07548ad6f",
   "metadata": {},
   "outputs": [],
   "source": [
    "'''\n",
    "     Functions are defined using the def keyword, followed by the function name \n",
    "     and a set of parentheses containing optional parameters. The function body is indented.\n",
    "'''\n",
    "def myFunction(parameter1, parameter2):\n",
    "    # Function body\n",
    "    result = parameter1 + parameter2\n",
    "    return result\n"
   ]
  },
  {
   "cell_type": "markdown",
   "id": "e7f7e61e-5470-44e9-805d-f516b17ddb3c",
   "metadata": {},
   "source": [
    "#### 3. Explain the difference between a function definition and a function call. "
   ]
  },
  {
   "cell_type": "code",
   "execution_count": null,
   "id": "089d99a3-b3b7-4303-9d3c-089e7b8f793f",
   "metadata": {},
   "outputs": [],
   "source": [
    "'''\n",
    "    A function definition in Python is the creation of a function,\n",
    "    specifying its name, parameters, and the block of code to be executed \n",
    "    when the function is called. It defines the structure and behavior of \n",
    "    the function but doesn't execute the code within the function at that point.\n",
    "\n",
    "    On the other hand, a function call is the actual execution of a function. \n",
    "    It involves using the function's name followed by parentheses that may contain arguments. \n",
    "    When a function is called, the code within its block is executed, and the function may \n",
    "    return a result or perform a specific task based on its definition. Function calls are \n",
    "    how you use and leverage the functionality defined by the function.\n",
    "'''"
   ]
  },
  {
   "cell_type": "markdown",
   "id": "41798b43-d868-4a12-82ed-a2c92be1b5c5",
   "metadata": {},
   "source": [
    "#### 4. Write a Python program that defines a function to calculate the sum of two numbers and then calls the function."
   ]
  },
  {
   "cell_type": "code",
   "execution_count": 1,
   "id": "c9fd036c-cc3d-4f8e-8e3b-41728ee7a7c3",
   "metadata": {},
   "outputs": [
    {
     "name": "stdout",
     "output_type": "stream",
     "text": [
      "Sum: 10\n"
     ]
    }
   ],
   "source": [
    "def addNumbers(a, b):\n",
    "    # Function body: Adding two numbers\n",
    "    result = a + b\n",
    "    return result  \n",
    "\n",
    "sumResult = addNumbers(3, 7)\n",
    "print(\"Sum:\", sumResult)\n"
   ]
  },
  {
   "cell_type": "markdown",
   "id": "dea74a45-6dac-49c4-8afd-8a8be8c6d505",
   "metadata": {},
   "source": [
    "#### 5. What is a function signature, and what information does it typically include? "
   ]
  },
  {
   "cell_type": "code",
   "execution_count": null,
   "id": "3cda0cbd-210e-4360-b2e4-66fbb17b2e2d",
   "metadata": {},
   "outputs": [],
   "source": [
    "'''\n",
    "     a function signature is like a function's ID card – it tells you essential\n",
    "     information about the function without showing the details of what's inside.\n",
    "     It typically includes the function's name, the type and order of its parameters (if any), \n",
    "     and sometimes the type of value it returns.\n",
    "    the function signature is a concise summary of the function's characteristics – \n",
    "    its name, what kind of inputs it expects, and what it produces as output.\n",
    "\n",
    "\n",
    "\n",
    "\n",
    "\n",
    "'''"
   ]
  },
  {
   "cell_type": "markdown",
   "id": "d0b784a9-4139-47bb-a69a-f1097ca733c4",
   "metadata": {},
   "source": [
    "#### 6. Create a Python function that takes two arguments and returns their product."
   ]
  },
  {
   "cell_type": "code",
   "execution_count": 3,
   "id": "ef1cbb6a-3c3b-422c-a88e-5e2e61249f8a",
   "metadata": {},
   "outputs": [
    {
     "name": "stdin",
     "output_type": "stream",
     "text": [
      "Enter the first number:  2\n",
      "Enter the second number:  3\n"
     ]
    },
    {
     "name": "stdout",
     "output_type": "stream",
     "text": [
      "The product of 2 and 3 is: 6\n"
     ]
    }
   ],
   "source": [
    "def pro(a, b):\n",
    "    return a * b\n",
    "\n",
    "n = int(input(\"Enter the first number: \"))\n",
    "m = int(input(\"Enter the second number: \"))\n",
    "\n",
    "result = pro(n, m)\n",
    "print(\"The product of\", n, \"and\", m, \"is:\", result)\n"
   ]
  },
  {
   "cell_type": "markdown",
   "id": "15331cff-0c98-461f-93c2-81d2bf3a6ca3",
   "metadata": {},
   "source": [
    "# Function Parameters and Arguments:"
   ]
  },
  {
   "cell_type": "markdown",
   "id": "109c5bb4-8e11-45d2-9b7c-e18ca48a16dc",
   "metadata": {},
   "source": [
    "#### 1. Explain the concepts of formal parameters and actual arguments in Python functions."
   ]
  },
  {
   "cell_type": "code",
   "execution_count": 5,
   "id": "0159583a-2bca-4bb2-8865-c6c1bc3065b3",
   "metadata": {},
   "outputs": [
    {
     "name": "stdout",
     "output_type": "stream",
     "text": [
      "Hello, Alice!\n"
     ]
    }
   ],
   "source": [
    "'''\n",
    "    Formal Parameters:\n",
    "    variables that are define in the function definition.\n",
    "    Formal parameters are mentioned in the parentheses of the function definition.\n",
    "'''\n",
    "def greet(name):       #name is the formal parameter.\n",
    "    print(\"Hello, \" + name + \"!\")\n",
    "    \n",
    "    \n",
    "    \n",
    "    \n",
    "    \n",
    "'''\n",
    "    Actual Arguments:\n",
    "    These are the actual values that aress to a function when we call it.\n",
    "    They replace the formal parameters inside the function during execution.\n",
    "    There are different types of actual arguments: positional, keyword, and default.\n",
    "'''\n",
    "greet(\"Alice\")\n"
   ]
  },
  {
   "cell_type": "markdown",
   "id": "0f968397-d4ab-4b6d-b825-6c1ef663adc7",
   "metadata": {},
   "source": [
    "#### 2. Write a Python program that defines a function with default argument values."
   ]
  },
  {
   "cell_type": "code",
   "execution_count": 1,
   "id": "f14f8e62-f423-4600-8dc0-602b8cd09d65",
   "metadata": {},
   "outputs": [
    {
     "name": "stdout",
     "output_type": "stream",
     "text": [
      "7\n"
     ]
    }
   ],
   "source": [
    "def find(a=2,b=3):\n",
    "    print(a+b)\n",
    "\n",
    "find(4)"
   ]
  },
  {
   "cell_type": "markdown",
   "id": "8d416176-25ce-4add-83ca-7e45c8063547",
   "metadata": {},
   "source": [
    "#### 3. How do you use keyword arguments in Python function calls? Provide an example."
   ]
  },
  {
   "cell_type": "code",
   "execution_count": 6,
   "id": "385e9ee5-e14f-412f-95f2-35c0c94c042a",
   "metadata": {},
   "outputs": [
    {
     "name": "stdout",
     "output_type": "stream",
     "text": [
      "-1\n"
     ]
    }
   ],
   "source": [
    "'''\n",
    "use keyword arguments to explicitly specify which parameter \n",
    "each value should be assigned to. \n",
    "'''\n",
    "\n",
    "def find(a, b):\n",
    "    print(a - b)\n",
    "\n",
    "# Calling the function using keyword arguments\n",
    "find(b=3, a=2)\n"
   ]
  },
  {
   "cell_type": "markdown",
   "id": "a310def9-4eeb-4fb6-92c8-1141446c51b2",
   "metadata": {},
   "source": [
    "#### 4. Create a Python function that accepts a variable number of arguments and calculates their sum."
   ]
  },
  {
   "cell_type": "code",
   "execution_count": 9,
   "id": "4ac73a12-0bc2-449f-867d-b166b793f399",
   "metadata": {},
   "outputs": [
    {
     "name": "stdout",
     "output_type": "stream",
     "text": [
      "15\n",
      "60\n"
     ]
    }
   ],
   "source": [
    "def find(*args):\n",
    "    return sum(args)\n",
    "     \n",
    "\n",
    "result = find(1,2, 3, 4, 5)\n",
    "print(result) \n",
    "\n",
    "result = find(10, 20, 30)\n",
    "print(result)  "
   ]
  },
  {
   "cell_type": "markdown",
   "id": "b3c487f4-2b36-4671-98b2-568e9d058666",
   "metadata": {},
   "source": [
    "#### 5. What is the purpose of the `*args` and `**kwargs` syntax in function parameter lists?"
   ]
  },
  {
   "cell_type": "code",
   "execution_count": null,
   "id": "d5695327-cf0c-48a6-b442-d114290b417a",
   "metadata": {},
   "outputs": [],
   "source": [
    "'''\n",
    "The *args and **kwargs syntax in function parameter lists in Python \n",
    "allows you to work with a variable number of arguments. \n",
    "\n",
    "*args:\n",
    "The *args syntax is used to pass a variable number of positional arguments to a function.\n",
    "\n",
    "\n",
    "**kwargs:\n",
    "The **kwargs syntax is used to pass a variable number of keyword arguments to a function.\n",
    "'''"
   ]
  },
  {
   "cell_type": "markdown",
   "id": "13a20916-c96b-4b81-b68d-9b4878b2a29b",
   "metadata": {},
   "source": [
    "# Return Values and Scoping:"
   ]
  },
  {
   "cell_type": "markdown",
   "id": "40e2592a-f143-4fa4-beaf-6de3a6ab830d",
   "metadata": {},
   "source": [
    "#### 1. Describe the role of the `return` statement in Python functions and provide examples."
   ]
  },
  {
   "cell_type": "code",
   "execution_count": 12,
   "id": "8cf71788-15ea-4a78-931c-497c79718060",
   "metadata": {},
   "outputs": [
    {
     "name": "stdout",
     "output_type": "stream",
     "text": [
      "8\n"
     ]
    }
   ],
   "source": [
    "'''\n",
    "In Python, the return statement is used in a function to specify the value(s)\n",
    "that the function should provide as its output. \n",
    "When a function is called and reaches a return statement, it immediately exits,\n",
    "and the specified value(s) are returned to the caller. \n",
    "'''\n",
    "def find(a,b):\n",
    "    result = a + b\n",
    "    return result\n",
    "\n",
    "result = find(3, 5)\n",
    "print(result) "
   ]
  },
  {
   "cell_type": "markdown",
   "id": "70b31047-4caa-4d6e-a522-2a424a665d49",
   "metadata": {},
   "source": [
    "#### 2. Explain the concept of variable scope in Python, including local and global variables."
   ]
  },
  {
   "cell_type": "code",
   "execution_count": null,
   "id": "e258a39c-9b84-445e-9fae-22a883fd7ca5",
   "metadata": {},
   "outputs": [],
   "source": [
    "'''\n",
    "variable scope refers to the region or context of a program\n",
    "where a variable is defined and can be accessed.\n",
    "\n",
    "Local Variable Scope:\n",
    "\n",
    "A local variable is a variable that is declared inside a function or a block of code.\n",
    "It is only accessible within that specific function or block.\n",
    "Once the function or block of code completes execution, the local variable is destroyed.\n",
    "'''\n",
    "def function1():\n",
    "    x = 10  # local variable\n",
    "    print(x)\n",
    "\n",
    "function()\n",
    "print(x)  # This would result in an error since 'x' is not defined in this scope\n",
    "\n",
    "'''\n",
    "Global Variable Scope:\n",
    "\n",
    "A global variable is a variable declared outside any function or block,\n",
    "making it accessible throughout the entire program.\n",
    "It can be accessed from any function or block, provided it is not \n",
    "shadowed by a local variable with the same name.\n",
    "'''\n",
    "y = 20  # global variable\n",
    "\n",
    "def function2():\n",
    "    print(y)\n",
    "\n",
    "function()\n",
    "print(y)\n",
    "\n"
   ]
  },
  {
   "cell_type": "markdown",
   "id": "d4735e63-079e-4825-bd5e-95d369a492f5",
   "metadata": {},
   "source": [
    "#### 3. Write a Python program that demonstrates the use of global variables within functions."
   ]
  },
  {
   "cell_type": "code",
   "execution_count": 15,
   "id": "5a4ce337-6d8b-4148-b60c-31bb15379f91",
   "metadata": {},
   "outputs": [
    {
     "name": "stdout",
     "output_type": "stream",
     "text": [
      "Before any function calls: 10\n",
      "Inside the function: 11\n",
      "After the first function call: 11\n",
      "Inside another function: 33\n",
      "After the second function call: 11\n"
     ]
    }
   ],
   "source": [
    "# Global variable\n",
    "g = 10\n",
    "\n",
    "def inc_g():\n",
    "    # Accessing the global variable\n",
    "    global g\n",
    "    g += 1\n",
    "    print(\"Inside the function:\", g)\n",
    "\n",
    "def mul_g(f):\n",
    "    # Accessing the global variable\n",
    "    global g\n",
    "    result = g * f\n",
    "    print(\"Inside another function:\", result)\n",
    "\n",
    "print(\"Before any function calls:\", g)\n",
    "inc_g()\n",
    "print(\"After the first function call:\", g)\n",
    "mul_g(3)\n",
    "print(\"After the second function call:\", g)\n"
   ]
  },
  {
   "cell_type": "markdown",
   "id": "b9b89556-df30-40f3-b14c-dea24eda2d08",
   "metadata": {},
   "source": [
    "#### 4. Create a Python function that calculates the factorial of a number and returns it."
   ]
  },
  {
   "cell_type": "code",
   "execution_count": 16,
   "id": "933ba2c6-0272-4b17-bb6e-3dc605e6aece",
   "metadata": {},
   "outputs": [
    {
     "name": "stdout",
     "output_type": "stream",
     "text": [
      "120\n"
     ]
    }
   ],
   "source": [
    "def find(n):\n",
    "    if n<1:\n",
    "        return 1\n",
    "    else:\n",
    "        return n*find(n-1)\n",
    "    \n",
    "result =find(5)\n",
    "\n",
    "print(result)"
   ]
  },
  {
   "cell_type": "markdown",
   "id": "c2f2f19c-3f28-40d2-8747-09ce8d4ffca0",
   "metadata": {},
   "source": [
    "#### 5. How can you access variables defined outside a function from within the function?"
   ]
  },
  {
   "cell_type": "code",
   "execution_count": 17,
   "id": "ff667b72-c641-4879-ac67-0a489aa37231",
   "metadata": {},
   "outputs": [
    {
     "name": "stdout",
     "output_type": "stream",
     "text": [
      "Inside the function: 10\n",
      "Inside the function: 10\n"
     ]
    }
   ],
   "source": [
    "'''\n",
    "Pass the Variable as an Argument:\n",
    "You can pass the variable as an argument to the function.\n",
    "'''\n",
    "def function1(x):\n",
    "    print(\"Inside the function:\", x)\n",
    "\n",
    "outsideVariable = 10\n",
    "function1(outsideVariable)\n",
    "\n",
    "'''\n",
    "Use the global Keyword:\n",
    "If you want to both access and modify a global variable within a function, use the global keyword.\n",
    "'''\n",
    "globalVariable = 10\n",
    "\n",
    "def function2():\n",
    "    global globalVariable\n",
    "    print(\"Inside the function:\", globalVariable)\n",
    "\n",
    "function2()\n"
   ]
  },
  {
   "cell_type": "markdown",
   "id": "d761745c-4736-44cd-bdab-e3a6b6cdcd6a",
   "metadata": {},
   "source": [
    "# Lambda Functions and Higher-Order Functions:"
   ]
  },
  {
   "cell_type": "markdown",
   "id": "1b1b41c0-0263-4e34-b040-3ad0ad924747",
   "metadata": {
    "tags": []
   },
   "source": [
    "#### 1. What are lambda functions in Python, and when are they typically used?"
   ]
  },
  {
   "cell_type": "code",
   "execution_count": null,
   "id": "fc830ce1-ba34-4082-a7d8-b75e297b980d",
   "metadata": {},
   "outputs": [],
   "source": [
    "'''\n",
    "Lambda functions are also known as anonymous functions because \n",
    "they don't have a name like regular functions created with the def keyword. \n",
    "Lambda functions are typically used for short, simple operations where a full \n",
    "function definition is not necessary.\n",
    "'''\n",
    "add = lambda x, y: x + y\n",
    "result = add(3, 5)\n",
    "print(result)  # Output: 8\n",
    "\n",
    "'''\n",
    "USed In \n",
    "Inline Functions:\n",
    "Short-lived Functions:\n"
   ]
  },
  {
   "cell_type": "markdown",
   "id": "97918439-b590-4fc9-a5c0-7d149372f7f5",
   "metadata": {},
   "source": [
    "#### 2. Write a Python program that uses lambda functions to sort a list of tuples based on the second element."
   ]
  },
  {
   "cell_type": "code",
   "execution_count": 19,
   "id": "5b9a253a-5616-4a9b-a225-8eef09d40df1",
   "metadata": {},
   "outputs": [
    {
     "data": {
      "text/plain": [
       "[(1, 2, 3), (4, 5, 6), (7, 8, 9)]"
      ]
     },
     "execution_count": 19,
     "metadata": {},
     "output_type": "execute_result"
    }
   ],
   "source": [
    "lst  = [(4,5,6),(1,2,3),(7,8,9)]\n",
    "\n",
    "sorted(lst,key = lambda a: a[1])"
   ]
  },
  {
   "cell_type": "markdown",
   "id": "bdd64e85-b525-4e6f-bdf9-23ff65deca50",
   "metadata": {},
   "source": [
    "#### 3. Explain the concept of higher-order functions in Python, and provide an example."
   ]
  },
  {
   "cell_type": "code",
   "execution_count": 20,
   "id": "5113997f-50c9-4cfb-b3bc-e6258de384ae",
   "metadata": {},
   "outputs": [
    {
     "name": "stdout",
     "output_type": "stream",
     "text": [
      "Result of addition: 8\n",
      "Result of multiplication: 15\n"
     ]
    }
   ],
   "source": [
    "'''\n",
    "a higher-order function is a function that takes one or more functions as arguments or returns a function as its result\n",
    "\n",
    "Function as an Argument:\n",
    "    A higher-order function can take another function as an argument.\n",
    "Function as a Return Value:\n",
    "    A higher-order function can also return a function.\n",
    "\n",
    "'''\n",
    "# Higher-order function taking a function as an argument\n",
    "def apply_operation(operation, x, y):\n",
    "    return operation(x, y)\n",
    "\n",
    "# Functions to be used as arguments\n",
    "def add(x, y):\n",
    "    return x + y\n",
    "\n",
    "def multiply(x, y):\n",
    "    return x * y\n",
    "\n",
    "# Using the higher-order function with different operations\n",
    "result_add = apply_operation(add, 3, 5)\n",
    "result_multiply = apply_operation(multiply, 3, 5)\n",
    "\n",
    "print(\"Result of addition:\", result_add)        # Output: 8\n",
    "print(\"Result of multiplication:\", result_multiply)  # Output: 15\n"
   ]
  },
  {
   "cell_type": "markdown",
   "id": "8bab6a22-4468-4872-92b9-34afe2a2c87f",
   "metadata": {},
   "source": [
    "#### 4. Create a Python function that takes a list of numbers and a function as arguments, applying the function to each element in the list."
   ]
  },
  {
   "cell_type": "code",
   "execution_count": 23,
   "id": "367d52ac-35d0-4a1e-a586-2a6e21187f3d",
   "metadata": {},
   "outputs": [
    {
     "name": "stdout",
     "output_type": "stream",
     "text": [
      "[1, 8, 27, 64, 125]\n"
     ]
    }
   ],
   "source": [
    "def hf(lst,ope):\n",
    "    \n",
    "    result = []\n",
    "    for i in lst:\n",
    "        result.append(ope(i))\n",
    "    return result\n",
    "\n",
    "def cube(n):\n",
    "    return n*n*n\n",
    "\n",
    "lst = [1,2,3,4,5]\n",
    "result =hf(lst,cube)\n",
    "print(result)"
   ]
  },
  {
   "cell_type": "markdown",
   "id": "bb366dd3-6161-4ad8-ba6f-29a439e7f25f",
   "metadata": {},
   "source": [
    "# Built-in Functions:"
   ]
  },
  {
   "cell_type": "markdown",
   "id": "b9cb60e5-f5fb-4cce-a4d4-b24e0fb74782",
   "metadata": {},
   "source": [
    "#### 1. Describe the role of built-in functions like `len()`, `max()`, and `min()` in Python."
   ]
  },
  {
   "cell_type": "code",
   "execution_count": null,
   "id": "50e94491-2212-475c-b859-152ab5ba5f30",
   "metadata": {},
   "outputs": [],
   "source": [
    "len() - find the length of an iterable\n",
    "max() - find the the maximum element\n",
    "min() - find the minimum element "
   ]
  },
  {
   "cell_type": "markdown",
   "id": "5c45ebdb-7ea5-4602-8df8-7c9f04c2f5e1",
   "metadata": {},
   "source": [
    "#### 2. Write a Python program that uses the `map()` function to apply a function to each element of a list."
   ]
  },
  {
   "cell_type": "code",
   "execution_count": 24,
   "id": "adc17574-bb33-4dbf-ab64-3a4ccd17fc77",
   "metadata": {},
   "outputs": [
    {
     "data": {
      "text/plain": [
       "[1, 4, 9, 16, 25]"
      ]
     },
     "execution_count": 24,
     "metadata": {},
     "output_type": "execute_result"
    }
   ],
   "source": [
    "lst = [1,2,3,4,5]\n",
    "list(map(lambda a : a*a,lst))\n"
   ]
  },
  {
   "cell_type": "markdown",
   "id": "a32e4abe-a747-4331-bc34-33ba64a6763b",
   "metadata": {},
   "source": [
    "#### 3. How does the `filter()` function work in Python, and when would you use it?"
   ]
  },
  {
   "cell_type": "code",
   "execution_count": null,
   "id": "b98c565f-77d1-45d4-a3f0-cdbb7e7d1617",
   "metadata": {},
   "outputs": [],
   "source": [
    "''' \n",
    "    It is a built-in function that is used to filter elements from an \n",
    "    iterable based on a specified function or condition.\n",
    "    \n",
    "    It returns an iterator containing only the elements for which \n",
    "    the function returns True.\n",
    "    \n",
    "    USECASE:\n",
    "    Filtering Based on a Condition\n",
    "    Removing Unwanted Elements\n",
    "    Data Cleaning and Transformation\n",
    "    \n",
    "'''\n",
    "\n",
    "lst  =[1,2,3,4,5]\n",
    "list(filter(lambda a: a%2==0,lst))"
   ]
  },
  {
   "cell_type": "markdown",
   "id": "3c6ffebf-be71-4755-87e9-8d5f4080a78a",
   "metadata": {},
   "source": [
    "#### 4. Create a Python program that uses the `reduce()` function to find the product of all elements in a list."
   ]
  },
  {
   "cell_type": "code",
   "execution_count": 28,
   "id": "264bbd59-b737-49c9-9895-60de5ed371f6",
   "metadata": {},
   "outputs": [
    {
     "data": {
      "text/plain": [
       "120"
      ]
     },
     "execution_count": 28,
     "metadata": {},
     "output_type": "execute_result"
    }
   ],
   "source": [
    "from functools import reduce\n",
    "lst = [1,2,3,4,5]\n",
    "reduce(lambda a,b : a*b,lst)"
   ]
  },
  {
   "cell_type": "markdown",
   "id": "5ee2a698-9c92-464a-87a0-c12f960e0e16",
   "metadata": {},
   "source": [
    "# Function Documentation and Best Practices:"
   ]
  },
  {
   "cell_type": "markdown",
   "id": "5a3209b2-83fc-4a30-9fd5-47f4e0a5c834",
   "metadata": {},
   "source": [
    "#### 1. Explain the purpose of docstrings in Python functions and how to write them"
   ]
  },
  {
   "cell_type": "code",
   "execution_count": null,
   "id": "13ca4a79-3f9e-46ed-baa7-68a4a0cb53c7",
   "metadata": {},
   "outputs": [],
   "source": [
    "'''\n",
    " The purpose of docstrings in Python functions is to provide\n",
    " informative documentation that describes the purpose, usage,\n",
    " and parameters of the function. \n",
    " Docstrings are used to document code, making it more readable \n",
    " and aiding developers, tools, and IDEs in understanding the \n",
    " functionality of the function.\n",
    " '''\n",
    "\n",
    "def example_function(parameter1, parameter2):\n",
    "    \"\"\"\n",
    "    This is a docstring that provides a brief description of the function.\n",
    "\n",
    "    Parameters:\n",
    "    - parameter1: Description of parameter1.\n",
    "    - parameter2: Description of parameter2.\n",
    "\n",
    "    Returns:\n",
    "    - The function's return value and its description.\n",
    "    \"\"\"\n",
    "    # Function implementation here\n",
    "    pass\n"
   ]
  },
  {
   "cell_type": "markdown",
   "id": "761fcb1a-bd91-469e-a43a-c24c9ac9c9fa",
   "metadata": {},
   "source": [
    "#### 2.Describe some best practices for naming functions and variables in Python, including naming conventions and guidelines."
   ]
  },
  {
   "cell_type": "markdown",
   "id": "c8389a17-b0ba-4f14-a397-09b79e408f05",
   "metadata": {},
   "source": [
    "Use Descriptive Names:\n",
    ">Choose names that clearly convey the purpose or functionality of the function or variable.\n",
    "\n",
    "Follow Naming Conventions:\n",
    ">Adhere to the PEP 8 naming conventions, such as using lowercase with underscores for function and variable names (snake_case).\n",
    "\n",
    "Avoid Single Letters:\n",
    ">Avoid using single letters for variable names unless in simple loop constructs; opt for descriptive names instead.\n",
    "\n",
    "Use Verb-Noun Pairing for Functions:\n",
    ">When naming functions, consider using a verb-noun pairing to indicate actions and objects.\n",
    "\n",
    "Avoid Using Reserved Words:\n",
    ">Do not use reserved words or built-in names (e.g., don't name a variable 'list' or 'str').\n",
    "\n",
    "Use Meaningful Variable Names:\n",
    ">Choose meaningful and contextually relevant names for variables to enhance code understanding.\n",
    "\n",
    "Consider Function Names as Documentation:\n",
    ">Make function names self-explanatory, serving as a form of documentation for users of the code.\n"
   ]
  },
  {
   "cell_type": "code",
   "execution_count": null,
   "id": "aa9c1e08-d20b-42a5-9591-152d187de245",
   "metadata": {},
   "outputs": [],
   "source": []
  }
 ],
 "metadata": {
  "kernelspec": {
   "display_name": "Python 3 (ipykernel)",
   "language": "python",
   "name": "python3"
  },
  "language_info": {
   "codemirror_mode": {
    "name": "ipython",
    "version": 3
   },
   "file_extension": ".py",
   "mimetype": "text/x-python",
   "name": "python",
   "nbconvert_exporter": "python",
   "pygments_lexer": "ipython3",
   "version": "3.10.8"
  }
 },
 "nbformat": 4,
 "nbformat_minor": 5
}
