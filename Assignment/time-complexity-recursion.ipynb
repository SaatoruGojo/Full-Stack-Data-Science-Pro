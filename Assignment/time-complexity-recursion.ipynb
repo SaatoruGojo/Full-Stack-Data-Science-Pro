{
 "cells": [
  {
   "cell_type": "markdown",
   "id": "c0f1090f-e567-4f6c-8b52-71995c9fabdf",
   "metadata": {},
   "source": [
    "# Find time complexity of below code blocks :"
   ]
  },
  {
   "cell_type": "markdown",
   "id": "8478f957-65ac-4eeb-8a3e-0752bc5134eb",
   "metadata": {
    "tags": []
   },
   "source": [
    "## Problem 1 :"
   ]
  },
  {
   "cell_type": "code",
   "execution_count": 4,
   "id": "8bc57a0a-d07f-42f7-a630-0fffd28c03c7",
   "metadata": {},
   "outputs": [],
   "source": [
    "def quicksort(arr):\n",
    "\n",
    "    if len(arr) <= 1:\n",
    "\n",
    "        return arr\n",
    "\n",
    "    pivot = arr[len(arr) // 2]\n",
    "\n",
    "    left = [x for x in arr if x < pivot]\n",
    "\n",
    "    middle = [x for x in arr if x == pivot]\n",
    "\n",
    "    right = [x for x in arr if x > pivot]\n",
    "\n",
    "    return quicksort(left) + middle + quicksort(right)\n"
   ]
  },
  {
   "cell_type": "code",
   "execution_count": null,
   "id": "601cb0d3-637b-4f8f-a540-a450e52283a3",
   "metadata": {},
   "outputs": [],
   "source": [
    "Average-case time Complexity : O(n log n)\n",
    "Worst-case time complexity: O(n^2)"
   ]
  },
  {
   "cell_type": "markdown",
   "id": "856bfbfb-9b0c-41fb-93b0-83ccdf665cca",
   "metadata": {},
   "source": [
    "## Problem 2:"
   ]
  },
  {
   "cell_type": "code",
   "execution_count": 3,
   "id": "81a512f8-10a6-4ac6-99c4-32660ac89a46",
   "metadata": {},
   "outputs": [],
   "source": [
    "def nested_loop_example(matrix):\n",
    "\n",
    "    rows, cols = len(matrix), len(matrix[0])\n",
    "\n",
    "    total = 0\n",
    "\n",
    "    for i in range(rows):\n",
    "\n",
    "        for j in range(cols):\n",
    "\n",
    "            total += matrix[i][j]\n",
    "\n",
    "    return total"
   ]
  },
  {
   "cell_type": "code",
   "execution_count": null,
   "id": "f2452861-9004-4491-b9c5-24b3994dc442",
   "metadata": {},
   "outputs": [],
   "source": [
    "- Time Complexity: O(rows * cols) \n",
    "- Space Complexity: O(1) "
   ]
  },
  {
   "cell_type": "markdown",
   "id": "1ee0014a-96ed-4d7e-8f1d-22e76411209c",
   "metadata": {},
   "source": [
    "## Problem 3 :"
   ]
  },
  {
   "cell_type": "code",
   "execution_count": null,
   "id": "dfc7a69d-0c32-4a2c-bb5e-5cdf8ea16989",
   "metadata": {},
   "outputs": [],
   "source": [
    "\n",
    "def example_function(arr):\n",
    "\n",
    "    result = 0\n",
    "\n",
    "    for element in arr:\n",
    "\n",
    "        result += element\n",
    "\n",
    "    return result"
   ]
  },
  {
   "cell_type": "code",
   "execution_count": null,
   "id": "5b738bde-d8d7-483d-a7de-5c5edccffc19",
   "metadata": {},
   "outputs": [],
   "source": [
    "- Time Complexity: O(n) \n",
    "- Space Complexity: O(1) "
   ]
  },
  {
   "cell_type": "markdown",
   "id": "bc93bc57-d1ec-4832-b02e-1cc28ef8a91d",
   "metadata": {},
   "source": [
    "## Problem 4:"
   ]
  },
  {
   "cell_type": "code",
   "execution_count": 6,
   "id": "3c946d9b-53c6-4a9f-b4a6-8dc45bae25f3",
   "metadata": {},
   "outputs": [],
   "source": [
    "def longest_increasing_subsequence(nums):\n",
    "\n",
    "    n = len(nums)\n",
    "\n",
    "    lis = [1] * n\n",
    "\n",
    "    for i in range(1, n):\n",
    "\n",
    "        for j in range(0, i):\n",
    "\n",
    "            if nums[i] > nums[j] and lis[i] < lis[j] + 1:\n",
    "\n",
    "                lis[i] = lis[j] + 1\n",
    "\n",
    "    return max(lis)"
   ]
  },
  {
   "cell_type": "code",
   "execution_count": null,
   "id": "5be5046a-8f07-4cf0-81d8-7096486ac8f4",
   "metadata": {},
   "outputs": [],
   "source": [
    "- Time Complexity: O(n^n) \n",
    "- Space Complexity: O(n) "
   ]
  },
  {
   "cell_type": "markdown",
   "id": "21b49d77-4549-45c7-a58b-7fdaefd06a90",
   "metadata": {},
   "source": [
    "## Problem 5:"
   ]
  },
  {
   "cell_type": "code",
   "execution_count": null,
   "id": "eb0b792e-9b34-468c-a380-709686f69417",
   "metadata": {},
   "outputs": [],
   "source": [
    "def mysterious_function(arr):\n",
    "\n",
    "    n = len(arr)\n",
    "\n",
    "    result = 0\n",
    "\n",
    "    for i in range(n):\n",
    "\n",
    "        for j in range(i, n):\n",
    "\n",
    "            result += arr[i] * arr[j]\n",
    "\n",
    "    return result"
   ]
  },
  {
   "cell_type": "code",
   "execution_count": null,
   "id": "d8c2efd9-9c1b-4588-8ac3-57517c657ddd",
   "metadata": {},
   "outputs": [],
   "source": [
    "- Time Complexity: O(n^n) \n",
    "- Space Complexity: O(1) "
   ]
  },
  {
   "cell_type": "markdown",
   "id": "c2a8b9da-3ab6-43a8-b3fc-4721a81a3e67",
   "metadata": {},
   "source": [
    "## Problem 6 : Sum of Digits"
   ]
  },
  {
   "cell_type": "code",
   "execution_count": 7,
   "id": "424bb543-461b-4864-9f06-200da658f226",
   "metadata": {},
   "outputs": [
    {
     "name": "stdout",
     "output_type": "stream",
     "text": [
      "6\n"
     ]
    }
   ],
   "source": [
    "def sum(n):\n",
    "    if n == 0:\n",
    "        return 0\n",
    "    else:\n",
    "        return n % 10 + sum(n // 10)\n",
    "    \n",
    "print(sum(123))"
   ]
  },
  {
   "cell_type": "markdown",
   "id": "ccb94de9-c3c1-4f23-82ea-000e9e397000",
   "metadata": {},
   "source": [
    "## Problem 7: Fibonacci Series"
   ]
  },
  {
   "cell_type": "code",
   "execution_count": 8,
   "id": "02c73e31-0197-497f-b542-b08cde4c03c9",
   "metadata": {},
   "outputs": [
    {
     "name": "stdout",
     "output_type": "stream",
     "text": [
      "[0, 1, 1, 2, 3, 5]\n"
     ]
    }
   ],
   "source": [
    "def fibonacci_series(n):\n",
    "    if n == 1:\n",
    "        return [0]\n",
    "    elif n == 2:\n",
    "        return [0, 1]\n",
    "    else:\n",
    "        series = fibonacci_series(n - 1)\n",
    "        series.append(series[-1] + series[-2])\n",
    "        return series\n",
    "print(fibonacci_series(6))"
   ]
  },
  {
   "cell_type": "markdown",
   "id": "74792626-3201-46d9-b626-89b64d1b7816",
   "metadata": {},
   "source": [
    "## Problem 8 : Subset Sum"
   ]
  },
  {
   "cell_type": "code",
   "execution_count": 9,
   "id": "00e0b417-a1cc-42ad-81e1-e8d326388390",
   "metadata": {},
   "outputs": [
    {
     "name": "stdout",
     "output_type": "stream",
     "text": [
      "True\n"
     ]
    }
   ],
   "source": [
    "def subset_sum(a, b):\n",
    "    if b == 0:\n",
    "        return True\n",
    "    if len(a) == 0:\n",
    "        return False\n",
    "    \n",
    "    last = a[-1]\n",
    "\n",
    "    if last > b:\n",
    "        return subset_sum(a[:-1], b)\n",
    "    \n",
    "    return subset_sum(a[:-1], b) or subset_sum(a[:-1], b - last)\n",
    "\n",
    "print(subset_sum([3, 34, 4, 12, 5, 2], 9))  # Output: True\n"
   ]
  },
  {
   "cell_type": "markdown",
   "id": "45cae0f0-a35a-4d46-8e3b-30a187cb18a3",
   "metadata": {},
   "source": [
    "## Problem 9 Word Break"
   ]
  },
  {
   "cell_type": "code",
   "execution_count": 12,
   "id": "4b048ac4-a46a-45b5-9968-11cdfbc48be3",
   "metadata": {},
   "outputs": [
    {
     "name": "stdout",
     "output_type": "stream",
     "text": [
      "True\n"
     ]
    }
   ],
   "source": [
    "def word_break(s, word_dict):\n",
    "    if not s:\n",
    "        return True\n",
    "\n",
    "    for i in range(1, len(s) + 1):\n",
    "        prefix = s[:i]\n",
    "        if prefix in word_dict and word_break(s[i:], word_dict):\n",
    "            return True\n",
    "\n",
    "    return False\n",
    "\n",
    "\n",
    "print(word_break(\"leetcode\", [\"leet\", \"code\"]))\n"
   ]
  },
  {
   "cell_type": "markdown",
   "id": "dc90c2eb-ca8d-4eba-ae92-7e8824493bb6",
   "metadata": {},
   "source": [
    "## Problem 10 N Queens"
   ]
  },
  {
   "cell_type": "code",
   "execution_count": 13,
   "id": "02b2d484-1c4a-41c1-b6a4-f71e82c86e55",
   "metadata": {},
   "outputs": [
    {
     "name": "stdout",
     "output_type": "stream",
     "text": [
      ".Q..\n",
      "...Q\n",
      "Q...\n",
      "..Q.\n",
      "\n",
      "..Q.\n",
      "Q...\n",
      "...Q\n",
      ".Q..\n",
      "\n"
     ]
    }
   ],
   "source": [
    "#Used help of article to understand and code\n",
    "\n",
    "def n_queens(n):\n",
    "    def is_valid(board, row, col):\n",
    "        # Check column\n",
    "        for i in range(row):\n",
    "            if board[i][col] == 'Q':\n",
    "                return False\n",
    "        \n",
    "        # Check upper-left diagonal\n",
    "        for i, j in zip(range(row, -1, -1), range(col, -1, -1)):\n",
    "            if board[i][j] == 'Q':\n",
    "                return False\n",
    "        \n",
    "        # Check upper-right diagonal\n",
    "        for i, j in zip(range(row, -1, -1), range(col, n)):\n",
    "            if board[i][j] == 'Q':\n",
    "                return False\n",
    "        \n",
    "        return True\n",
    "\n",
    "    def solve(board, row):\n",
    "        if row == n:\n",
    "            result.append([''.join(r) for r in board])\n",
    "            return\n",
    "        \n",
    "        for col in range(n):\n",
    "            if is_valid(board, row, col):\n",
    "                board[row][col] = 'Q'\n",
    "                solve(board, row + 1)\n",
    "                board[row][col] = '.'\n",
    "    \n",
    "    result = []\n",
    "    board = [['.' for _ in range(n)] for _ in range(n)]\n",
    "    solve(board, 0)\n",
    "    return result\n",
    "\n",
    "# Test the function\n",
    "solutions = n_queens(4)\n",
    "for solution in solutions:\n",
    "    for row in solution:\n",
    "        print(row)\n",
    "    print()\n"
   ]
  },
  {
   "cell_type": "code",
   "execution_count": null,
   "id": "c0e3b140-6ec0-4b9a-a4bc-d6a5666c339a",
   "metadata": {},
   "outputs": [],
   "source": []
  }
 ],
 "metadata": {
  "kernelspec": {
   "display_name": "Python 3 (ipykernel)",
   "language": "python",
   "name": "python3"
  },
  "language_info": {
   "codemirror_mode": {
    "name": "ipython",
    "version": 3
   },
   "file_extension": ".py",
   "mimetype": "text/x-python",
   "name": "python",
   "nbconvert_exporter": "python",
   "pygments_lexer": "ipython3",
   "version": "3.10.8"
  }
 },
 "nbformat": 4,
 "nbformat_minor": 5
}
