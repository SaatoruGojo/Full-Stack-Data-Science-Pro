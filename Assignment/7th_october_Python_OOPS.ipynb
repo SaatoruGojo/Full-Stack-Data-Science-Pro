{
 "cells": [
  {
   "cell_type": "markdown",
   "id": "02978aff-daa6-4c77-bb7d-2801773770cc",
   "metadata": {},
   "source": [
    "<h1>OOPs Assignment"
   ]
  },
  {
   "cell_type": "markdown",
   "id": "98045060-5fb2-4400-81aa-9043ed671dd4",
   "metadata": {},
   "source": [
    "#### Problem 1: Bank Account Create a class representing a bank account with attributes like account number, account holder name, and balance. Implement methods to deposit and withdraw money from the account."
   ]
  },
  {
   "cell_type": "code",
   "execution_count": 7,
   "id": "5c913110-4264-4dc6-ba6b-bbabcb219125",
   "metadata": {},
   "outputs": [
    {
     "name": "stdout",
     "output_type": "stream",
     "text": [
      "500 Deposited and New balance: 1500\n",
      "1000 withdrawed and New balance: 500\n",
      "Account Balance:  500\n"
     ]
    }
   ],
   "source": [
    "class bankAccount:\n",
    "    def __init__(self,accountNumber,accountHolder,balance):\n",
    "        self.accountNumber = accountNumber\n",
    "        self.accountHolder = accountHolder\n",
    "        self.balance = balance\n",
    "    \n",
    "    def deposit(self,amount):\n",
    "        self.balance += amount\n",
    "        print(f\"{amount} Deposited and New balance: {self.balance}\")\n",
    "        \n",
    "    def withdraw(self,amount):\n",
    "        if self.balance > amount:\n",
    "            self.balance -= amount\n",
    "            print(f\"{amount} withdrawed and New balance: {self.balance}\")\n",
    "        else:\n",
    "            print(\"Insuffiencient Balance\")\n",
    "            \n",
    "amit = bankAccount(1,\"Amit\",1000)\n",
    "amit.deposit(500)\n",
    "amit.withdraw(1000)\n",
    "print(\"Account Balance: \",amit.balance)"
   ]
  },
  {
   "cell_type": "markdown",
   "id": "a029867f-28b2-4463-86fe-81dde4eba2f1",
   "metadata": {},
   "source": [
    "#### Problem 2: Employee Management Create a class representing an employee with attributes like employee ID, name, and salary. Implement methods to calculate the yearly bonus and display employee details."
   ]
  },
  {
   "cell_type": "code",
   "execution_count": 13,
   "id": "57ad8421-184f-4d9c-8aac-6c4ab149055e",
   "metadata": {},
   "outputs": [
    {
     "name": "stdout",
     "output_type": "stream",
     "text": [
      "Yearly Bonus: 90000.0\n",
      "Employee ID: 1\n",
      "Employee Name: aman\n",
      "Employee salary: 450000\n"
     ]
    }
   ],
   "source": [
    "class management:\n",
    "    def __init__(self,empId,name,salary):\n",
    "        self.empId = empId\n",
    "        self.name = name\n",
    "        self.salary= salary\n",
    "    \n",
    "    def yearlyBonus(self,bonus):\n",
    "        return (bonus * self.salary)/100\n",
    "    \n",
    "    def display(self):\n",
    "        print(f\"Employee ID: {self.empId}\")\n",
    "        print(f\"Employee Name: {self.name}\")\n",
    "        print(f\"Employee salary: {self.salary}\")\n",
    "        \n",
    "aman = management(1,\"aman\",450000)\n",
    "print(f\"Yearly Bonus: {aman.yearlyBonus(20)}\")\n",
    "aman.display()"
   ]
  },
  {
   "cell_type": "markdown",
   "id": "eeadbf50-449f-4a0b-8a03-241142cf23f7",
   "metadata": {},
   "source": [
    "#### Problem 3: Vehicle Rental Create a class representing a vehicle rental system. Implement methods to rent a vehicle, return a vehicle, and display available vehicles."
   ]
  },
  {
   "cell_type": "code",
   "execution_count": 24,
   "id": "afa3c04c-cc98-40bc-9f54-a8658f6d04e7",
   "metadata": {},
   "outputs": [
    {
     "name": "stdout",
     "output_type": "stream",
     "text": [
      "Vehicle 1 Added\n",
      "Vehicle 2 Added\n",
      "Vehicle 3 Added\n",
      "Vehicle 6 Not Available\n",
      "Vehicle 2 Rented\n",
      "Vehicle 2 Not Available\n"
     ]
    }
   ],
   "source": [
    "class Rental:\n",
    "    def __init__(self):\n",
    "        self.available_vehicles = []\n",
    "\n",
    "    def add(self, vid):\n",
    "        self.available_vehicles.append(vid)\n",
    "        print(f\"Vehicle {vid} Added\")\n",
    "\n",
    "    def available(self, vid):\n",
    "        return vid in self.available_vehicles\n",
    "\n",
    "    def rent(self, vid):\n",
    "        if vid in self.available_vehicles:\n",
    "            self.available_vehicles.remove(vid)\n",
    "            return f\"Vehicle {vid} Rented\"\n",
    "        else:\n",
    "            return f\"Vehicle {vid} Not Available for Rent\"\n",
    "\n",
    "\n",
    "scooty = Rental()\n",
    "\n",
    "# Adding vehicles\n",
    "scooty.add(1)\n",
    "scooty.add(2)\n",
    "scooty.add(3)\n",
    "\n",
    "# Checking availability\n",
    "if scooty.available(6):\n",
    "    print(\"Vehicle 6 Available\")\n",
    "else:\n",
    "    print(\"Vehicle 6 Not Available\")\n",
    "\n",
    "# Renting a vehicle\n",
    "if scooty.available(2):\n",
    "    print(scooty.rent(2))\n",
    "else:\n",
    "    print(\"Vehicle 2 Not Available\")\n",
    "\n",
    "# Checking availability after renting\n",
    "if scooty.available(2):\n",
    "    print(\"Vehicle 2 Available\")\n",
    "else:\n",
    "    print(\"Vehicle 2 Not Available\")\n"
   ]
  },
  {
   "cell_type": "markdown",
   "id": "d723ba33-01a6-4110-a6c7-0b6e671995ee",
   "metadata": {},
   "source": [
    "#### Problem 4: Library Catalog Create classes representing a library and a book. Implement methods to add books to the library, borrow books, and display available books."
   ]
  },
  {
   "cell_type": "code",
   "execution_count": 28,
   "id": "3f4adffc-51d1-4878-8c60-0e703269f33f",
   "metadata": {},
   "outputs": [
    {
     "name": "stdout",
     "output_type": "stream",
     "text": [
      "Book 'The Great Gatsby' added to the library.\n",
      "Book 'To Kill a Mockingbird' added to the library.\n",
      "Available Books:\n",
      "Title: The Great Gatsby, Author: F. Scott Fitzgerald, Available: True\n",
      "Title: To Kill a Mockingbird, Author: Harper Lee, Available: True\n",
      "Book 'The Great Gatsby' borrowed successfully.\n",
      "Available Books:\n",
      "Title: To Kill a Mockingbird, Author: Harper Lee, Available: True\n",
      "Book 'The Great Gatsby' is not available for borrowing.\n"
     ]
    }
   ],
   "source": [
    "class Book:\n",
    "    def __init__(self, title, author):\n",
    "        self.title = title\n",
    "        self.author = author\n",
    "        self.is_available = True\n",
    "\n",
    "    def display_book_details(self):\n",
    "        print(f\"Title: {self.title}, Author: {self.author}, Available: {self.is_available}\")\n",
    "\n",
    "class Library:\n",
    "    def __init__(self):\n",
    "        self.books = []\n",
    "\n",
    "    def add_book(self, book):\n",
    "        self.books.append(book)\n",
    "        print(f\"Book '{book.title}' added to the library.\")\n",
    "\n",
    "    def borrow_book(self, title):\n",
    "        for book in self.books:\n",
    "            if book.title == title and book.is_available:\n",
    "                book.is_available = False\n",
    "                print(f\"Book '{book.title}' borrowed successfully.\")\n",
    "                return\n",
    "        print(f\"Book '{title}' is not available for borrowing.\")\n",
    "\n",
    "    def display_available_books(self):\n",
    "        print(\"Available Books:\")\n",
    "        for book in self.books:\n",
    "            if book.is_available:\n",
    "                book.display_book_details()\n",
    "\n",
    "\n",
    "library = Library()\n",
    "\n",
    "# Adding books to the library\n",
    "book1 = Book(title=\"The Great Gatsby\", author=\"F. Scott Fitzgerald\")\n",
    "book2 = Book(title=\"To Kill a Mockingbird\", author=\"Harper Lee\")\n",
    "\n",
    "library.add_book(book1)\n",
    "library.add_book(book2)\n",
    "\n",
    "# Displaying available books\n",
    "library.display_available_books()\n",
    "\n",
    "# Borrowing a book\n",
    "library.borrow_book(\"The Great Gatsby\")\n",
    "\n",
    "# Displaying available books after borrowing\n",
    "library.display_available_books()\n",
    "\n",
    "# Borrowing a book that is not available\n",
    "library.borrow_book(\"The Great Gatsby\")\n"
   ]
  },
  {
   "cell_type": "markdown",
   "id": "48c10abc-5020-4ec1-bec0-da2084fc4a21",
   "metadata": {},
   "source": [
    "#### Problem 5: Product Inventory Create classes representing a product and an inventory system. Implement methods to add products to the inventory, update product quantity, and display available products."
   ]
  },
  {
   "cell_type": "code",
   "execution_count": 38,
   "id": "b523ead3-4efc-48fe-985e-a77e34ff7424",
   "metadata": {},
   "outputs": [
    {
     "name": "stdout",
     "output_type": "stream",
     "text": [
      "Product 'Table' added successfully\n",
      "Product with ID 2 not found in the inventory.\n",
      "Product 'Chair' added successfully\n",
      "Quantity for product 'Chair' updated to 3.\n",
      "Available Items:\n",
      "Table\n",
      "Chair\n"
     ]
    }
   ],
   "source": [
    "class Product:\n",
    "    def __init__(self, pid, name, price, quantity):\n",
    "        self.pid = pid\n",
    "        self.name = name\n",
    "        self.price = price\n",
    "        self.quantity = quantity\n",
    "\n",
    "class Inventory:\n",
    "    def __init__(self):\n",
    "        self.products = []\n",
    "\n",
    "    def add_product(self, product):\n",
    "        self.products.append(product)\n",
    "        print(f\"Product '{product.name}' added successfully\")\n",
    "\n",
    "    def update_quantity(self, pid, new_quantity):\n",
    "        for i in self.products:\n",
    "            if i.pid == pid:\n",
    "                i.quantity = new_quantity\n",
    "                print(f\"Quantity for product '{i.name}' updated to {new_quantity}.\")\n",
    "                return\n",
    "        print(f\"Product with ID {pid} not found in the inventory.\")\n",
    "        \n",
    "    def display_available_products(self):\n",
    "        print(\"Available Items:\")\n",
    "        for product in self.products:\n",
    "            print(product.name)\n",
    "\n",
    "\n",
    "inventory = Inventory()\n",
    "\n",
    "product1 = Product(pid=1, name=\"Table\", price=2000, quantity=5)\n",
    "product2 = Product(pid=2, name=\"Chair\", price=1000, quantity=10)\n",
    "\n",
    "inventory.add_product(product1)\n",
    "inventory.update_quantity(2, 3)\n",
    "inventory.add_product(product2)\n",
    "inventory.update_quantity(2, 3)\n",
    "inventory.display_available_products()\n"
   ]
  },
  {
   "cell_type": "markdown",
   "id": "e815895a-dc60-40f6-bd6f-ba87e570ada0",
   "metadata": {},
   "source": [
    "#### Problem 6: Shape Calculation Create a class representing a shape with attributes like length, width, and height. Implement methods to calculate the area and perimeter of the shape."
   ]
  },
  {
   "cell_type": "code",
   "execution_count": 1,
   "id": "d75523ad-9dfc-44ea-bcc1-7e703139452c",
   "metadata": {},
   "outputs": [
    {
     "name": "stdout",
     "output_type": "stream",
     "text": [
      "Square Area: 16\n",
      "Square Perimeter: 16\n",
      "Rectangle Area: 15\n",
      "Rectangle Perimeter: 16\n",
      "Cuboid Area: 52\n",
      "Cuboid Perimeter: 36\n"
     ]
    }
   ],
   "source": [
    "class Shape:\n",
    "    \n",
    "    def calculate(self, *args):\n",
    "        \n",
    "        if len(args) == 1:\n",
    "            # Assuming it's a square\n",
    "            side = args[0]\n",
    "            return side * side, 4 * side\n",
    "        \n",
    "        elif len(args) == 2:\n",
    "            # Assuming it's a rectangle\n",
    "            length, width = args\n",
    "            return length * width, 2 * (length + width)\n",
    "        \n",
    "        elif len(args) == 3:\n",
    "            # Assuming it's a cuboid\n",
    "            length, width, height = args\n",
    "            return 2 * (length * width + length * height + width * height), 4 * (length + width + height)\n",
    "        \n",
    "        else:\n",
    "            raise ValueError(\"Invalid number of arguments\")\n",
    "\n",
    "shape = Shape()\n",
    "\n",
    "# Square\n",
    "area, perimeter = shape.calculate(4)\n",
    "print(\"Square Area:\", area)\n",
    "print(\"Square Perimeter:\", perimeter)\n",
    "\n",
    "# Rectangle\n",
    "area, perimeter = shape.calculate(5, 3)\n",
    "print(\"Rectangle Area:\", area)\n",
    "print(\"Rectangle Perimeter:\", perimeter)\n",
    "\n",
    "# Cuboid\n",
    "area, perimeter = shape.calculate(2, 3, 4)\n",
    "print(\"Cuboid Area:\", area)\n",
    "print(\"Cuboid Perimeter:\", perimeter)\n"
   ]
  },
  {
   "cell_type": "markdown",
   "id": "5e5d9695-f15f-4457-aa72-f3ce9e8cbb3d",
   "metadata": {},
   "source": [
    "#### Problem 7: Student Management Create a class representing a student with attributes like student ID, name, and grades. Implement methods to calculate the average grade and display student details."
   ]
  },
  {
   "cell_type": "code",
   "execution_count": 8,
   "id": "91fb6f21-69b3-4802-8f61-aed7111affd1",
   "metadata": {},
   "outputs": [
    {
     "name": "stdout",
     "output_type": "stream",
     "text": [
      "1 : Aman has an average grade of 73.33\n",
      "2 : Bobby has an average grade of 76.33\n"
     ]
    }
   ],
   "source": [
    "class Student:\n",
    "    def __init__(self, stdid, name):\n",
    "        self.stdid = stdid\n",
    "        self.name = name\n",
    "        self.grades = []\n",
    "\n",
    "    def add(self, n):\n",
    "        self.grades.append(n)\n",
    "\n",
    "    def avg(self):\n",
    "        if not self.grades:\n",
    "            return \"No grades\"\n",
    "        else:\n",
    "            return round(sum(self.grades) / len(self.grades), 2)\n",
    "\n",
    "    def display(self):\n",
    "        return f\"{self.stdid} : {self.name}\"\n",
    "\n",
    "stu1 = Student(1, \"Aman\")\n",
    "stu1.add(78)\n",
    "stu1.add(54)\n",
    "stu1.add(88)\n",
    "\n",
    "stu2 = Student(2, \"Bobby\")\n",
    "stu2.add(45)\n",
    "stu2.add(98)\n",
    "stu2.add(86)\n",
    "\n",
    "print(f\"{stu1.display()} has an average grade of {stu1.avg()}\")\n",
    "print(f\"{stu2.display()} has an average grade of {stu2.avg()}\")\n"
   ]
  },
  {
   "cell_type": "markdown",
   "id": "3c601bd6-fb37-419a-acc7-9c3f4ac70903",
   "metadata": {},
   "source": [
    "#### Problem 8: Email Management Create a class representing an email with attributes like sender, recipient, and subject. Implement methods to send an email and display email details."
   ]
  },
  {
   "cell_type": "code",
   "execution_count": 11,
   "id": "8f833100-e3cb-4b0e-a65e-cfb8d07e666b",
   "metadata": {},
   "outputs": [
    {
     "name": "stdout",
     "output_type": "stream",
     "text": [
      "Sender: rohan@gmail.com\n",
      "Recipient: support@pwskills.com\n",
      "Subject: Meeting Invitation\n",
      "Body: Dear, \n",
      "\n",
      "Let's schedule a meeting next week to discuss the project. \n",
      "\n",
      "Regards, \n",
      "rohan\n",
      "Status: Not Sent\n",
      "\n",
      "\n",
      "Email sent successfully!\n",
      "Sender: rohan@gmail.com\n",
      "Recipient: support@pwskills.com\n",
      "Subject: Meeting Invitation\n",
      "Body: Dear, \n",
      "\n",
      "Let's schedule a meeting next week to discuss the project. \n",
      "\n",
      "Regards, \n",
      "rohan\n",
      "Status: Sent\n"
     ]
    }
   ],
   "source": [
    "class Email:\n",
    "    def __init__(self, sender, recipient, subject):\n",
    "        self.sender = sender\n",
    "        self.recipient = recipient\n",
    "        self.subject = subject\n",
    "        self.body = None\n",
    "        self.sent = False\n",
    "\n",
    "    def set_body(self, body):\n",
    "        self.body = body\n",
    "\n",
    "    def send_email(self):\n",
    "        if self.body:\n",
    "            print(\"Email sent successfully!\")\n",
    "            self.sent = True\n",
    "        else:\n",
    "            print(\"Cannot send email without a body.\")\n",
    "\n",
    "    def display(self):\n",
    "        print(\"Sender:\", self.sender)\n",
    "        print(\"Recipient:\", self.recipient)\n",
    "        print(\"Subject:\", self.subject)\n",
    "        print(\"Body:\", self.body if self.body else \"No body set\")\n",
    "        print(\"Status: \" + (\"Sent\" if self.sent else \"Not Sent\"))\n",
    "\n",
    "\n",
    "# Example usage:\n",
    "email1 = Email(sender=\"rohan@gmail.com\", recipient=\"support@pwskills.com\", subject=\"Meeting Invitation\")\n",
    "email1.set_body(\"Dear, \\n\\nLet's schedule a meeting next week to discuss the project. \\n\\nRegards, \\nrohan\")\n",
    "\n",
    "email1.display()\n",
    "print(\"\\n\")\n",
    "\n",
    "email1.send_email()\n",
    "\n",
    "email1.display()\n"
   ]
  },
  {
   "cell_type": "markdown",
   "id": "5ec681ea-2900-4e64-b476-a3c7d6136610",
   "metadata": {},
   "source": [
    "#### Problem 9: Social Media Profile Create a class representing a social media profile with attributes like username and posts. Implement methods to add posts, display posts, and search for posts by keyword."
   ]
  },
  {
   "cell_type": "code",
   "execution_count": 16,
   "id": "f13c3021-fe88-47a1-8589-dc94aea34b06",
   "metadata": {},
   "outputs": [
    {
     "name": "stdout",
     "output_type": "stream",
     "text": [
      "rohan27 has a total of 2 posts:\n",
      "I am a good boy\n",
      "Data science, the new world\n",
      "\n",
      "sohan121 has a total of 1 posts:\n",
      "AI, the era of automation\n",
      "\n",
      "Posts by rohan27 containing 'world':\n",
      "Data science, the new world\n",
      "\n",
      "No posts by sohan121 containing 'Full'.\n",
      "\n"
     ]
    }
   ],
   "source": [
    "class Social:\n",
    "    def __init__(self, username):\n",
    "        self.username = username\n",
    "        self.posts = []\n",
    "\n",
    "    def add(self, post):\n",
    "        self.posts.append(post)\n",
    "\n",
    "    def display(self):\n",
    "        print(f\"{self.username} has a total of {len(self.posts)} posts:\")\n",
    "        print(\"\\n\".join(self.posts))\n",
    "        print()\n",
    "\n",
    "    def search(self, keyword):\n",
    "        found_posts = [post for post in self.posts if keyword.lower() in post.lower()]\n",
    "        if found_posts:\n",
    "            print(f\"Posts by {self.username} containing '{keyword}':\")\n",
    "            print(\"\\n\".join(found_posts))\n",
    "        else:\n",
    "            print(f\"No posts by {self.username} containing '{keyword}'.\")\n",
    "        print()\n",
    "\n",
    "\n",
    "# Example usage:\n",
    "rohan = Social(\"rohan27\")\n",
    "rohan.add(\"I am a good boy\")\n",
    "rohan.add(\"Data science, the new world\")\n",
    "\n",
    "sohan = Social(\"sohan121\")\n",
    "sohan.add(\"AI, the era of automation\")\n",
    "\n",
    "rohan.display()\n",
    "sohan.display()\n",
    "\n",
    "rohan.search(\"world\")\n",
    "sohan.search(\"Full\")\n"
   ]
  },
  {
   "cell_type": "markdown",
   "id": "22732795-8f59-4d05-83b4-3b5161ce16c1",
   "metadata": {},
   "source": [
    "#### Problem 10: ToDo List Create a class representing a ToDo list with attributes like tasks and due dates. Implement methods to add tasks, mark tasks as completed, and display pending tasks."
   ]
  },
  {
   "cell_type": "code",
   "execution_count": 18,
   "id": "35c5c2c5-416a-4b4c-8d3e-6b772bc63ff7",
   "metadata": {},
   "outputs": [
    {
     "name": "stdout",
     "output_type": "stream",
     "text": [
      "Pending tasks:\n",
      "1. Task: Complete project, Due Date: 2023-12-15\n",
      "2. Task: Read a book, Due Date: 2023-12-10\n",
      "3. Task: Exercise, Due Date: 2023-12-20\n",
      "Task 'Complete project' marked as completed.\n",
      "Pending tasks:\n",
      "1. Task: Read a book, Due Date: 2023-12-10\n",
      "2. Task: Exercise, Due Date: 2023-12-20\n"
     ]
    }
   ],
   "source": [
    "class TodoList:\n",
    "    def __init__(self):\n",
    "        self.tasks = []\n",
    "\n",
    "    def add(self, task, due_date):\n",
    "        self.tasks.append({\"task\": task, \"due_date\": due_date, \"completed\": False})\n",
    "\n",
    "    def mark(self, task_index):\n",
    "        if 0 <= task_index < len(self.tasks):\n",
    "            self.tasks[task_index][\"completed\"] = True\n",
    "            print(f\"Task '{self.tasks[task_index]['task']}' marked as completed.\")\n",
    "        else:\n",
    "            print(\"Invalid task index.\")\n",
    "\n",
    "    def display_pending_tasks(self):\n",
    "        pending_tasks = [task for task in self.tasks if not task[\"completed\"]]\n",
    "        if pending_tasks:\n",
    "            print(\"Pending tasks:\")\n",
    "            for i, task in enumerate(pending_tasks, start=1):\n",
    "                print(f\"{i}. Task: {task['task']}, Due Date: {task['due_date']}\")\n",
    "        else:\n",
    "            print(\"No pending tasks.\")\n",
    "\n",
    "# Example usage:\n",
    "todo_list = TodoList()\n",
    "\n",
    "todo_list.add(\"Complete project\", \"2023-12-15\")\n",
    "todo_list.add(\"Read a book\", \"2023-12-10\")\n",
    "todo_list.add(\"Exercise\", \"2023-12-20\")\n",
    "\n",
    "todo_list.display_pending_tasks()\n",
    "\n",
    "# Mark the first task as completed\n",
    "todo_list.mark(0)\n",
    "\n",
    "todo_list.display_pending_tasks()\n"
   ]
  },
  {
   "cell_type": "code",
   "execution_count": null,
   "id": "792ad89b-aff0-453f-88ae-600513898085",
   "metadata": {},
   "outputs": [],
   "source": []
  }
 ],
 "metadata": {
  "kernelspec": {
   "display_name": "Python 3 (ipykernel)",
   "language": "python",
   "name": "python3"
  },
  "language_info": {
   "codemirror_mode": {
    "name": "ipython",
    "version": 3
   },
   "file_extension": ".py",
   "mimetype": "text/x-python",
   "name": "python",
   "nbconvert_exporter": "python",
   "pygments_lexer": "ipython3",
   "version": "3.10.8"
  }
 },
 "nbformat": 4,
 "nbformat_minor": 5
}
