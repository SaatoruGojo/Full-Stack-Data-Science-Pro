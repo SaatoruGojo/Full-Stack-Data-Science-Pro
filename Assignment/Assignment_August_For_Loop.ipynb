{
 "cells": [
  {
   "cell_type": "markdown",
   "id": "0b0708f3-1c17-41b1-9a39-50699d94bd76",
   "metadata": {},
   "source": [
    "# For Loop"
   ]
  },
  {
   "cell_type": "markdown",
   "id": "4b1330d3-d911-46ed-9625-50c38e8e4ca2",
   "metadata": {},
   "source": [
    "#### 1. Write a Python program to print the numbers from 1 to 10 using a `for` loop."
   ]
  },
  {
   "cell_type": "code",
   "execution_count": 2,
   "id": "9d3db424-1066-479f-8086-9616829bdbc6",
   "metadata": {},
   "outputs": [
    {
     "name": "stdout",
     "output_type": "stream",
     "text": [
      "1 2 3 4 5 6 7 8 9 10 "
     ]
    }
   ],
   "source": [
    "for i in range(1,11):\n",
    "    print(i,end = ' ')"
   ]
  },
  {
   "cell_type": "markdown",
   "id": "3047c690-2b60-4094-8b2f-68a0a803c396",
   "metadata": {
    "tags": []
   },
   "source": [
    "#### 2. Create a program that calculates the sum of all numbers in a list using a `for` loop."
   ]
  },
  {
   "cell_type": "code",
   "execution_count": 4,
   "id": "d55ad084-4073-4496-b19b-75d391f567fb",
   "metadata": {},
   "outputs": [
    {
     "name": "stdout",
     "output_type": "stream",
     "text": [
      "Sum Of List:  15\n"
     ]
    }
   ],
   "source": [
    "#Function to calculates the sum of all numbers in a list\n",
    "def sumList(inputList):\n",
    "    sumLst = 0\n",
    "    for i in lst:\n",
    "        sumLst = sumLst + i\n",
    "    return sumLst\n",
    "\n",
    "inputList = [1,2,3,4,5]\n",
    "\n",
    "#Calling Function\n",
    "result = sumList(inputList)\n",
    "\n",
    "#Displaying Result\n",
    "print(\"Sum Of List: \",result)"
   ]
  },
  {
   "cell_type": "markdown",
   "id": "2edddee1-a8a7-49fc-89d7-f2bd327041ab",
   "metadata": {},
   "source": [
    "#### 3. Write a program to print the characters of a string in reverse order using a `for` loop."
   ]
  },
  {
   "cell_type": "code",
   "execution_count": 24,
   "id": "a4330053-34dc-4f5c-a4c8-d39dc8afa11a",
   "metadata": {},
   "outputs": [
    {
     "name": "stdin",
     "output_type": "stream",
     "text": [
      "Enter a string:  Full Stack Data Science Pro\n"
     ]
    },
    {
     "name": "stdout",
     "output_type": "stream",
     "text": [
      "Reversed String:  o r P   e c n e i c S   a t a D   k c a t S   l l u F "
     ]
    }
   ],
   "source": [
    "# Function to print the characters of a string in reverse order using a for loop\n",
    "def reverseString(s):\n",
    "    for i in range(len(s) - 1, -1, -1):\n",
    "        print(s[i], end=' ')\n",
    "\n",
    "# Taking user input for the string\n",
    "inputString = input(\"Enter a string: \")\n",
    "\n",
    "# Displaying the reversed string\n",
    "print(\"Reversed String: \", end=' ')\n",
    "reverseString(inputString)\n"
   ]
  },
  {
   "cell_type": "markdown",
   "id": "3b551483-42a2-420d-8c0d-774e65fdaad2",
   "metadata": {},
   "source": [
    "#### 4. Develop a program that finds the factorial of a given number using a `for` loop."
   ]
  },
  {
   "cell_type": "code",
   "execution_count": 26,
   "id": "0504c748-9b2d-40f5-bd00-86f6c67d89a3",
   "metadata": {},
   "outputs": [
    {
     "name": "stdin",
     "output_type": "stream",
     "text": [
      "Enter a number:  10\n"
     ]
    },
    {
     "name": "stdout",
     "output_type": "stream",
     "text": [
      "Factorial of 10 is: 3628800\n"
     ]
    }
   ],
   "source": [
    "# Function to find the factorial of a given number\n",
    "def calculateFactorial(number):\n",
    "    factorial = 1\n",
    "    for i in range(1, number + 1):\n",
    "        factorial = factorial * i\n",
    "    return factorial\n",
    "\n",
    "# Taking user input for the number\n",
    "inputNumber = int(input(\"Enter a number: \"))\n",
    "\n",
    "# Calculating and displaying the factorial\n",
    "result = calculateFactorial(inputNumber)\n",
    "print(\"Factorial of\", inputNumber, \"is:\", result)\n"
   ]
  },
  {
   "cell_type": "markdown",
   "id": "333d030b-205a-432c-a351-ff45440ce7ce",
   "metadata": {},
   "source": [
    "#### 5. Create a program to print the multiplication table of a given number using a `for` loop."
   ]
  },
  {
   "cell_type": "code",
   "execution_count": 28,
   "id": "728b7211-e0fe-4ae5-b76c-5c35558122d4",
   "metadata": {},
   "outputs": [
    {
     "name": "stdin",
     "output_type": "stream",
     "text": [
      "Enter a number:  5\n"
     ]
    },
    {
     "name": "stdout",
     "output_type": "stream",
     "text": [
      "5 * 1 = 5\n",
      "5 * 2 = 10\n",
      "5 * 3 = 15\n",
      "5 * 4 = 20\n",
      "5 * 5 = 25\n",
      "5 * 6 = 30\n",
      "5 * 7 = 35\n",
      "5 * 8 = 40\n",
      "5 * 9 = 45\n",
      "5 * 10 = 50\n"
     ]
    }
   ],
   "source": [
    "# Function to print the multiplication table of a given number\n",
    "def multiTable(number):\n",
    "    for i in range(1, 11):\n",
    "        print(f\"{number} * {i} = {number * i}\")\n",
    "\n",
    "# Taking user input for the number\n",
    "inputNumber = int(input(\"Enter a number: \"))\n",
    "\n",
    "# Displaying the multiplication table\n",
    "multiTable(inputNumber)\n"
   ]
  },
  {
   "cell_type": "markdown",
   "id": "9a484708-8c23-4ba1-80da-aa6331dcf4d8",
   "metadata": {},
   "source": [
    "#### 6. Write a program that counts the number of even and odd numbers in a list using a `for` loop"
   ]
  },
  {
   "cell_type": "code",
   "execution_count": 29,
   "id": "41d498a0-6395-49bb-af01-e29ae8018079",
   "metadata": {},
   "outputs": [
    {
     "name": "stdout",
     "output_type": "stream",
     "text": [
      "Even Count:  2\n",
      "Odd Count:  3\n"
     ]
    }
   ],
   "source": [
    "# Function that counts the number of even and odd numbers in a list\n",
    "def countEvenOdd(numbers):\n",
    "    evenCount, oddCount = 0, 0\n",
    "    for num in numbers:\n",
    "        if num % 2 == 0:\n",
    "            evenCount += 1\n",
    "        else:\n",
    "            oddCount += 1\n",
    "    \n",
    "    return evenCount, oddCount\n",
    "\n",
    "# Sample list\n",
    "numbersList = [1, 2, 3, 4, 5]\n",
    "\n",
    "# Calling the function\n",
    "result = countEvenOdd(numbersList)\n",
    "\n",
    "# Displaying the counts\n",
    "print(\"Even Count: \", result[0])\n",
    "print(\"Odd Count: \", result[1])\n"
   ]
  },
  {
   "cell_type": "markdown",
   "id": "6c931425-5e54-4040-a761-611a573135f2",
   "metadata": {},
   "source": [
    "#### 7. Develop a program that prints the squares of numbers from 1 to 5 using a `for` loop."
   ]
  },
  {
   "cell_type": "code",
   "execution_count": 30,
   "id": "c59f86b9-f642-4750-b9f6-cf45fadae0d7",
   "metadata": {},
   "outputs": [
    {
     "name": "stdout",
     "output_type": "stream",
     "text": [
      "1 4 9 16 25 "
     ]
    }
   ],
   "source": [
    "# Function to print the squares of numbers from 1 to 5\n",
    "def printSquares():\n",
    "    for i in range(1, 6):\n",
    "        print(i * i, end=' ')\n",
    "\n",
    "# Calling the function\n",
    "printSquares()\n"
   ]
  },
  {
   "cell_type": "markdown",
   "id": "c443ca66-9968-47a7-822a-9721b7ec0143",
   "metadata": {},
   "source": [
    "#### 8. Create a program to find the length of a string without using the `len()` function."
   ]
  },
  {
   "cell_type": "code",
   "execution_count": 31,
   "id": "5de06db6-b404-438b-b651-62951d3b9506",
   "metadata": {},
   "outputs": [
    {
     "name": "stdout",
     "output_type": "stream",
     "text": [
      "Length of the string: 22\n"
     ]
    }
   ],
   "source": [
    "# Function to find the length of a string without using the len() function\n",
    "def findStringLength(inputString):\n",
    "    count = 0\n",
    "    for char in inputString:\n",
    "        count += 1\n",
    "    return count\n",
    "\n",
    "# Sample string\n",
    "inputString = \"Full Stack Data Scienc\"\n",
    "\n",
    "# Calling the function\n",
    "result = findStringLength(inputString)\n",
    "\n",
    "# Displaying the length of the string\n",
    "print(\"Length of the string:\", result)\n"
   ]
  },
  {
   "cell_type": "markdown",
   "id": "3f6cd19a-b5a5-42e0-85dd-a18a830758a6",
   "metadata": {},
   "source": [
    "#### 9. Write a program that calculates the average of a list of numbers using a `for` loop."
   ]
  },
  {
   "cell_type": "code",
   "execution_count": 32,
   "id": "d8481363-71dd-407d-8261-2532a5dd9b40",
   "metadata": {},
   "outputs": [
    {
     "name": "stdout",
     "output_type": "stream",
     "text": [
      "Average:  3.0\n"
     ]
    }
   ],
   "source": [
    "# Function to calculate the average of a list of numbers using a `for` loop\n",
    "def calculateAverage(numbers):\n",
    "    totalSum = 0\n",
    "    for num in numbers:\n",
    "        totalSum += num\n",
    "    return totalSum / len(numbers)\n",
    "\n",
    "# Sample list of numbers\n",
    "numbersList = [1, 2, 3, 4, 5]\n",
    "\n",
    "# Calling the function\n",
    "result = calculateAverage(numbersList)\n",
    "\n",
    "# Displaying the average\n",
    "print(\"Average: \", result)\n"
   ]
  },
  {
   "cell_type": "markdown",
   "id": "4365824a-084e-47ee-aafb-afbbe6859a1c",
   "metadata": {},
   "source": [
    "#### 10. Develop a program that prints the first `n` Fibonacci numbers using a `for` loop."
   ]
  },
  {
   "cell_type": "code",
   "execution_count": 33,
   "id": "f43dbf44-725f-4003-8277-da3dd436203b",
   "metadata": {},
   "outputs": [
    {
     "name": "stdin",
     "output_type": "stream",
     "text": [
      "Enter the number of Fibonacci numbers to print:  5\n"
     ]
    },
    {
     "name": "stdout",
     "output_type": "stream",
     "text": [
      "1 1 2 3 5 "
     ]
    }
   ],
   "source": [
    "# Function to print the first n Fibonacci numbers\n",
    "def printFibonacci(n):\n",
    "    a, b = 1, 1\n",
    "    print(a, b, end=' ')\n",
    "    for i in range(2, n):\n",
    "        c = a + b\n",
    "        a, b = b, c\n",
    "        print(c, end=' ')\n",
    "\n",
    "# Taking user input for the number of Fibonacci numbers\n",
    "numFibonacci = int(input(\"Enter the number of Fibonacci numbers to print: \"))\n",
    "\n",
    "# Calling the function\n",
    "printFibonacci(numFibonacci)\n"
   ]
  },
  {
   "cell_type": "markdown",
   "id": "40ac19a3-938a-4e3e-b067-940df304798e",
   "metadata": {},
   "source": [
    "#### 11. Write a program to check if a given list contains any duplicates using a `for` loop."
   ]
  },
  {
   "cell_type": "code",
   "execution_count": 34,
   "id": "e4db33ae-1a4c-456d-867a-aa23a58f96fd",
   "metadata": {},
   "outputs": [
    {
     "name": "stdout",
     "output_type": "stream",
     "text": [
      "List 1 has duplicates: False\n",
      "List 2 has duplicates: True\n"
     ]
    }
   ],
   "source": [
    "# Function to check if a given list contains any duplicates\n",
    "def hasDuplicates(inputList):\n",
    "    inputList.sort()\n",
    "    for i in range(1, len(inputList)):\n",
    "        if inputList[i - 1] == inputList[i]:\n",
    "            return True\n",
    "    return False\n",
    "\n",
    "# Sample lists\n",
    "list1 = [1, 2, 3, 4, 5]\n",
    "list2 = [1, 2, 3, 4, 5, 5]\n",
    "\n",
    "# Checking for duplicates in the first list\n",
    "result1 = hasDuplicates(list1)\n",
    "print(\"List 1 has duplicates:\", result1)\n",
    "\n",
    "# Checking for duplicates in the second list\n",
    "result2 = hasDuplicates(list2)\n",
    "print(\"List 2 has duplicates:\", result2)\n"
   ]
  },
  {
   "cell_type": "markdown",
   "id": "66e40e4f-eca7-461d-bbd0-9f017c5ac9b8",
   "metadata": {},
   "source": [
    "#### 12. Create a program that prints the prime numbers in a given range using a `for` loop."
   ]
  },
  {
   "cell_type": "code",
   "execution_count": 36,
   "id": "a3814c72-61c0-4600-9a09-b63f86553c0f",
   "metadata": {},
   "outputs": [
    {
     "name": "stdin",
     "output_type": "stream",
     "text": [
      "Enter the starting number of the range:  20\n",
      "Enter the ending number of the range:  100\n"
     ]
    },
    {
     "name": "stdout",
     "output_type": "stream",
     "text": [
      "Prime numbers in the range: [23, 29, 31, 37, 41, 43, 47, 53, 59, 61, 67, 71, 73, 79, 83, 89, 97]\n"
     ]
    }
   ],
   "source": [
    "# Function to check if a number is prime\n",
    "def isPrime(number):\n",
    "    if number < 2:\n",
    "        return False\n",
    "    for i in range(2, int(number ** 0.5) + 1):\n",
    "        if number % i == 0:\n",
    "            return False\n",
    "    return True\n",
    "\n",
    "# Function to print prime numbers in a given range\n",
    "def printPrime(start, end):\n",
    "    primesList = [i for i in range(start, end + 1) if isPrime(i)]\n",
    "    return primesList\n",
    "\n",
    "# Taking user input for the range\n",
    "startRange = int(input(\"Enter the starting number of the range: \"))\n",
    "endRange = int(input(\"Enter the ending number of the range: \"))\n",
    "\n",
    "# Calling the function\n",
    "result = printPrime(startRange, endRange)\n",
    "print(\"Prime numbers in the range:\", result)\n"
   ]
  },
  {
   "cell_type": "markdown",
   "id": "0fcfad34-83c3-4ad3-885d-890acb46c747",
   "metadata": {},
   "source": [
    "#### 13. Develop a program that counts the number of vowels in a string using a `for` loop."
   ]
  },
  {
   "cell_type": "code",
   "execution_count": 37,
   "id": "a6d5f64c-c002-4c9a-8e04-686ed49fe190",
   "metadata": {},
   "outputs": [
    {
     "name": "stdin",
     "output_type": "stream",
     "text": [
      "Enter a string:  Full Stack Data Science Pro\n"
     ]
    },
    {
     "name": "stdout",
     "output_type": "stream",
     "text": [
      "Number of vowels in the string: 8\n"
     ]
    }
   ],
   "source": [
    "# Function to count the number of vowels in a string using a for loop\n",
    "def countVowels(inputString):\n",
    "    vowels = 'aeiou'\n",
    "    count = 0\n",
    "    for char in inputString:\n",
    "        if char.lower() in vowels:\n",
    "            count += 1\n",
    "    return count\n",
    "\n",
    "# Taking user input for the string\n",
    "userString = input(\"Enter a string: \")\n",
    "\n",
    "# Calling the function\n",
    "result = countVowels(userString)\n",
    "\n",
    "# Displaying the result\n",
    "print(\"Number of vowels in the string:\", result)\n"
   ]
  },
  {
   "cell_type": "markdown",
   "id": "2fc64032-5718-4dd0-af4b-2bb60639b4b7",
   "metadata": {},
   "source": [
    "#### 14. Write a program to find the maximum element in a 2D list using a nested `for` loop."
   ]
  },
  {
   "cell_type": "code",
   "execution_count": 38,
   "id": "d40a706b-6539-4589-89dd-c25a6a0e337c",
   "metadata": {},
   "outputs": [
    {
     "name": "stdout",
     "output_type": "stream",
     "text": [
      "Maximum element in the 2D list: 23\n"
     ]
    }
   ],
   "source": [
    "# Function to find the maximum element in a 2D list using a nested for loop\n",
    "def findMaxIn2DList(matrix):\n",
    "    maxElement = 0\n",
    "    for row in matrix:\n",
    "        for element in row:\n",
    "            if element > maxElement:\n",
    "                maxElement = element\n",
    "    return maxElement\n",
    "\n",
    "# Sample 2D list\n",
    "matrix = [[1, 2, 3], [4, 5, 6], [7, 8, 9], [1, 23, 5]]\n",
    "\n",
    "# Calling the function\n",
    "result = findMaxIn2DList(matrix)\n",
    "\n",
    "# Displaying the result\n",
    "print(\"Maximum element in the 2D list:\", result)\n"
   ]
  },
  {
   "cell_type": "markdown",
   "id": "fb2b7a97-3b49-4025-999a-3f1a3fe89cc5",
   "metadata": {},
   "source": [
    "####  15. Create a program that removes all occurrences of a specific element from a list using a `for` loop."
   ]
  },
  {
   "cell_type": "code",
   "execution_count": 40,
   "id": "64728909-4320-43f9-9df9-2006fe99c499",
   "metadata": {},
   "outputs": [
    {
     "name": "stdin",
     "output_type": "stream",
     "text": [
      "Enter the element to remove:  3\n"
     ]
    },
    {
     "name": "stdout",
     "output_type": "stream",
     "text": [
      "List after removing 3 : [1, 2, 4, 5, 6, 7]\n"
     ]
    }
   ],
   "source": [
    "# Function to remove all occurrences of a specific element from a list using a `for` loop\n",
    "def removeElement(inputList, element):\n",
    "    return [i for i in inputList if i != element]\n",
    "\n",
    "# Sample list\n",
    "lst = [1, 2, 3, 4, 5, 3, 6, 7, 3, 3]\n",
    "\n",
    "# Taking user input\n",
    "eleToRemove = int(input(\"Enter the element to remove: \"))\n",
    "\n",
    "# Calling the function\n",
    "resultList = removeElement(originalList, eleToRemove)\n",
    "\n",
    "# Displaying the result\n",
    "print(\"List after removing\", eleToRemove, \":\", resultList)\n"
   ]
  },
  {
   "cell_type": "markdown",
   "id": "79c79bfa-55db-45d8-ad60-504a871cc411",
   "metadata": {},
   "source": [
    "#### 16. Develop a program that generates a multiplication table for numbers from 1 to 5 using a nested `for` loop."
   ]
  },
  {
   "cell_type": "code",
   "execution_count": 97,
   "id": "5e7429d8-5a5c-4215-adad-d51081431cff",
   "metadata": {},
   "outputs": [
    {
     "name": "stdin",
     "output_type": "stream",
     "text": [
      "Enter the starting number:  2\n",
      "Enter the ending number:  5\n"
     ]
    },
    {
     "name": "stdout",
     "output_type": "stream",
     "text": [
      "2 * 1 = 2\n",
      "2 * 2 = 4\n",
      "2 * 3 = 6\n",
      "2 * 4 = 8\n",
      "2 * 5 = 10\n",
      "2 * 6 = 12\n",
      "2 * 7 = 14\n",
      "2 * 8 = 16\n",
      "2 * 9 = 18\n",
      "2 * 10 = 20\n",
      "\n",
      "3 * 1 = 3\n",
      "3 * 2 = 6\n",
      "3 * 3 = 9\n",
      "3 * 4 = 12\n",
      "3 * 5 = 15\n",
      "3 * 6 = 18\n",
      "3 * 7 = 21\n",
      "3 * 8 = 24\n",
      "3 * 9 = 27\n",
      "3 * 10 = 30\n",
      "\n",
      "4 * 1 = 4\n",
      "4 * 2 = 8\n",
      "4 * 3 = 12\n",
      "4 * 4 = 16\n",
      "4 * 5 = 20\n",
      "4 * 6 = 24\n",
      "4 * 7 = 28\n",
      "4 * 8 = 32\n",
      "4 * 9 = 36\n",
      "4 * 10 = 40\n",
      "\n",
      "5 * 1 = 5\n",
      "5 * 2 = 10\n",
      "5 * 3 = 15\n",
      "5 * 4 = 20\n",
      "5 * 5 = 25\n",
      "5 * 6 = 30\n",
      "5 * 7 = 35\n",
      "5 * 8 = 40\n",
      "5 * 9 = 45\n",
      "5 * 10 = 50\n",
      "\n"
     ]
    }
   ],
   "source": [
    "# Function to generate a multiplication table for numbers from n to m using a nested for loop\n",
    "def multiTable(n, m):\n",
    "    for i in range(n, m + 1):\n",
    "        for j in range(1, 11):\n",
    "            print(f\"{i} * {j} = {i * j}\")\n",
    "        print()\n",
    "\n",
    "# Taking user input for the range\n",
    "start = int(input(\"Enter the starting number: \"))\n",
    "end = int(input(\"Enter the ending number: \"))\n",
    "\n",
    "# Calling the function\n",
    "multiTable(startNumber, endNumber)\n"
   ]
  },
  {
   "cell_type": "markdown",
   "id": "f918f7a9-8d1e-4c16-9183-1899055425a2",
   "metadata": {},
   "source": [
    "#### 17. Write a program that converts a list of Fahrenheit temperatures to Celsius using a `for` loop."
   ]
  },
  {
   "cell_type": "code",
   "execution_count": 98,
   "id": "1c194e54-c04a-4f3d-82c9-0e8251a60848",
   "metadata": {},
   "outputs": [
    {
     "name": "stdout",
     "output_type": "stream",
     "text": [
      "Temperatures in Celsius: [0.0, 7.22, 15.56, 22.22, 26.67, 32.22, 35.0, 37.78, 40.56, 48.89]\n"
     ]
    }
   ],
   "source": [
    "# Function to convert a list of Fahrenheit temperatures to Celsius using a for loop\n",
    "def convCelsius(Lst):\n",
    "    return [round((5 / 9) * (i - 32), 2) for i in Lst]\n",
    "\n",
    "\n",
    "lst = [32, 45, 60, 72, 80, 90, 95, 100, 105, 120]\n",
    "\n",
    "# Calling the function\n",
    "result = convCelsius(lst)\n",
    "\n",
    "# Displaying the result\n",
    "print(\"Temperatures in Celsius:\", result)\n"
   ]
  },
  {
   "cell_type": "markdown",
   "id": "575ead4f-0718-472f-b88a-a8ce8192e338",
   "metadata": {},
   "source": [
    "#### 18. Create a program to print the common elements from two lists using a `for` loop."
   ]
  },
  {
   "cell_type": "code",
   "execution_count": 95,
   "id": "8973306d-ce62-4ede-be9a-6fc3f9a5b5bd",
   "metadata": {},
   "outputs": [
    {
     "name": "stdout",
     "output_type": "stream",
     "text": [
      "Common elements: [1, 2, 3, 4]\n"
     ]
    }
   ],
   "source": [
    "# Function to print the common elements from two lists using a for loop\n",
    "def findCommon(lst1, lst2):\n",
    "    return [m for m in list1 if m in lst2]\n",
    "\n",
    "\n",
    "lst1 = [1, 2, 3, 4, 5, 6, 7]\n",
    "lst2 = [1, 2, 3, 4, 8, 9, 0, 8]\n",
    "\n",
    "# Calling the function\n",
    "result = findCommonElements(lst1, lst2)\n",
    "\n",
    "# Displaying the result\n",
    "print(\"Common elements:\", result)\n"
   ]
  },
  {
   "cell_type": "markdown",
   "id": "facfa083-8627-4ef2-83b1-e961a66a6664",
   "metadata": {},
   "source": [
    "#### 19. Develop a program that prints the pattern of right-angled triangles using a `for` loop. Use ‘*’ to draw the pattern"
   ]
  },
  {
   "cell_type": "code",
   "execution_count": 94,
   "id": "71103e3e-2e2e-478e-a49a-0070176950ec",
   "metadata": {},
   "outputs": [
    {
     "name": "stdin",
     "output_type": "stream",
     "text": [
      "Enter the size of the triangle:  5\n"
     ]
    },
    {
     "name": "stdout",
     "output_type": "stream",
     "text": [
      "* \n",
      "* * \n",
      "* * * \n",
      "* * * * \n",
      "* * * * * \n"
     ]
    }
   ],
   "source": [
    "# Function to print the pattern of right-angled triangles using a for loop\n",
    "def rtp(n):\n",
    "    for i in range(n):\n",
    "        for _ in range(i + 1):\n",
    "            print('*', end=' ')\n",
    "        print()\n",
    "\n",
    "\n",
    "n= int(input(\"Enter the size of the triangle: \"))\n",
    "\n",
    "# Calling the function\n",
    "rtp(triangleSize)\n"
   ]
  },
  {
   "cell_type": "markdown",
   "id": "5b6470d5-6f20-4392-b5b1-5e6dff83d9be",
   "metadata": {},
   "source": [
    "#### 20. Write a program to find the greatest common divisor (GCD) of two numbers using a `for` loop"
   ]
  },
  {
   "cell_type": "code",
   "execution_count": 93,
   "id": "26e3d910-368f-486b-9305-57fee5ff259d",
   "metadata": {},
   "outputs": [
    {
     "name": "stdin",
     "output_type": "stream",
     "text": [
      "Enter the first number:  2\n",
      "Enter the second number:  10\n"
     ]
    },
    {
     "name": "stdout",
     "output_type": "stream",
     "text": [
      "GCD of 2 and 10 is: 2\n"
     ]
    }
   ],
   "source": [
    "# Function to find the greatest common divisor (GCD) of two numbers using a for loop\n",
    "def findGCD(num1,num2):\n",
    "    if num1> num2:\n",
    "        smaller = num2\n",
    "    else:\n",
    "        smaller = num1\n",
    "    gcd = 1\n",
    "    for i in range(1,smaller+1):\n",
    "        if num2%i == 0 and num1%i == 0:\n",
    "            gcd = i\n",
    "    return gcd\n",
    "\n",
    "# Taking user input for the two numbers\n",
    "num1 = int(input(\"Enter the first number: \"))\n",
    "num2 = int(input(\"Enter the second number: \"))\n",
    "\n",
    "# Calling the function\n",
    "result = findGCD(num1, num2)\n",
    "\n",
    "# Displaying the result\n",
    "print(\"GCD of\", num1, \"and\", num2, \"is:\", result)\n"
   ]
  },
  {
   "cell_type": "markdown",
   "id": "e8df3106-6133-4833-807a-30809256e4df",
   "metadata": {},
   "source": [
    "## 21. Create a program that calculates the sum of the digits of numbers in a list using a list comprehension."
   ]
  },
  {
   "cell_type": "code",
   "execution_count": 92,
   "id": "230bf5c7-8633-44c0-96b8-d7ebb8fb179d",
   "metadata": {},
   "outputs": [
    {
     "name": "stdout",
     "output_type": "stream",
     "text": [
      "[2, 4, 6, 8, 10]\n"
     ]
    }
   ],
   "source": [
    "# Function to calculate the sum of the digits of numbers in a list using list comprehension\n",
    "def sumDigit(lst):\n",
    "    return [sum(int(j) for j in str(i)) for i in lst]\n",
    "\n",
    "lst = [11,22,33,44,55]\n",
    "\n",
    "#Calling Function\n",
    "result = sumDigit(lst)\n",
    "\n",
    "#Displaying Result\n",
    "print(result)\n"
   ]
  },
  {
   "cell_type": "markdown",
   "id": "2a8f2100-d976-4a0e-aed8-49410b1ddd9b",
   "metadata": {},
   "source": [
    "#### 22. Write a program to find the prime factors of a given number using a `for` loop and list comprehension."
   ]
  },
  {
   "cell_type": "code",
   "execution_count": 91,
   "id": "2ead9eca-a750-4570-b9f2-7cb4de04f978",
   "metadata": {},
   "outputs": [
    {
     "name": "stdin",
     "output_type": "stream",
     "text": [
      "Enter a number:  20\n"
     ]
    },
    {
     "name": "stdout",
     "output_type": "stream",
     "text": [
      "The prime factors of 20 are: [2, 5]\n"
     ]
    }
   ],
   "source": [
    "# Function to check if a number is prime\n",
    "def isPrime(n):\n",
    "    return n> 1 and all(n % i != 0 for i in range(2, int(n**0.5) + 1))\n",
    "\n",
    "def primeFactors(n):\n",
    "    return [i for i in range(2, n + 1) if n % i == 0 and isPrime(i)]\n",
    "   \n",
    "\n",
    "\n",
    "n = int(input(\"Enter a number: \"))\n",
    "\n",
    "# Calling the function\n",
    "result = primeFactors(n)\n",
    "\n",
    "# Displaying the result\n",
    "print(f\"The prime factors of {n} are: {result}\")\n"
   ]
  },
  {
   "cell_type": "markdown",
   "id": "e3138174-e49f-4406-bdda-591cb05fa003",
   "metadata": {},
   "source": [
    "#### 23. Develop a program that extracts unique elements from a list and stores them in a new list using a list comprehension.\n"
   ]
  },
  {
   "cell_type": "code",
   "execution_count": 89,
   "id": "6a761f3e-0716-48b5-b68f-0be7a48104a3",
   "metadata": {},
   "outputs": [
    {
     "name": "stdout",
     "output_type": "stream",
     "text": [
      "[1, 2, 3, 4, 5, 6, 7]\n"
     ]
    }
   ],
   "source": [
    "# Function to extract unique elements from a list and store them in a new list using a list comprehension\n",
    "def newLst(lst):\n",
    "    tempLst = []\n",
    "    for i in lst:\n",
    "        if i not in tempLst:\n",
    "            tempLst.append(i)\n",
    "    return tempLst\n",
    "\n",
    "lst = [1,2,3,4,5,1,2,3,4,5,6,6,7,7]\n",
    "\n",
    "#Calling function\n",
    "result = newLst(lst)\n",
    "\n",
    "#Displaying result\n",
    "print(result)\n"
   ]
  },
  {
   "cell_type": "markdown",
   "id": "11b3cc9a-a698-4d70-aff1-ac17ef304939",
   "metadata": {},
   "source": [
    "#### 24. Create a program that generates a list of all palindromic numbers up to a specified limit using a list comprehension.\n"
   ]
  },
  {
   "cell_type": "code",
   "execution_count": 87,
   "id": "37092b9d-0a3b-4fe3-883b-42a37f5a3bd3",
   "metadata": {},
   "outputs": [
    {
     "name": "stdin",
     "output_type": "stream",
     "text": [
      "Enter the limit:  20\n"
     ]
    },
    {
     "name": "stdout",
     "output_type": "stream",
     "text": [
      "Palindromic numbers up to 20 are: [1, 2, 3, 4, 5, 6, 7, 8, 9, 11]\n"
     ]
    }
   ],
   "source": [
    "# Function to check if a number is a palindrome\n",
    "def isPalindrome(n):\n",
    "    strNum= str(n)\n",
    "    return strNum == strNum[::-1]\n",
    "\n",
    "# Taking user input for the limit\n",
    "n= int(input(\"Enter the limit: \"))\n",
    "\n",
    "result = [i for i in range(1, n+ 1) if isPalindrome(i)]\n",
    "\n",
    "# Displaying the result\n",
    "print(\"Palindromic numbers up to\", n, \"are:\", result)\n"
   ]
  },
  {
   "cell_type": "markdown",
   "id": "84c40efe-14c3-4e6c-a8f9-b1371a6cca78",
   "metadata": {},
   "source": [
    "#### 25. Write a program to flatten a nested list using list comprehension.\n"
   ]
  },
  {
   "cell_type": "code",
   "execution_count": 85,
   "id": "4059b9e5-e4fa-4be0-b4c6-85731b409bb2",
   "metadata": {},
   "outputs": [
    {
     "name": "stdout",
     "output_type": "stream",
     "text": [
      "Flattened list: [1, 2, 3, 5, 6, 7, 3, 6, 8, 0]\n"
     ]
    }
   ],
   "source": [
    "# Function to flatten a nested list using list comprehension\n",
    "def flattenList(nestedList):\n",
    "    return [element for subList in nestedList for element in subList]\n",
    "\n",
    "\n",
    "lst = [[1, 2, 3], [5, 6, 7], [3, 6, 8, 0]]\n",
    "\n",
    "# Calling the function\n",
    "result = flattenList(lst)\n",
    "\n",
    "# Displaying the result\n",
    "print(\"Flattened list:\", result)\n"
   ]
  },
  {
   "cell_type": "markdown",
   "id": "00ae445e-d886-4865-9de6-9c5f36b3c776",
   "metadata": {},
   "source": [
    "####  26. Develop a program that computes the sum of even and odd numbers in a list separately using list comprehension."
   ]
  },
  {
   "cell_type": "code",
   "execution_count": 51,
   "id": "a374178f-d56b-4ff7-95f3-ce4546502b23",
   "metadata": {},
   "outputs": [
    {
     "name": "stdout",
     "output_type": "stream",
     "text": [
      "Sum of even numbers: 6\n",
      "Sum of odd numbers: 9\n"
     ]
    }
   ],
   "source": [
    "# Function to compute the sum of even and odd numbers in a list separately using list comprehension\n",
    "def sumEvenOdd(lst):\n",
    "    evenSum = sum([i for i in lst if i % 2 == 0])\n",
    "    oddSum = sum([i for i in lst if i % 2 != 0])\n",
    "    return evenSum, oddSum\n",
    "\n",
    "\n",
    "lst = [1, 2, 3, 4, 5]\n",
    "\n",
    "# Calling the function\n",
    "result = sumEvenOdd(lst)\n",
    "\n",
    "# Displaying the result\n",
    "print(\"Sum of even numbers:\", result[0])\n",
    "print(\"Sum of odd numbers:\", result[1])\n"
   ]
  },
  {
   "cell_type": "markdown",
   "id": "5eb05c5b-d7c7-466e-8a89-fe8a195bdcbf",
   "metadata": {},
   "source": [
    "#### 27. Create a program that generates a list of squares of odd numbers between 1 and 10 using list comprehension."
   ]
  },
  {
   "cell_type": "code",
   "execution_count": 52,
   "id": "c4cd8682-5b31-4903-bc3b-17a1216458ae",
   "metadata": {},
   "outputs": [
    {
     "name": "stdout",
     "output_type": "stream",
     "text": [
      "List of squares of odd numbers: [1, 9, 25, 49, 81]\n"
     ]
    }
   ],
   "source": [
    "# Function to generate a list of squares of odd numbers between 1 and 10 using list comprehension\n",
    "oddSquares = [i*i for i in range(1, 10) if i % 2 != 0]\n",
    "\n",
    "# Displaying the result\n",
    "print(\"List of squares of odd numbers:\", oddSquares)\n"
   ]
  },
  {
   "cell_type": "markdown",
   "id": "048bcbb7-26c4-4972-83c7-5c4f5255ac3c",
   "metadata": {},
   "source": [
    "#### 28. Write a program that combines two lists into a dictionary using list comprehension."
   ]
  },
  {
   "cell_type": "code",
   "execution_count": 84,
   "id": "37c4feda-cc1a-4979-830e-2cb25f00eff4",
   "metadata": {},
   "outputs": [
    {
     "name": "stdout",
     "output_type": "stream",
     "text": [
      "Combined dictionary: {1: 5, 2: 6, 3: 7, 4: 8, 5: 9}\n"
     ]
    }
   ],
   "source": [
    "# Function to combine two lists into a dictionary using list comprehension\n",
    "def ListsToDict(list1, list2):\n",
    "    return {list1[i]: list2[i] for i in range(len(list1))}\n",
    "\n",
    "# Sample lists\n",
    "list1 = [1, 2, 3, 4, 5]\n",
    "list2 = [5, 6, 7, 8, 9]\n",
    "\n",
    "# Calling the function\n",
    "result = ListsToDict(list1, list2)\n",
    "\n",
    "# Displaying the result\n",
    "print(\"Combined dictionary:\", result)\n"
   ]
  },
  {
   "cell_type": "markdown",
   "id": "9472a9e7-cb22-4c2d-974e-3102522408ec",
   "metadata": {},
   "source": [
    "####  29. Develop a program that extracts the vowels from a string and stores them in a list using list comprehension."
   ]
  },
  {
   "cell_type": "code",
   "execution_count": 83,
   "id": "8c2a6057-d774-4705-9eed-ec170d168098",
   "metadata": {},
   "outputs": [
    {
     "name": "stdin",
     "output_type": "stream",
     "text": [
      "Enter a string:  Full Stack Data Science Pro\n"
     ]
    },
    {
     "name": "stdout",
     "output_type": "stream",
     "text": [
      "Vowels in the string: ['u', 'a', 'a', 'a', 'i', 'e', 'e', 'o']\n"
     ]
    }
   ],
   "source": [
    "# Function to extract vowels from a string and store them in a list using list comprehension\n",
    "def extractVowels(inputString):\n",
    "    vowels = 'aeiou'\n",
    "    inputString = inputString.lower()\n",
    "    return [char for char in inputString if char in vowels]\n",
    "\n",
    "# Taking user input \n",
    "userString = input(\"Enter a string: \")\n",
    "\n",
    "# Calling the function\n",
    "result = extractVowels(userString)\n",
    "\n",
    "# Displaying the result\n",
    "print(\"Vowels in the string:\", result)\n"
   ]
  },
  {
   "cell_type": "markdown",
   "id": "f2da1fe3-f9e2-4e1b-8fe8-b9f0cc42ca03",
   "metadata": {},
   "source": [
    "#### 30. Create a program that removes all non-numeric characters from a list of strings using list comprehension."
   ]
  },
  {
   "cell_type": "code",
   "execution_count": 82,
   "id": "30d24f8d-4137-4ab9-ba13-75fa78b70c6c",
   "metadata": {},
   "outputs": [
    {
     "name": "stdout",
     "output_type": "stream",
     "text": [
      "List after removing non-numeric characters: ['12', '2312', '1212']\n"
     ]
    }
   ],
   "source": [
    "#Function to removes all non-numeric characters from a list of strings using list comprehension.\n",
    "def removeNonNumer(stringList):\n",
    "    temp = []\n",
    "    for i in stringList:\n",
    "        s = ''\n",
    "        for j in i:\n",
    "            if j.isdigit():\n",
    "                s= s+j\n",
    "        temp.append(s)\n",
    "    return temp\n",
    "\n",
    "\n",
    "lst = [\"asd 12dfs\", \"adad23 dsk12sksk \", \"12dsd dwd12\"]\n",
    "\n",
    "# Calling the function\n",
    "result = removeNonNumer(lst)\n",
    "\n",
    "# Displaying the result\n",
    "print(\"List after removing non-numeric characters:\", result)\n",
    "\n"
   ]
  },
  {
   "cell_type": "markdown",
   "id": "723a2109-3475-404e-8a70-cceb1331c336",
   "metadata": {},
   "source": [
    "#### 31. Write a program to generate a list of prime numbers using the Sieve of Eratosthenes algorithm and list comprehension."
   ]
  },
  {
   "cell_type": "code",
   "execution_count": 81,
   "id": "c9d4b430-5108-4b59-8c33-095b7d4535e7",
   "metadata": {},
   "outputs": [
    {
     "name": "stdin",
     "output_type": "stream",
     "text": [
      " 20\n"
     ]
    },
    {
     "name": "stdout",
     "output_type": "stream",
     "text": [
      "Prime numbers up to 20 are: [2, 3, 5, 7, 11, 13, 17, 19]\n"
     ]
    }
   ],
   "source": [
    "#Function to  generate a list of prime numbers using the Sieve of Eratosthenes algorithm and list comprehension.\n",
    "import math\n",
    "\n",
    "def sieve(n):\n",
    "    m = set()\n",
    "\n",
    "    for i in range(2, int(math.sqrt(n) + 1)):\n",
    "        for multiple in range(i * 2, n + 1, i):\n",
    "            m.add(multiple)\n",
    "\n",
    "    primeNum = set(range(2, n + 1)) - m\n",
    "    return sorted(list(primeNum))\n",
    "\n",
    "n = int(input())\n",
    "\n",
    "#calling Function\n",
    "result = sieve(n)\n",
    "\n",
    "#Displaying Result\n",
    "print(\"Prime numbers up to\", n, \"are:\", result)"
   ]
  },
  {
   "cell_type": "markdown",
   "id": "47294531-d088-4f35-8294-a6c12a9807cc",
   "metadata": {},
   "source": [
    "#### 32. Create a program that generates a list of all Pythagorean triplets up to a specified limit using list comprehension"
   ]
  },
  {
   "cell_type": "code",
   "execution_count": 80,
   "id": "8fc96847-937c-4388-bf96-ecd83e7fd03a",
   "metadata": {},
   "outputs": [
    {
     "name": "stdin",
     "output_type": "stream",
     "text": [
      "Enter the limit for Pythagorean triplets:  20\n"
     ]
    },
    {
     "name": "stdout",
     "output_type": "stream",
     "text": [
      "Pythagorean Triplets between 1 and 10: [(3, 4, 5), (5, 12, 13), (6, 8, 10), (8, 15, 17), (9, 12, 15), (12, 16, 20)]\n"
     ]
    }
   ],
   "source": [
    "#Function to generates a list of all Pythagorean triplets up to a specified limit using list comprehension\n",
    "def pythtriplets(n):\n",
    "    triplets = [\n",
    "        (a, b, c) \n",
    "        for a in range(1, n+1) \n",
    "        for b in range(a, n+1) \n",
    "        for c in range(b, n+1) \n",
    "        if a**2 + b**2 == c**2\n",
    "    ]\n",
    "    return triplets\n",
    "\n",
    "# Taking user input for the limit\n",
    "n = int(input(\"Enter the limit for Pythagorean triplets: \"))\n",
    "\n",
    "result = pythtriplets(n)\n",
    "\n",
    "# Displaying Result\n",
    "print(\"Pythagorean Triplets between 1 and 10:\", result)\n",
    "\n",
    "\n"
   ]
  },
  {
   "cell_type": "markdown",
   "id": "81f3711d-4137-476d-bc6f-6fc86334e935",
   "metadata": {},
   "source": [
    "#### 33. Develop a program that generates a list of all possible combinations of two lists using list comprehension."
   ]
  },
  {
   "cell_type": "code",
   "execution_count": 79,
   "id": "5476a845-d908-458d-ac88-52cb892ec652",
   "metadata": {},
   "outputs": [
    {
     "name": "stdout",
     "output_type": "stream",
     "text": [
      "All possible combinations of the two lists: [[1, 5], [1, 6], [1, 7], [2, 5], [2, 6], [2, 7], [3, 5], [3, 6], [3, 7]]\n"
     ]
    }
   ],
   "source": [
    "# Function to generate a list of all possible combinations of two lists using list comprehension\n",
    "def comb(list1, list2):\n",
    "    combinations = [\n",
    "        [i, j]\n",
    "        for i in list1\n",
    "        for j in list2\n",
    "    ]\n",
    "    return combinations\n",
    "\n",
    "\n",
    "list1 = [1, 2, 3]\n",
    "list2 = [5, 6, 7]\n",
    "\n",
    "# Calling the function\n",
    "result = comb(list1, list2)\n",
    "\n",
    "# Displaying the result\n",
    "print(\"All possible combinations of the two lists:\", result)\n"
   ]
  },
  {
   "cell_type": "markdown",
   "id": "982f7708-a417-4fc7-a92b-32c7012b64cc",
   "metadata": {},
   "source": [
    "#### 34. Write a program that calculates the mean, median, and mode of a list of numbers using list comprehension."
   ]
  },
  {
   "cell_type": "code",
   "execution_count": 78,
   "id": "de19d937-ab73-4135-a62d-e4859aa6e397",
   "metadata": {},
   "outputs": [
    {
     "name": "stdout",
     "output_type": "stream",
     "text": [
      "Mean, Median, and Mode of the list: (3.0, 3, 3)\n"
     ]
    }
   ],
   "source": [
    "def calcMean(lst):\n",
    "    length = len(lst)\n",
    "    mid = length//2\n",
    "    msx = 0\n",
    "    most=0\n",
    "    for i in lst:\n",
    "        if lst.count(i) > msx:\n",
    "            most = i\n",
    "            msx = lst.count(i)\n",
    "    return sum(lst)/length,lst[mid],most\n",
    "\n",
    "lst = [1,2,3,3,4,5]\n",
    "\n",
    "#calling Function\n",
    "result = calcMean(lst)\n",
    "\n",
    "#Displaying Result\n",
    "print(\"Mean, Median, and Mode of the list:\",result)"
   ]
  },
  {
   "cell_type": "markdown",
   "id": "64cf393c-f394-497f-ae13-53019c4cd3b0",
   "metadata": {},
   "source": [
    "#### 35. Create a program that generates Pascal's triangle up to a specified number of rows using list comprehension."
   ]
  },
  {
   "cell_type": "code",
   "execution_count": 76,
   "id": "2173f1f6-62ad-46f9-ae95-b37f8e6f21ee",
   "metadata": {},
   "outputs": [
    {
     "name": "stdout",
     "output_type": "stream",
     "text": [
      "Pascal's Triangle with 5 rows:\n",
      "[1]\n",
      "[1, 1]\n",
      "[1, 2, 1]\n",
      "[1, 3, 3, 1]\n",
      "[1, 4, 6, 4, 1]\n"
     ]
    }
   ],
   "source": [
    "#Function to generates Pascal's triangle up to a specified number of rows using list comprehension.\n",
    "def pascalsTriangle(rows):\n",
    "    triangle = []\n",
    "    for i in range(rows):\n",
    "        row = [1] * (i + 1)\n",
    "        if i > 1:\n",
    "            for j in range(1, i):\n",
    "                row[j] = triangle[i-1][j-1] + triangle[i-1][j]\n",
    "        triangle.append(row)\n",
    "    return triangle\n",
    "\n",
    "def display(triangle):\n",
    "    for row in triangle:\n",
    "        print(row)\n",
    "\n",
    "\n",
    "n = 5\n",
    "pascal= pascalsTriangle(num_rows)\n",
    "\n",
    "# Displaying the result\n",
    "print(f\"Pascal's Triangle with {num_rows} rows:\")\n",
    "display(pascal)\n"
   ]
  },
  {
   "cell_type": "markdown",
   "id": "46287b92-7c0e-449a-a1b6-37a52d850018",
   "metadata": {},
   "source": [
    "#### 36. Develop a program that calculates the sum of the digits of a factorial of numbers from 1 to 5 using list comprehension."
   ]
  },
  {
   "cell_type": "code",
   "execution_count": 71,
   "id": "97ff5439-1e93-4e5a-84c3-12c69c61da99",
   "metadata": {},
   "outputs": [
    {
     "name": "stdout",
     "output_type": "stream",
     "text": [
      "Sum of digits of factorials from 1 to 5 : [1, 2, 6, 6, 3]\n"
     ]
    }
   ],
   "source": [
    "# Function to calculate the factorial of a number from 1 to 5\n",
    "def factorial(n):\n",
    "    if n == 0 or n == 1:\n",
    "        return 1\n",
    "    return n * factorial(n-1)\n",
    "\n",
    "# Function to calculate the sum of the digits of a number\n",
    "def sumDigits(n):\n",
    "    return sum(int(digit) for digit in str(n))\n",
    "\n",
    "n = 5\n",
    "\n",
    "\n",
    "result = [sumDigits(factorial(i)) for i in range(1, n+1)]\n",
    "\n",
    "# Displaying the result\n",
    "print(\"Sum of digits of factorials from 1 to\", n, \":\", result)\n"
   ]
  },
  {
   "cell_type": "markdown",
   "id": "2a1435b4-7797-4a3d-8091-d6cfbd129046",
   "metadata": {},
   "source": [
    "#### 37. Write a program that finds the longest word in a sentence using list comprehension."
   ]
  },
  {
   "cell_type": "code",
   "execution_count": 70,
   "id": "095165f9-f8d0-4fd4-bd3b-ac9a970105ac",
   "metadata": {},
   "outputs": [
    {
     "name": "stdin",
     "output_type": "stream",
     "text": [
      "Enter a sentence:  Full Stack Data Science Pro\n"
     ]
    },
    {
     "name": "stdout",
     "output_type": "stream",
     "text": [
      "Longest word in the sentence: Science\n"
     ]
    }
   ],
   "source": [
    "# Function to find the longest word in a sentence\n",
    "def findLongest(sentence):\n",
    "    lst = sentence.split()\n",
    "    longestWord = ''\n",
    "    maxLength = 0\n",
    "\n",
    "    for word in lst:\n",
    "        if len(word) > maxLength:\n",
    "            longestWord = word\n",
    "            maxLength = len(word)\n",
    "\n",
    "    return longestWord\n",
    "\n",
    "s = input(\"Enter a sentence: \")\n",
    "\n",
    "# Calling the function\n",
    "result = findLongest(s)\n",
    "\n",
    "# Displaying the result\n",
    "print(\"Longest word in the sentence:\", result)\n"
   ]
  },
  {
   "cell_type": "markdown",
   "id": "1de3af5a-1a3b-4155-a7fa-52dfdf9d4a40",
   "metadata": {},
   "source": [
    "#### 38. Create a program that filters a list of strings to include only those with more than three vowels using list comprehension."
   ]
  },
  {
   "cell_type": "code",
   "execution_count": 69,
   "id": "1a580bae-8cec-478d-8340-10ba5608d15e",
   "metadata": {},
   "outputs": [
    {
     "name": "stdout",
     "output_type": "stream",
     "text": [
      "Strings with more than three vowels: ['adfa afa gfrg dg', 'aieou']\n"
     ]
    }
   ],
   "source": [
    "# Function to filter a list of strings to include only those with more than three vowels\n",
    "def filterVowels(stringLst):\n",
    "    vowels = 'aieouAIEOU'\n",
    "    tempLst = []\n",
    "\n",
    "    for string in stringLst:\n",
    "        count = 0\n",
    "        for char in string:\n",
    "            if char in vowels:\n",
    "                count += 1\n",
    "                if count >= 3:\n",
    "                    tempLst.append(string)\n",
    "                    break\n",
    "\n",
    "    return tempLst\n",
    "\n",
    "\n",
    "stringLst = [\"adfa afa gfrg dg\", \"awfd fghd\", \"aieou\"]\n",
    "\n",
    "# Calling the function\n",
    "result = filterVowels(string_list)\n",
    "\n",
    "# Displaying the result\n",
    "print(\"Strings with more than three vowels:\", result)\n"
   ]
  },
  {
   "cell_type": "markdown",
   "id": "320a2c9f-a55a-417d-b7db-84e6298fc4a1",
   "metadata": {},
   "source": [
    "#### 39. Develop a program that calculates the sum of the digits of numbers from 1 to 1000 using list comprehension."
   ]
  },
  {
   "cell_type": "code",
   "execution_count": 67,
   "id": "73b5d6b1-60be-41c8-9468-b0da84c98cb7",
   "metadata": {},
   "outputs": [
    {
     "name": "stdout",
     "output_type": "stream",
     "text": [
      "[1, 2, 3, 4, 5, 6, 7, 8, 9, 1, 2, 3, 4, 5, 6, 7, 8, 9, 10, 2, 3, 4, 5, 6, 7, 8, 9, 10, 11, 3, 4, 5, 6, 7, 8, 9, 10, 11, 12, 4, 5, 6, 7, 8, 9, 10, 11, 12, 13, 5, 6, 7, 8, 9, 10, 11, 12, 13, 14, 6, 7, 8, 9, 10, 11, 12, 13, 14, 15, 7, 8, 9, 10, 11, 12, 13, 14, 15, 16, 8, 9, 10, 11, 12, 13, 14, 15, 16, 17, 9, 10, 11, 12, 13, 14, 15, 16, 17, 18, 1, 2, 3, 4, 5, 6, 7, 8, 9, 10, 2, 3, 4, 5, 6, 7, 8, 9, 10, 11, 3, 4, 5, 6, 7, 8, 9, 10, 11, 12, 4, 5, 6, 7, 8, 9, 10, 11, 12, 13, 5, 6, 7, 8, 9, 10, 11, 12, 13, 14, 6, 7, 8, 9, 10, 11, 12, 13, 14, 15, 7, 8, 9, 10, 11, 12, 13, 14, 15, 16, 8, 9, 10, 11, 12, 13, 14, 15, 16, 17, 9, 10, 11, 12, 13, 14, 15, 16, 17, 18, 10, 11, 12, 13, 14, 15, 16, 17, 18, 19, 2, 3, 4, 5, 6, 7, 8, 9, 10, 11, 3, 4, 5, 6, 7, 8, 9, 10, 11, 12, 4, 5, 6, 7, 8, 9, 10, 11, 12, 13, 5, 6, 7, 8, 9, 10, 11, 12, 13, 14, 6, 7, 8, 9, 10, 11, 12, 13, 14, 15, 7, 8, 9, 10, 11, 12, 13, 14, 15, 16, 8, 9, 10, 11, 12, 13, 14, 15, 16, 17, 9, 10, 11, 12, 13, 14, 15, 16, 17, 18, 10, 11, 12, 13, 14, 15, 16, 17, 18, 19, 11, 12, 13, 14, 15, 16, 17, 18, 19, 20, 3, 4, 5, 6, 7, 8, 9, 10, 11, 12, 4, 5, 6, 7, 8, 9, 10, 11, 12, 13, 5, 6, 7, 8, 9, 10, 11, 12, 13, 14, 6, 7, 8, 9, 10, 11, 12, 13, 14, 15, 7, 8, 9, 10, 11, 12, 13, 14, 15, 16, 8, 9, 10, 11, 12, 13, 14, 15, 16, 17, 9, 10, 11, 12, 13, 14, 15, 16, 17, 18, 10, 11, 12, 13, 14, 15, 16, 17, 18, 19, 11, 12, 13, 14, 15, 16, 17, 18, 19, 20, 12, 13, 14, 15, 16, 17, 18, 19, 20, 21, 4, 5, 6, 7, 8, 9, 10, 11, 12, 13, 5, 6, 7, 8, 9, 10, 11, 12, 13, 14, 6, 7, 8, 9, 10, 11, 12, 13, 14, 15, 7, 8, 9, 10, 11, 12, 13, 14, 15, 16, 8, 9, 10, 11, 12, 13, 14, 15, 16, 17, 9, 10, 11, 12, 13, 14, 15, 16, 17, 18, 10, 11, 12, 13, 14, 15, 16, 17, 18, 19, 11, 12, 13, 14, 15, 16, 17, 18, 19, 20, 12, 13, 14, 15, 16, 17, 18, 19, 20, 21, 13, 14, 15, 16, 17, 18, 19, 20, 21, 22, 5, 6, 7, 8, 9, 10, 11, 12, 13, 14, 6, 7, 8, 9, 10, 11, 12, 13, 14, 15, 7, 8, 9, 10, 11, 12, 13, 14, 15, 16, 8, 9, 10, 11, 12, 13, 14, 15, 16, 17, 9, 10, 11, 12, 13, 14, 15, 16, 17, 18, 10, 11, 12, 13, 14, 15, 16, 17, 18, 19, 11, 12, 13, 14, 15, 16, 17, 18, 19, 20, 12, 13, 14, 15, 16, 17, 18, 19, 20, 21, 13, 14, 15, 16, 17, 18, 19, 20, 21, 22, 14, 15, 16, 17, 18, 19, 20, 21, 22, 23, 6, 7, 8, 9, 10, 11, 12, 13, 14, 15, 7, 8, 9, 10, 11, 12, 13, 14, 15, 16, 8, 9, 10, 11, 12, 13, 14, 15, 16, 17, 9, 10, 11, 12, 13, 14, 15, 16, 17, 18, 10, 11, 12, 13, 14, 15, 16, 17, 18, 19, 11, 12, 13, 14, 15, 16, 17, 18, 19, 20, 12, 13, 14, 15, 16, 17, 18, 19, 20, 21, 13, 14, 15, 16, 17, 18, 19, 20, 21, 22, 14, 15, 16, 17, 18, 19, 20, 21, 22, 23, 15, 16, 17, 18, 19, 20, 21, 22, 23, 24, 7, 8, 9, 10, 11, 12, 13, 14, 15, 16, 8, 9, 10, 11, 12, 13, 14, 15, 16, 17, 9, 10, 11, 12, 13, 14, 15, 16, 17, 18, 10, 11, 12, 13, 14, 15, 16, 17, 18, 19, 11, 12, 13, 14, 15, 16, 17, 18, 19, 20, 12, 13, 14, 15, 16, 17, 18, 19, 20, 21, 13, 14, 15, 16, 17, 18, 19, 20, 21, 22, 14, 15, 16, 17, 18, 19, 20, 21, 22, 23, 15, 16, 17, 18, 19, 20, 21, 22, 23, 24, 16, 17, 18, 19, 20, 21, 22, 23, 24, 25, 8, 9, 10, 11, 12, 13, 14, 15, 16, 17, 9, 10, 11, 12, 13, 14, 15, 16, 17, 18, 10, 11, 12, 13, 14, 15, 16, 17, 18, 19, 11, 12, 13, 14, 15, 16, 17, 18, 19, 20, 12, 13, 14, 15, 16, 17, 18, 19, 20, 21, 13, 14, 15, 16, 17, 18, 19, 20, 21, 22, 14, 15, 16, 17, 18, 19, 20, 21, 22, 23, 15, 16, 17, 18, 19, 20, 21, 22, 23, 24, 16, 17, 18, 19, 20, 21, 22, 23, 24, 25, 17, 18, 19, 20, 21, 22, 23, 24, 25, 26, 9, 10, 11, 12, 13, 14, 15, 16, 17, 18, 10, 11, 12, 13, 14, 15, 16, 17, 18, 19, 11, 12, 13, 14, 15, 16, 17, 18, 19, 20, 12, 13, 14, 15, 16, 17, 18, 19, 20, 21, 13, 14, 15, 16, 17, 18, 19, 20, 21, 22, 14, 15, 16, 17, 18, 19, 20, 21, 22, 23, 15, 16, 17, 18, 19, 20, 21, 22, 23, 24, 16, 17, 18, 19, 20, 21, 22, 23, 24, 25, 17, 18, 19, 20, 21, 22, 23, 24, 25, 26, 18, 19, 20, 21, 22, 23, 24, 25, 26, 27, 1]\n"
     ]
    }
   ],
   "source": [
    "# Function to calculate the sum of the digits of a number\n",
    "def sumDigits(n):\n",
    "    return sum(int(i) for i in str(n))\n",
    "\n",
    "n = 1000\n",
    "\n",
    "#Calling Function\n",
    "result = [sumDigits(i) for i in range(1, n + 1)]\n",
    "\n",
    "# Displaying the result\n",
    "print(result)\n"
   ]
  },
  {
   "cell_type": "markdown",
   "id": "c027bd5c-c0a6-4bbf-9ab0-716c224d5c7f",
   "metadata": {},
   "source": [
    "#### 40. Write a program that generates a list of prime palindromic numbers using list comprehension."
   ]
  },
  {
   "cell_type": "code",
   "execution_count": 66,
   "id": "2c8f4ab7-edbe-48a4-baed-c87067c516d1",
   "metadata": {},
   "outputs": [
    {
     "name": "stdout",
     "output_type": "stream",
     "text": [
      "[2, 3, 5, 7, 11]\n"
     ]
    }
   ],
   "source": [
    "import math\n",
    "\n",
    "# Function to check if a number is a palindrome\n",
    "def isPalindrome(num):\n",
    "    strNum = str(num)\n",
    "    return strNum == strNum[::-1]\n",
    "\n",
    "# Function to check if a number is prime\n",
    "def isPrime(num):\n",
    "    if num < 2:\n",
    "        return False\n",
    "    for i in range(2, math.isqrt(num) + 1):\n",
    "        if num % i == 0:\n",
    "            return False\n",
    "    return True\n",
    "\n",
    "n = 100\n",
    "\n",
    "#Calling Function\n",
    "result = [i for i in range(n + 1) if isPrime(i) and isPalindrome(i)]\n",
    "\n",
    "# Displaying the result\n",
    "print(result)\n"
   ]
  },
  {
   "cell_type": "code",
   "execution_count": null,
   "id": "fbfbd4f2-6e07-4f31-84f7-71cf85bda041",
   "metadata": {},
   "outputs": [],
   "source": []
  }
 ],
 "metadata": {
  "kernelspec": {
   "display_name": "Python 3 (ipykernel)",
   "language": "python",
   "name": "python3"
  },
  "language_info": {
   "codemirror_mode": {
    "name": "ipython",
    "version": 3
   },
   "file_extension": ".py",
   "mimetype": "text/x-python",
   "name": "python",
   "nbconvert_exporter": "python",
   "pygments_lexer": "ipython3",
   "version": "3.10.8"
  }
 },
 "nbformat": 4,
 "nbformat_minor": 5
}
